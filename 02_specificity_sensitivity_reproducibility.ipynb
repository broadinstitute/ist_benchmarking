{
 "cells": [
  {
   "cell_type": "code",
   "execution_count": 1,
   "id": "429e42dd",
   "metadata": {},
   "outputs": [
    {
     "name": "stdout",
     "output_type": "stream",
     "text": [
      "env: ANYWIDGET_HMR=1\n"
     ]
    }
   ],
   "source": [
    "%load_ext autoreload\n",
    "%autoreload 2\n",
    "%env ANYWIDGET_HMR=1"
   ]
  },
  {
   "cell_type": "code",
   "execution_count": 2,
   "id": "fd9cd7f4",
   "metadata": {},
   "outputs": [
    {
     "name": "stderr",
     "output_type": "stream",
     "text": [
      "/Users/whuan/opt/anaconda3/envs/ist/lib/python3.10/site-packages/dask/dataframe/__init__.py:31: FutureWarning: The legacy Dask DataFrame implementation is deprecated and will be removed in a future version. Set the configuration option `dataframe.query-planning` to `True` or None to enable the new Dask Dataframe implementation and silence this warning.\n",
      "  warnings.warn(\n",
      "/Users/whuan/opt/anaconda3/envs/ist/lib/python3.10/site-packages/numba/core/decorators.py:246: RuntimeWarning: nopython is set for njit and is ignored\n",
      "  warnings.warn('nopython is set for njit and is ignored', RuntimeWarning)\n"
     ]
    },
    {
     "name": "stdout",
     "output_type": "stream",
     "text": [
      "working directory: /Users/whuan/dev/ist_benchmarking\n",
      "['2024_xenium_breast_htma', '2024_xenium_breast_tumor2', '2024_merscope_breast_htma', '2024_merscope_breast_tumor2', '2024_cosmx_multitissue_htma', '2024_cosmx_multitissue_tumor2']\n"
     ]
    },
    {
     "name": "stderr",
     "output_type": "stream",
     "text": [
      "/Users/whuan/opt/anaconda3/envs/ist/lib/python3.10/site-packages/anndata/utils.py:429: FutureWarning: Importing read_text from `anndata` is deprecated. Import anndata.io.read_text instead.\n",
      "  warnings.warn(msg, FutureWarning)\n"
     ]
    }
   ],
   "source": [
    "import pandas as pd\n",
    "import numpy as np\n",
    "import sys\n",
    "import os\n",
    "import pickle\n",
    "import seaborn as sns\n",
    "import matplotlib.pyplot as plt\n",
    "import plotly.io as pio\n",
    "from plotly import express as px\n",
    "import scipy as sp\n",
    "import itertools\n",
    "\n",
    "\n",
    "from st_utils import correct_tissue_names, correct_platform_panel,name_parser\n",
    "from st_utils import log2_fold_change\n",
    "from st_utils import log_transform\n",
    "from constants import SAMPLES, sample_color, convert_tma_name_dict, CB_COLORS_5\n",
    "from constants import matching_cores_2024 as matching_cores\n",
    "\n",
    "\n",
    "import warnings\n",
    "if not sys.warnoptions:\n",
    "    warnings.simplefilter(\"ignore\")\n",
    "\n",
    "pd.set_option('display.max_rows',999)\n",
    "pd.set_option('display.max_columns', 500)\n",
    "pd.set_option('display.width', 1000)\n",
    "\n",
    "    \n",
    "wd = os.getcwd()\n",
    "print (f'working directory: {wd}')\n",
    "\n",
    "year = '2024'\n",
    "\n",
    "if year == '2024':\n",
    "    samples = [x for x in SAMPLES if '2024' in x]\n",
    "elif year == '2023':\n",
    "    samples = [x for x in SAMPLES if '2024' not in x]\n",
    "else:\n",
    "    samples = [x for x in SAMPLES]\n",
    "print (samples)\n",
    "    "
   ]
  },
  {
   "cell_type": "code",
   "execution_count": 3,
   "id": "66dbefbf",
   "metadata": {},
   "outputs": [],
   "source": [
    "supplement=True"
   ]
  },
  {
   "cell_type": "markdown",
   "id": "d32fc8d2",
   "metadata": {},
   "source": [
    "# Functions to load data and calculate specificity , sensitivity"
   ]
  },
  {
   "cell_type": "code",
   "execution_count": 4,
   "id": "9128e31d",
   "metadata": {},
   "outputs": [],
   "source": [
    "\n",
    "def load(sample): # Load gene level data and tag with core metadata\n",
    "    # Core information: including tissue_type, tumor ...\n",
    "    csv_sample_info = f\"{wd}/data/Sample_Info_{name_parser(sample)['tma'].upper()}_TMA - Sheet1.csv\"\n",
    "    df_core = pd.read_csv(csv_sample_info)[['core','tissue_type']]\n",
    "    df_core = correct_tissue_names(sample,df_core)\n",
    "    df_core['core'] += (300 if 'tumor2' in sample else 0) + (200 if 'normal' in sample else 0)\n",
    "\n",
    "    # Rachel curated gene list\n",
    "    gene_list = pd.read_csv(f\"{wd}/data/gene_lists/{name_parser(sample)['platform']}_{name_parser(sample)['panel']}.csv\").columns.to_list()\n",
    "\n",
    "    # Core x gene\n",
    "    df_t = pd.read_csv(f'{wd}/data/gene_level_csv/gene_level_csv_{sample}.csv')\n",
    "    df_t = correct_tissue_names(sample,df_t)\n",
    "    df_t['core'] += (300 if 'tumor2' in sample else 0) + (200 if 'normal' in sample else 0)\n",
    "\n",
    "    return df_t, df_core, gene_list\n",
    "\n",
    "def specificity(sample, df_t, df_core):\n",
    "    \"\"\"Fraction of calls on target\"\"\"\n",
    "\n",
    "    df_g = df_t.groupby(['core','tissue_type','code_type']).sum().reset_index()\n",
    "    valid_tissues = sorted(df_t.tissue_type.unique())\n",
    "\n",
    "    if 'Marker' in valid_tissues:\n",
    "        valid_tissues.remove('Marker')\n",
    "    if 'MARKER' in valid_tissues:\n",
    "        valid_tissues.remove('MARKER')\n",
    "\n",
    "    df_mat = df_g.pivot_table(index='core',columns='code_type',values='count', aggfunc='sum')\n",
    "    df_mat = df_mat.fillna(0)\n",
    "    df_mat['specificity'] = df_mat['gene']/df_mat.sum(axis=1)\n",
    "    df_mat = pd.merge(df_core, df_mat, on='core', how='inner')\n",
    "\n",
    "    # Save data\n",
    "    df_mat.to_csv(f'{wd}/data/specificity/{sample}_specificity.csv', index=False)\n",
    "\n",
    "def sensitivity(sample, df_t, df_core, matching_cores):\n",
    "    \"\"\"Number of gene reliably detected above noise (2 STD above average negative control expression)\"\"\"\n",
    "\n",
    "    df_pos_genes = pd.DataFrame()\n",
    "    neg_metric = 'blank' if 'merscope' in sample else 'neg_control_probe'\n",
    "    genes = df_t.loc[df_t['code_type']=='gene']['gene'].unique()\n",
    "    n_genes = df_t.loc[df_t['code_type']=='gene']['gene'].nunique()\n",
    "    negative_controls = df_t.loc[df_t['code_type']==neg_metric]['gene'].unique()\n",
    "    df_t = df_t.loc[df_t['core'].isin(matching_cores)]\n",
    "\n",
    "    df2_mat = df_t.pivot(index='gene',columns='core',values='count').fillna(0)\n",
    "    mean_neg_probes = df2_mat.loc[negative_controls].mean()\n",
    "    sd_neg_probes = df2_mat.loc[negative_controls].std()\n",
    "\n",
    "    i = 2 # Number of STD\n",
    "\n",
    "    df_pos_genes[f'mean+{i}std'] = np.sum(df2_mat.loc[genes] > (mean_neg_probes + i * sd_neg_probes))\n",
    "    # normalize by number of genes\n",
    "    df_pos_genes[f'mean+{i}std_%'] = df_pos_genes[f'mean+{i}std'] * 100 / n_genes\n",
    "\n",
    "    df_pos_genes = pd.merge(df_pos_genes, df_core, on='core', how='inner')\n",
    "    df_pos_genes_mean = df_pos_genes.groupby('tissue_type').mean()\n",
    "    df_pos_genes_mean.to_csv(f'{wd}/data/gene_above_noise/{sample}_gene_above_noise.csv')\n",
    "\n",
    "    return n_genes\n"
   ]
  },
  {
   "cell_type": "markdown",
   "id": "b40db942",
   "metadata": {},
   "source": [
    "# Calculate specificity, sensitivity for multiple data sets"
   ]
  },
  {
   "cell_type": "code",
   "execution_count": 5,
   "id": "53bd6138",
   "metadata": {},
   "outputs": [
    {
     "name": "stdout",
     "output_type": "stream",
     "text": [
      "86 cores in all htma tma samples\n",
      "272 cores in all normal tma samples\n",
      "41 cores in all tumor2 tma samples\n",
      "sample: 2024_xenium_breast_htma\n",
      "sample: 2024_xenium_breast_tumor2\n",
      "sample: 2024_merscope_breast_htma\n",
      "sample: 2024_merscope_breast_tumor2\n",
      "sample: 2024_cosmx_multitissue_htma\n",
      "sample: 2024_cosmx_multitissue_tumor2\n"
     ]
    },
    {
     "data": {
      "text/plain": [
       "{'XENIUM_Breast': 480, 'MERSCOPE_Breast': 255, 'COSMX_Multitissue': 1000}"
      ]
     },
     "metadata": {},
     "output_type": "display_data"
    }
   ],
   "source": [
    "if not os.path.exists(f'{wd}/data/specificity'):\n",
    "    os.makedirs(f'{wd}/data/specificity')\n",
    "\n",
    "if not os.path.exists(f'{wd}/data/gene_above_noise'):\n",
    "    os.makedirs(f'{wd}/data/gene_above_noise')\n",
    "\n",
    "\n",
    "sample_genes = {}\n",
    "\n",
    "df_cores_htma = pd.read_csv(f'{wd}/data/core_availability_htma.csv')\n",
    "df_cores_normal = pd.read_csv(f'{wd}/data/core_availability_normal.csv')\n",
    "df_cores_tumor2 = pd.read_csv(f'{wd}/data/core_availability_tumor2.csv')\n",
    "\n",
    "df_cores_both = pd.DataFrame()\n",
    "df_cores_both = pd.concat([df_cores_both, df_cores_htma]) \n",
    "df_cores_both = pd.concat([df_cores_both, df_cores_normal])\n",
    "df_cores_both = pd.concat([df_cores_both, df_cores_tumor2])\n",
    "\n",
    "df_matching_cores = {}\n",
    "matching_cores = []\n",
    "\n",
    "for tma in ['htma', 'normal','tumor2']:\n",
    "    df = df_cores_both.copy()\n",
    "    for s in samples:\n",
    "        if tma in s:\n",
    "            df = df.loc[df[s] == 1.0]\n",
    "    df_matching_cores[tma] = df\n",
    "    print (df['core'].nunique(), f'cores in all {tma} tma samples')\n",
    "\n",
    "matching_cores = list(df_matching_cores['normal']['core'].unique())+list(df_matching_cores['htma']['core'].unique())+list(df_matching_cores['tumor2']['core'].unique())\n",
    "matching_cores = sorted(matching_cores)\n",
    "\n",
    "df_t_all = {}\n",
    "\n",
    "\n",
    "tma = 'both'  # both, tumor, normal\n",
    "\n",
    "if tma == 'both':\n",
    "    run_samples = samples\n",
    "elif tma == 'tumor':\n",
    "    run_samples = [x for x in samples if tma in x]\n",
    "elif tma == 'normal':\n",
    "    run_samples = [x for x in samples if tma in x]\n",
    "elif tma == 'tumor2':\n",
    "    run_samples = [x for x in samples if tma in x]\n",
    "else:\n",
    "    print ('error')\n",
    "\n",
    "\n",
    "\n",
    "for sample in run_samples:\n",
    "    print (f'sample: {sample}')\n",
    "    df_t, df_core, gene_list = load(sample)\n",
    "    df_t_all[sample] = df_t\n",
    "    specificity(sample, df_t, df_core)\n",
    "    n_genes = sensitivity(sample, df_t, df_core, matching_cores)\n",
    "    sample_genes[f\"{name_parser(sample)['platform'].upper()}_{name_parser(sample)['panel'].capitalize()}\"] = n_genes\n",
    "display(sample_genes)\n"
   ]
  },
  {
   "cell_type": "code",
   "execution_count": 6,
   "id": "dd70da3c",
   "metadata": {},
   "outputs": [
    {
     "name": "stdout",
     "output_type": "stream",
     "text": [
      "sample: 2024_xenium_breast_htma\n",
      "sample: 2024_xenium_breast_tumor2\n",
      "sample: 2024_merscope_breast_htma\n",
      "sample: 2024_merscope_breast_tumor2\n",
      "sample: 2024_cosmx_multitissue_htma\n",
      "sample: 2024_cosmx_multitissue_tumor2\n"
     ]
    }
   ],
   "source": [
    "metric = 'specificity'\n",
    "df_m = pd.DataFrame()\n",
    "for sample in run_samples:\n",
    "    print (f'sample: {sample}')\n",
    "    df_metric = pd.read_csv(f'{wd}/data/specificity/{sample}_specificity.csv')\n",
    "    df_metric['sample'] = sample\n",
    "    df_m = pd.concat([df_m,df_metric])\n",
    "    df_m = df_m[['core','tissue_type','sample','specificity']]\n",
    "df_m = df_m.loc[df_m['core'].isin(matching_cores)]\n"
   ]
  },
  {
   "cell_type": "markdown",
   "id": "b65a6a3f",
   "metadata": {},
   "source": [
    "# Review specificity"
   ]
  },
  {
   "cell_type": "code",
   "execution_count": 7,
   "id": "b489d0a9",
   "metadata": {},
   "outputs": [
    {
     "name": "stdout",
     "output_type": "stream",
     "text": [
      "sample: 2024_xenium_breast_htma\n",
      "sample: 2024_xenium_breast_tumor2\n",
      "sample: 2024_merscope_breast_htma\n",
      "sample: 2024_merscope_breast_tumor2\n",
      "sample: 2024_cosmx_multitissue_htma\n",
      "sample: 2024_cosmx_multitissue_tumor2\n"
     ]
    },
    {
     "data": {
      "text/html": [
       "<div>\n",
       "<style scoped>\n",
       "    .dataframe tbody tr th:only-of-type {\n",
       "        vertical-align: middle;\n",
       "    }\n",
       "\n",
       "    .dataframe tbody tr th {\n",
       "        vertical-align: top;\n",
       "    }\n",
       "\n",
       "    .dataframe thead th {\n",
       "        text-align: right;\n",
       "    }\n",
       "</style>\n",
       "<table border=\"1\" class=\"dataframe\">\n",
       "  <thead>\n",
       "    <tr style=\"text-align: right;\">\n",
       "      <th></th>\n",
       "      <th>tissue_type</th>\n",
       "      <th>Platform_Panel</th>\n",
       "      <th>metric</th>\n",
       "      <th>tma</th>\n",
       "      <th>value</th>\n",
       "    </tr>\n",
       "  </thead>\n",
       "  <tbody>\n",
       "    <tr>\n",
       "      <th>0</th>\n",
       "      <td>BlC</td>\n",
       "      <td>CosMx,1k</td>\n",
       "      <td>% calls on genes</td>\n",
       "      <td>HTMA</td>\n",
       "      <td>98.23</td>\n",
       "    </tr>\n",
       "    <tr>\n",
       "      <th>1</th>\n",
       "      <td>BlC</td>\n",
       "      <td>CosMx,1k</td>\n",
       "      <td>% calls on genes</td>\n",
       "      <td>TUMOR2</td>\n",
       "      <td>97.17</td>\n",
       "    </tr>\n",
       "    <tr>\n",
       "      <th>2</th>\n",
       "      <td>BlC</td>\n",
       "      <td>MERSCOPE,Breast</td>\n",
       "      <td>% calls on genes</td>\n",
       "      <td>TUMOR2</td>\n",
       "      <td>96.14</td>\n",
       "    </tr>\n",
       "    <tr>\n",
       "      <th>3</th>\n",
       "      <td>BlC</td>\n",
       "      <td>Xenium,Breast</td>\n",
       "      <td>% calls on genes</td>\n",
       "      <td>HTMA</td>\n",
       "      <td>99.90</td>\n",
       "    </tr>\n",
       "    <tr>\n",
       "      <th>4</th>\n",
       "      <td>BlC</td>\n",
       "      <td>Xenium,Breast</td>\n",
       "      <td>% calls on genes</td>\n",
       "      <td>TUMOR2</td>\n",
       "      <td>99.88</td>\n",
       "    </tr>\n",
       "  </tbody>\n",
       "</table>\n",
       "</div>"
      ],
      "text/plain": [
       "  tissue_type   Platform_Panel            metric     tma  value\n",
       "0         BlC         CosMx,1k  % calls on genes    HTMA  98.23\n",
       "1         BlC         CosMx,1k  % calls on genes  TUMOR2  97.17\n",
       "2         BlC  MERSCOPE,Breast  % calls on genes  TUMOR2  96.14\n",
       "3         BlC    Xenium,Breast  % calls on genes    HTMA  99.90\n",
       "4         BlC    Xenium,Breast  % calls on genes  TUMOR2  99.88"
      ]
     },
     "metadata": {},
     "output_type": "display_data"
    }
   ],
   "source": [
    "metric = 'specificity'\n",
    "df_m = pd.DataFrame()\n",
    "for sample in run_samples:\n",
    "    print (f'sample: {sample}')\n",
    "    df_metric = pd.read_csv(f'{wd}/data/specificity/{sample}_specificity.csv')\n",
    "    df_metric['sample'] = sample\n",
    "    df_m = pd.concat([df_m,df_metric])\n",
    "    df_m = df_m[['core','tissue_type','sample','specificity']]\n",
    "df_m = df_m.loc[df_m['core'].isin(matching_cores)]\n",
    "\n",
    "df_m['Platform'] = df_m['sample'].apply(lambda x: name_parser(x)['platform'].upper())\n",
    "df_m['panel'] = df_m['sample'].apply(lambda x: name_parser(x)['panel'].capitalize())\n",
    "df_m['tma'] = df_m['sample'].apply(lambda x: name_parser(x)['tma'].upper())\n",
    "\n",
    "\n",
    "###\n",
    "### By Platform * panel\n",
    "###\n",
    "\n",
    "df_plot = df_m.copy()\n",
    "df_plot = df_plot.drop(['sample'], axis=1)\n",
    "df_plot = df_plot.groupby(['tissue_type','Platform','panel','tma']).agg({'specificity': 'mean'}).reset_index()\n",
    "df_plot['Platform_Panel'] = df_plot.apply(lambda row: f\"{row['Platform']}_{row['panel']}\", axis=1)\n",
    "df_plot = correct_platform_panel(df_plot, 'Platform_Panel')\n",
    "df_plot['specificity'] = df_plot['specificity'] * 100\n",
    "df_plot['specificity'] = df_plot['specificity'].apply(lambda x: round(x,2))\n",
    "# display(df_plot[['Platform_Panel','specificity']].groupby(['Platform_Panel']).mean().round(1))\n",
    "df_p_p = df_plot.copy()\n",
    "\n",
    "\n",
    "###\n",
    "### By Platform\n",
    "###\n",
    "\n",
    "df_plot = df_m.copy()\n",
    "df_plot = df_plot.drop(['sample'], axis=1)\n",
    "df_plot = df_plot.groupby(['tissue_type','Platform','tma']).agg({'specificity': 'mean'}).reset_index()\n",
    "df_plot['specificity'] = df_plot['specificity'] * 100\n",
    "df_plot['specificity'] = df_plot['specificity'].apply(lambda x: round(x,2))\n",
    "\n",
    "df_plot_spe = df_plot.copy()\n",
    "df_plot_spe = df_plot_spe.rename(columns={metric:'value'})\n",
    "df_plot_spe['metric'] = '% calls on genes'\n",
    "df_plot_spe = df_plot_spe.groupby(['tissue_type','Platform','metric','tma']).agg({'value': 'mean'}).reset_index()\n",
    "\n",
    "if supplement:\n",
    "    df_plot_spe = df_p_p.copy()\n",
    "    df_plot_spe = df_plot_spe.rename(columns={metric:'value'})\n",
    "    df_plot_spe['metric'] = '% calls on genes'\n",
    "    df_plot_spe = df_plot_spe.groupby(['tissue_type','Platform_Panel','metric','tma']).agg({'value': 'mean'}).reset_index()\n",
    "    \n",
    "display(df_plot_spe.head(5))"
   ]
  },
  {
   "cell_type": "markdown",
   "id": "e021af71",
   "metadata": {},
   "source": [
    "# Review sensitivity by total number\n",
    "In the absence of paired RNA-seq data for each individual sample, we quantified sensitivity by measuring the number\n",
    "of genes detected above noise. For each core, we calculated the number of genes detected one, two, and three\n",
    "standard deviations above the average of the 20 negative control probes. These numbers were then averaged for\n",
    "cores of the same tissue type. As expected, the number of genes detected decreased with increasing stringency. All\n",
    "genes were detected at least once in each TMA."
   ]
  },
  {
   "cell_type": "code",
   "execution_count": 8,
   "id": "d49ad755",
   "metadata": {},
   "outputs": [
    {
     "name": "stdout",
     "output_type": "stream",
     "text": [
      "sample: 2024_xenium_breast_htma\n",
      "sample: 2024_xenium_breast_tumor2\n",
      "sample: 2024_merscope_breast_htma\n",
      "sample: 2024_merscope_breast_tumor2\n",
      "sample: 2024_cosmx_multitissue_htma\n",
      "sample: 2024_cosmx_multitissue_tumor2\n"
     ]
    },
    {
     "data": {
      "text/html": [
       "<div>\n",
       "<style scoped>\n",
       "    .dataframe tbody tr th:only-of-type {\n",
       "        vertical-align: middle;\n",
       "    }\n",
       "\n",
       "    .dataframe tbody tr th {\n",
       "        vertical-align: top;\n",
       "    }\n",
       "\n",
       "    .dataframe thead th {\n",
       "        text-align: right;\n",
       "    }\n",
       "</style>\n",
       "<table border=\"1\" class=\"dataframe\">\n",
       "  <thead>\n",
       "    <tr style=\"text-align: right;\">\n",
       "      <th></th>\n",
       "      <th>tissue_type</th>\n",
       "      <th>Platform_Panel</th>\n",
       "      <th>metric</th>\n",
       "      <th>tma</th>\n",
       "      <th>value</th>\n",
       "    </tr>\n",
       "  </thead>\n",
       "  <tbody>\n",
       "    <tr>\n",
       "      <th>0</th>\n",
       "      <td>BlC</td>\n",
       "      <td>CosMx,1k</td>\n",
       "      <td>genes above noise</td>\n",
       "      <td>HTMA</td>\n",
       "      <td>564.333333</td>\n",
       "    </tr>\n",
       "    <tr>\n",
       "      <th>1</th>\n",
       "      <td>BlC</td>\n",
       "      <td>CosMx,1k</td>\n",
       "      <td>genes above noise</td>\n",
       "      <td>TUMOR2</td>\n",
       "      <td>529.333333</td>\n",
       "    </tr>\n",
       "    <tr>\n",
       "      <th>2</th>\n",
       "      <td>BlC</td>\n",
       "      <td>MERSCOPE,Breast</td>\n",
       "      <td>genes above noise</td>\n",
       "      <td>TUMOR2</td>\n",
       "      <td>61.000000</td>\n",
       "    </tr>\n",
       "    <tr>\n",
       "      <th>3</th>\n",
       "      <td>BlC</td>\n",
       "      <td>Xenium,Breast</td>\n",
       "      <td>genes above noise</td>\n",
       "      <td>HTMA</td>\n",
       "      <td>272.058824</td>\n",
       "    </tr>\n",
       "    <tr>\n",
       "      <th>4</th>\n",
       "      <td>BlC</td>\n",
       "      <td>Xenium,Breast</td>\n",
       "      <td>genes above noise</td>\n",
       "      <td>TUMOR2</td>\n",
       "      <td>232.333333</td>\n",
       "    </tr>\n",
       "  </tbody>\n",
       "</table>\n",
       "</div>"
      ],
      "text/plain": [
       "  tissue_type   Platform_Panel             metric     tma       value\n",
       "0         BlC         CosMx,1k  genes above noise    HTMA  564.333333\n",
       "1         BlC         CosMx,1k  genes above noise  TUMOR2  529.333333\n",
       "2         BlC  MERSCOPE,Breast  genes above noise  TUMOR2   61.000000\n",
       "3         BlC    Xenium,Breast  genes above noise    HTMA  272.058824\n",
       "4         BlC    Xenium,Breast  genes above noise  TUMOR2  232.333333"
      ]
     },
     "execution_count": 8,
     "metadata": {},
     "output_type": "execute_result"
    }
   ],
   "source": [
    "i = 2\n",
    "metric = f'mean+{i}std'\n",
    "df_m = pd.DataFrame()\n",
    "for sample in run_samples:\n",
    "    print (f'sample: {sample}')\n",
    "    df_metric = pd.read_csv(f'{wd}/data/gene_above_noise/{sample}_gene_above_noise.csv')\n",
    "    df_metric['sample'] = sample\n",
    "    df_m = pd.concat([df_m,df_metric])\n",
    "    \n",
    "df_m['Platform'] = df_m['sample'].apply(lambda x: name_parser(x)['platform'].upper())\n",
    "df_m['panel'] = df_m['sample'].apply(lambda x: name_parser(x)['panel'].capitalize())\n",
    "df_m['tma'] = df_m['sample'].apply(lambda x: name_parser(x)['tma'].upper())\n",
    "\n",
    "df_plot = df_m.copy()\n",
    "df_plot = df_plot.drop(['sample'], axis=1)\n",
    "df_plot = df_plot.groupby(['tissue_type','Platform','panel','tma']).agg({metric: 'mean'}).reset_index()\n",
    "df_plot['Platform_Panel'] = df_plot.apply(lambda row: f\"{row['Platform']}_{row['panel']}\", axis=1)\n",
    "df_plot = correct_platform_panel(df_plot, 'Platform_Panel')\n",
    "df_p_p = df_plot.copy()\n",
    "\n",
    "### By Platform\n",
    "df_plot = df_m.copy()\n",
    "df_plot = df_plot.drop(['sample'], axis=1)\n",
    "df_plot = df_plot.groupby(['tissue_type','Platform','panel','tma']).agg({metric: 'mean'}).reset_index()\n",
    "\n",
    "df_plot_sen = df_plot.copy()\n",
    "df_plot_sen = df_plot_sen.rename(columns={metric:'value'})\n",
    "df_plot_sen['metric'] = 'genes above noise'\n",
    "df_plot_sen = df_plot_sen.drop('panel', axis=1)\n",
    "df_plot_sen = df_plot_sen.groupby(['tissue_type','Platform','metric','tma']).agg({'value': 'mean'}).reset_index()\n",
    "\n",
    "if supplement:\n",
    "    df_plot_sen = df_p_p.copy()\n",
    "    df_plot_sen = df_plot_sen.rename(columns={metric:'value'})\n",
    "    df_plot_sen['metric'] = 'genes above noise'\n",
    "    df_plot_sen = df_plot_sen.drop('panel', axis=1)\n",
    "    df_plot_sen = df_plot_sen.groupby(['tissue_type','Platform_Panel','metric','tma']).agg({'value': 'mean'}).reset_index()\n",
    "\n",
    "df_plot_sen.head()"
   ]
  },
  {
   "cell_type": "markdown",
   "id": "ac852f7d",
   "metadata": {},
   "source": [
    "# Review sensitivity by %"
   ]
  },
  {
   "cell_type": "code",
   "execution_count": 9,
   "id": "faa4d891",
   "metadata": {},
   "outputs": [
    {
     "name": "stdout",
     "output_type": "stream",
     "text": [
      "sample: 2024_xenium_breast_htma\n",
      "sample: 2024_xenium_breast_tumor2\n",
      "sample: 2024_merscope_breast_htma\n",
      "sample: 2024_merscope_breast_tumor2\n",
      "sample: 2024_cosmx_multitissue_htma\n",
      "sample: 2024_cosmx_multitissue_tumor2\n"
     ]
    },
    {
     "data": {
      "text/html": [
       "<div>\n",
       "<style scoped>\n",
       "    .dataframe tbody tr th:only-of-type {\n",
       "        vertical-align: middle;\n",
       "    }\n",
       "\n",
       "    .dataframe tbody tr th {\n",
       "        vertical-align: top;\n",
       "    }\n",
       "\n",
       "    .dataframe thead th {\n",
       "        text-align: right;\n",
       "    }\n",
       "</style>\n",
       "<table border=\"1\" class=\"dataframe\">\n",
       "  <thead>\n",
       "    <tr style=\"text-align: right;\">\n",
       "      <th></th>\n",
       "      <th>tissue_type</th>\n",
       "      <th>Platform_Panel</th>\n",
       "      <th>metric</th>\n",
       "      <th>tma</th>\n",
       "      <th>value</th>\n",
       "    </tr>\n",
       "  </thead>\n",
       "  <tbody>\n",
       "    <tr>\n",
       "      <th>0</th>\n",
       "      <td>BlC</td>\n",
       "      <td>CosMx,1k</td>\n",
       "      <td>% genes above noise</td>\n",
       "      <td>HTMA</td>\n",
       "      <td>56.433333</td>\n",
       "    </tr>\n",
       "    <tr>\n",
       "      <th>1</th>\n",
       "      <td>BlC</td>\n",
       "      <td>CosMx,1k</td>\n",
       "      <td>% genes above noise</td>\n",
       "      <td>TUMOR2</td>\n",
       "      <td>52.933333</td>\n",
       "    </tr>\n",
       "    <tr>\n",
       "      <th>2</th>\n",
       "      <td>BlC</td>\n",
       "      <td>MERSCOPE,Breast</td>\n",
       "      <td>% genes above noise</td>\n",
       "      <td>TUMOR2</td>\n",
       "      <td>23.921569</td>\n",
       "    </tr>\n",
       "    <tr>\n",
       "      <th>3</th>\n",
       "      <td>BlC</td>\n",
       "      <td>Xenium,Breast</td>\n",
       "      <td>% genes above noise</td>\n",
       "      <td>HTMA</td>\n",
       "      <td>56.678922</td>\n",
       "    </tr>\n",
       "    <tr>\n",
       "      <th>4</th>\n",
       "      <td>BlC</td>\n",
       "      <td>Xenium,Breast</td>\n",
       "      <td>% genes above noise</td>\n",
       "      <td>TUMOR2</td>\n",
       "      <td>48.402778</td>\n",
       "    </tr>\n",
       "  </tbody>\n",
       "</table>\n",
       "</div>"
      ],
      "text/plain": [
       "  tissue_type   Platform_Panel               metric     tma      value\n",
       "0         BlC         CosMx,1k  % genes above noise    HTMA  56.433333\n",
       "1         BlC         CosMx,1k  % genes above noise  TUMOR2  52.933333\n",
       "2         BlC  MERSCOPE,Breast  % genes above noise  TUMOR2  23.921569\n",
       "3         BlC    Xenium,Breast  % genes above noise    HTMA  56.678922\n",
       "4         BlC    Xenium,Breast  % genes above noise  TUMOR2  48.402778"
      ]
     },
     "execution_count": 9,
     "metadata": {},
     "output_type": "execute_result"
    }
   ],
   "source": [
    "i = 2\n",
    "metric = f'mean+{i}std_%'\n",
    "df_m = pd.DataFrame()\n",
    "for sample in run_samples:\n",
    "    print (f'sample: {sample}')\n",
    "    df_metric = pd.read_csv(f'{wd}/data/gene_above_noise/{sample}_gene_above_noise.csv')\n",
    "    df_metric['sample'] = sample\n",
    "    df_m = pd.concat([df_m,df_metric])\n",
    "    \n",
    "df_m['Platform'] = df_m['sample'].apply(lambda x: name_parser(x)['platform'].upper())\n",
    "df_m['panel'] = df_m['sample'].apply(lambda x: name_parser(x)['panel'].capitalize())\n",
    "df_m['tma'] = df_m['sample'].apply(lambda x: name_parser(x)['tma'].upper())\n",
    "\n",
    "df_plot = df_m.copy()\n",
    "df_plot = df_plot.drop(['sample'], axis=1)\n",
    "df_plot = df_plot.groupby(['tissue_type','Platform','panel','tma']).agg({metric: 'mean'}).reset_index()\n",
    "df_plot['Platform_Panel'] = df_plot.apply(lambda row: f\"{row['Platform']}_{row['panel']}\", axis=1)\n",
    "df_plot = correct_platform_panel(df_plot, 'Platform_Panel')\n",
    "df_p_p = df_plot.copy()\n",
    "\n",
    "### By Platform\n",
    "df_plot = df_m.copy()\n",
    "df_plot = df_plot.drop(['sample'], axis=1)\n",
    "df_plot = df_plot.groupby(['tissue_type','Platform','panel','tma']).agg({metric: 'mean'}).reset_index()\n",
    "\n",
    "df_plot_sen_pa = df_plot.copy()\n",
    "df_plot_sen_pa = df_plot_sen_pa.rename(columns={metric:'value'})\n",
    "df_plot_sen_pa['metric'] = '% genes above noise'\n",
    "df_plot_sen_pa = df_plot_sen_pa.drop('panel', axis=1)\n",
    "df_plot_sen_pa = df_plot_sen_pa.groupby(['tissue_type','Platform','metric','tma']).agg({'value': 'mean'}).reset_index()\n",
    "\n",
    "if supplement:\n",
    "    df_plot_sen_pa = df_p_p.copy()\n",
    "    df_plot_sen_pa = df_plot_sen_pa.rename(columns={metric:'value'})\n",
    "    df_plot_sen_pa['metric'] = '% genes above noise'\n",
    "    df_plot_sen_pa = df_plot_sen_pa.drop('panel', axis=1)\n",
    "    df_plot_sen_pa = df_plot_sen_pa.groupby(['tissue_type','Platform_Panel','metric','tma']).agg({'value': 'mean'}).reset_index()\n",
    "\n",
    "df_plot_sen_pa.head()"
   ]
  },
  {
   "cell_type": "code",
   "execution_count": 10,
   "id": "e09dd5ec",
   "metadata": {},
   "outputs": [
    {
     "data": {
      "text/html": [
       "<style type=\"text/css\">\n",
       "#T_26149_row0_col0, #T_26149_row1_col2, #T_26149_row2_col0, #T_26149_row3_col0, #T_26149_row4_col2, #T_26149_row5_col0, #T_26149_row6_col0, #T_26149_row7_col0, #T_26149_row8_col0, #T_26149_row9_col0, #T_26149_row10_col2, #T_26149_row11_col2, #T_26149_row12_col0, #T_26149_row13_col0, #T_26149_row14_col1, #T_26149_row15_col2, #T_26149_row16_col0, #T_26149_row17_col0, #T_26149_row18_col2, #T_26149_row19_col0, #T_26149_row20_col0, #T_26149_row21_col0 {\n",
       "  background-color: limegreen;\n",
       "  text-align: center;\n",
       "}\n",
       "#T_26149_row0_col1, #T_26149_row0_col2, #T_26149_row1_col0, #T_26149_row1_col1, #T_26149_row2_col1, #T_26149_row2_col2, #T_26149_row3_col1, #T_26149_row3_col2, #T_26149_row4_col0, #T_26149_row4_col1, #T_26149_row5_col1, #T_26149_row5_col2, #T_26149_row6_col1, #T_26149_row6_col2, #T_26149_row7_col1, #T_26149_row7_col2, #T_26149_row8_col1, #T_26149_row8_col2, #T_26149_row9_col1, #T_26149_row9_col2, #T_26149_row10_col0, #T_26149_row10_col1, #T_26149_row11_col0, #T_26149_row11_col1, #T_26149_row12_col1, #T_26149_row12_col2, #T_26149_row13_col1, #T_26149_row13_col2, #T_26149_row14_col0, #T_26149_row14_col2, #T_26149_row15_col0, #T_26149_row15_col1, #T_26149_row16_col1, #T_26149_row16_col2, #T_26149_row17_col1, #T_26149_row17_col2, #T_26149_row18_col0, #T_26149_row18_col1, #T_26149_row19_col1, #T_26149_row19_col2, #T_26149_row20_col1, #T_26149_row20_col2, #T_26149_row21_col1, #T_26149_row21_col2 {\n",
       "  background-color: white;\n",
       "  text-align: center;\n",
       "}\n",
       "</style>\n",
       "<table id=\"T_26149\">\n",
       "  <thead>\n",
       "    <tr>\n",
       "      <th class=\"index_name level0\" >Platform_Panel</th>\n",
       "      <th id=\"T_26149_level0_col0\" class=\"col_heading level0 col0\" >CosMx,1k</th>\n",
       "      <th id=\"T_26149_level0_col1\" class=\"col_heading level0 col1\" >MERSCOPE,Breast</th>\n",
       "      <th id=\"T_26149_level0_col2\" class=\"col_heading level0 col2\" >Xenium,Breast</th>\n",
       "    </tr>\n",
       "    <tr>\n",
       "      <th class=\"index_name level0\" >Tissue Type</th>\n",
       "      <th class=\"blank col0\" >&nbsp;</th>\n",
       "      <th class=\"blank col1\" >&nbsp;</th>\n",
       "      <th class=\"blank col2\" >&nbsp;</th>\n",
       "    </tr>\n",
       "  </thead>\n",
       "  <tbody>\n",
       "    <tr>\n",
       "      <th id=\"T_26149_level0_row0\" class=\"row_heading level0 row0\" >BlC</th>\n",
       "      <td id=\"T_26149_row0_col0\" class=\"data row0 col0\" >54.683333</td>\n",
       "      <td id=\"T_26149_row0_col1\" class=\"data row0 col1\" >23.921569</td>\n",
       "      <td id=\"T_26149_row0_col2\" class=\"data row0 col2\" >52.540850</td>\n",
       "    </tr>\n",
       "    <tr>\n",
       "      <th id=\"T_26149_level0_row1\" class=\"row_heading level0 row1\" >BrC</th>\n",
       "      <td id=\"T_26149_row1_col0\" class=\"data row1 col0\" >47.727941</td>\n",
       "      <td id=\"T_26149_row1_col1\" class=\"data row1 col1\" >37.532680</td>\n",
       "      <td id=\"T_26149_row1_col2\" class=\"data row1 col2\" >55.889757</td>\n",
       "    </tr>\n",
       "    <tr>\n",
       "      <th id=\"T_26149_level0_row2\" class=\"row_heading level0 row2\" >CRC</th>\n",
       "      <td id=\"T_26149_row2_col0\" class=\"data row2 col0\" >60.817391</td>\n",
       "      <td id=\"T_26149_row2_col1\" class=\"data row2 col1\" >52.119514</td>\n",
       "      <td id=\"T_26149_row2_col2\" class=\"data row2 col2\" >54.563708</td>\n",
       "    </tr>\n",
       "    <tr>\n",
       "      <th id=\"T_26149_level0_row3\" class=\"row_heading level0 row3\" >HNSCC</th>\n",
       "      <td id=\"T_26149_row3_col0\" class=\"data row3 col0\" >54.479167</td>\n",
       "      <td id=\"T_26149_row3_col1\" class=\"data row3 col1\" >34.357298</td>\n",
       "      <td id=\"T_26149_row3_col2\" class=\"data row3 col2\" >52.862319</td>\n",
       "    </tr>\n",
       "    <tr>\n",
       "      <th id=\"T_26149_level0_row4\" class=\"row_heading level0 row4\" >Kidney cancer</th>\n",
       "      <td id=\"T_26149_row4_col0\" class=\"data row4 col0\" >46.750000</td>\n",
       "      <td id=\"T_26149_row4_col1\" class=\"data row4 col1\" >53.529412</td>\n",
       "      <td id=\"T_26149_row4_col2\" class=\"data row4 col2\" >56.250000</td>\n",
       "    </tr>\n",
       "    <tr>\n",
       "      <th id=\"T_26149_level0_row5\" class=\"row_heading level0 row5\" >Liposarcoma</th>\n",
       "      <td id=\"T_26149_row5_col0\" class=\"data row5 col0\" >11.500000</td>\n",
       "      <td id=\"T_26149_row5_col1\" class=\"data row5 col1\" >nan</td>\n",
       "      <td id=\"T_26149_row5_col2\" class=\"data row5 col2\" >nan</td>\n",
       "    </tr>\n",
       "    <tr>\n",
       "      <th id=\"T_26149_level0_row6\" class=\"row_heading level0 row6\" >Liver cancer</th>\n",
       "      <td id=\"T_26149_row6_col0\" class=\"data row6 col0\" >68.433333</td>\n",
       "      <td id=\"T_26149_row6_col1\" class=\"data row6 col1\" >55.163399</td>\n",
       "      <td id=\"T_26149_row6_col2\" class=\"data row6 col2\" >58.472222</td>\n",
       "    </tr>\n",
       "    <tr>\n",
       "      <th id=\"T_26149_level0_row7\" class=\"row_heading level0 row7\" >Lymph node</th>\n",
       "      <td id=\"T_26149_row7_col0\" class=\"data row7 col0\" >96.333333</td>\n",
       "      <td id=\"T_26149_row7_col1\" class=\"data row7 col1\" >60.588235</td>\n",
       "      <td id=\"T_26149_row7_col2\" class=\"data row7 col2\" >59.513889</td>\n",
       "    </tr>\n",
       "    <tr>\n",
       "      <th id=\"T_26149_level0_row8\" class=\"row_heading level0 row8\" >Lymphoma</th>\n",
       "      <td id=\"T_26149_row8_col0\" class=\"data row8 col0\" >74.540000</td>\n",
       "      <td id=\"T_26149_row8_col1\" class=\"data row8 col1\" >56.549020</td>\n",
       "      <td id=\"T_26149_row8_col2\" class=\"data row8 col2\" >59.236111</td>\n",
       "    </tr>\n",
       "    <tr>\n",
       "      <th id=\"T_26149_level0_row9\" class=\"row_heading level0 row9\" >Marker</th>\n",
       "      <td id=\"T_26149_row9_col0\" class=\"data row9 col0\" >83.066667</td>\n",
       "      <td id=\"T_26149_row9_col1\" class=\"data row9 col1\" >20.392157</td>\n",
       "      <td id=\"T_26149_row9_col2\" class=\"data row9 col2\" >58.402778</td>\n",
       "    </tr>\n",
       "    <tr>\n",
       "      <th id=\"T_26149_level0_row10\" class=\"row_heading level0 row10\" >Marker normal liver</th>\n",
       "      <td id=\"T_26149_row10_col0\" class=\"data row10 col0\" >nan</td>\n",
       "      <td id=\"T_26149_row10_col1\" class=\"data row10 col1\" >19.019608</td>\n",
       "      <td id=\"T_26149_row10_col2\" class=\"data row10 col2\" >56.562500</td>\n",
       "    </tr>\n",
       "    <tr>\n",
       "      <th id=\"T_26149_level0_row11\" class=\"row_heading level0 row11\" >Marker normal spleen</th>\n",
       "      <td id=\"T_26149_row11_col0\" class=\"data row11 col0\" >nan</td>\n",
       "      <td id=\"T_26149_row11_col1\" class=\"data row11 col1\" >10.980392</td>\n",
       "      <td id=\"T_26149_row11_col2\" class=\"data row11 col2\" >58.125000</td>\n",
       "    </tr>\n",
       "    <tr>\n",
       "      <th id=\"T_26149_level0_row12\" class=\"row_heading level0 row12\" >Mel</th>\n",
       "      <td id=\"T_26149_row12_col0\" class=\"data row12 col0\" >57.987500</td>\n",
       "      <td id=\"T_26149_row12_col1\" class=\"data row12 col1\" >34.425770</td>\n",
       "      <td id=\"T_26149_row12_col2\" class=\"data row12 col2\" >56.534091</td>\n",
       "    </tr>\n",
       "    <tr>\n",
       "      <th id=\"T_26149_level0_row13\" class=\"row_heading level0 row13\" >NSCLC</th>\n",
       "      <td id=\"T_26149_row13_col0\" class=\"data row13 col0\" >60.450000</td>\n",
       "      <td id=\"T_26149_row13_col1\" class=\"data row13 col1\" >43.372549</td>\n",
       "      <td id=\"T_26149_row13_col2\" class=\"data row13 col2\" >57.035985</td>\n",
       "    </tr>\n",
       "    <tr>\n",
       "      <th id=\"T_26149_level0_row14\" class=\"row_heading level0 row14\" >OvC</th>\n",
       "      <td id=\"T_26149_row14_col0\" class=\"data row14 col0\" >56.551754</td>\n",
       "      <td id=\"T_26149_row14_col1\" class=\"data row14 col1\" >57.570806</td>\n",
       "      <td id=\"T_26149_row14_col2\" class=\"data row14 col2\" >56.093750</td>\n",
       "    </tr>\n",
       "    <tr>\n",
       "      <th id=\"T_26149_level0_row15\" class=\"row_heading level0 row15\" >Pancreatic cancer</th>\n",
       "      <td id=\"T_26149_row15_col0\" class=\"data row15 col0\" >55.266667</td>\n",
       "      <td id=\"T_26149_row15_col1\" class=\"data row15 col1\" >46.797386</td>\n",
       "      <td id=\"T_26149_row15_col2\" class=\"data row15 col2\" >55.902778</td>\n",
       "    </tr>\n",
       "    <tr>\n",
       "      <th id=\"T_26149_level0_row16\" class=\"row_heading level0 row16\" >Prostate cancer</th>\n",
       "      <td id=\"T_26149_row16_col0\" class=\"data row16 col0\" >59.300000</td>\n",
       "      <td id=\"T_26149_row16_col1\" class=\"data row16 col1\" >40.392157</td>\n",
       "      <td id=\"T_26149_row16_col2\" class=\"data row16 col2\" >57.430556</td>\n",
       "    </tr>\n",
       "    <tr>\n",
       "      <th id=\"T_26149_level0_row17\" class=\"row_heading level0 row17\" >Renal cancer</th>\n",
       "      <td id=\"T_26149_row17_col0\" class=\"data row17 col0\" >51.600000</td>\n",
       "      <td id=\"T_26149_row17_col1\" class=\"data row17 col1\" >43.790850</td>\n",
       "      <td id=\"T_26149_row17_col2\" class=\"data row17 col2\" >50.833333</td>\n",
       "    </tr>\n",
       "    <tr>\n",
       "      <th id=\"T_26149_level0_row18\" class=\"row_heading level0 row18\" >SCC</th>\n",
       "      <td id=\"T_26149_row18_col0\" class=\"data row18 col0\" >41.966667</td>\n",
       "      <td id=\"T_26149_row18_col1\" class=\"data row18 col1\" >40.784314</td>\n",
       "      <td id=\"T_26149_row18_col2\" class=\"data row18 col2\" >54.861111</td>\n",
       "    </tr>\n",
       "    <tr>\n",
       "      <th id=\"T_26149_level0_row19\" class=\"row_heading level0 row19\" >Testicular cancer</th>\n",
       "      <td id=\"T_26149_row19_col0\" class=\"data row19 col0\" >70.150000</td>\n",
       "      <td id=\"T_26149_row19_col1\" class=\"data row19 col1\" >66.862745</td>\n",
       "      <td id=\"T_26149_row19_col2\" class=\"data row19 col2\" >58.750000</td>\n",
       "    </tr>\n",
       "    <tr>\n",
       "      <th id=\"T_26149_level0_row20\" class=\"row_heading level0 row20\" >Thyroid cancer</th>\n",
       "      <td id=\"T_26149_row20_col0\" class=\"data row20 col0\" >91.766667</td>\n",
       "      <td id=\"T_26149_row20_col1\" class=\"data row20 col1\" >59.869281</td>\n",
       "      <td id=\"T_26149_row20_col2\" class=\"data row20 col2\" >58.958333</td>\n",
       "    </tr>\n",
       "    <tr>\n",
       "      <th id=\"T_26149_level0_row21\" class=\"row_heading level0 row21\" >Tonsil cancer</th>\n",
       "      <td id=\"T_26149_row21_col0\" class=\"data row21 col0\" >77.112500</td>\n",
       "      <td id=\"T_26149_row21_col1\" class=\"data row21 col1\" >48.627451</td>\n",
       "      <td id=\"T_26149_row21_col2\" class=\"data row21 col2\" >59.537037</td>\n",
       "    </tr>\n",
       "  </tbody>\n",
       "</table>\n"
      ],
      "text/plain": [
       "<pandas.io.formats.style.Styler at 0x111f641c0>"
      ]
     },
     "execution_count": 10,
     "metadata": {},
     "output_type": "execute_result"
    }
   ],
   "source": [
    "if not os.path.exists('tables'):\n",
    "    os.makedirs('tables')\n",
    "\n",
    "if supplement:\n",
    "\n",
    "    total_gene_dict = {\n",
    "        'Xenium,Breast':280,\n",
    "        'Xenium,Multi-tissue':377,\n",
    "        'Xenium,Lung':289,\n",
    "        'MERSCOPE,Breast':255,\n",
    "        'MERSCOPE,Lung':220,\n",
    "        'CosMx,1k':1000,\n",
    "    }\n",
    "\n",
    "    df_p_p['total_gene'] = df_p_p['Platform_Panel'].apply(lambda x: total_gene_dict[x])\n",
    "    df_p_p['sensed_gene'] = df_p_p.apply(lambda row: int(row['mean+2std_%'] * row['total_gene'] * 0.01), axis=1)\n",
    "\n",
    "    metric = 'Sensed Genes'\n",
    "    original_metric = 'mean+2std_%'  # sensed_gene\n",
    "    df = df_p_p[['tissue_type','Platform_Panel',original_metric]] \n",
    "    df = df.rename(columns = {'tissue_type':'Tissue Type', original_metric:'Sensed Genes'})\n",
    "\n",
    "    pivoted_df = df.pivot_table(index='Tissue Type', columns='Platform_Panel', values=metric)\n",
    "    pivoted_df.reset_index(inplace=False)\n",
    "\n",
    "    pivoted_df.to_csv(f'{wd}/tables/sensed_genes.csv')\n",
    "\n",
    "\n",
    "# Function to apply styling to the maximum value in each column\n",
    "def highlight_max(s):\n",
    "    is_max = s == s.max()\n",
    "    return ['background-color: limegreen; text-align: center' if v else 'background-color: white; text-align: center' for v in is_max]\n",
    "\n",
    "# Apply the style with highlighted maximum values and centered text\n",
    "styled_df = pivoted_df.style.apply(highlight_max, axis=1)\n",
    "\n",
    "# Display the styled DataFrame\n",
    "styled_df"
   ]
  },
  {
   "cell_type": "code",
   "execution_count": 11,
   "id": "d210a482",
   "metadata": {},
   "outputs": [
    {
     "data": {
      "text/html": [
       "<div>\n",
       "<style scoped>\n",
       "    .dataframe tbody tr th:only-of-type {\n",
       "        vertical-align: middle;\n",
       "    }\n",
       "\n",
       "    .dataframe tbody tr th {\n",
       "        vertical-align: top;\n",
       "    }\n",
       "\n",
       "    .dataframe thead th {\n",
       "        text-align: right;\n",
       "    }\n",
       "</style>\n",
       "<table border=\"1\" class=\"dataframe\">\n",
       "  <thead>\n",
       "    <tr style=\"text-align: right;\">\n",
       "      <th></th>\n",
       "      <th>index</th>\n",
       "      <th>tissue_type</th>\n",
       "      <th>Platform_Panel</th>\n",
       "      <th>metric</th>\n",
       "      <th>tma</th>\n",
       "      <th>value</th>\n",
       "    </tr>\n",
       "  </thead>\n",
       "  <tbody>\n",
       "    <tr>\n",
       "      <th>0</th>\n",
       "      <td>0</td>\n",
       "      <td>BlC</td>\n",
       "      <td>CosMx,1k</td>\n",
       "      <td>genes above noise</td>\n",
       "      <td>HTMA</td>\n",
       "      <td>564.333333</td>\n",
       "    </tr>\n",
       "    <tr>\n",
       "      <th>1</th>\n",
       "      <td>1</td>\n",
       "      <td>BlC</td>\n",
       "      <td>CosMx,1k</td>\n",
       "      <td>genes above noise</td>\n",
       "      <td>TUMOR2</td>\n",
       "      <td>529.333333</td>\n",
       "    </tr>\n",
       "    <tr>\n",
       "      <th>2</th>\n",
       "      <td>2</td>\n",
       "      <td>BlC</td>\n",
       "      <td>MERSCOPE,Breast</td>\n",
       "      <td>genes above noise</td>\n",
       "      <td>TUMOR2</td>\n",
       "      <td>61.000000</td>\n",
       "    </tr>\n",
       "    <tr>\n",
       "      <th>3</th>\n",
       "      <td>3</td>\n",
       "      <td>BlC</td>\n",
       "      <td>Xenium,Breast</td>\n",
       "      <td>genes above noise</td>\n",
       "      <td>HTMA</td>\n",
       "      <td>272.058824</td>\n",
       "    </tr>\n",
       "    <tr>\n",
       "      <th>4</th>\n",
       "      <td>4</td>\n",
       "      <td>BlC</td>\n",
       "      <td>Xenium,Breast</td>\n",
       "      <td>genes above noise</td>\n",
       "      <td>TUMOR2</td>\n",
       "      <td>232.333333</td>\n",
       "    </tr>\n",
       "  </tbody>\n",
       "</table>\n",
       "</div>"
      ],
      "text/plain": [
       "   index tissue_type   Platform_Panel             metric     tma       value\n",
       "0      0         BlC         CosMx,1k  genes above noise    HTMA  564.333333\n",
       "1      1         BlC         CosMx,1k  genes above noise  TUMOR2  529.333333\n",
       "2      2         BlC  MERSCOPE,Breast  genes above noise  TUMOR2   61.000000\n",
       "3      3         BlC    Xenium,Breast  genes above noise    HTMA  272.058824\n",
       "4      4         BlC    Xenium,Breast  genes above noise  TUMOR2  232.333333"
      ]
     },
     "execution_count": 11,
     "metadata": {},
     "output_type": "execute_result"
    }
   ],
   "source": [
    "## FDR negative\n",
    "df_fdr1_orignal = pd.read_csv(f'{wd}/data/fdr/negative_{year}.csv')\n",
    "df_fdr1_orignal = df_fdr1_orignal.loc[df_fdr1_orignal['sample'].isin(run_samples)]\n",
    "df_fdr1_orignal = correct_tissue_names('tumor2',df_fdr1_orignal)\n",
    "df_fdr1_orignal['tma'] = df_fdr1_orignal['sample'].apply(lambda x: name_parser(x)['tma'].upper())\n",
    "if tma == 'tumor':\n",
    "    df_fdr1_orignal = df_fdr1_orignal.loc[df_fdr1_orignal['sample'].str.contains('htma')]\n",
    "elif tma == 'normal':\n",
    "    df_fdr1_orignal = df_fdr1_orignal.loc[df_fdr1_orignal['sample'].str.contains('normal')]\n",
    "elif tma == 'tumo2':\n",
    "    df_fdr1_orignal = df_fdr1_orignal.loc[df_fdr1_orignal['sample'].str.contains('tumor2')]\n",
    "else:\n",
    "    df_fdr1_orignal = df_fdr1_orignal.copy()\n",
    "\n",
    "df_fdr1 = df_fdr1_orignal.drop(['sample','panel'], axis=1)\n",
    "df_fdr1 = df_fdr1.rename(columns={'fdr':'value', 'modality':'Platform'})\n",
    "df_fdr1['metric'] = 'Log₁₀FDR(negative)'\n",
    "df_fdr1 = df_fdr1.groupby(['tissue_type','Platform','metric','tma']).agg({'value': 'mean'}).reset_index()\n",
    "df_fdr1['value'] = df_fdr1['value'].replace(0, 0.0001)\n",
    "df_fdr1['value'] = np.log10(df_fdr1['value'])\n",
    "\n",
    "if supplement:\n",
    "    df_fdr1 = df_fdr1_orignal.rename(columns={'fdr':'value'})\n",
    "    df_fdr1['metric'] = 'Log₁₀FDR(negative)'\n",
    "    df_fdr1 = df_fdr1.groupby(['tissue_type','Platform_Panel','metric','tma']).agg({'value': 'mean'}).reset_index()\n",
    "    df_fdr1['value'] = df_fdr1['value'].replace(0, 0.0001)\n",
    "    df_fdr1['value'] = np.log10(df_fdr1['value'])\n",
    "\n",
    "\n",
    "# FDR blank\n",
    "df_fdr2_original = pd.read_csv(f'{wd}/data/fdr/blank_{year}.csv')\n",
    "df_fdr2_original = df_fdr2_original.loc[df_fdr2_original['sample'].isin(run_samples)]\n",
    "df_fdr2_original = correct_tissue_names('tumor2',df_fdr2_original)\n",
    "df_fdr2_original['tma'] = df_fdr2_original['sample'].apply(lambda x: name_parser(x)['tma'].upper())\n",
    "if tma == 'tumor':\n",
    "    df_fdr2_original = df_fdr2_original.loc[df_fdr2_original['sample'].str.contains('htma')]\n",
    "elif tma == 'normal':\n",
    "    df_fdr2_original = df_fdr2_original.loc[df_fdr2_original['sample'].str.contains('normal')]\n",
    "elif tma == 'tumo2':\n",
    "    df_fdr2_original = df_fdr2_original.loc[df_fdr2_original['sample'].str.contains('tumor2')]\n",
    "else:\n",
    "    df_fdr2_original = df_fdr2_original.copy()\n",
    "\n",
    "df_fdr2 = df_fdr2_original.drop(['sample','panel'], axis=1)\n",
    "df_fdr2 = df_fdr2.rename(columns={'fdr':'value', 'modality':'Platform'})\n",
    "df_fdr2['metric'] = 'Log₁₀FDR(blank)'\n",
    "df_fdr2 = df_fdr2.groupby(['tissue_type','Platform','metric','tma']).agg({'value': 'mean'}).reset_index()\n",
    "df_fdr2['value'] = df_fdr2['value'].replace(0, 0.0001)\n",
    "df_fdr2['value'] = np.log10(df_fdr2['value'])\n",
    "\n",
    "if supplement:\n",
    "    df_fdr2 = df_fdr2_original.rename(columns={'fdr':'value'})\n",
    "    df_fdr2['metric'] = 'Log₁₀FDR(blank)'\n",
    "    df_fdr2 = df_fdr2.groupby(['tissue_type','Platform_Panel','metric','tma']).agg({'value': 'mean'}).reset_index()\n",
    "    df_fdr2['value'] = df_fdr2['value'].replace(0, 0.0001)\n",
    "    df_fdr2['value'] = np.log10(df_fdr2['value'])\n",
    "\n",
    "# Combine all\n",
    "df_plot = pd.DataFrame()\n",
    "df_plot = pd.concat([df_plot_sen, df_plot_sen_pa])\n",
    "df_plot = pd.concat([df_plot, df_plot_spe])\n",
    "df_plot = pd.concat([df_plot, df_fdr1])\n",
    "df_plot = pd.concat([df_plot, df_fdr2])\n",
    "df_plot['Platform_Panel'] = df_plot['Platform_Panel'].apply(lambda x: x.replace('breast','Breast'))\n",
    "df_plot['Platform_Panel'] = df_plot['Platform_Panel'].apply(lambda x: x.replace('lung','Lung'))\n",
    "df_plot['Platform_Panel'] = df_plot['Platform_Panel'].apply(lambda x: x.replace('multi','Multi'))\n",
    "df_plot['tissue_type'] = df_plot['tissue_type'].apply(lambda x: x.replace('Pancreas cancer','Pancreatic cancer'))\n",
    "df_plot['tissue_type'] = df_plot['tissue_type'].apply(lambda x: x.replace('Testes cancer','Testicular cancer'))\n",
    "df_plot['tissue_type'] = df_plot['tissue_type'].apply(lambda x: x.replace('Tonsil cancer','Tonsil'))\n",
    "# df_plot = df_plot.loc[~df_plot['tissue_type'].isin(['Pancreas','Renal pelvis'])]\n",
    "df_plot = df_plot[~df_plot['tissue_type'].str.contains('Marker', na=False)]\n",
    "\n",
    "df_plot = df_plot.reset_index()\n",
    "\n",
    "df_plot.head()"
   ]
  },
  {
   "cell_type": "code",
   "execution_count": 12,
   "id": "a72c1278",
   "metadata": {},
   "outputs": [
    {
     "name": "stdout",
     "output_type": "stream",
     "text": [
      "FDR was log10 transformed to show the difference, hard to see xenium when cosmx FDR is around 100.\n"
     ]
    },
    {
     "data": {
      "application/vnd.plotly.v1+json": {
       "config": {
        "plotlyServerURL": "https://plot.ly"
       },
       "data": [
        {
         "alignmentgroup": "True",
         "hovertemplate": "Platform_Panel=MERSCOPE,Breast<br>metric=% calls on genes<br>tma_tissue=%{x}<br>value=%{y}<extra></extra>",
         "legendgroup": "MERSCOPE,Breast",
         "marker": {
          "color": "#D55E00",
          "pattern": {
           "shape": ""
          }
         },
         "name": "MERSCOPE,Breast",
         "offsetgroup": "MERSCOPE,Breast",
         "orientation": "v",
         "showlegend": true,
         "textposition": "auto",
         "type": "bar",
         "x": [
          "tTMA1(24)_BrC",
          "tTMA1(24)_CRC",
          "tTMA1(24)_HNSCC",
          "tTMA1(24)_Lymph node",
          "tTMA1(24)_Mel",
          "tTMA1(24)_NSCLC",
          "tTMA1(24)_OvC",
          "tTMA1(24)_Tonsil",
          "tTMA2(24)_BlC",
          "tTMA2(24)_BrC",
          "tTMA2(24)_CRC",
          "tTMA2(24)_Kidney cancer",
          "tTMA2(24)_Liver cancer",
          "tTMA2(24)_Lymphoma",
          "tTMA2(24)_Mel",
          "tTMA2(24)_OvC",
          "tTMA2(24)_Pancreatic cancer",
          "tTMA2(24)_Prostate cancer",
          "tTMA2(24)_Renal cancer",
          "tTMA2(24)_SCC",
          "tTMA2(24)_Testicular cancer",
          "tTMA2(24)_Thyroid cancer"
         ],
         "xaxis": "x5",
         "y": [
          98.42,
          99.15,
          98.2,
          99.33,
          96.09,
          98.12,
          99.48,
          98.09,
          96.14,
          97.98,
          98.86,
          99.49,
          99.72,
          99.4,
          97.96,
          99.51,
          99.03,
          99.07,
          98,
          99.12,
          99.67,
          99.55
         ],
         "yaxis": "y5"
        },
        {
         "alignmentgroup": "True",
         "hovertemplate": "Platform_Panel=MERSCOPE,Breast<br>metric=Log₁₀FDR(blank)<br>tma_tissue=%{x}<br>value=%{y}<extra></extra>",
         "legendgroup": "MERSCOPE,Breast",
         "marker": {
          "color": "#D55E00",
          "pattern": {
           "shape": ""
          }
         },
         "name": "MERSCOPE,Breast",
         "offsetgroup": "MERSCOPE,Breast",
         "orientation": "v",
         "showlegend": false,
         "textposition": "auto",
         "type": "bar",
         "x": [
          "tTMA1(24)_BrC",
          "tTMA1(24)_CRC",
          "tTMA1(24)_HNSCC",
          "tTMA1(24)_Lymph node",
          "tTMA1(24)_Mel",
          "tTMA1(24)_NSCLC",
          "tTMA1(24)_OvC",
          "tTMA1(24)_Tonsil",
          "tTMA2(24)_BlC",
          "tTMA2(24)_BrC",
          "tTMA2(24)_CRC",
          "tTMA2(24)_Kidney cancer",
          "tTMA2(24)_Liver cancer",
          "tTMA2(24)_Lymphoma",
          "tTMA2(24)_Mel",
          "tTMA2(24)_OvC",
          "tTMA2(24)_Pancreatic cancer",
          "tTMA2(24)_Prostate cancer",
          "tTMA2(24)_Renal cancer",
          "tTMA2(24)_SCC",
          "tTMA2(24)_Testicular cancer",
          "tTMA2(24)_Thyroid cancer"
         ],
         "xaxis": "x4",
         "y": [
          0.6283889300503115,
          0.6875289612146344,
          0.9527924430440922,
          0.6711728427150833,
          0.9969492484953811,
          0.8802417758954804,
          0.42651126136457523,
          1.2607866686549762,
          1.5756496147552193,
          1.3054230292903477,
          0.8668778143374989,
          0.5250448070368452,
          0.3692158574101428,
          0.7044365191431239,
          0.8088858673598122,
          0.6031443726201823,
          0.8221680793680175,
          0.7185016888672743,
          0.9273703630390235,
          0.8337843746564789,
          0.43933269383026263,
          0.5740312677277188
         ],
         "yaxis": "y4"
        },
        {
         "alignmentgroup": "True",
         "hovertemplate": "Platform_Panel=MERSCOPE,Breast<br>metric=genes above noise<br>tma_tissue=%{x}<br>value=%{y}<extra></extra>",
         "legendgroup": "MERSCOPE,Breast",
         "marker": {
          "color": "#D55E00",
          "pattern": {
           "shape": ""
          }
         },
         "name": "MERSCOPE,Breast",
         "offsetgroup": "MERSCOPE,Breast",
         "orientation": "v",
         "showlegend": false,
         "textposition": "auto",
         "type": "bar",
         "x": [
          "tTMA1(24)_BrC",
          "tTMA1(24)_CRC",
          "tTMA1(24)_HNSCC",
          "tTMA1(24)_Lymph node",
          "tTMA1(24)_Mel",
          "tTMA1(24)_NSCLC",
          "tTMA1(24)_OvC",
          "tTMA1(24)_Tonsil",
          "tTMA2(24)_BlC",
          "tTMA2(24)_BrC",
          "tTMA2(24)_CRC",
          "tTMA2(24)_Kidney cancer",
          "tTMA2(24)_Liver cancer",
          "tTMA2(24)_Lymphoma",
          "tTMA2(24)_Mel",
          "tTMA2(24)_OvC",
          "tTMA2(24)_Pancreatic cancer",
          "tTMA2(24)_Prostate cancer",
          "tTMA2(24)_Renal cancer",
          "tTMA2(24)_SCC",
          "tTMA2(24)_Testicular cancer",
          "tTMA2(24)_Thyroid cancer"
         ],
         "xaxis": "x2",
         "y": [
          127.75,
          132.14285714285714,
          87.61111111111111,
          154.5,
          76.57142857142857,
          110.6,
          155.11111111111111,
          124,
          61,
          63.66666666666666,
          133.66666666666666,
          136.5,
          140.66666666666666,
          144.2,
          99,
          138.5,
          119.33333333333331,
          103,
          111.66666666666669,
          104,
          170.5,
          152.66666666666666
         ],
         "yaxis": "y2"
        },
        {
         "alignmentgroup": "True",
         "hovertemplate": "Platform_Panel=MERSCOPE,Breast<br>metric=% genes above noise<br>tma_tissue=%{x}<br>value=%{y}<extra></extra>",
         "legendgroup": "MERSCOPE,Breast",
         "marker": {
          "color": "#D55E00",
          "pattern": {
           "shape": ""
          }
         },
         "name": "MERSCOPE,Breast",
         "offsetgroup": "MERSCOPE,Breast",
         "orientation": "v",
         "showlegend": false,
         "textposition": "auto",
         "type": "bar",
         "x": [
          "tTMA1(24)_BrC",
          "tTMA1(24)_CRC",
          "tTMA1(24)_HNSCC",
          "tTMA1(24)_Lymph node",
          "tTMA1(24)_Mel",
          "tTMA1(24)_NSCLC",
          "tTMA1(24)_OvC",
          "tTMA1(24)_Tonsil",
          "tTMA2(24)_BlC",
          "tTMA2(24)_BrC",
          "tTMA2(24)_CRC",
          "tTMA2(24)_Kidney cancer",
          "tTMA2(24)_Liver cancer",
          "tTMA2(24)_Lymphoma",
          "tTMA2(24)_Mel",
          "tTMA2(24)_OvC",
          "tTMA2(24)_Pancreatic cancer",
          "tTMA2(24)_Prostate cancer",
          "tTMA2(24)_Renal cancer",
          "tTMA2(24)_SCC",
          "tTMA2(24)_Testicular cancer",
          "tTMA2(24)_Thyroid cancer"
         ],
         "xaxis": "x",
         "y": [
          50.09803921568627,
          51.82072829131653,
          34.35729847494553,
          60.58823529411765,
          30.028011204481796,
          43.372549019607845,
          60.82788671023965,
          48.62745098039216,
          23.92156862745098,
          24.96732026143791,
          52.41830065359477,
          53.52941176470589,
          55.16339869281046,
          56.549019607843135,
          38.8235294117647,
          54.31372549019608,
          46.79738562091503,
          40.392156862745104,
          43.790849673202615,
          40.78431372549019,
          66.86274509803923,
          59.86928104575163
         ],
         "yaxis": "y"
        },
        {
         "alignmentgroup": "True",
         "hovertemplate": "Platform_Panel=Xenium,Breast<br>metric=% calls on genes<br>tma_tissue=%{x}<br>value=%{y}<extra></extra>",
         "legendgroup": "Xenium,Breast",
         "marker": {
          "color": "#0072B2",
          "pattern": {
           "shape": ""
          }
         },
         "name": "Xenium,Breast",
         "offsetgroup": "Xenium,Breast",
         "orientation": "v",
         "showlegend": true,
         "textposition": "auto",
         "type": "bar",
         "x": [
          "tTMA1(24)_BrC",
          "tTMA1(24)_CRC",
          "tTMA1(24)_HNSCC",
          "tTMA1(24)_Lymph node",
          "tTMA1(24)_Mel",
          "tTMA1(24)_NSCLC",
          "tTMA1(24)_OvC",
          "tTMA1(24)_Tonsil",
          "tTMA2(24)_BlC",
          "tTMA2(24)_BrC",
          "tTMA2(24)_CRC",
          "tTMA2(24)_Kidney cancer",
          "tTMA2(24)_Liver cancer",
          "tTMA2(24)_Lymphoma",
          "tTMA2(24)_Mel",
          "tTMA2(24)_OvC",
          "tTMA2(24)_Pancreatic cancer",
          "tTMA2(24)_Prostate cancer",
          "tTMA2(24)_Renal cancer",
          "tTMA2(24)_SCC",
          "tTMA2(24)_Testicular cancer",
          "tTMA2(24)_Thyroid cancer"
         ],
         "xaxis": "x5",
         "y": [
          99.87,
          99.79,
          99.83,
          99.91,
          99.88,
          99.8,
          99.92,
          99.87,
          99.88,
          99.76,
          99.89,
          99.77,
          99.91,
          99.89,
          99.86,
          99.86,
          99.87,
          99.86,
          99.61,
          99.93,
          99.92,
          99.87
         ],
         "yaxis": "y5"
        },
        {
         "alignmentgroup": "True",
         "hovertemplate": "Platform_Panel=Xenium,Breast<br>metric=Log₁₀FDR(blank)<br>tma_tissue=%{x}<br>value=%{y}<extra></extra>",
         "legendgroup": "Xenium,Breast",
         "marker": {
          "color": "#0072B2",
          "pattern": {
           "shape": ""
          }
         },
         "name": "Xenium,Breast",
         "offsetgroup": "Xenium,Breast",
         "orientation": "v",
         "showlegend": false,
         "textposition": "auto",
         "type": "bar",
         "x": [
          "tTMA1(24)_BrC",
          "tTMA1(24)_CRC",
          "tTMA1(24)_HNSCC",
          "tTMA1(24)_Lymph node",
          "tTMA1(24)_Mel",
          "tTMA1(24)_NSCLC",
          "tTMA1(24)_OvC",
          "tTMA1(24)_Tonsil",
          "tTMA2(24)_BlC",
          "tTMA2(24)_BrC",
          "tTMA2(24)_CRC",
          "tTMA2(24)_Kidney cancer",
          "tTMA2(24)_Liver cancer",
          "tTMA2(24)_Lymphoma",
          "tTMA2(24)_Mel",
          "tTMA2(24)_OvC",
          "tTMA2(24)_Pancreatic cancer",
          "tTMA2(24)_Prostate cancer",
          "tTMA2(24)_Renal cancer",
          "tTMA2(24)_SCC",
          "tTMA2(24)_Testicular cancer",
          "tTMA2(24)_Thyroid cancer"
         ],
         "xaxis": "x4",
         "y": [
          -2,
          -2,
          -1.5228787452803376,
          -2,
          -1.6989700043360187,
          -2,
          -2,
          -2,
          -1.6989700043360187,
          -1.5740312677277188,
          -1.6989700043360187,
          -1.6989700043360187,
          -1.6989700043360187,
          -2,
          -2,
          -1.6989700043360187,
          -1.6989700043360187,
          -1.6989700043360187,
          -1.154901959985743,
          -4,
          -2,
          -1.6989700043360187
         ],
         "yaxis": "y4"
        },
        {
         "alignmentgroup": "True",
         "hovertemplate": "Platform_Panel=Xenium,Breast<br>metric=Log₁₀FDR(negative)<br>tma_tissue=%{x}<br>value=%{y}<extra></extra>",
         "legendgroup": "Xenium,Breast",
         "marker": {
          "color": "#0072B2",
          "pattern": {
           "shape": ""
          }
         },
         "name": "Xenium,Breast",
         "offsetgroup": "Xenium,Breast",
         "orientation": "v",
         "showlegend": false,
         "textposition": "auto",
         "type": "bar",
         "x": [
          "tTMA1(24)_BrC",
          "tTMA1(24)_CRC",
          "tTMA1(24)_HNSCC",
          "tTMA1(24)_Lymph node",
          "tTMA1(24)_Mel",
          "tTMA1(24)_NSCLC",
          "tTMA1(24)_OvC",
          "tTMA1(24)_Tonsil",
          "tTMA2(24)_BlC",
          "tTMA2(24)_BrC",
          "tTMA2(24)_CRC",
          "tTMA2(24)_Kidney cancer",
          "tTMA2(24)_Liver cancer",
          "tTMA2(24)_Lymphoma",
          "tTMA2(24)_Mel",
          "tTMA2(24)_OvC",
          "tTMA2(24)_Pancreatic cancer",
          "tTMA2(24)_Prostate cancer",
          "tTMA2(24)_Renal cancer",
          "tTMA2(24)_SCC",
          "tTMA2(24)_Testicular cancer",
          "tTMA2(24)_Thyroid cancer"
         ],
         "xaxis": "x3",
         "y": [
          -1.0457574905606752,
          -0.8538719643217619,
          -0.5686362358410126,
          -1.2218487496163564,
          -0.6020599913279624,
          -1.0969100130080565,
          -1.3010299956639813,
          -1,
          -0.744727494896694,
          -0.579494163429221,
          -0.744727494896694,
          -0.7958800173440752,
          -0.721246399047171,
          -1.0299632233774432,
          -1,
          -0.744727494896694,
          -0.638272163982407,
          -0.8239087409443188,
          -0.1804560644581313,
          -1.3979400086720375,
          -0.8860566476931632,
          -0.8239087409443188
         ],
         "yaxis": "y3"
        },
        {
         "alignmentgroup": "True",
         "hovertemplate": "Platform_Panel=Xenium,Breast<br>metric=genes above noise<br>tma_tissue=%{x}<br>value=%{y}<extra></extra>",
         "legendgroup": "Xenium,Breast",
         "marker": {
          "color": "#0072B2",
          "pattern": {
           "shape": ""
          }
         },
         "name": "Xenium,Breast",
         "offsetgroup": "Xenium,Breast",
         "orientation": "v",
         "showlegend": false,
         "textposition": "auto",
         "type": "bar",
         "x": [
          "tTMA1(24)_BrC",
          "tTMA1(24)_CRC",
          "tTMA1(24)_HNSCC",
          "tTMA1(24)_Lymph node",
          "tTMA1(24)_Mel",
          "tTMA1(24)_NSCLC",
          "tTMA1(24)_OvC",
          "tTMA1(24)_Tonsil",
          "tTMA2(24)_BlC",
          "tTMA2(24)_BrC",
          "tTMA2(24)_CRC",
          "tTMA2(24)_Kidney cancer",
          "tTMA2(24)_Liver cancer",
          "tTMA2(24)_Lymphoma",
          "tTMA2(24)_Mel",
          "tTMA2(24)_OvC",
          "tTMA2(24)_Pancreatic cancer",
          "tTMA2(24)_Prostate cancer",
          "tTMA2(24)_Renal cancer",
          "tTMA2(24)_SCC",
          "tTMA2(24)_Testicular cancer",
          "tTMA2(24)_Thyroid cancer"
         ],
         "xaxis": "x2",
         "y": [
          264.375,
          247.4782608695652,
          253.7391304347826,
          285.6666666666667,
          259.72727272727275,
          273.77272727272725,
          281.8333333333333,
          285.77777777777777,
          232.33333333333331,
          272.1666666666667,
          276.3333333333333,
          270,
          280.6666666666667,
          284.3333333333333,
          283,
          256.6666666666667,
          268.3333333333333,
          275.6666666666667,
          244,
          263.3333333333333,
          282,
          283
         ],
         "yaxis": "y2"
        },
        {
         "alignmentgroup": "True",
         "hovertemplate": "Platform_Panel=Xenium,Breast<br>metric=% genes above noise<br>tma_tissue=%{x}<br>value=%{y}<extra></extra>",
         "legendgroup": "Xenium,Breast",
         "marker": {
          "color": "#0072B2",
          "pattern": {
           "shape": ""
          }
         },
         "name": "Xenium,Breast",
         "offsetgroup": "Xenium,Breast",
         "orientation": "v",
         "showlegend": false,
         "textposition": "auto",
         "type": "bar",
         "x": [
          "tTMA1(24)_BrC",
          "tTMA1(24)_CRC",
          "tTMA1(24)_HNSCC",
          "tTMA1(24)_Lymph node",
          "tTMA1(24)_Mel",
          "tTMA1(24)_NSCLC",
          "tTMA1(24)_OvC",
          "tTMA1(24)_Tonsil",
          "tTMA2(24)_BlC",
          "tTMA2(24)_BrC",
          "tTMA2(24)_CRC",
          "tTMA2(24)_Kidney cancer",
          "tTMA2(24)_Liver cancer",
          "tTMA2(24)_Lymphoma",
          "tTMA2(24)_Mel",
          "tTMA2(24)_OvC",
          "tTMA2(24)_Pancreatic cancer",
          "tTMA2(24)_Prostate cancer",
          "tTMA2(24)_Renal cancer",
          "tTMA2(24)_SCC",
          "tTMA2(24)_Testicular cancer",
          "tTMA2(24)_Thyroid cancer"
         ],
         "xaxis": "x",
         "y": [
          55.078125,
          51.55797101449275,
          52.8623188405797,
          59.51388888888889,
          54.10984848484849,
          57.03598484848485,
          58.71527777777778,
          59.53703703703704,
          48.40277777777778,
          56.701388888888886,
          57.56944444444445,
          56.25,
          58.47222222222222,
          59.23611111111112,
          58.958333333333336,
          53.47222222222222,
          55.90277777777778,
          57.43055555555555,
          50.833333333333336,
          54.86111111111112,
          58.75,
          58.958333333333336
         ],
         "yaxis": "y"
        },
        {
         "alignmentgroup": "True",
         "hovertemplate": "Platform_Panel=CosMx,1k<br>metric=% calls on genes<br>tma_tissue=%{x}<br>value=%{y}<extra></extra>",
         "legendgroup": "CosMx,1k",
         "marker": {
          "color": "#009E73",
          "pattern": {
           "shape": ""
          }
         },
         "name": "CosMx,1k",
         "offsetgroup": "CosMx,1k",
         "orientation": "v",
         "showlegend": true,
         "textposition": "auto",
         "type": "bar",
         "x": [
          "tTMA1(24)_BrC",
          "tTMA1(24)_CRC",
          "tTMA1(24)_HNSCC",
          "tTMA1(24)_Lymph node",
          "tTMA1(24)_Mel",
          "tTMA1(24)_NSCLC",
          "tTMA1(24)_OvC",
          "tTMA1(24)_Tonsil",
          "tTMA2(24)_BlC",
          "tTMA2(24)_BrC",
          "tTMA2(24)_CRC",
          "tTMA2(24)_Kidney cancer",
          "tTMA2(24)_Liver cancer",
          "tTMA2(24)_Lymphoma",
          "tTMA2(24)_Mel",
          "tTMA2(24)_OvC",
          "tTMA2(24)_Pancreatic cancer",
          "tTMA2(24)_Prostate cancer",
          "tTMA2(24)_Renal cancer",
          "tTMA2(24)_SCC",
          "tTMA2(24)_Testicular cancer",
          "tTMA2(24)_Thyroid cancer"
         ],
         "xaxis": "x5",
         "y": [
          97.3,
          96.05,
          97.34,
          99.06,
          93.31,
          96.3,
          98.52,
          98.78,
          97.17,
          96.34,
          98.23,
          93.89,
          98.99,
          98.65,
          98.99,
          97.31,
          97.9,
          98.05,
          96.71,
          96.87,
          98.79,
          98.78
         ],
         "yaxis": "y5"
        },
        {
         "alignmentgroup": "True",
         "hovertemplate": "Platform_Panel=CosMx,1k<br>metric=Log₁₀FDR(blank)<br>tma_tissue=%{x}<br>value=%{y}<extra></extra>",
         "legendgroup": "CosMx,1k",
         "marker": {
          "color": "#009E73",
          "pattern": {
           "shape": ""
          }
         },
         "name": "CosMx,1k",
         "offsetgroup": "CosMx,1k",
         "orientation": "v",
         "showlegend": false,
         "textposition": "auto",
         "type": "bar",
         "x": [
          "tTMA1(24)_BrC",
          "tTMA1(24)_CRC",
          "tTMA1(24)_HNSCC",
          "tTMA1(24)_Lymph node",
          "tTMA1(24)_Mel",
          "tTMA1(24)_NSCLC",
          "tTMA1(24)_OvC",
          "tTMA1(24)_Tonsil",
          "tTMA2(24)_BlC",
          "tTMA2(24)_BrC",
          "tTMA2(24)_CRC",
          "tTMA2(24)_Kidney cancer",
          "tTMA2(24)_Liver cancer",
          "tTMA2(24)_Lymphoma",
          "tTMA2(24)_Mel",
          "tTMA2(24)_OvC",
          "tTMA2(24)_Pancreatic cancer",
          "tTMA2(24)_Prostate cancer",
          "tTMA2(24)_Renal cancer",
          "tTMA2(24)_SCC",
          "tTMA2(24)_Testicular cancer",
          "tTMA2(24)_Thyroid cancer"
         ],
         "xaxis": "x4",
         "y": [
          0.6812412373755872,
          0.7979596437371962,
          0.9380190974762103,
          0.6009728956867483,
          0.724275869600789,
          0.9813655090785445,
          0.7032913781186614,
          0.7379873263334308,
          1.04883008652835,
          1.1758016328482794,
          0.8937617620579434,
          1.3500540935790302,
          0.6551384348113821,
          0.8234742291703011,
          0.568201724066995,
          0.9057958803678685,
          1.0236639181977936,
          0.7512791039833423,
          1.1420764610732848,
          0.8413594704548549,
          0.7450747915820575,
          0.7474118078864233
         ],
         "yaxis": "y4"
        },
        {
         "alignmentgroup": "True",
         "hovertemplate": "Platform_Panel=CosMx,1k<br>metric=Log₁₀FDR(negative)<br>tma_tissue=%{x}<br>value=%{y}<extra></extra>",
         "legendgroup": "CosMx,1k",
         "marker": {
          "color": "#009E73",
          "pattern": {
           "shape": ""
          }
         },
         "name": "CosMx,1k",
         "offsetgroup": "CosMx,1k",
         "orientation": "v",
         "showlegend": false,
         "textposition": "auto",
         "type": "bar",
         "x": [
          "tTMA1(24)_BrC",
          "tTMA1(24)_CRC",
          "tTMA1(24)_HNSCC",
          "tTMA1(24)_Lymph node",
          "tTMA1(24)_Mel",
          "tTMA1(24)_NSCLC",
          "tTMA1(24)_OvC",
          "tTMA1(24)_Tonsil",
          "tTMA2(24)_BlC",
          "tTMA2(24)_BrC",
          "tTMA2(24)_CRC",
          "tTMA2(24)_Kidney cancer",
          "tTMA2(24)_Liver cancer",
          "tTMA2(24)_Lymphoma",
          "tTMA2(24)_Mel",
          "tTMA2(24)_OvC",
          "tTMA2(24)_Pancreatic cancer",
          "tTMA2(24)_Prostate cancer",
          "tTMA2(24)_Renal cancer",
          "tTMA2(24)_SCC",
          "tTMA2(24)_Testicular cancer",
          "tTMA2(24)_Thyroid cancer"
         ],
         "xaxis": "x3",
         "y": [
          0.857935264719429,
          1.0141003215196205,
          1.1858253596129622,
          0.92272545799326,
          1.0090257420869102,
          1.0606978403536116,
          0.9809119377768436,
          0.9912260756924949,
          1.0472748673841794,
          1.3430144971507676,
          1.0784568180532925,
          1.3406423775607053,
          0.9237619608287003,
          0.9636304457595231,
          0.9503648543761231,
          1.0021660617565078,
          1.0962145853464051,
          0.951823035315912,
          1.1953460583484197,
          1.0068937079479006,
          0.9425041061680807,
          0.9116901587538612
         ],
         "yaxis": "y3"
        },
        {
         "alignmentgroup": "True",
         "hovertemplate": "Platform_Panel=CosMx,1k<br>metric=genes above noise<br>tma_tissue=%{x}<br>value=%{y}<extra></extra>",
         "legendgroup": "CosMx,1k",
         "marker": {
          "color": "#009E73",
          "pattern": {
           "shape": ""
          }
         },
         "name": "CosMx,1k",
         "offsetgroup": "CosMx,1k",
         "orientation": "v",
         "showlegend": false,
         "textposition": "auto",
         "type": "bar",
         "x": [
          "tTMA1(24)_BrC",
          "tTMA1(24)_CRC",
          "tTMA1(24)_HNSCC",
          "tTMA1(24)_Lymph node",
          "tTMA1(24)_Mel",
          "tTMA1(24)_NSCLC",
          "tTMA1(24)_OvC",
          "tTMA1(24)_Tonsil",
          "tTMA2(24)_BlC",
          "tTMA2(24)_BrC",
          "tTMA2(24)_CRC",
          "tTMA2(24)_Kidney cancer",
          "tTMA2(24)_Liver cancer",
          "tTMA2(24)_Lymphoma",
          "tTMA2(24)_Mel",
          "tTMA2(24)_OvC",
          "tTMA2(24)_Pancreatic cancer",
          "tTMA2(24)_Prostate cancer",
          "tTMA2(24)_Renal cancer",
          "tTMA2(24)_SCC",
          "tTMA2(24)_Testicular cancer",
          "tTMA2(24)_Thyroid cancer"
         ],
         "xaxis": "x2",
         "y": [
          548.0588235294117,
          519.3478260869565,
          544.7916666666666,
          963.3333333333334,
          504.75,
          604.5,
          624.3684210526316,
          771.125,
          529.3333333333334,
          406.5,
          697,
          467.5,
          684.3333333333334,
          745.4,
          655,
          506.6666666666667,
          552.6666666666666,
          593,
          516,
          419.6666666666667,
          701.5,
          917.6666666666666
         ],
         "yaxis": "y2"
        },
        {
         "alignmentgroup": "True",
         "hovertemplate": "Platform_Panel=CosMx,1k<br>metric=% genes above noise<br>tma_tissue=%{x}<br>value=%{y}<extra></extra>",
         "legendgroup": "CosMx,1k",
         "marker": {
          "color": "#009E73",
          "pattern": {
           "shape": ""
          }
         },
         "name": "CosMx,1k",
         "offsetgroup": "CosMx,1k",
         "orientation": "v",
         "showlegend": false,
         "textposition": "auto",
         "type": "bar",
         "x": [
          "tTMA1(24)_BrC",
          "tTMA1(24)_CRC",
          "tTMA1(24)_HNSCC",
          "tTMA1(24)_Lymph node",
          "tTMA1(24)_Mel",
          "tTMA1(24)_NSCLC",
          "tTMA1(24)_OvC",
          "tTMA1(24)_Tonsil",
          "tTMA2(24)_BlC",
          "tTMA2(24)_BrC",
          "tTMA2(24)_CRC",
          "tTMA2(24)_Kidney cancer",
          "tTMA2(24)_Liver cancer",
          "tTMA2(24)_Lymphoma",
          "tTMA2(24)_Mel",
          "tTMA2(24)_OvC",
          "tTMA2(24)_Pancreatic cancer",
          "tTMA2(24)_Prostate cancer",
          "tTMA2(24)_Renal cancer",
          "tTMA2(24)_SCC",
          "tTMA2(24)_Testicular cancer",
          "tTMA2(24)_Thyroid cancer"
         ],
         "xaxis": "x",
         "y": [
          54.805882352941175,
          51.93478260869565,
          54.47916666666666,
          96.33333333333331,
          50.475,
          60.45,
          62.43684210526315,
          77.1125,
          52.93333333333334,
          40.65,
          69.7,
          46.75,
          68.43333333333334,
          74.53999999999999,
          65.5,
          50.66666666666666,
          55.26666666666667,
          59.3,
          51.6,
          41.96666666666667,
          70.15,
          91.76666666666668
         ],
         "yaxis": "y"
        }
       ],
       "layout": {
        "annotations": [
         {
          "font": {
           "color": "black",
           "size": 15
          },
          "showarrow": false,
          "text": "% genes above noise",
          "textangle": -90,
          "x": -0.06,
          "xanchor": "left",
          "xref": "paper",
          "y": 0.08800000000000001,
          "yanchor": "middle",
          "yref": "paper"
         },
         {
          "font": {
           "color": "black",
           "size": 15
          },
          "showarrow": false,
          "text": "genes above noise",
          "textangle": -90,
          "x": -0.06,
          "xanchor": "left",
          "xref": "paper",
          "y": 0.29400000000000004,
          "yanchor": "middle",
          "yref": "paper"
         },
         {
          "font": {
           "color": "black",
           "size": 15
          },
          "showarrow": false,
          "text": "Log₁₀FDR(negative)",
          "textangle": -90,
          "x": -0.06,
          "xanchor": "left",
          "xref": "paper",
          "y": 0.5,
          "yanchor": "middle",
          "yref": "paper"
         },
         {
          "font": {
           "color": "black",
           "size": 15
          },
          "showarrow": false,
          "text": "Log₁₀FDR(blank)",
          "textangle": -90,
          "x": -0.06,
          "xanchor": "left",
          "xref": "paper",
          "y": 0.706,
          "yanchor": "middle",
          "yref": "paper"
         },
         {
          "font": {
           "color": "black",
           "size": 15
          },
          "showarrow": false,
          "text": "% calls on genes",
          "textangle": -90,
          "x": -0.06,
          "xanchor": "left",
          "xref": "paper",
          "y": 0.912,
          "yanchor": "middle",
          "yref": "paper"
         }
        ],
        "barmode": "group",
        "font": {
         "color": "black"
        },
        "height": 1100,
        "legend": {
         "orientation": "h",
         "title": {
          "text": ""
         },
         "tracegroupgap": 0,
         "x": 0.5,
         "xanchor": "center",
         "y": 0.98,
         "yanchor": "bottom"
        },
        "margin": {
         "t": 60
        },
        "paper_bgcolor": "rgba(0,0,0,0)",
        "plot_bgcolor": "rgba(0,0,0,0)",
        "template": {
         "data": {
          "bar": [
           {
            "error_x": {
             "color": "#2a3f5f"
            },
            "error_y": {
             "color": "#2a3f5f"
            },
            "marker": {
             "line": {
              "color": "#E5ECF6",
              "width": 0.5
             },
             "pattern": {
              "fillmode": "overlay",
              "size": 10,
              "solidity": 0.2
             }
            },
            "type": "bar"
           }
          ],
          "barpolar": [
           {
            "marker": {
             "line": {
              "color": "#E5ECF6",
              "width": 0.5
             },
             "pattern": {
              "fillmode": "overlay",
              "size": 10,
              "solidity": 0.2
             }
            },
            "type": "barpolar"
           }
          ],
          "carpet": [
           {
            "aaxis": {
             "endlinecolor": "#2a3f5f",
             "gridcolor": "white",
             "linecolor": "white",
             "minorgridcolor": "white",
             "startlinecolor": "#2a3f5f"
            },
            "baxis": {
             "endlinecolor": "#2a3f5f",
             "gridcolor": "white",
             "linecolor": "white",
             "minorgridcolor": "white",
             "startlinecolor": "#2a3f5f"
            },
            "type": "carpet"
           }
          ],
          "choropleth": [
           {
            "colorbar": {
             "outlinewidth": 0,
             "ticks": ""
            },
            "type": "choropleth"
           }
          ],
          "contour": [
           {
            "colorbar": {
             "outlinewidth": 0,
             "ticks": ""
            },
            "colorscale": [
             [
              0,
              "#0d0887"
             ],
             [
              0.1111111111111111,
              "#46039f"
             ],
             [
              0.2222222222222222,
              "#7201a8"
             ],
             [
              0.3333333333333333,
              "#9c179e"
             ],
             [
              0.4444444444444444,
              "#bd3786"
             ],
             [
              0.5555555555555556,
              "#d8576b"
             ],
             [
              0.6666666666666666,
              "#ed7953"
             ],
             [
              0.7777777777777778,
              "#fb9f3a"
             ],
             [
              0.8888888888888888,
              "#fdca26"
             ],
             [
              1,
              "#f0f921"
             ]
            ],
            "type": "contour"
           }
          ],
          "contourcarpet": [
           {
            "colorbar": {
             "outlinewidth": 0,
             "ticks": ""
            },
            "type": "contourcarpet"
           }
          ],
          "heatmap": [
           {
            "colorbar": {
             "outlinewidth": 0,
             "ticks": ""
            },
            "colorscale": [
             [
              0,
              "#0d0887"
             ],
             [
              0.1111111111111111,
              "#46039f"
             ],
             [
              0.2222222222222222,
              "#7201a8"
             ],
             [
              0.3333333333333333,
              "#9c179e"
             ],
             [
              0.4444444444444444,
              "#bd3786"
             ],
             [
              0.5555555555555556,
              "#d8576b"
             ],
             [
              0.6666666666666666,
              "#ed7953"
             ],
             [
              0.7777777777777778,
              "#fb9f3a"
             ],
             [
              0.8888888888888888,
              "#fdca26"
             ],
             [
              1,
              "#f0f921"
             ]
            ],
            "type": "heatmap"
           }
          ],
          "heatmapgl": [
           {
            "colorbar": {
             "outlinewidth": 0,
             "ticks": ""
            },
            "colorscale": [
             [
              0,
              "#0d0887"
             ],
             [
              0.1111111111111111,
              "#46039f"
             ],
             [
              0.2222222222222222,
              "#7201a8"
             ],
             [
              0.3333333333333333,
              "#9c179e"
             ],
             [
              0.4444444444444444,
              "#bd3786"
             ],
             [
              0.5555555555555556,
              "#d8576b"
             ],
             [
              0.6666666666666666,
              "#ed7953"
             ],
             [
              0.7777777777777778,
              "#fb9f3a"
             ],
             [
              0.8888888888888888,
              "#fdca26"
             ],
             [
              1,
              "#f0f921"
             ]
            ],
            "type": "heatmapgl"
           }
          ],
          "histogram": [
           {
            "marker": {
             "pattern": {
              "fillmode": "overlay",
              "size": 10,
              "solidity": 0.2
             }
            },
            "type": "histogram"
           }
          ],
          "histogram2d": [
           {
            "colorbar": {
             "outlinewidth": 0,
             "ticks": ""
            },
            "colorscale": [
             [
              0,
              "#0d0887"
             ],
             [
              0.1111111111111111,
              "#46039f"
             ],
             [
              0.2222222222222222,
              "#7201a8"
             ],
             [
              0.3333333333333333,
              "#9c179e"
             ],
             [
              0.4444444444444444,
              "#bd3786"
             ],
             [
              0.5555555555555556,
              "#d8576b"
             ],
             [
              0.6666666666666666,
              "#ed7953"
             ],
             [
              0.7777777777777778,
              "#fb9f3a"
             ],
             [
              0.8888888888888888,
              "#fdca26"
             ],
             [
              1,
              "#f0f921"
             ]
            ],
            "type": "histogram2d"
           }
          ],
          "histogram2dcontour": [
           {
            "colorbar": {
             "outlinewidth": 0,
             "ticks": ""
            },
            "colorscale": [
             [
              0,
              "#0d0887"
             ],
             [
              0.1111111111111111,
              "#46039f"
             ],
             [
              0.2222222222222222,
              "#7201a8"
             ],
             [
              0.3333333333333333,
              "#9c179e"
             ],
             [
              0.4444444444444444,
              "#bd3786"
             ],
             [
              0.5555555555555556,
              "#d8576b"
             ],
             [
              0.6666666666666666,
              "#ed7953"
             ],
             [
              0.7777777777777778,
              "#fb9f3a"
             ],
             [
              0.8888888888888888,
              "#fdca26"
             ],
             [
              1,
              "#f0f921"
             ]
            ],
            "type": "histogram2dcontour"
           }
          ],
          "mesh3d": [
           {
            "colorbar": {
             "outlinewidth": 0,
             "ticks": ""
            },
            "type": "mesh3d"
           }
          ],
          "parcoords": [
           {
            "line": {
             "colorbar": {
              "outlinewidth": 0,
              "ticks": ""
             }
            },
            "type": "parcoords"
           }
          ],
          "pie": [
           {
            "automargin": true,
            "type": "pie"
           }
          ],
          "scatter": [
           {
            "fillpattern": {
             "fillmode": "overlay",
             "size": 10,
             "solidity": 0.2
            },
            "type": "scatter"
           }
          ],
          "scatter3d": [
           {
            "line": {
             "colorbar": {
              "outlinewidth": 0,
              "ticks": ""
             }
            },
            "marker": {
             "colorbar": {
              "outlinewidth": 0,
              "ticks": ""
             }
            },
            "type": "scatter3d"
           }
          ],
          "scattercarpet": [
           {
            "marker": {
             "colorbar": {
              "outlinewidth": 0,
              "ticks": ""
             }
            },
            "type": "scattercarpet"
           }
          ],
          "scattergeo": [
           {
            "marker": {
             "colorbar": {
              "outlinewidth": 0,
              "ticks": ""
             }
            },
            "type": "scattergeo"
           }
          ],
          "scattergl": [
           {
            "marker": {
             "colorbar": {
              "outlinewidth": 0,
              "ticks": ""
             }
            },
            "type": "scattergl"
           }
          ],
          "scattermapbox": [
           {
            "marker": {
             "colorbar": {
              "outlinewidth": 0,
              "ticks": ""
             }
            },
            "type": "scattermapbox"
           }
          ],
          "scatterpolar": [
           {
            "marker": {
             "colorbar": {
              "outlinewidth": 0,
              "ticks": ""
             }
            },
            "type": "scatterpolar"
           }
          ],
          "scatterpolargl": [
           {
            "marker": {
             "colorbar": {
              "outlinewidth": 0,
              "ticks": ""
             }
            },
            "type": "scatterpolargl"
           }
          ],
          "scatterternary": [
           {
            "marker": {
             "colorbar": {
              "outlinewidth": 0,
              "ticks": ""
             }
            },
            "type": "scatterternary"
           }
          ],
          "surface": [
           {
            "colorbar": {
             "outlinewidth": 0,
             "ticks": ""
            },
            "colorscale": [
             [
              0,
              "#0d0887"
             ],
             [
              0.1111111111111111,
              "#46039f"
             ],
             [
              0.2222222222222222,
              "#7201a8"
             ],
             [
              0.3333333333333333,
              "#9c179e"
             ],
             [
              0.4444444444444444,
              "#bd3786"
             ],
             [
              0.5555555555555556,
              "#d8576b"
             ],
             [
              0.6666666666666666,
              "#ed7953"
             ],
             [
              0.7777777777777778,
              "#fb9f3a"
             ],
             [
              0.8888888888888888,
              "#fdca26"
             ],
             [
              1,
              "#f0f921"
             ]
            ],
            "type": "surface"
           }
          ],
          "table": [
           {
            "cells": {
             "fill": {
              "color": "#EBF0F8"
             },
             "line": {
              "color": "white"
             }
            },
            "header": {
             "fill": {
              "color": "#C8D4E3"
             },
             "line": {
              "color": "white"
             }
            },
            "type": "table"
           }
          ]
         },
         "layout": {
          "annotationdefaults": {
           "arrowcolor": "#2a3f5f",
           "arrowhead": 0,
           "arrowwidth": 1
          },
          "autotypenumbers": "strict",
          "coloraxis": {
           "colorbar": {
            "outlinewidth": 0,
            "ticks": ""
           }
          },
          "colorscale": {
           "diverging": [
            [
             0,
             "#8e0152"
            ],
            [
             0.1,
             "#c51b7d"
            ],
            [
             0.2,
             "#de77ae"
            ],
            [
             0.3,
             "#f1b6da"
            ],
            [
             0.4,
             "#fde0ef"
            ],
            [
             0.5,
             "#f7f7f7"
            ],
            [
             0.6,
             "#e6f5d0"
            ],
            [
             0.7,
             "#b8e186"
            ],
            [
             0.8,
             "#7fbc41"
            ],
            [
             0.9,
             "#4d9221"
            ],
            [
             1,
             "#276419"
            ]
           ],
           "sequential": [
            [
             0,
             "#0d0887"
            ],
            [
             0.1111111111111111,
             "#46039f"
            ],
            [
             0.2222222222222222,
             "#7201a8"
            ],
            [
             0.3333333333333333,
             "#9c179e"
            ],
            [
             0.4444444444444444,
             "#bd3786"
            ],
            [
             0.5555555555555556,
             "#d8576b"
            ],
            [
             0.6666666666666666,
             "#ed7953"
            ],
            [
             0.7777777777777778,
             "#fb9f3a"
            ],
            [
             0.8888888888888888,
             "#fdca26"
            ],
            [
             1,
             "#f0f921"
            ]
           ],
           "sequentialminus": [
            [
             0,
             "#0d0887"
            ],
            [
             0.1111111111111111,
             "#46039f"
            ],
            [
             0.2222222222222222,
             "#7201a8"
            ],
            [
             0.3333333333333333,
             "#9c179e"
            ],
            [
             0.4444444444444444,
             "#bd3786"
            ],
            [
             0.5555555555555556,
             "#d8576b"
            ],
            [
             0.6666666666666666,
             "#ed7953"
            ],
            [
             0.7777777777777778,
             "#fb9f3a"
            ],
            [
             0.8888888888888888,
             "#fdca26"
            ],
            [
             1,
             "#f0f921"
            ]
           ]
          },
          "colorway": [
           "#636efa",
           "#EF553B",
           "#00cc96",
           "#ab63fa",
           "#FFA15A",
           "#19d3f3",
           "#FF6692",
           "#B6E880",
           "#FF97FF",
           "#FECB52"
          ],
          "font": {
           "color": "#2a3f5f"
          },
          "geo": {
           "bgcolor": "white",
           "lakecolor": "white",
           "landcolor": "#E5ECF6",
           "showlakes": true,
           "showland": true,
           "subunitcolor": "white"
          },
          "hoverlabel": {
           "align": "left"
          },
          "hovermode": "closest",
          "mapbox": {
           "style": "light"
          },
          "paper_bgcolor": "white",
          "plot_bgcolor": "#E5ECF6",
          "polar": {
           "angularaxis": {
            "gridcolor": "white",
            "linecolor": "white",
            "ticks": ""
           },
           "bgcolor": "#E5ECF6",
           "radialaxis": {
            "gridcolor": "white",
            "linecolor": "white",
            "ticks": ""
           }
          },
          "scene": {
           "xaxis": {
            "backgroundcolor": "#E5ECF6",
            "gridcolor": "white",
            "gridwidth": 2,
            "linecolor": "white",
            "showbackground": true,
            "ticks": "",
            "zerolinecolor": "white"
           },
           "yaxis": {
            "backgroundcolor": "#E5ECF6",
            "gridcolor": "white",
            "gridwidth": 2,
            "linecolor": "white",
            "showbackground": true,
            "ticks": "",
            "zerolinecolor": "white"
           },
           "zaxis": {
            "backgroundcolor": "#E5ECF6",
            "gridcolor": "white",
            "gridwidth": 2,
            "linecolor": "white",
            "showbackground": true,
            "ticks": "",
            "zerolinecolor": "white"
           }
          },
          "shapedefaults": {
           "line": {
            "color": "#2a3f5f"
           }
          },
          "ternary": {
           "aaxis": {
            "gridcolor": "white",
            "linecolor": "white",
            "ticks": ""
           },
           "baxis": {
            "gridcolor": "white",
            "linecolor": "white",
            "ticks": ""
           },
           "bgcolor": "#E5ECF6",
           "caxis": {
            "gridcolor": "white",
            "linecolor": "white",
            "ticks": ""
           }
          },
          "title": {
           "x": 0.05
          },
          "xaxis": {
           "automargin": true,
           "gridcolor": "white",
           "linecolor": "white",
           "ticks": "",
           "title": {
            "standoff": 15
           },
           "zerolinecolor": "white",
           "zerolinewidth": 2
          },
          "yaxis": {
           "automargin": true,
           "gridcolor": "white",
           "linecolor": "white",
           "ticks": "",
           "title": {
            "standoff": 15
           },
           "zerolinecolor": "white",
           "zerolinewidth": 2
          }
         }
        },
        "width": 1200,
        "xaxis": {
         "anchor": "y",
         "domain": [
          0,
          0.98
         ],
         "linecolor": "black",
         "linewidth": 2,
         "showline": true,
         "tickangle": 90,
         "tickfont": {
          "color": "black",
          "size": 15
         },
         "tickvals": [
          "tTMA1(24)_BrC",
          "tTMA1(24)_CRC",
          "tTMA1(24)_HNSCC",
          "tTMA1(24)_Lymph node",
          "tTMA1(24)_Mel",
          "tTMA1(24)_NSCLC",
          "tTMA1(24)_OvC",
          "tTMA1(24)_Tonsil",
          "tTMA2(24)_BlC",
          "tTMA2(24)_BrC",
          "tTMA2(24)_CRC",
          "tTMA2(24)_Kidney cancer",
          "tTMA2(24)_Liver cancer",
          "tTMA2(24)_Lymphoma",
          "tTMA2(24)_Mel",
          "tTMA2(24)_OvC",
          "tTMA2(24)_Pancreatic cancer",
          "tTMA2(24)_Prostate cancer",
          "tTMA2(24)_Renal cancer",
          "tTMA2(24)_SCC",
          "tTMA2(24)_Testicular cancer",
          "tTMA2(24)_Thyroid cancer"
         ],
         "title": {
          "font": {
           "color": "black"
          },
          "text": ""
         }
        },
        "xaxis2": {
         "anchor": "y2",
         "domain": [
          0,
          0.98
         ],
         "linecolor": "black",
         "linewidth": 2,
         "matches": "x",
         "showline": true,
         "showticklabels": false,
         "tickangle": 90,
         "tickfont": {
          "color": "black",
          "size": 15
         },
         "tickvals": [
          "tTMA1(24)_BrC",
          "tTMA1(24)_CRC",
          "tTMA1(24)_HNSCC",
          "tTMA1(24)_Lymph node",
          "tTMA1(24)_Mel",
          "tTMA1(24)_NSCLC",
          "tTMA1(24)_OvC",
          "tTMA1(24)_Tonsil",
          "tTMA2(24)_BlC",
          "tTMA2(24)_BrC",
          "tTMA2(24)_CRC",
          "tTMA2(24)_Kidney cancer",
          "tTMA2(24)_Liver cancer",
          "tTMA2(24)_Lymphoma",
          "tTMA2(24)_Mel",
          "tTMA2(24)_OvC",
          "tTMA2(24)_Pancreatic cancer",
          "tTMA2(24)_Prostate cancer",
          "tTMA2(24)_Renal cancer",
          "tTMA2(24)_SCC",
          "tTMA2(24)_Testicular cancer",
          "tTMA2(24)_Thyroid cancer"
         ],
         "title": {
          "font": {
           "color": "black"
          },
          "text": ""
         }
        },
        "xaxis3": {
         "anchor": "y3",
         "domain": [
          0,
          0.98
         ],
         "matches": "x",
         "showticklabels": false,
         "tickangle": 90,
         "tickfont": {
          "color": "black",
          "size": 15
         },
         "tickvals": [
          "tTMA1(24)_BrC",
          "tTMA1(24)_CRC",
          "tTMA1(24)_HNSCC",
          "tTMA1(24)_Lymph node",
          "tTMA1(24)_Mel",
          "tTMA1(24)_NSCLC",
          "tTMA1(24)_OvC",
          "tTMA1(24)_Tonsil",
          "tTMA2(24)_BlC",
          "tTMA2(24)_BrC",
          "tTMA2(24)_CRC",
          "tTMA2(24)_Kidney cancer",
          "tTMA2(24)_Liver cancer",
          "tTMA2(24)_Lymphoma",
          "tTMA2(24)_Mel",
          "tTMA2(24)_OvC",
          "tTMA2(24)_Pancreatic cancer",
          "tTMA2(24)_Prostate cancer",
          "tTMA2(24)_Renal cancer",
          "tTMA2(24)_SCC",
          "tTMA2(24)_Testicular cancer",
          "tTMA2(24)_Thyroid cancer"
         ],
         "title": {
          "font": {
           "color": "black"
          },
          "text": ""
         }
        },
        "xaxis4": {
         "anchor": "y4",
         "domain": [
          0,
          0.98
         ],
         "matches": "x",
         "showticklabels": false,
         "tickangle": 90,
         "tickfont": {
          "color": "black",
          "size": 15
         },
         "tickvals": [
          "tTMA1(24)_BrC",
          "tTMA1(24)_CRC",
          "tTMA1(24)_HNSCC",
          "tTMA1(24)_Lymph node",
          "tTMA1(24)_Mel",
          "tTMA1(24)_NSCLC",
          "tTMA1(24)_OvC",
          "tTMA1(24)_Tonsil",
          "tTMA2(24)_BlC",
          "tTMA2(24)_BrC",
          "tTMA2(24)_CRC",
          "tTMA2(24)_Kidney cancer",
          "tTMA2(24)_Liver cancer",
          "tTMA2(24)_Lymphoma",
          "tTMA2(24)_Mel",
          "tTMA2(24)_OvC",
          "tTMA2(24)_Pancreatic cancer",
          "tTMA2(24)_Prostate cancer",
          "tTMA2(24)_Renal cancer",
          "tTMA2(24)_SCC",
          "tTMA2(24)_Testicular cancer",
          "tTMA2(24)_Thyroid cancer"
         ],
         "title": {
          "font": {
           "color": "black"
          },
          "text": ""
         }
        },
        "xaxis5": {
         "anchor": "y5",
         "domain": [
          0,
          0.98
         ],
         "linecolor": "black",
         "linewidth": 2,
         "matches": "x",
         "showline": true,
         "showticklabels": false,
         "tickangle": 90,
         "tickfont": {
          "color": "black",
          "size": 15
         },
         "tickvals": [
          "tTMA1(24)_BrC",
          "tTMA1(24)_CRC",
          "tTMA1(24)_HNSCC",
          "tTMA1(24)_Lymph node",
          "tTMA1(24)_Mel",
          "tTMA1(24)_NSCLC",
          "tTMA1(24)_OvC",
          "tTMA1(24)_Tonsil",
          "tTMA2(24)_BlC",
          "tTMA2(24)_BrC",
          "tTMA2(24)_CRC",
          "tTMA2(24)_Kidney cancer",
          "tTMA2(24)_Liver cancer",
          "tTMA2(24)_Lymphoma",
          "tTMA2(24)_Mel",
          "tTMA2(24)_OvC",
          "tTMA2(24)_Pancreatic cancer",
          "tTMA2(24)_Prostate cancer",
          "tTMA2(24)_Renal cancer",
          "tTMA2(24)_SCC",
          "tTMA2(24)_Testicular cancer",
          "tTMA2(24)_Thyroid cancer"
         ],
         "title": {
          "font": {
           "color": "black"
          },
          "text": ""
         }
        },
        "yaxis": {
         "anchor": "x",
         "domain": [
          0,
          0.17600000000000002
         ],
         "linecolor": "black",
         "linewidth": 2,
         "range": [
          0,
          102
         ],
         "showline": true,
         "tickfont": {
          "color": "black",
          "size": 13
         },
         "title": {
          "font": {
           "color": "black"
          },
          "text": ""
         }
        },
        "yaxis2": {
         "anchor": "x2",
         "domain": [
          0.20600000000000002,
          0.382
         ],
         "linecolor": "black",
         "linewidth": 2,
         "range": [
          0,
          700
         ],
         "showline": true,
         "tickfont": {
          "color": "black",
          "size": 13
         },
         "title": {
          "font": {
           "color": "black"
          },
          "text": ""
         }
        },
        "yaxis3": {
         "anchor": "x3",
         "domain": [
          0.41200000000000003,
          0.5880000000000001
         ],
         "linecolor": "black",
         "linewidth": 2,
         "range": [
          -1,
          2
         ],
         "showline": true,
         "tickfont": {
          "color": "black",
          "size": 13
         },
         "title": {
          "font": {
           "color": "black"
          },
          "text": ""
         },
         "zeroline": true,
         "zerolinecolor": "black",
         "zerolinewidth": 2
        },
        "yaxis4": {
         "anchor": "x4",
         "domain": [
          0.618,
          0.794
         ],
         "linecolor": "black",
         "linewidth": 2,
         "range": [
          -1,
          2
         ],
         "showline": true,
         "tickfont": {
          "color": "black",
          "size": 13
         },
         "title": {
          "font": {
           "color": "black"
          },
          "text": ""
         },
         "zeroline": true,
         "zerolinecolor": "black",
         "zerolinewidth": 2
        },
        "yaxis5": {
         "anchor": "x5",
         "domain": [
          0.8240000000000001,
          1
         ],
         "linecolor": "black",
         "linewidth": 2,
         "range": [
          90,
          102
         ],
         "showline": true,
         "tickfont": {
          "color": "black",
          "size": 13
         },
         "title": {
          "font": {
           "color": "black"
          },
          "text": ""
         }
        }
       }
      }
     },
     "metadata": {},
     "output_type": "display_data"
    }
   ],
   "source": [
    "\n",
    "if not os.path.exists(f'{wd}/figures/Fig_2_Technical_Performance'):\n",
    "    os.makedirs(f'{wd}/figures/Fig_2_Technical_Performance')\n",
    "\n",
    "if year == '2024':    \n",
    "\n",
    "    df_plotly = df_plot.copy()\n",
    "    df_plotly['tma'] = df_plotly['tma'].apply(lambda x: f\"{convert_tma_name_dict[x]}({year[-2:]})\")\n",
    "    df_plotly['tma_tissue'] = df_plotly['tma'] + '_' + df_plotly['tissue_type']\n",
    "    df_plotly = df_plotly.loc[~df_plotly['tma_tissue'].isin(\n",
    "        [\n",
    "            'tTMA1(24)_BlC',\n",
    "            'tTMA2(24)_Liposarcoma',\n",
    "        ])]\n",
    "\n",
    "    df_plotly = df_plotly.sort_values(by='tma_tissue').reset_index()\n",
    "\n",
    "    fontsize=15\n",
    "    width = 1000\n",
    "    if supplement:\n",
    "        width=1200\n",
    "    height = 1100\n",
    "    groupby = 'Platform'\n",
    "    if supplement:\n",
    "        groupby = 'Platform_Panel'\n",
    "        custom_palette = {}\n",
    "        for Platform_Panel in df_plotly['Platform_Panel'].unique():\n",
    "            custom_palette[Platform_Panel] = sample_color[Platform_Panel]\n",
    "\n",
    "    # Define your initial figure\n",
    "    fig = px.bar(df_plotly, x=\"tma_tissue\", y=\"value\",\n",
    "                color=groupby, barmode=\"group\", \n",
    "                facet_row=\"metric\", color_discrete_map=custom_palette,\n",
    "                width=width, height=height,\n",
    "                category_orders={\"metric\": ['% calls on genes',\n",
    "                                            'Log₁₀FDR(blank)',\n",
    "                                            'Log₁₀FDR(negative)',\n",
    "                                            'genes above noise',\n",
    "                                            '% genes above noise']})\n",
    "\n",
    "\n",
    "    print ('FDR was log10 transformed to show the difference, hard to see xenium when cosmx FDR is around 100.')\n",
    "\n",
    "    # Update x-axis settings with black text\n",
    "    fig.update_xaxes(tickvals=df_plotly['tma_tissue'].unique(),\n",
    "                    tickangle=90, title_text='', \n",
    "                    title_font=dict(color='black'), tickfont=dict(color='black', size=fontsize))\n",
    "\n",
    "\n",
    "    # Update y-axis settings with black text\n",
    "    fig.update_yaxes(matches=None, title_text='', title_font=dict(color='black'), tickfont=dict(color='black', size=fontsize-2))\n",
    "    fig.update_yaxes(row=1, range=[0, 102], title_font=dict(color='black'), tickfont=dict(color='black'))\n",
    "    fig.update_yaxes(row=2, range=[0, 700], title_font=dict(color='black'), tickfont=dict(color='black'))\n",
    "    fig.update_yaxes(row=3, range=[-1, 2], title_font=dict(color='black'), tickfont=dict(color='black'))\n",
    "    fig.update_yaxes(row=4, range=[-1, 2], title_font=dict(color='black'), tickfont=dict(color='black'))\n",
    "    fig.update_yaxes(row=5, range=[90,102], title_font=dict(color='black'), tickfont=dict(color='black'))\n",
    "\n",
    "    fig.update_xaxes(row=1, showline=True, linewidth=2, linecolor='black')\n",
    "    fig.update_xaxes(row=2, showline=True, linewidth=2, linecolor='black')\n",
    "    fig.update_yaxes(row=3, zeroline=True, zerolinewidth=2, zerolinecolor='black')\n",
    "    fig.update_yaxes(row=4, zeroline=True, zerolinewidth=2, zerolinecolor='black')\n",
    "    fig.update_xaxes(row=5, showline=True, linewidth=2, linecolor='black')\n",
    "\n",
    "    fig.update_yaxes(showline=True, linewidth=2, linecolor='black')\n",
    "\n",
    "    # Update legend settings\n",
    "    fig.update_layout(\n",
    "        legend=dict(\n",
    "            title='',\n",
    "            orientation=\"h\",  # horizontal alignment\n",
    "            yanchor=\"bottom\", \n",
    "            y=0.98,  # position legend just above the plot\n",
    "            xanchor=\"center\",\n",
    "            x=0.5  # center the legend\n",
    "        ),\n",
    "        font=dict(color='black'),  # Set global font color to black\n",
    "        paper_bgcolor='rgba(0,0,0,0)',\n",
    "        plot_bgcolor='rgba(0,0,0,0)',\n",
    "        \n",
    "    )\n",
    "\n",
    "    # Modify row title annotations and set text color to black\n",
    "    for annotation in fig.layout.annotations:\n",
    "        annotation.font.size = fontsize\n",
    "        annotation.font.color = 'black'  # Set the annotation text color to black\n",
    "        annotation.x = -0.06\n",
    "        annotation.textangle = 270\n",
    "        for metric in df_plot.metric.unique():\n",
    "            if annotation.text == f'metric={metric}':\n",
    "                annotation.text = metric\n",
    "\n",
    "    # Display the figure and save to file\n",
    "    fig.show()\n",
    "    if supplement:\n",
    "        pio.write_image(fig, f'{wd}/figures/Fig_2_Technical_Performance/Supp_Fig_2_tech_{year}_{tma}_tma.png',scale=4, width=width, height=height)\n",
    "        pio.write_image(fig, f'{wd}/figures/Fig_2_Technical_Performance/Supp_Fig_2_tech_{year}_{tma}_tma.eps',scale=4, width=width, height=height)\n",
    "    else:\n",
    "        pio.write_image(fig, f'{wd}/figures/Fig_2_Technical_Performance/Main_Fig_2_tech_{year}_{tma}_tma.png',scale=4, width=width, height=height)\n",
    "        pio.write_image(fig, f'{wd}/figures/Fig_2_Technical_Performance/Main_Fig_2_tech_{year}_{tma}_tma.eps',scale=4, width=width, height=height)\n",
    "\n"
   ]
  },
  {
   "cell_type": "code",
   "execution_count": 13,
   "id": "35f6f8cd",
   "metadata": {},
   "outputs": [
    {
     "name": "stderr",
     "output_type": "stream",
     "text": [
      "The PostScript backend does not support transparency; partially transparent artists will be rendered opaque.\n"
     ]
    },
    {
     "data": {
      "image/png": "[encoded data removed]",
      "text/plain": [
       "<Figure size 1100x700 with 6 Axes>"
      ]
     },
     "metadata": {},
     "output_type": "display_data"
    }
   ],
   "source": [
    "\n",
    "df_all = df_plotly.copy()\n",
    "df_all['platform'] = df_all['Platform_Panel'].apply(lambda x: x.split(',')[0])\n",
    "df_all.head()\n",
    "\n",
    "metrics = [\n",
    "    '% calls on genes',\n",
    "    'Log₁₀FDR(blank)',\n",
    "    'Log₁₀FDR(negative)',\n",
    "    'genes above noise',\n",
    "    '% genes above noise',\n",
    "]\n",
    "\n",
    "palette = {\n",
    "    'Xenium': CB_COLORS_5['blue_dark'],\n",
    "    'MERSCOPE': CB_COLORS_5['red'],\n",
    "    'CosMx':   CB_COLORS_5['green']\n",
    "}\n",
    "\n",
    "fig, axes = plt.subplots(2, 3, figsize=(11, 7), sharey=False)\n",
    "axes = axes.flatten()\n",
    "\n",
    "for i, metric in enumerate(metrics):\n",
    "    ax = axes[i]\n",
    "    subset = df_all[df_all['metric'] == metric]\n",
    "    platform_order = ['Xenium', 'MERSCOPE', 'CosMx']\n",
    "\n",
    "    if metric == 'Log₁₀FDR(negative)':\n",
    "        subset = subset.loc[subset['platform'] != 'MERSCOPE']\n",
    "        platform_order = ['Xenium', 'CosMx']\n",
    "\n",
    "    sns.violinplot(\n",
    "        x='platform',\n",
    "        y='value',\n",
    "        data=subset,\n",
    "        palette=palette,\n",
    "        order=platform_order,\n",
    "        cut=0,\n",
    "        scale='width',\n",
    "        inner='quart',\n",
    "        alpha=0.7,\n",
    "        ax=ax\n",
    "    )\n",
    "\n",
    "    sns.stripplot(\n",
    "        x='platform',\n",
    "        y='value',\n",
    "        data=subset,\n",
    "        hue='platform',\n",
    "        palette=palette,\n",
    "        dodge=False,\n",
    "        order=platform_order,\n",
    "        edgecolor='black',\n",
    "        linewidth=0.7,\n",
    "        alpha=0.8,\n",
    "        ax=ax\n",
    "    )\n",
    "\n",
    "    ax.set_title('')\n",
    "    ax.set_xlabel(\"\")\n",
    "    ax.set_ylabel(metric)\n",
    "\n",
    "    # Calculate bracket spacing\n",
    "    x_positions = {p: idx for idx, p in enumerate(platform_order)}\n",
    "    y_max = subset['value'].max()\n",
    "    y_min = subset['value'].min()\n",
    "    # Increase bracket_step to add more vertical space between brackets\n",
    "    bracket_step = 0.09 * (y_max - y_min) if (y_max - y_min) != 0 else 0.08\n",
    "    bracket_count = 0\n",
    "\n",
    "    for (p1, p2) in itertools.combinations(platform_order, 2):\n",
    "        data1 = subset.loc[subset['platform'] == p1, 'value']\n",
    "        data2 = subset.loc[subset['platform'] == p2, 'value']\n",
    "        stat, pval = sp.stats.mannwhitneyu(data1, data2, alternative='two-sided')\n",
    "\n",
    "        bracket_count += 1\n",
    "        bracket_y = y_max + bracket_count * bracket_step\n",
    "\n",
    "        x1, x2 = x_positions[p1], x_positions[p2]\n",
    "        if x1 > x2:\n",
    "            x1, x2 = x2, x1\n",
    "\n",
    "        # Horizontal bracket\n",
    "        ax.plot([x1, x2], [bracket_y, bracket_y], lw=1.5, color='black')\n",
    "        # Vertical lines\n",
    "        ax.plot([x1, x1], [bracket_y, bracket_y - 0.01*(y_max - y_min)], lw=1.5, color='black')\n",
    "        ax.plot([x2, x2], [bracket_y, bracket_y - 0.01*(y_max - y_min)], lw=1.5, color='black')\n",
    "\n",
    "        if pval < 0.001:\n",
    "            p_text = \"p < 0.001\"\n",
    "        else:\n",
    "            p_text = f\"p = {pval:.3f}\"\n",
    "\n",
    "        ax.text(\n",
    "            0.5 * (x1 + x2),\n",
    "            bracket_y + 0.01*(y_max - y_min),\n",
    "            p_text,\n",
    "            ha='center', va='bottom',\n",
    "            fontsize=9, color='black'\n",
    "        )\n",
    "\n",
    "    # Expand y-limits to ensure all brackets and text are visible\n",
    "    ax.set_ylim(y_min, y_max + (bracket_count + 1.5) * bracket_step)\n",
    "\n",
    "if len(metrics) < len(axes):\n",
    "    extra_ax = axes[-1]\n",
    "    extra_ax.set_visible(False)\n",
    "\n",
    "plt.tight_layout()\n",
    "plt.savefig(f'{wd}/figures/response_letter/Fig_2_d_to_h_violin_{year}.png', \n",
    "            dpi=250, transparent=True)\n",
    "plt.savefig(f'{wd}/figures/response_letter/Fig_2_d_to_h_violin_{year}.eps', \n",
    "            dpi=250, transparent=True)\n",
    "plt.show()\n"
   ]
  }
 ],
 "metadata": {
  "kernelspec": {
   "display_name": "ist",
   "language": "python",
   "name": "python3"
  },
  "language_info": {
   "codemirror_mode": {
    "name": "ipython",
    "version": 3
   },
   "file_extension": ".py",
   "mimetype": "text/x-python",
   "name": "python",
   "nbconvert_exporter": "python",
   "pygments_lexer": "ipython3",
   "version": "3.10.16"
  },
  "toc": {
   "base_numbering": 1,
   "nav_menu": {},
   "number_sections": true,
   "sideBar": true,
   "skip_h1_title": false,
   "title_cell": "Table of Contents",
   "title_sidebar": "Contents",
   "toc_cell": false,
   "toc_position": {},
   "toc_section_display": true,
   "toc_window_display": false
  }
 },
 "nbformat": 4,
 "nbformat_minor": 5
}
