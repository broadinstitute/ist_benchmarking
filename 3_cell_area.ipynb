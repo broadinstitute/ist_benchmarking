{
 "cells": [
  {
   "cell_type": "code",
   "execution_count": 22,
   "metadata": {},
   "outputs": [
    {
     "name": "stdout",
     "output_type": "stream",
     "text": [
      "['2024_xenium_breast_htma', '2024_xenium_breast_tumor2', '2024_merscope_breast_htma', '2024_merscope_breast_tumor2', '2024_cosmx_multitissue_htma', '2024_cosmx_multitissue_tumor2']\n"
     ]
    }
   ],
   "source": [
    "import pandas as pd\n",
    "import plotly.io as pio\n",
    "import plotly.graph_objects as go\n",
    "import sys\n",
    "import geopandas as gpd\n",
    "\n",
    "sys.path.append('../src/')\n",
    "from st_utils import correct_platform_panel\n",
    "\n",
    "from st_utils import correct_tissue_names\n",
    "from st_utils import get_qced_cell_id, get_processed\n",
    "from constants import PIXEL_TO_UM\n",
    "from constants import matching_cores\n",
    "from constants import SAMPLES\n",
    "\n",
    "pd.set_option('display.max_rows',999)\n",
    "pd.set_option('display.max_columns', 500)\n",
    "pd.set_option('display.width', 1000)\n",
    "\n",
    "agbt_color = 'eff8f3'\n",
    "fig_size = (8,8)\n",
    "\n",
    "import warnings\n",
    "if not sys.warnoptions:\n",
    "    warnings.simplefilter(\"ignore\")\n",
    "\n",
    "\n",
    "def update_core(row, sample_col='Sample'):\n",
    "    if 'tumor2' in row[sample_col]:\n",
    "        return row['core'] + 300\n",
    "    elif 'normal' in row[sample_col]:\n",
    "        return row['core'] + 200\n",
    "    else:\n",
    "        return row['core']\n",
    "\n",
    "year = '2024'\n",
    "\n",
    "samples = [x for x in SAMPLES]\n",
    "if year == '2024':\n",
    "    samples = [x for x in SAMPLES if '2024' in x]\n",
    "elif year == '2023':\n",
    "    samples = [x for x in SAMPLES if '2024' not in x]\n",
    "else:\n",
    "    samples = [x for x in SAMPLES]\n",
    "print (samples)"
   ]
  },
  {
   "cell_type": "code",
   "execution_count": 23,
   "metadata": {},
   "outputs": [],
   "source": [
    "# Generate all cell area file\n",
    "\n",
    "gdf_all = gpd.read_parquet(f'data/all_xenium_merscope_segmentation.parquet.gzip')\n",
    "gdf_plot_all = gdf_all.copy()\n",
    "gdf_plot_all['Platform'] = gdf_plot_all['Sample'].apply(lambda x: x.split(\"_\")[-3].upper())\n",
    "gdf_plot_all['area_sqpx'] = gdf_plot_all['geometry'].area\n",
    "gdf_plot_all['area_squm'] = gdf_plot_all.apply(\n",
    "    lambda row:row['area_sqpx'] * PIXEL_TO_UM[row['Platform'].lower()] * PIXEL_TO_UM[row['Platform'].lower()] if row['Platform'] == 'COSMX' else row['area_sqpx'],\n",
    "    axis=1)\n",
    "df_area_all = gdf_plot_all[['cell_id', 'core', 'tissue_type', 'Sample', 'area_squm']]\n",
    "df_area_all.to_parquet(f'data/all_xenium_merscope_cell_area.parquet.gzip', compression='gzip', index=False)"
   ]
  },
  {
   "cell_type": "code",
   "execution_count": 24,
   "metadata": {},
   "outputs": [
    {
     "name": "stdout",
     "output_type": "stream",
     "text": [
      "2024_cosmx_multitissue_htma\n",
      "2024_cosmx_multitissue_tumor2\n",
      "2024_xenium_breast_htma\n",
      "2024_xenium_breast_tumor2\n",
      "2024_merscope_breast_htma\n",
      "2024_merscope_breast_tumor2\n"
     ]
    }
   ],
   "source": [
    "# Get CosMx cell area \n",
    "df_area_before = pd.DataFrame()\n",
    "for sample in samples:\n",
    "    if 'cosmx' in sample:\n",
    "        print (sample)\n",
    "        df_c = get_processed(sample, 'cell_level')[['cell_id','core','tissue_type','Area']]\n",
    "        df_c = correct_tissue_names(sample,df_c)\n",
    "        df_c = df_c.rename(columns={'Area':'area_squm'})\n",
    "        df_c['area_squm'] = df_c['area_squm'] * 0.12**2\n",
    "        df_c['Sample'] = sample\n",
    "        df_c = df_c[['cell_id','core','tissue_type','Sample','area_squm']]\n",
    "        df_area_before = pd.concat([df_area_before, df_c])\n",
    "\n",
    "# Get Xenium and Merscope cell area\n",
    "df_xe_mer = pd.read_parquet(f'data/all_xenium_merscope_cell_area.parquet.gzip', engine='pyarrow')\n",
    "\n",
    "for sample in samples:\n",
    "    if 'cosmx' not in sample:\n",
    "        print (sample)\n",
    "        df_xe_mer_single = df_xe_mer.loc[df_xe_mer['Sample']==sample]\n",
    "        df_xe_mer_single = correct_tissue_names(sample,df_xe_mer_single)\n",
    "        df_area_before = pd.concat([df_area_before, df_xe_mer_single], ignore_index=False)"
   ]
  },
  {
   "cell_type": "code",
   "execution_count": 25,
   "metadata": {},
   "outputs": [
    {
     "data": {
      "text/plain": [
       "array(['xenium_breast_htma', 'xenium_breast_normal',\n",
       "       'xenium_panhuman_htma', 'xenium_panhuman_normal',\n",
       "       'xenium_lung_htma', 'xenium_lung_normal', 'merscope_breast_htma',\n",
       "       'merscope_breast_normal', 'merscope_lung_htma',\n",
       "       'merscope_lung_normal', '2024_xenium_breast_htma',\n",
       "       '2024_xenium_breast_tumor2', '2024_merscope_breast_htma',\n",
       "       '2024_merscope_breast_tumor2'], dtype=object)"
      ]
     },
     "execution_count": 25,
     "metadata": {},
     "output_type": "execute_result"
    }
   ],
   "source": [
    "df_xe_mer.Sample.unique()"
   ]
  },
  {
   "cell_type": "markdown",
   "metadata": {},
   "source": [
    "# Load data"
   ]
  },
  {
   "cell_type": "code",
   "execution_count": 26,
   "metadata": {},
   "outputs": [
    {
     "name": "stdout",
     "output_type": "stream",
     "text": [
      "\n",
      "before QC: 4018884\n",
      "after QC using transcript count per cell: 3480191\n",
      "after QC using unique genes per cell: 3480191\n",
      "Good quality cells: 86.6\n"
     ]
    }
   ],
   "source": [
    "ids, _ = get_qced_cell_id(10,0)\n",
    "\n",
    "df_area_before.core = df_area_before.core.astype('int')\n",
    "df_area_before['core'] = df_area_before.apply(update_core, axis=1)\n",
    "df_area_before.core = df_area_before.core.astype('str')\n",
    "df_area_before = df_area_before.loc[~df_area_before['tissue_type'].isin(['Marker','MARKER'])]\n",
    "df_area_before = df_area_before.drop_duplicates()\n",
    "df_area_before['Filtration'] = 'Before'\n",
    "\n",
    "df_area_after = df_area_before.loc[df_area_before['cell_id'].isin(ids)]\n",
    "df_area_after['Filtration'] = 'After'\n",
    "\n",
    "df_area_all = pd.concat([df_area_before, df_area_after])\n",
    "df_area_all['TMA'] = df_area_all['Sample'].apply(lambda x: x.split('_')[-1].upper())\n",
    "df_area_all = df_area_all.sort_values(by=['Sample'])\n",
    "df_area_all['Platform_Panel'] = df_area_all['Sample'].apply(lambda x: f\"{x.split('_')[-3].upper()}_{x.split('_')[-2].capitalize()}\")\n",
    "df_area_all = correct_platform_panel(df_area_all, 'Platform_Panel')\n",
    "df_area_all = df_area_all.reset_index()\n",
    "matching_cores = [str(x) for x in matching_cores]\n",
    "df_area_all = df_area_all.loc[df_area_all['core'].isin(matching_cores)]"
   ]
  },
  {
   "cell_type": "code",
   "execution_count": 27,
   "metadata": {},
   "outputs": [
    {
     "data": {
      "text/plain": [
       "array(['2024_cosmx_multitissue_htma', '2024_cosmx_multitissue_tumor2',\n",
       "       '2024_merscope_breast_htma', '2024_merscope_breast_tumor2',\n",
       "       '2024_xenium_breast_htma', '2024_xenium_breast_tumor2'],\n",
       "      dtype=object)"
      ]
     },
     "execution_count": 27,
     "metadata": {},
     "output_type": "execute_result"
    }
   ],
   "source": [
    "df_plot = df_area_all[['Sample','cell_id','Platform_Panel','area_squm','tissue_type','Filtration']].reset_index(drop=True)\n",
    "df_plot.Sample.unique()\n",
    "# df_plot.head()"
   ]
  },
  {
   "cell_type": "code",
   "execution_count": 28,
   "metadata": {},
   "outputs": [],
   "source": [
    "df = df_area_all.rename(columns={\"tissue_type\":\"Tissue Type\"})\n",
    "grouped_df = df[['Tissue Type', 'Platform_Panel', 'area_squm']].groupby(['Tissue Type', 'Platform_Panel']).median().reset_index()\n",
    "pivoted_df = grouped_df.pivot_table(index='Tissue Type', columns='Platform_Panel', values='area_squm')\n",
    "# pivoted_df.reset_index(inplace=False)\n",
    "pivoted_df.to_csv('tables/cell_area.csv')"
   ]
  },
  {
   "cell_type": "code",
   "execution_count": 30,
   "metadata": {},
   "outputs": [
    {
     "data": {
      "text/plain": [
       "array(['CRC', 'OvC', 'HNSCC', 'BrC', 'Mel', 'NSCLC', 'Breast invasive',\n",
       "       'Breast non-invasive DCIS_3', 'Prostate cancer', 'SCC',\n",
       "       'Kidney cancer', 'Testes cancer', 'Pancreas cancer',\n",
       "       'Lymphoma LN B cell', 'Lymphoma non-Hodgkin', 'BlC',\n",
       "       'Lymphoma Hodgkin', 'Breast non-invasive DCIS_2', 'Thyroid cancer',\n",
       "       'Renal cancer', 'Liver cancer'], dtype=object)"
      ]
     },
     "execution_count": 30,
     "metadata": {},
     "output_type": "execute_result"
    }
   ],
   "source": [
    "df_area_all['tissue_type'].unique()"
   ]
  },
  {
   "cell_type": "code",
   "execution_count": 31,
   "metadata": {},
   "outputs": [
    {
     "data": {
      "text/html": [
       "<div>\n",
       "<style scoped>\n",
       "    .dataframe tbody tr th:only-of-type {\n",
       "        vertical-align: middle;\n",
       "    }\n",
       "\n",
       "    .dataframe tbody tr th {\n",
       "        vertical-align: top;\n",
       "    }\n",
       "\n",
       "    .dataframe thead th {\n",
       "        text-align: right;\n",
       "    }\n",
       "</style>\n",
       "<table border=\"1\" class=\"dataframe\">\n",
       "  <thead>\n",
       "    <tr style=\"text-align: right;\">\n",
       "      <th></th>\n",
       "      <th>index</th>\n",
       "      <th>cell_id</th>\n",
       "      <th>core</th>\n",
       "      <th>tissue_type</th>\n",
       "      <th>Sample</th>\n",
       "      <th>area_squm</th>\n",
       "      <th>Filtration</th>\n",
       "      <th>TMA</th>\n",
       "      <th>Platform_Panel</th>\n",
       "    </tr>\n",
       "  </thead>\n",
       "  <tbody>\n",
       "    <tr>\n",
       "      <th>19502</th>\n",
       "      <td>63534</td>\n",
       "      <td>c_1_135_1634</td>\n",
       "      <td>31</td>\n",
       "      <td>CRC</td>\n",
       "      <td>2024_cosmx_multitissue_htma</td>\n",
       "      <td>15.4368</td>\n",
       "      <td>After</td>\n",
       "      <td>HTMA</td>\n",
       "      <td>CosMx,1k</td>\n",
       "    </tr>\n",
       "    <tr>\n",
       "      <th>19503</th>\n",
       "      <td>63533</td>\n",
       "      <td>c_1_135_1633</td>\n",
       "      <td>31</td>\n",
       "      <td>CRC</td>\n",
       "      <td>2024_cosmx_multitissue_htma</td>\n",
       "      <td>64.2384</td>\n",
       "      <td>After</td>\n",
       "      <td>HTMA</td>\n",
       "      <td>CosMx,1k</td>\n",
       "    </tr>\n",
       "    <tr>\n",
       "      <th>19504</th>\n",
       "      <td>63532</td>\n",
       "      <td>c_1_135_1632</td>\n",
       "      <td>31</td>\n",
       "      <td>CRC</td>\n",
       "      <td>2024_cosmx_multitissue_htma</td>\n",
       "      <td>135.3600</td>\n",
       "      <td>After</td>\n",
       "      <td>HTMA</td>\n",
       "      <td>CosMx,1k</td>\n",
       "    </tr>\n",
       "    <tr>\n",
       "      <th>19505</th>\n",
       "      <td>63531</td>\n",
       "      <td>c_1_135_1631</td>\n",
       "      <td>31</td>\n",
       "      <td>CRC</td>\n",
       "      <td>2024_cosmx_multitissue_htma</td>\n",
       "      <td>45.6192</td>\n",
       "      <td>After</td>\n",
       "      <td>HTMA</td>\n",
       "      <td>CosMx,1k</td>\n",
       "    </tr>\n",
       "    <tr>\n",
       "      <th>19506</th>\n",
       "      <td>63530</td>\n",
       "      <td>c_1_135_1630</td>\n",
       "      <td>31</td>\n",
       "      <td>CRC</td>\n",
       "      <td>2024_cosmx_multitissue_htma</td>\n",
       "      <td>79.0704</td>\n",
       "      <td>After</td>\n",
       "      <td>HTMA</td>\n",
       "      <td>CosMx,1k</td>\n",
       "    </tr>\n",
       "  </tbody>\n",
       "</table>\n",
       "</div>"
      ],
      "text/plain": [
       "       index       cell_id core tissue_type                       Sample  area_squm Filtration   TMA Platform_Panel\n",
       "19502  63534  c_1_135_1634   31         CRC  2024_cosmx_multitissue_htma    15.4368      After  HTMA       CosMx,1k\n",
       "19503  63533  c_1_135_1633   31         CRC  2024_cosmx_multitissue_htma    64.2384      After  HTMA       CosMx,1k\n",
       "19504  63532  c_1_135_1632   31         CRC  2024_cosmx_multitissue_htma   135.3600      After  HTMA       CosMx,1k\n",
       "19505  63531  c_1_135_1631   31         CRC  2024_cosmx_multitissue_htma    45.6192      After  HTMA       CosMx,1k\n",
       "19506  63530  c_1_135_1630   31         CRC  2024_cosmx_multitissue_htma    79.0704      After  HTMA       CosMx,1k"
      ]
     },
     "execution_count": 31,
     "metadata": {},
     "output_type": "execute_result"
    }
   ],
   "source": [
    "df_area_all.head()"
   ]
  },
  {
   "cell_type": "markdown",
   "metadata": {},
   "source": [
    "# Plot"
   ]
  },
  {
   "cell_type": "code",
   "execution_count": 2,
   "metadata": {},
   "outputs": [],
   "source": [
    "# fontsize = 45\n",
    "# width = 1100\n",
    "# height = 900\n",
    "# plot_metric = 'area_squm'\n",
    "# groupby = 'Platform_Panel'\n",
    "# val_range = [-5,350]\n",
    "\n",
    "# df = df_plot.copy()\n",
    "\n",
    "# fig = go.Figure()\n",
    "\n",
    "# fig.add_trace(go.Violin(x=df[groupby][ df['Filtration'] == 'Before'],\n",
    "#                         y=df[f'{plot_metric}'][ df['Filtration'] == 'Before'],\n",
    "#                         legendgroup='Yes', scalegroup='Yes', name='Before',\n",
    "#                         side='negative',\n",
    "#                         line_color='red',\n",
    "#                         showlegend=False)\n",
    "#              )\n",
    "# fig.add_trace(go.Violin(x=df[groupby][ df['Filtration'] == 'After'],\n",
    "#                         y=df[f'{plot_metric}'][ df['Filtration'] == 'After'],\n",
    "#                         legendgroup='No', scalegroup='No', name='After',\n",
    "#                         side='positive',\n",
    "#                         line_color='green',\n",
    "#                         showlegend=False)\n",
    "#              )\n",
    "# fig.update_traces(meanline_visible=True)\n",
    "# fig.update_yaxes(title_text=f\"Segmented cell area (um^2)\",\n",
    "#                 title_font=dict(size=fontsize), range=val_range)\n",
    "# fig.update_xaxes(title_text=\"\", tickfont=dict(size=fontsize-2))\n",
    "# fig.update_layout(\n",
    "#     violingap=0.35,  # Set the gap between violins\n",
    "#     violinmode='overlay',  # Overlay mode for violins\n",
    "#     width=width,  # Set the width of the figure\n",
    "#     height=height,  # Set the height of the figure\n",
    "#     legend=dict(\n",
    "#         orientation=\"h\",  # horizontal alignment\n",
    "#         yanchor=\"bottom\", \n",
    "#         y=1,  # position legend just above the plot\n",
    "#         xanchor=\"center\",\n",
    "#         x=0.5  # center the legend\n",
    "#     ),\n",
    "#     font=dict(color='black')  # Set global font color to black\n",
    "# )\n",
    "\n",
    "# fig.show()\n",
    "# pio.write_image(fig, f'figures/Fig_4_Segmentation/Main_Fig_4_C_cell_area.png',scale=4, width=width, height=height)\n",
    "# # pio.write_image(fig, f'figures/Fig_4_Segmentation/Main_Fig_4_C_cell_area.eps',scale=4, width=width, height=height)"
   ]
  }
 ],
 "metadata": {
  "kernelspec": {
   "display_name": "sp",
   "language": "python",
   "name": "python3"
  },
  "language_info": {
   "codemirror_mode": {
    "name": "ipython",
    "version": 3
   },
   "file_extension": ".py",
   "mimetype": "text/x-python",
   "name": "python",
   "nbconvert_exporter": "python",
   "pygments_lexer": "ipython3",
   "version": "3.8.16"
  }
 },
 "nbformat": 4,
 "nbformat_minor": 2
}
