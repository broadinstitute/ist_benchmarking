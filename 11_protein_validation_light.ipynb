{
 "cells": [
  {
   "cell_type": "code",
   "execution_count": 8,
   "metadata": {},
   "outputs": [
    {
     "name": "stdout",
     "output_type": "stream",
     "text": [
      "working directory: /Users/whuan/dev/ist_benchmarking\n"
     ]
    }
   ],
   "source": [
    "import pandas as pd\n",
    "import sys\n",
    "import os\n",
    "import math\n",
    "import pandas as pd\n",
    "from scipy.stats import ttest_ind\n",
    "import plotly.express as px\n",
    "import plotly.io as pio\n",
    "\n",
    "sys.path.append('../src/')\n",
    "from constants import SAMPLES, matching_cores_2024\n",
    "\n",
    "wd = os.getcwd()\n",
    "print (f'working directory: {wd}')\n",
    "\n",
    "def log2_fold_change(a, b):\n",
    "    \"\"\"\n",
    "    Calculate the log2 fold change between two expression values a and b.\n",
    "    \n",
    "    Parameters:\n",
    "    a (float): Expression value in condition A (control or reference)\n",
    "    b (float): Expression value in condition B (treatment or experimental)\n",
    "    \n",
    "    Returns:\n",
    "    float: The log2 fold change\n",
    "    \"\"\"\n",
    "    if a == 0:\n",
    "        raise ValueError(\"Expression value 'a' should not be zero to avoid division by zero.\")\n",
    "    fold_change = b / a\n",
    "    log2_fc = math.log2(fold_change)\n",
    "    return log2_fc\n",
    "\n",
    "\n",
    "gene_list_dict = {\n",
    "    'co':['CD274','PDCD1', 'PDCD1LG2', 'CCL5', 'CXCL12', 'CD68', 'CTLA4'],\n",
    "    'not_co':['ADIPOQ', 'KIT'],\n",
    "}\n",
    "\n",
    "\n",
    "if not os.path.exists(f'{wd}/figures/protein_validation'):\n",
    "    os.makedirs(f'{wd}/figures/protein_validation')\n",
    "\n",
    "pd_l1_high_cores = [\n",
    "    1.0, 2.0, 3.0, 6.0, 7.0, 8.0, 37.0, 39.0, 41.0, 42.0,\n",
    "    43.0, 44.0, 45.0, 46.0, 47.0, 48.0, 49.0, 50.0, 51.0,\n",
    "    52.0, 55.0, 56.0, 57.0, 58.0, 60.0, 62.0, 64.0, 66.0,\n",
    "    69.0, 70.0, 71.0, 79.0, 82.0, 83.0, 84.0, 85.0, 91.0,\n",
    "    92.0, 93.0, 94.0, 95.0, 96.0, 101.0, 102.0, 111.0, 112.0,\n",
    "    113.0, 114.0, 115.0, 116.0, 117.0, 118.0, 119.0, 120.0,\n",
    "    121.0, 122.0, 127.0, 128.0, 129.0, 133.0, 134.0, 138.0,\n",
    "    139.0, 140.0, 144.0, 148.0, 149.0, 150.0, 151.0, 152.0,\n",
    "    153.0, 155.0, 156.0, 159.0, 160.0, 161.0, 164.0, 165.0,\n",
    "    168.0, 169.0, 170.0]"
   ]
  },
  {
   "cell_type": "code",
   "execution_count": 2,
   "metadata": {},
   "outputs": [
    {
     "name": "stdout",
     "output_type": "stream",
     "text": [
      "2024_xenium_breast_htma\n",
      "2024_merscope_breast_htma\n",
      "2024_cosmx_multitissue_htma\n"
     ]
    }
   ],
   "source": [
    "\n",
    "df_core = pd.read_csv(f'{wd}/data/Sample_Info_HTMA_TMA - Sheet1.csv')[['core', 'tissue_type', 'patient_number', 'PD-L1_status']]\n",
    "df_core['unique_patient_number'] = df_core.apply(lambda row: f\"{row['tissue_type']}_{row['patient_number']}_{row['PD-L1_status']}\", axis=1)\n",
    "\n",
    "df_all = pd.DataFrame()\n",
    "\n",
    "gene_list = ['CD274']\n",
    "for sample in SAMPLES:\n",
    "    if '2024' in sample and 'htma' in sample:\n",
    "        print (sample)\n",
    "        df = pd.read_csv(f'{wd}/data/gene_level_csv/gene_level_csv_{sample}.csv', engine='pyarrow')\n",
    "        df_selected = df.loc[df[\"gene\"].isin(gene_list)]\n",
    "        df_join = pd.merge(df_selected, df_core, on=['core','tissue_type'], how='left')\n",
    "        df_join['sample'] = sample\n",
    "        df_join['core'] = df_join['core'].astype('int')\n",
    "        df_join = df_join.loc[df_join['core'].isin(matching_cores_2024)]\n",
    "        df_all = pd.concat([df_all, df_join])\n",
    "\n",
    "df_all['platform'] = df_all['sample'].apply(lambda x: x.split('_')[-3].upper())\n",
    "df_all['platform'] = df_all['platform'].replace({'XENIUM':'Xenium','MERSCOPE':'MERSCOPE','COSMX':'CosMx'})\n",
    "df_all = df_all[['count', 'PD-L1_status', 'platform']]"
   ]
  },
  {
   "cell_type": "code",
   "execution_count": 3,
   "metadata": {},
   "outputs": [
    {
     "data": {
      "text/html": [
       "<div>\n",
       "<style scoped>\n",
       "    .dataframe tbody tr th:only-of-type {\n",
       "        vertical-align: middle;\n",
       "    }\n",
       "\n",
       "    .dataframe tbody tr th {\n",
       "        vertical-align: top;\n",
       "    }\n",
       "\n",
       "    .dataframe thead th {\n",
       "        text-align: right;\n",
       "    }\n",
       "</style>\n",
       "<table border=\"1\" class=\"dataframe\">\n",
       "  <thead>\n",
       "    <tr style=\"text-align: right;\">\n",
       "      <th></th>\n",
       "      <th>platform</th>\n",
       "      <th>PD-L1_status</th>\n",
       "      <th>Num_of_Cores</th>\n",
       "      <th>Average_CD274_Expression</th>\n",
       "    </tr>\n",
       "  </thead>\n",
       "  <tbody>\n",
       "    <tr>\n",
       "      <th>0</th>\n",
       "      <td>CosMx</td>\n",
       "      <td>high</td>\n",
       "      <td>38</td>\n",
       "      <td>199.921053</td>\n",
       "    </tr>\n",
       "    <tr>\n",
       "      <th>1</th>\n",
       "      <td>CosMx</td>\n",
       "      <td>low</td>\n",
       "      <td>27</td>\n",
       "      <td>183.518519</td>\n",
       "    </tr>\n",
       "    <tr>\n",
       "      <th>2</th>\n",
       "      <td>MERSCOPE</td>\n",
       "      <td>high</td>\n",
       "      <td>32</td>\n",
       "      <td>21.281250</td>\n",
       "    </tr>\n",
       "    <tr>\n",
       "      <th>3</th>\n",
       "      <td>MERSCOPE</td>\n",
       "      <td>low</td>\n",
       "      <td>25</td>\n",
       "      <td>28.960000</td>\n",
       "    </tr>\n",
       "    <tr>\n",
       "      <th>4</th>\n",
       "      <td>Xenium</td>\n",
       "      <td>high</td>\n",
       "      <td>38</td>\n",
       "      <td>357.421053</td>\n",
       "    </tr>\n",
       "    <tr>\n",
       "      <th>5</th>\n",
       "      <td>Xenium</td>\n",
       "      <td>low</td>\n",
       "      <td>27</td>\n",
       "      <td>284.111111</td>\n",
       "    </tr>\n",
       "  </tbody>\n",
       "</table>\n",
       "</div>"
      ],
      "text/plain": [
       "   platform PD-L1_status  Num_of_Cores  Average_CD274_Expression\n",
       "0     CosMx         high            38                199.921053\n",
       "1     CosMx          low            27                183.518519\n",
       "2  MERSCOPE         high            32                 21.281250\n",
       "3  MERSCOPE          low            25                 28.960000\n",
       "4    Xenium         high            38                357.421053\n",
       "5    Xenium          low            27                284.111111"
      ]
     },
     "metadata": {},
     "output_type": "display_data"
    }
   ],
   "source": [
    "df = df_all[['count', 'PD-L1_status', 'platform']]\n",
    "\n",
    "# Calculate the mean count and the number of entries (n) for each sample and PD-L1 status\n",
    "df_stats = (\n",
    "    df\n",
    "    .groupby(by=['platform', 'PD-L1_status'])\n",
    "    .agg(Num_of_Cores=('count', 'size'), Average_CD274_Expression=('count', 'mean'))\n",
    "    .reset_index()\n",
    ")\n",
    "\n",
    "# Display the resulting DataFrame\n",
    "display(df_stats)\n"
   ]
  },
  {
   "cell_type": "code",
   "execution_count": 4,
   "metadata": {},
   "outputs": [
    {
     "name": "stdout",
     "output_type": "stream",
     "text": [
      "Results DataFrame:\n"
     ]
    },
    {
     "data": {
      "text/html": [
       "<div>\n",
       "<style scoped>\n",
       "    .dataframe tbody tr th:only-of-type {\n",
       "        vertical-align: middle;\n",
       "    }\n",
       "\n",
       "    .dataframe tbody tr th {\n",
       "        vertical-align: top;\n",
       "    }\n",
       "\n",
       "    .dataframe thead th {\n",
       "        text-align: right;\n",
       "    }\n",
       "</style>\n",
       "<table border=\"1\" class=\"dataframe\">\n",
       "  <thead>\n",
       "    <tr style=\"text-align: right;\">\n",
       "      <th></th>\n",
       "      <th>platform</th>\n",
       "      <th>p_value</th>\n",
       "      <th>significant</th>\n",
       "    </tr>\n",
       "  </thead>\n",
       "  <tbody>\n",
       "    <tr>\n",
       "      <th>0</th>\n",
       "      <td>Xenium</td>\n",
       "      <td>0.508350</td>\n",
       "      <td>False</td>\n",
       "    </tr>\n",
       "    <tr>\n",
       "      <th>1</th>\n",
       "      <td>MERSCOPE</td>\n",
       "      <td>0.413921</td>\n",
       "      <td>False</td>\n",
       "    </tr>\n",
       "    <tr>\n",
       "      <th>2</th>\n",
       "      <td>CosMx</td>\n",
       "      <td>0.732083</td>\n",
       "      <td>False</td>\n",
       "    </tr>\n",
       "  </tbody>\n",
       "</table>\n",
       "</div>"
      ],
      "text/plain": [
       "   platform   p_value  significant\n",
       "0    Xenium  0.508350        False\n",
       "1  MERSCOPE  0.413921        False\n",
       "2     CosMx  0.732083        False"
      ]
     },
     "metadata": {},
     "output_type": "display_data"
    }
   ],
   "source": [
    "\n",
    "# Remove rows with NaN in PD-L1_status to focus only on 'high' and 'low'\n",
    "df_filtered = df.dropna(subset=['PD-L1_status'])\n",
    "\n",
    "# Define the function to calculate p-values for each sample\n",
    "def calculate_p_values(df):\n",
    "    results = []\n",
    "    for platform in df['platform'].unique():\n",
    "        df_platform = df[df['platform'] == platform]\n",
    "        \n",
    "        # Ensure there are 'high' and 'low' counts to compare\n",
    "        if 'high' in df_platform['PD-L1_status'].values and 'low' in df_platform['PD-L1_status'].values:\n",
    "            high_counts = df_platform[df_platform['PD-L1_status'] == 'high']['count']\n",
    "            low_counts = df_platform[df_platform['PD-L1_status'] == 'low']['count']\n",
    "            \n",
    "            # Perform t-test\n",
    "            t_stat, p_val = ttest_ind(high_counts, low_counts, equal_var=False)\n",
    "            \n",
    "            # Determine significance based on p-value threshold (0.05)\n",
    "            significant = p_val < 0.05\n",
    "            \n",
    "            # Append result\n",
    "            results.append({\n",
    "                'platform': platform,\n",
    "                'p_value': p_val,\n",
    "                'significant': significant\n",
    "            })\n",
    "    \n",
    "    return pd.DataFrame(results)\n",
    "\n",
    "# Calculate p-values and significance for each sample\n",
    "df_results = calculate_p_values(df_filtered)\n",
    "\n",
    "# Display the results\n",
    "print(\"Results DataFrame:\")\n",
    "display(df_results)\n"
   ]
  },
  {
   "cell_type": "code",
   "execution_count": 5,
   "metadata": {},
   "outputs": [
    {
     "data": {
      "application/vnd.plotly.v1+json": {
       "config": {
        "plotlyServerURL": "https://plot.ly"
       },
       "data": [
        {
         "alignmentgroup": "True",
         "boxpoints": "all",
         "hovertemplate": "PD-L1_status=%{x}<br>platform=Xenium<br>count=%{y}<extra></extra>",
         "legendgroup": "high",
         "marker": {
          "color": "#636efa"
         },
         "name": "high",
         "notched": false,
         "offsetgroup": "high",
         "orientation": "v",
         "quartilemethod": "exclusive",
         "showlegend": true,
         "type": "box",
         "x": [
          "high",
          "high",
          "high",
          "high",
          "high",
          "high",
          "high",
          "high",
          "high",
          "high",
          "high",
          "high",
          "high",
          "high",
          "high",
          "high",
          "high",
          "high",
          "high",
          "high",
          "high",
          "high",
          "high",
          "high",
          "high",
          "high",
          "high",
          "high",
          "high",
          "high",
          "high",
          "high",
          "high",
          "high",
          "high",
          "high",
          "high",
          "high"
         ],
         "x0": " ",
         "xaxis": "x3",
         "y": [
          24,
          240,
          175,
          1511,
          741,
          1444,
          62,
          1347,
          50,
          40,
          377,
          73,
          80,
          68,
          1027,
          823,
          763,
          894,
          606,
          95,
          310,
          369,
          164,
          32,
          238,
          59,
          39,
          147,
          31,
          28,
          363,
          44,
          98,
          109,
          81,
          55,
          13,
          962
         ],
         "y0": " ",
         "yaxis": "y3"
        },
        {
         "alignmentgroup": "True",
         "boxpoints": "all",
         "hovertemplate": "PD-L1_status=%{x}<br>platform=MERSCOPE<br>count=%{y}<extra></extra>",
         "legendgroup": "high",
         "marker": {
          "color": "#636efa"
         },
         "name": "high",
         "notched": false,
         "offsetgroup": "high",
         "orientation": "v",
         "quartilemethod": "exclusive",
         "showlegend": false,
         "type": "box",
         "x": [
          "high",
          "high",
          "high",
          "high",
          "high",
          "high",
          "high",
          "high",
          "high",
          "high",
          "high",
          "high",
          "high",
          "high",
          "high",
          "high",
          "high",
          "high",
          "high",
          "high",
          "high",
          "high",
          "high",
          "high",
          "high",
          "high",
          "high",
          "high",
          "high",
          "high",
          "high",
          "high"
         ],
         "x0": " ",
         "xaxis": "x2",
         "y": [
          16,
          1,
          1,
          110,
          55,
          54,
          116,
          1,
          10,
          3,
          3,
          28,
          20,
          35,
          18,
          5,
          42,
          60,
          3,
          1,
          15,
          1,
          2,
          1,
          4,
          2,
          9,
          1,
          5,
          21,
          3,
          35
         ],
         "y0": " ",
         "yaxis": "y2"
        },
        {
         "alignmentgroup": "True",
         "boxpoints": "all",
         "hovertemplate": "PD-L1_status=%{x}<br>platform=CosMx<br>count=%{y}<extra></extra>",
         "legendgroup": "high",
         "marker": {
          "color": "#636efa"
         },
         "name": "high",
         "notched": false,
         "offsetgroup": "high",
         "orientation": "v",
         "quartilemethod": "exclusive",
         "showlegend": false,
         "type": "box",
         "x": [
          "high",
          "high",
          "high",
          "high",
          "high",
          "high",
          "high",
          "high",
          "high",
          "high",
          "high",
          "high",
          "high",
          "high",
          "high",
          "high",
          "high",
          "high",
          "high",
          "high",
          "high",
          "high",
          "high",
          "high",
          "high",
          "high",
          "high",
          "high",
          "high",
          "high",
          "high",
          "high",
          "high",
          "high",
          "high",
          "high",
          "high",
          "high"
         ],
         "x0": " ",
         "xaxis": "x",
         "y": [
          94,
          136,
          125,
          442,
          288,
          458,
          45,
          496,
          58,
          52,
          290,
          59,
          68,
          59,
          627,
          429,
          424,
          342,
          759,
          136,
          222,
          260,
          115,
          73,
          115,
          101,
          68,
          102,
          44,
          50,
          146,
          66,
          91,
          73,
          70,
          106,
          23,
          485
         ],
         "y0": " ",
         "yaxis": "y"
        },
        {
         "alignmentgroup": "True",
         "boxpoints": "all",
         "hovertemplate": "PD-L1_status=%{x}<br>platform=Xenium<br>count=%{y}<extra></extra>",
         "legendgroup": "low",
         "marker": {
          "color": "#EF553B"
         },
         "name": "low",
         "notched": false,
         "offsetgroup": "low",
         "orientation": "v",
         "quartilemethod": "exclusive",
         "showlegend": true,
         "type": "box",
         "x": [
          "low",
          "low",
          "low",
          "low",
          "low",
          "low",
          "low",
          "low",
          "low",
          "low",
          "low",
          "low",
          "low",
          "low",
          "low",
          "low",
          "low",
          "low",
          "low",
          "low",
          "low",
          "low",
          "low",
          "low",
          "low",
          "low",
          "low"
         ],
         "x0": " ",
         "xaxis": "x3",
         "y": [
          675,
          61,
          69,
          58,
          62,
          3,
          57,
          121,
          105,
          106,
          129,
          954,
          102,
          413,
          2074,
          83,
          117,
          41,
          18,
          275,
          193,
          35,
          42,
          745,
          88,
          493,
          552
         ],
         "y0": " ",
         "yaxis": "y3"
        },
        {
         "alignmentgroup": "True",
         "boxpoints": "all",
         "hovertemplate": "PD-L1_status=%{x}<br>platform=MERSCOPE<br>count=%{y}<extra></extra>",
         "legendgroup": "low",
         "marker": {
          "color": "#EF553B"
         },
         "name": "low",
         "notched": false,
         "offsetgroup": "low",
         "orientation": "v",
         "quartilemethod": "exclusive",
         "showlegend": false,
         "type": "box",
         "x": [
          "low",
          "low",
          "low",
          "low",
          "low",
          "low",
          "low",
          "low",
          "low",
          "low",
          "low",
          "low",
          "low",
          "low",
          "low",
          "low",
          "low",
          "low",
          "low",
          "low",
          "low",
          "low",
          "low",
          "low",
          "low"
         ],
         "x0": " ",
         "xaxis": "x2",
         "y": [
          106,
          2,
          9,
          14,
          10,
          12,
          18,
          8,
          53,
          9,
          11,
          10,
          12,
          152,
          18,
          1,
          3,
          1,
          35,
          33,
          27,
          7,
          5,
          95,
          73
         ],
         "y0": " ",
         "yaxis": "y2"
        },
        {
         "alignmentgroup": "True",
         "boxpoints": "all",
         "hovertemplate": "PD-L1_status=%{x}<br>platform=CosMx<br>count=%{y}<extra></extra>",
         "legendgroup": "low",
         "marker": {
          "color": "#EF553B"
         },
         "name": "low",
         "notched": false,
         "offsetgroup": "low",
         "orientation": "v",
         "quartilemethod": "exclusive",
         "showlegend": false,
         "type": "box",
         "x": [
          "low",
          "low",
          "low",
          "low",
          "low",
          "low",
          "low",
          "low",
          "low",
          "low",
          "low",
          "low",
          "low",
          "low",
          "low",
          "low",
          "low",
          "low",
          "low",
          "low",
          "low",
          "low",
          "low",
          "low",
          "low",
          "low",
          "low"
         ],
         "x0": " ",
         "xaxis": "x",
         "y": [
          398,
          91,
          107,
          103,
          112,
          34,
          83,
          121,
          109,
          160,
          167,
          383,
          129,
          197,
          932,
          134,
          114,
          39,
          91,
          1,
          18,
          103,
          91,
          313,
          139,
          325,
          461
         ],
         "y0": " ",
         "yaxis": "y"
        }
       ],
       "layout": {
        "annotations": [
         {
          "font": {
           "color": "black",
           "size": 16
          },
          "showarrow": false,
          "text": "CosMx",
          "textangle": 90,
          "x": 0.95,
          "xanchor": "left",
          "xref": "paper",
          "y": 0.15666666666666665,
          "yanchor": "middle",
          "yref": "paper"
         },
         {
          "font": {
           "color": "black",
           "size": 16
          },
          "showarrow": false,
          "text": "MERSCOPE",
          "textangle": 90,
          "x": 0.95,
          "xanchor": "left",
          "xref": "paper",
          "y": 0.4999999999999999,
          "yanchor": "middle",
          "yref": "paper"
         },
         {
          "font": {
           "color": "black",
           "size": 16
          },
          "showarrow": false,
          "text": "Xenium",
          "textangle": 90,
          "x": 0.95,
          "xanchor": "left",
          "xref": "paper",
          "y": 0.8433333333333332,
          "yanchor": "middle",
          "yref": "paper"
         },
         {
          "font": {
           "color": "black",
           "size": 16
          },
          "showarrow": false,
          "text": "p>0.1, Not sig.",
          "x": 0.5,
          "xref": "x",
          "y": 770,
          "yref": "y"
         },
         {
          "font": {
           "color": "black",
           "size": 16
          },
          "showarrow": false,
          "text": "p>0.1, Not sig.",
          "x": 0.5,
          "xref": "x",
          "y": 115.5,
          "yref": "y2"
         },
         {
          "font": {
           "color": "black",
           "size": 16
          },
          "showarrow": false,
          "text": "p>0.1, Not sig.",
          "x": 0.5,
          "xref": "x",
          "y": 1925,
          "yref": "y3"
         }
        ],
        "boxmode": "overlay",
        "font": {
         "color": "black",
         "size": 16
        },
        "height": 700,
        "legend": {
         "orientation": "h",
         "title": {
          "text": "PD-L1 Status"
         },
         "tracegroupgap": 0,
         "x": 0.5,
         "xanchor": "center",
         "y": 1,
         "yanchor": "bottom"
        },
        "margin": {
         "t": 60
        },
        "plot_bgcolor": "rgba(0, 0, 0, 0)",
        "shapes": [
         {
          "line": {
           "color": "black",
           "width": 1.5
          },
          "type": "line",
          "x0": 0.15,
          "x1": 0.85,
          "xref": "x",
          "y0": 700,
          "y1": 700,
          "yref": "y"
         },
         {
          "line": {
           "color": "black",
           "width": 1.5
          },
          "type": "line",
          "x0": 0.15,
          "x1": 0.15,
          "xref": "x",
          "y0": 700,
          "y1": 650,
          "yref": "y"
         },
         {
          "line": {
           "color": "black",
           "width": 1.5
          },
          "type": "line",
          "x0": 0.85,
          "x1": 0.85,
          "xref": "x",
          "y0": 700,
          "y1": 650,
          "yref": "y"
         },
         {
          "line": {
           "color": "black",
           "width": 1.5
          },
          "type": "line",
          "x0": 0.15,
          "x1": 0.85,
          "xref": "x",
          "y0": 105,
          "y1": 105,
          "yref": "y2"
         },
         {
          "line": {
           "color": "black",
           "width": 1.5
          },
          "type": "line",
          "x0": 0.15,
          "x1": 0.15,
          "xref": "x",
          "y0": 105,
          "y1": 97.5,
          "yref": "y2"
         },
         {
          "line": {
           "color": "black",
           "width": 1.5
          },
          "type": "line",
          "x0": 0.85,
          "x1": 0.85,
          "xref": "x",
          "y0": 105,
          "y1": 97.5,
          "yref": "y2"
         },
         {
          "line": {
           "color": "black",
           "width": 1.5
          },
          "type": "line",
          "x0": 0.15,
          "x1": 0.85,
          "xref": "x",
          "y0": 1750,
          "y1": 1750,
          "yref": "y3"
         },
         {
          "line": {
           "color": "black",
           "width": 1.5
          },
          "type": "line",
          "x0": 0.15,
          "x1": 0.15,
          "xref": "x",
          "y0": 1750,
          "y1": 1625,
          "yref": "y3"
         },
         {
          "line": {
           "color": "black",
           "width": 1.5
          },
          "type": "line",
          "x0": 0.85,
          "x1": 0.85,
          "xref": "x",
          "y0": 1750,
          "y1": 1625,
          "yref": "y3"
         }
        ],
        "showlegend": true,
        "template": {
         "data": {
          "bar": [
           {
            "error_x": {
             "color": "#2a3f5f"
            },
            "error_y": {
             "color": "#2a3f5f"
            },
            "marker": {
             "line": {
              "color": "#E5ECF6",
              "width": 0.5
             },
             "pattern": {
              "fillmode": "overlay",
              "size": 10,
              "solidity": 0.2
             }
            },
            "type": "bar"
           }
          ],
          "barpolar": [
           {
            "marker": {
             "line": {
              "color": "#E5ECF6",
              "width": 0.5
             },
             "pattern": {
              "fillmode": "overlay",
              "size": 10,
              "solidity": 0.2
             }
            },
            "type": "barpolar"
           }
          ],
          "carpet": [
           {
            "aaxis": {
             "endlinecolor": "#2a3f5f",
             "gridcolor": "white",
             "linecolor": "white",
             "minorgridcolor": "white",
             "startlinecolor": "#2a3f5f"
            },
            "baxis": {
             "endlinecolor": "#2a3f5f",
             "gridcolor": "white",
             "linecolor": "white",
             "minorgridcolor": "white",
             "startlinecolor": "#2a3f5f"
            },
            "type": "carpet"
           }
          ],
          "choropleth": [
           {
            "colorbar": {
             "outlinewidth": 0,
             "ticks": ""
            },
            "type": "choropleth"
           }
          ],
          "contour": [
           {
            "colorbar": {
             "outlinewidth": 0,
             "ticks": ""
            },
            "colorscale": [
             [
              0,
              "#0d0887"
             ],
             [
              0.1111111111111111,
              "#46039f"
             ],
             [
              0.2222222222222222,
              "#7201a8"
             ],
             [
              0.3333333333333333,
              "#9c179e"
             ],
             [
              0.4444444444444444,
              "#bd3786"
             ],
             [
              0.5555555555555556,
              "#d8576b"
             ],
             [
              0.6666666666666666,
              "#ed7953"
             ],
             [
              0.7777777777777778,
              "#fb9f3a"
             ],
             [
              0.8888888888888888,
              "#fdca26"
             ],
             [
              1,
              "#f0f921"
             ]
            ],
            "type": "contour"
           }
          ],
          "contourcarpet": [
           {
            "colorbar": {
             "outlinewidth": 0,
             "ticks": ""
            },
            "type": "contourcarpet"
           }
          ],
          "heatmap": [
           {
            "colorbar": {
             "outlinewidth": 0,
             "ticks": ""
            },
            "colorscale": [
             [
              0,
              "#0d0887"
             ],
             [
              0.1111111111111111,
              "#46039f"
             ],
             [
              0.2222222222222222,
              "#7201a8"
             ],
             [
              0.3333333333333333,
              "#9c179e"
             ],
             [
              0.4444444444444444,
              "#bd3786"
             ],
             [
              0.5555555555555556,
              "#d8576b"
             ],
             [
              0.6666666666666666,
              "#ed7953"
             ],
             [
              0.7777777777777778,
              "#fb9f3a"
             ],
             [
              0.8888888888888888,
              "#fdca26"
             ],
             [
              1,
              "#f0f921"
             ]
            ],
            "type": "heatmap"
           }
          ],
          "heatmapgl": [
           {
            "colorbar": {
             "outlinewidth": 0,
             "ticks": ""
            },
            "colorscale": [
             [
              0,
              "#0d0887"
             ],
             [
              0.1111111111111111,
              "#46039f"
             ],
             [
              0.2222222222222222,
              "#7201a8"
             ],
             [
              0.3333333333333333,
              "#9c179e"
             ],
             [
              0.4444444444444444,
              "#bd3786"
             ],
             [
              0.5555555555555556,
              "#d8576b"
             ],
             [
              0.6666666666666666,
              "#ed7953"
             ],
             [
              0.7777777777777778,
              "#fb9f3a"
             ],
             [
              0.8888888888888888,
              "#fdca26"
             ],
             [
              1,
              "#f0f921"
             ]
            ],
            "type": "heatmapgl"
           }
          ],
          "histogram": [
           {
            "marker": {
             "pattern": {
              "fillmode": "overlay",
              "size": 10,
              "solidity": 0.2
             }
            },
            "type": "histogram"
           }
          ],
          "histogram2d": [
           {
            "colorbar": {
             "outlinewidth": 0,
             "ticks": ""
            },
            "colorscale": [
             [
              0,
              "#0d0887"
             ],
             [
              0.1111111111111111,
              "#46039f"
             ],
             [
              0.2222222222222222,
              "#7201a8"
             ],
             [
              0.3333333333333333,
              "#9c179e"
             ],
             [
              0.4444444444444444,
              "#bd3786"
             ],
             [
              0.5555555555555556,
              "#d8576b"
             ],
             [
              0.6666666666666666,
              "#ed7953"
             ],
             [
              0.7777777777777778,
              "#fb9f3a"
             ],
             [
              0.8888888888888888,
              "#fdca26"
             ],
             [
              1,
              "#f0f921"
             ]
            ],
            "type": "histogram2d"
           }
          ],
          "histogram2dcontour": [
           {
            "colorbar": {
             "outlinewidth": 0,
             "ticks": ""
            },
            "colorscale": [
             [
              0,
              "#0d0887"
             ],
             [
              0.1111111111111111,
              "#46039f"
             ],
             [
              0.2222222222222222,
              "#7201a8"
             ],
             [
              0.3333333333333333,
              "#9c179e"
             ],
             [
              0.4444444444444444,
              "#bd3786"
             ],
             [
              0.5555555555555556,
              "#d8576b"
             ],
             [
              0.6666666666666666,
              "#ed7953"
             ],
             [
              0.7777777777777778,
              "#fb9f3a"
             ],
             [
              0.8888888888888888,
              "#fdca26"
             ],
             [
              1,
              "#f0f921"
             ]
            ],
            "type": "histogram2dcontour"
           }
          ],
          "mesh3d": [
           {
            "colorbar": {
             "outlinewidth": 0,
             "ticks": ""
            },
            "type": "mesh3d"
           }
          ],
          "parcoords": [
           {
            "line": {
             "colorbar": {
              "outlinewidth": 0,
              "ticks": ""
             }
            },
            "type": "parcoords"
           }
          ],
          "pie": [
           {
            "automargin": true,
            "type": "pie"
           }
          ],
          "scatter": [
           {
            "fillpattern": {
             "fillmode": "overlay",
             "size": 10,
             "solidity": 0.2
            },
            "type": "scatter"
           }
          ],
          "scatter3d": [
           {
            "line": {
             "colorbar": {
              "outlinewidth": 0,
              "ticks": ""
             }
            },
            "marker": {
             "colorbar": {
              "outlinewidth": 0,
              "ticks": ""
             }
            },
            "type": "scatter3d"
           }
          ],
          "scattercarpet": [
           {
            "marker": {
             "colorbar": {
              "outlinewidth": 0,
              "ticks": ""
             }
            },
            "type": "scattercarpet"
           }
          ],
          "scattergeo": [
           {
            "marker": {
             "colorbar": {
              "outlinewidth": 0,
              "ticks": ""
             }
            },
            "type": "scattergeo"
           }
          ],
          "scattergl": [
           {
            "marker": {
             "colorbar": {
              "outlinewidth": 0,
              "ticks": ""
             }
            },
            "type": "scattergl"
           }
          ],
          "scattermapbox": [
           {
            "marker": {
             "colorbar": {
              "outlinewidth": 0,
              "ticks": ""
             }
            },
            "type": "scattermapbox"
           }
          ],
          "scatterpolar": [
           {
            "marker": {
             "colorbar": {
              "outlinewidth": 0,
              "ticks": ""
             }
            },
            "type": "scatterpolar"
           }
          ],
          "scatterpolargl": [
           {
            "marker": {
             "colorbar": {
              "outlinewidth": 0,
              "ticks": ""
             }
            },
            "type": "scatterpolargl"
           }
          ],
          "scatterternary": [
           {
            "marker": {
             "colorbar": {
              "outlinewidth": 0,
              "ticks": ""
             }
            },
            "type": "scatterternary"
           }
          ],
          "surface": [
           {
            "colorbar": {
             "outlinewidth": 0,
             "ticks": ""
            },
            "colorscale": [
             [
              0,
              "#0d0887"
             ],
             [
              0.1111111111111111,
              "#46039f"
             ],
             [
              0.2222222222222222,
              "#7201a8"
             ],
             [
              0.3333333333333333,
              "#9c179e"
             ],
             [
              0.4444444444444444,
              "#bd3786"
             ],
             [
              0.5555555555555556,
              "#d8576b"
             ],
             [
              0.6666666666666666,
              "#ed7953"
             ],
             [
              0.7777777777777778,
              "#fb9f3a"
             ],
             [
              0.8888888888888888,
              "#fdca26"
             ],
             [
              1,
              "#f0f921"
             ]
            ],
            "type": "surface"
           }
          ],
          "table": [
           {
            "cells": {
             "fill": {
              "color": "#EBF0F8"
             },
             "line": {
              "color": "white"
             }
            },
            "header": {
             "fill": {
              "color": "#C8D4E3"
             },
             "line": {
              "color": "white"
             }
            },
            "type": "table"
           }
          ]
         },
         "layout": {
          "annotationdefaults": {
           "arrowcolor": "#2a3f5f",
           "arrowhead": 0,
           "arrowwidth": 1
          },
          "autotypenumbers": "strict",
          "coloraxis": {
           "colorbar": {
            "outlinewidth": 0,
            "ticks": ""
           }
          },
          "colorscale": {
           "diverging": [
            [
             0,
             "#8e0152"
            ],
            [
             0.1,
             "#c51b7d"
            ],
            [
             0.2,
             "#de77ae"
            ],
            [
             0.3,
             "#f1b6da"
            ],
            [
             0.4,
             "#fde0ef"
            ],
            [
             0.5,
             "#f7f7f7"
            ],
            [
             0.6,
             "#e6f5d0"
            ],
            [
             0.7,
             "#b8e186"
            ],
            [
             0.8,
             "#7fbc41"
            ],
            [
             0.9,
             "#4d9221"
            ],
            [
             1,
             "#276419"
            ]
           ],
           "sequential": [
            [
             0,
             "#0d0887"
            ],
            [
             0.1111111111111111,
             "#46039f"
            ],
            [
             0.2222222222222222,
             "#7201a8"
            ],
            [
             0.3333333333333333,
             "#9c179e"
            ],
            [
             0.4444444444444444,
             "#bd3786"
            ],
            [
             0.5555555555555556,
             "#d8576b"
            ],
            [
             0.6666666666666666,
             "#ed7953"
            ],
            [
             0.7777777777777778,
             "#fb9f3a"
            ],
            [
             0.8888888888888888,
             "#fdca26"
            ],
            [
             1,
             "#f0f921"
            ]
           ],
           "sequentialminus": [
            [
             0,
             "#0d0887"
            ],
            [
             0.1111111111111111,
             "#46039f"
            ],
            [
             0.2222222222222222,
             "#7201a8"
            ],
            [
             0.3333333333333333,
             "#9c179e"
            ],
            [
             0.4444444444444444,
             "#bd3786"
            ],
            [
             0.5555555555555556,
             "#d8576b"
            ],
            [
             0.6666666666666666,
             "#ed7953"
            ],
            [
             0.7777777777777778,
             "#fb9f3a"
            ],
            [
             0.8888888888888888,
             "#fdca26"
            ],
            [
             1,
             "#f0f921"
            ]
           ]
          },
          "colorway": [
           "#636efa",
           "#EF553B",
           "#00cc96",
           "#ab63fa",
           "#FFA15A",
           "#19d3f3",
           "#FF6692",
           "#B6E880",
           "#FF97FF",
           "#FECB52"
          ],
          "font": {
           "color": "#2a3f5f"
          },
          "geo": {
           "bgcolor": "white",
           "lakecolor": "white",
           "landcolor": "#E5ECF6",
           "showlakes": true,
           "showland": true,
           "subunitcolor": "white"
          },
          "hoverlabel": {
           "align": "left"
          },
          "hovermode": "closest",
          "mapbox": {
           "style": "light"
          },
          "paper_bgcolor": "white",
          "plot_bgcolor": "#E5ECF6",
          "polar": {
           "angularaxis": {
            "gridcolor": "white",
            "linecolor": "white",
            "ticks": ""
           },
           "bgcolor": "#E5ECF6",
           "radialaxis": {
            "gridcolor": "white",
            "linecolor": "white",
            "ticks": ""
           }
          },
          "scene": {
           "xaxis": {
            "backgroundcolor": "#E5ECF6",
            "gridcolor": "white",
            "gridwidth": 2,
            "linecolor": "white",
            "showbackground": true,
            "ticks": "",
            "zerolinecolor": "white"
           },
           "yaxis": {
            "backgroundcolor": "#E5ECF6",
            "gridcolor": "white",
            "gridwidth": 2,
            "linecolor": "white",
            "showbackground": true,
            "ticks": "",
            "zerolinecolor": "white"
           },
           "zaxis": {
            "backgroundcolor": "#E5ECF6",
            "gridcolor": "white",
            "gridwidth": 2,
            "linecolor": "white",
            "showbackground": true,
            "ticks": "",
            "zerolinecolor": "white"
           }
          },
          "shapedefaults": {
           "line": {
            "color": "#2a3f5f"
           }
          },
          "ternary": {
           "aaxis": {
            "gridcolor": "white",
            "linecolor": "white",
            "ticks": ""
           },
           "baxis": {
            "gridcolor": "white",
            "linecolor": "white",
            "ticks": ""
           },
           "bgcolor": "#E5ECF6",
           "caxis": {
            "gridcolor": "white",
            "linecolor": "white",
            "ticks": ""
           }
          },
          "title": {
           "x": 0.05
          },
          "xaxis": {
           "automargin": true,
           "gridcolor": "white",
           "linecolor": "white",
           "ticks": "",
           "title": {
            "standoff": 15
           },
           "zerolinecolor": "white",
           "zerolinewidth": 2
          },
          "yaxis": {
           "automargin": true,
           "gridcolor": "white",
           "linecolor": "white",
           "ticks": "",
           "title": {
            "standoff": 15
           },
           "zerolinecolor": "white",
           "zerolinewidth": 2
          }
         }
        },
        "width": 700,
        "xaxis": {
         "anchor": "y",
         "categoryarray": [
          "high",
          "low",
          null
         ],
         "categoryorder": "array",
         "domain": [
          0,
          0.98
         ],
         "linecolor": "black",
         "linewidth": 1,
         "showline": true,
         "tickfont": {
          "size": 16
         },
         "title": {
          "text": ""
         }
        },
        "xaxis2": {
         "anchor": "y2",
         "domain": [
          0,
          0.98
         ],
         "linecolor": "black",
         "linewidth": 1,
         "matches": "x",
         "showline": true,
         "showticklabels": false,
         "tickfont": {
          "size": 16
         },
         "title": {
          "text": ""
         }
        },
        "xaxis3": {
         "anchor": "y3",
         "domain": [
          0,
          0.98
         ],
         "linecolor": "black",
         "linewidth": 1,
         "matches": "x",
         "showline": true,
         "showticklabels": false,
         "tickfont": {
          "size": 16
         },
         "title": {
          "text": ""
         }
        },
        "yaxis": {
         "anchor": "x",
         "domain": [
          0,
          0.3133333333333333
         ],
         "linecolor": "black",
         "linewidth": 1,
         "range": [
          0,
          1000
         ],
         "showline": true,
         "title": {
          "font": {
           "size": 16
          },
          "text": ""
         }
        },
        "yaxis2": {
         "anchor": "x2",
         "domain": [
          0.34333333333333327,
          0.6566666666666665
         ],
         "linecolor": "black",
         "linewidth": 1,
         "range": [
          0,
          150
         ],
         "showline": true,
         "title": {
          "font": {
           "size": 16
          },
          "text": ""
         }
        },
        "yaxis3": {
         "anchor": "x3",
         "domain": [
          0.6866666666666665,
          0.9999999999999998
         ],
         "linecolor": "black",
         "linewidth": 1,
         "range": [
          0,
          2500
         ],
         "showline": true,
         "title": {
          "font": {
           "size": 16
          },
          "text": ""
         }
        }
       }
      }
     },
     "metadata": {},
     "output_type": "display_data"
    }
   ],
   "source": [
    "\n",
    "fontsize = 16\n",
    "width = 700\n",
    "height = 700\n",
    "\n",
    "fig = px.box(\n",
    "    df_all,\n",
    "    x=\"PD-L1_status\",\n",
    "    y=\"count\",\n",
    "    color='PD-L1_status',\n",
    "    width=width,\n",
    "    height=height,\n",
    "    facet_row='platform',\n",
    "    category_orders={\"PD-L1_status\": ['high', 'low']},\n",
    "    points='all'\n",
    ")\n",
    "\n",
    "# Customize box plot quartile method\n",
    "fig.update_traces(quartilemethod=\"exclusive\")\n",
    "\n",
    "# Customize axes for all facets\n",
    "fig.update_xaxes(\n",
    "    title_text=\"\",\n",
    "    tickfont=dict(size=fontsize),\n",
    "    showline=True,\n",
    "    linewidth=1,\n",
    "    linecolor='black'\n",
    ")\n",
    "fig.update_yaxes(\n",
    "    matches=None,\n",
    "    title_text=\"\",\n",
    "    title_font=dict(size=fontsize),\n",
    "    showline=True,\n",
    "    linewidth=1,\n",
    "    linecolor='black',\n",
    "    range=[0, 5000]\n",
    ")\n",
    "\n",
    "fig.update_yaxes(row=1, range=[0, 1000])\n",
    "fig.update_yaxes(row=2, range=[0, 150])\n",
    "fig.update_yaxes(row=3, range=[0, 2500])\n",
    "\n",
    "# Customize legend and layout\n",
    "fig.update_layout(\n",
    "    legend_title_text=\"PD-L1 Status\",\n",
    "    legend=dict(\n",
    "        orientation=\"h\",\n",
    "        yanchor=\"bottom\",\n",
    "        y=1,\n",
    "        xanchor=\"center\",\n",
    "        x=0.5\n",
    "    ),\n",
    "    font=dict(size=fontsize, color='black'),\n",
    "    plot_bgcolor=\"rgba(0, 0, 0, 0)\",\n",
    "    showlegend=True,\n",
    ")\n",
    "\n",
    "for annotation in fig.layout.annotations:\n",
    "    annotation.font.size = fontsize\n",
    "    annotation.font.color = 'black'\n",
    "    annotation.x = 0.95\n",
    "    annotation.textangle = 90\n",
    "    for platform in df_all['platform'].unique():\n",
    "        if annotation.text == f'platform={platform}':\n",
    "            annotation.text = platform\n",
    "\n",
    "# Add bracket and p-value text for each row in the facet\n",
    "for i, platform in enumerate(df_all['platform'].unique(), start=1):\n",
    "    # Calculate dynamic y position based on row-specific range\n",
    "    y_max = fig.layout[f'yaxis{i}'].range[1]  # Get max range for current row\n",
    "    y_pos = y_max * 0.7  # Position the bracket slightly below the max\n",
    "    \n",
    "    fig.add_shape(\n",
    "        type=\"line\",\n",
    "        x0=0.15, x1=0.85, y0=y_pos, y1=y_pos,  # Adjusted x0 and x1 to widen bracket\n",
    "        line=dict(color=\"black\", width=1.5),\n",
    "        xref=\"x\", yref=f'y{i}'  # Target specific row in the facet\n",
    "    )\n",
    "    fig.add_shape(\n",
    "        type=\"line\",\n",
    "        x0=0.15, x1=0.15, y0=y_pos, y1=y_pos - (y_max * 0.05),\n",
    "        line=dict(color=\"black\", width=1.5),\n",
    "        xref=\"x\", yref=f'y{i}'\n",
    "    )\n",
    "    fig.add_shape(\n",
    "        type=\"line\",\n",
    "        x0=0.85, x1=0.85, y0=y_pos, y1=y_pos - (y_max * 0.05),\n",
    "        line=dict(color=\"black\", width=1.5),\n",
    "        xref=\"x\", yref=f'y{i}'\n",
    "    )\n",
    "\n",
    "    # Add the annotation text above the bracket\n",
    "    fig.add_annotation(\n",
    "        x=0.5, y=y_pos + (y_max * 0.07), text=\"p>0.1, Not sig.\",\n",
    "        showarrow=False,\n",
    "        font=dict(size=fontsize, color=\"black\"),\n",
    "        xref=\"x\", yref=f'y{i}'\n",
    "    )\n",
    "\n",
    "# Show and save the figure\n",
    "fig.show()\n",
    "pio.write_image(fig, f'{wd}/figures/protein_validation/bar_plot.png', scale=4, width=width, height=height)\n",
    "# pio.write_image(fig, f'{wd}/figures/protein_validation/bar_plot.eps', scale=4, width=width, height=height)\n"
   ]
  },
  {
   "cell_type": "markdown",
   "metadata": {},
   "source": [
    "# Protein expression vs. iST expression"
   ]
  },
  {
   "cell_type": "code",
   "execution_count": 6,
   "metadata": {},
   "outputs": [
    {
     "name": "stdout",
     "output_type": "stream",
     "text": [
      "2024_xenium_breast_htma\n",
      "2024_merscope_breast_htma\n",
      "2024_cosmx_multitissue_htma\n"
     ]
    },
    {
     "data": {
      "text/html": [
       "<div>\n",
       "<style scoped>\n",
       "    .dataframe tbody tr th:only-of-type {\n",
       "        vertical-align: middle;\n",
       "    }\n",
       "\n",
       "    .dataframe tbody tr th {\n",
       "        vertical-align: top;\n",
       "    }\n",
       "\n",
       "    .dataframe thead th {\n",
       "        text-align: right;\n",
       "    }\n",
       "</style>\n",
       "<table border=\"1\" class=\"dataframe\">\n",
       "  <thead>\n",
       "    <tr style=\"text-align: right;\">\n",
       "      <th></th>\n",
       "      <th>core</th>\n",
       "      <th>gene</th>\n",
       "      <th>tissue_type</th>\n",
       "      <th>count</th>\n",
       "      <th>code_type</th>\n",
       "      <th>patient_number</th>\n",
       "      <th>PD-L1_status</th>\n",
       "      <th>unique_patient_number</th>\n",
       "      <th>sample</th>\n",
       "      <th>platform</th>\n",
       "      <th>protein_platform</th>\n",
       "      <th>protein_expression</th>\n",
       "    </tr>\n",
       "  </thead>\n",
       "  <tbody>\n",
       "    <tr>\n",
       "      <th>0</th>\n",
       "      <td>125</td>\n",
       "      <td>CD274</td>\n",
       "      <td>NSCLC</td>\n",
       "      <td>57</td>\n",
       "      <td>gene</td>\n",
       "      <td>4.0</td>\n",
       "      <td>low</td>\n",
       "      <td>NSCLC_4.0_low</td>\n",
       "      <td>2024_xenium_breast_htma</td>\n",
       "      <td>Xenium</td>\n",
       "      <td>CODEX</td>\n",
       "      <td>14.953850</td>\n",
       "    </tr>\n",
       "    <tr>\n",
       "      <th>1</th>\n",
       "      <td>126</td>\n",
       "      <td>CD274</td>\n",
       "      <td>NSCLC</td>\n",
       "      <td>121</td>\n",
       "      <td>gene</td>\n",
       "      <td>4.0</td>\n",
       "      <td>low</td>\n",
       "      <td>NSCLC_4.0_low</td>\n",
       "      <td>2024_xenium_breast_htma</td>\n",
       "      <td>Xenium</td>\n",
       "      <td>CODEX</td>\n",
       "      <td>13.420459</td>\n",
       "    </tr>\n",
       "    <tr>\n",
       "      <th>2</th>\n",
       "      <td>127</td>\n",
       "      <td>CD274</td>\n",
       "      <td>NSCLC</td>\n",
       "      <td>50</td>\n",
       "      <td>gene</td>\n",
       "      <td>4.0</td>\n",
       "      <td>high</td>\n",
       "      <td>NSCLC_4.0_high</td>\n",
       "      <td>2024_xenium_breast_htma</td>\n",
       "      <td>Xenium</td>\n",
       "      <td>CODEX</td>\n",
       "      <td>29.915389</td>\n",
       "    </tr>\n",
       "    <tr>\n",
       "      <th>3</th>\n",
       "      <td>128</td>\n",
       "      <td>CD274</td>\n",
       "      <td>NSCLC</td>\n",
       "      <td>40</td>\n",
       "      <td>gene</td>\n",
       "      <td>4.0</td>\n",
       "      <td>high</td>\n",
       "      <td>NSCLC_4.0_high</td>\n",
       "      <td>2024_xenium_breast_htma</td>\n",
       "      <td>Xenium</td>\n",
       "      <td>CODEX</td>\n",
       "      <td>21.450493</td>\n",
       "    </tr>\n",
       "    <tr>\n",
       "      <th>4</th>\n",
       "      <td>129</td>\n",
       "      <td>CD274</td>\n",
       "      <td>NSCLC</td>\n",
       "      <td>377</td>\n",
       "      <td>gene</td>\n",
       "      <td>5.0</td>\n",
       "      <td>high</td>\n",
       "      <td>NSCLC_5.0_high</td>\n",
       "      <td>2024_xenium_breast_htma</td>\n",
       "      <td>Xenium</td>\n",
       "      <td>CODEX</td>\n",
       "      <td>31.309282</td>\n",
       "    </tr>\n",
       "  </tbody>\n",
       "</table>\n",
       "</div>"
      ],
      "text/plain": [
       "   core   gene tissue_type  count code_type  patient_number PD-L1_status   \n",
       "0   125  CD274       NSCLC     57      gene             4.0          low  \\\n",
       "1   126  CD274       NSCLC    121      gene             4.0          low   \n",
       "2   127  CD274       NSCLC     50      gene             4.0         high   \n",
       "3   128  CD274       NSCLC     40      gene             4.0         high   \n",
       "4   129  CD274       NSCLC    377      gene             5.0         high   \n",
       "\n",
       "  unique_patient_number                   sample platform protein_platform   \n",
       "0         NSCLC_4.0_low  2024_xenium_breast_htma   Xenium            CODEX  \\\n",
       "1         NSCLC_4.0_low  2024_xenium_breast_htma   Xenium            CODEX   \n",
       "2        NSCLC_4.0_high  2024_xenium_breast_htma   Xenium            CODEX   \n",
       "3        NSCLC_4.0_high  2024_xenium_breast_htma   Xenium            CODEX   \n",
       "4        NSCLC_5.0_high  2024_xenium_breast_htma   Xenium            CODEX   \n",
       "\n",
       "   protein_expression  \n",
       "0           14.953850  \n",
       "1           13.420459  \n",
       "2           29.915389  \n",
       "3           21.450493  \n",
       "4           31.309282  "
      ]
     },
     "metadata": {},
     "output_type": "display_data"
    }
   ],
   "source": [
    "df_core = pd.read_csv(f'{wd}/data/Sample_Info_HTMA_TMA - Sheet1.csv')[['core', 'tissue_type', 'patient_number', 'PD-L1_status']]\n",
    "df_core['unique_patient_number'] = df_core.apply(lambda row: f\"{row['tissue_type']}_{row['patient_number']}_{row['PD-L1_status']}\", axis=1)\n",
    "\n",
    "def get_protein_expression(core, tech):\n",
    "\n",
    "    file_dict = {\n",
    "        'codex':f'/Users/whuan/dev/OPP/codex_pipeline/2022_tma_1/quantification/single_cell_quantification_whole-cell_{core}_1230.csv',\n",
    "        'cycif':f'/Users/whuan/dev/OPP/codex_pipeline/cycif_tma_010/quantification/single_cell_quantification_whole-cell_{core}_600.csv',\n",
    "        'hmif':f'/Users/whuan/dev/OPP/codex_pipeline/tma_mac/quantification/single_cell_quantification_whole-cell_{core}_760.csv',\n",
    "    }\n",
    "\n",
    "    df = pd.read_csv(file_dict[tech], engine='pyarrow')\n",
    "    protein_expression = df['PD-L1'].mean()\n",
    "    return protein_expression\n",
    "\n",
    "\n",
    "gene = 'CD274'\n",
    "\n",
    "df_p_all = pd.DataFrame()\n",
    "for sample in [\n",
    "    '2024_xenium_breast_htma',\n",
    "    '2024_merscope_breast_htma',\n",
    "    '2024_cosmx_multitissue_htma',\n",
    "    ]:\n",
    "    print (sample)\n",
    "    df = pd.read_csv(f'{wd}/data/gene_level_csv/gene_level_csv_{sample}.csv', engine='pyarrow')\n",
    "    df_selected = df.loc[df[\"gene\"]==gene]\n",
    "    df_join = pd.merge(df_selected, df_core, on=['core','tissue_type'], how='left')\n",
    "    df_join['sample'] = sample\n",
    "    df_join['core'] = df_join['core'].astype('int')\n",
    "    df_join = df_join.loc[df_join['core'].isin(matching_cores_2024)]\n",
    "    df_join = df_join.loc[~df_join['core'].isin([x for x in range(100,111)]+[42,83,97,113,114,115,116,117,118,120])]\n",
    "    df_join['platform'] = df_join['sample'].apply(lambda x: x.split('_')[-3].upper())\n",
    "    df_join['platform'] = df_join['platform'].replace({'XENIUM':'Xenium','MERSCOPE':'MERSCOPE','COSMX':'CosMx'})\n",
    "    for tech in ['codex','cycif','hmif']:\n",
    "        df_join[f'{tech}_expression'] = df_join.apply(lambda row: get_protein_expression(row['core'], tech), axis=1)\n",
    "    df_join = df_join.loc[df_join['PD-L1_status'].isin(['high','low'])]\n",
    "    df_p_all = pd.concat([df_p_all, df_join])\n",
    "\n",
    "\n",
    "# Melt the DataFrame\n",
    "df_melted = df_p_all.melt(\n",
    "    id_vars=['core', 'gene', 'tissue_type', 'count', 'code_type', 'patient_number', 'PD-L1_status', 'unique_patient_number', 'sample', 'platform'],\n",
    "    value_vars=['codex_expression', 'cycif_expression', 'hmif_expression'],\n",
    "    var_name='protein_platform', \n",
    "    value_name='protein_expression'\n",
    ")\n",
    "\n",
    "# Map platform column to remove '_expression' suffix\n",
    "df_melted['protein_platform'] = df_melted['protein_platform'].str.replace('_expression', '').str.upper()\n",
    "\n",
    "# Display the resulting DataFrame\n",
    "display(df_melted.head())"
   ]
  },
  {
   "cell_type": "code",
   "execution_count": 7,
   "metadata": {},
   "outputs": [
    {
     "data": {
      "application/vnd.plotly.v1+json": {
       "config": {
        "plotlyServerURL": "https://plot.ly"
       },
       "data": [
        {
         "hovertemplate": "protein_platform=CODEX<br>platform=Xenium<br>protein_expression=%{x}<br>count=%{y}<extra></extra>",
         "legendgroup": "CODEX",
         "marker": {
          "color": "#636efa",
          "symbol": "circle"
         },
         "mode": "markers",
         "name": "CODEX",
         "orientation": "v",
         "showlegend": true,
         "type": "scatter",
         "x": [
          14.953849614509044,
          13.42045948809795,
          29.915388712530657,
          21.450492948038608,
          31.309282017309293,
          21.665796397280456,
          13.97193762613177,
          12.875034248780374,
          13.797201071615754,
          25.017911061940303,
          29.987760474073976,
          20.9802874467068,
          19.600776009322626,
          21.51020442967646,
          45.09242555825152,
          31.753869060305362,
          29.085570051658436,
          44.269309274418866,
          93.21488232971375,
          107.47728185713707,
          63.598494765563764,
          36.147690783543716,
          70.37423007962876,
          1564.7860472889904,
          72.87863618614904,
          88.7713690818252,
          57.44247869374625,
          67.43390662774688,
          64.94145853934079,
          435.7892750275702,
          75.90503273627661,
          46.76390355248538,
          38.94316664978647,
          36.60033822372911,
          50.042438656445114,
          82.08348830711643,
          52.7190140443073,
          52.560148158896524,
          17.577076046933854,
          7.809475036372327,
          48.63905338334682,
          37.08491979187859,
          26.10272736461698,
          21.2499850257821,
          77.35832468373934,
          208.0943340564962,
          92.84053773642945,
          121.98028399118343
         ],
         "xaxis": "x7",
         "y": [
          57,
          121,
          50,
          40,
          377,
          73,
          80,
          105,
          106,
          129,
          68,
          1027,
          954,
          823,
          763,
          894,
          606,
          95,
          369,
          164,
          32,
          238,
          59,
          39,
          102,
          413,
          147,
          31,
          28,
          2074,
          363,
          44,
          83,
          98,
          117,
          41,
          109,
          18,
          275,
          193,
          35,
          81,
          42,
          55,
          745,
          962,
          493,
          552
         ],
         "yaxis": "y7"
        },
        {
         "hovertemplate": "protein_platform=CODEX<br>platform=MERSCOPE<br>protein_expression=%{x}<br>count=%{y}<extra></extra>",
         "legendgroup": "CODEX",
         "marker": {
          "color": "#636efa",
          "symbol": "circle"
         },
         "mode": "markers",
         "name": "CODEX",
         "orientation": "v",
         "showlegend": false,
         "type": "scatter",
         "x": [
          14.953849614509044,
          13.42045948809795,
          21.450492948038608,
          31.309282017309293,
          13.97193762613177,
          12.875034248780374,
          13.797201071615754,
          25.017911061940303,
          20.9802874467068,
          19.600776009322626,
          21.51020442967646,
          45.09242555825152,
          31.753869060305362,
          29.085570051658436,
          44.269309274418866,
          93.21488232971375,
          107.47728185713707,
          63.598494765563764,
          36.147690783543716,
          1564.7860472889904,
          72.87863618614904,
          88.7713690818252,
          57.44247869374625,
          64.94145853934079,
          435.7892750275702,
          75.90503273627661,
          46.76390355248538,
          38.94316664978647,
          36.60033822372911,
          50.042438656445114,
          82.08348830711643,
          52.7190140443073,
          52.560148158896524,
          17.577076046933854,
          7.809475036372327,
          37.08491979187859,
          26.10272736461698,
          21.2499850257821,
          77.35832468373934,
          208.0943340564962,
          92.84053773642945,
          121.98028399118343
         ],
         "xaxis": "x4",
         "y": [
          12,
          18,
          1,
          10,
          3,
          8,
          53,
          9,
          3,
          11,
          28,
          20,
          35,
          18,
          5,
          60,
          3,
          1,
          15,
          1,
          10,
          12,
          2,
          1,
          152,
          4,
          2,
          18,
          9,
          1,
          3,
          1,
          1,
          35,
          33,
          5,
          27,
          21,
          7,
          35,
          95,
          73
         ],
         "yaxis": "y4"
        },
        {
         "hovertemplate": "protein_platform=CODEX<br>platform=CosMx<br>protein_expression=%{x}<br>count=%{y}<extra></extra>",
         "legendgroup": "CODEX",
         "marker": {
          "color": "#636efa",
          "symbol": "circle"
         },
         "mode": "markers",
         "name": "CODEX",
         "orientation": "v",
         "showlegend": false,
         "type": "scatter",
         "x": [
          14.953849614509044,
          13.42045948809795,
          29.915388712530657,
          21.450492948038608,
          31.309282017309293,
          21.665796397280456,
          13.97193762613177,
          12.875034248780374,
          13.797201071615754,
          25.017911061940303,
          29.987760474073976,
          20.9802874467068,
          19.600776009322626,
          21.51020442967646,
          45.09242555825152,
          31.753869060305362,
          29.085570051658436,
          44.269309274418866,
          93.21488232971375,
          107.47728185713707,
          63.598494765563764,
          36.147690783543716,
          70.37423007962876,
          1564.7860472889904,
          72.87863618614904,
          88.7713690818252,
          57.44247869374625,
          67.43390662774688,
          64.94145853934079,
          435.7892750275702,
          75.90503273627661,
          46.76390355248538,
          38.94316664978647,
          36.60033822372911,
          50.042438656445114,
          82.08348830711643,
          52.7190140443073,
          52.560148158896524,
          17.577076046933854,
          7.809475036372327,
          48.63905338334682,
          37.08491979187859,
          26.10272736461698,
          21.2499850257821,
          77.35832468373934,
          208.0943340564962,
          92.84053773642945,
          121.98028399118343
         ],
         "xaxis": "x",
         "y": [
          83,
          121,
          58,
          52,
          290,
          59,
          68,
          109,
          160,
          167,
          59,
          627,
          383,
          429,
          424,
          342,
          759,
          136,
          260,
          115,
          73,
          115,
          101,
          68,
          129,
          197,
          102,
          44,
          50,
          932,
          146,
          66,
          134,
          91,
          114,
          39,
          73,
          91,
          1,
          18,
          103,
          70,
          91,
          106,
          313,
          485,
          325,
          461
         ],
         "yaxis": "y"
        },
        {
         "hovertemplate": "protein_platform=CYCIF<br>platform=Xenium<br>protein_expression=%{x}<br>count=%{y}<extra></extra>",
         "legendgroup": "CYCIF",
         "marker": {
          "color": "#EF553B",
          "symbol": "circle"
         },
         "mode": "markers",
         "name": "CYCIF",
         "orientation": "v",
         "showlegend": true,
         "type": "scatter",
         "x": [
          2390.791952391713,
          2369.353765907859,
          3215.0510222385624,
          3834.5263648722566,
          3761.672302785422,
          4637.367973753044,
          3456.979975840665,
          3242.9395653539095,
          2175.70358512422,
          2505.0386891306243,
          3365.4060065905637,
          2898.479385753944,
          2369.8532810307274,
          2335.2163351881723,
          3616.6324703700934,
          2736.8635742172637,
          2681.181210297344,
          1891.8570467925356,
          3713.424197334667,
          3418.2944339715814,
          1776.140539356633,
          1857.8921925631023,
          2830.281510911234,
          1582.5219274169692,
          2407.6470398090228,
          2331.7687802655983,
          1927.0642200587918,
          1404.337679571785,
          1633.307553532168,
          21363.959460453556,
          2320.287814299058,
          2023.065678014587,
          1695.13286398932,
          1784.3007232293164,
          1828.0721032574083,
          1881.4183562668532,
          1766.5849067146657,
          1994.2949575068303,
          1517.9606926481915,
          1883.1519974299765,
          1757.7588580273125,
          1827.1296078317025,
          1570.6187038817466,
          1422.7486124408906,
          2760.8502361526303,
          9221.881911671224,
          3326.390740134421,
          4409.575016999097
         ],
         "xaxis": "x8",
         "y": [
          57,
          121,
          50,
          40,
          377,
          73,
          80,
          105,
          106,
          129,
          68,
          1027,
          954,
          823,
          763,
          894,
          606,
          95,
          369,
          164,
          32,
          238,
          59,
          39,
          102,
          413,
          147,
          31,
          28,
          2074,
          363,
          44,
          83,
          98,
          117,
          41,
          109,
          18,
          275,
          193,
          35,
          81,
          42,
          55,
          745,
          962,
          493,
          552
         ],
         "yaxis": "y8"
        },
        {
         "hovertemplate": "protein_platform=CYCIF<br>platform=MERSCOPE<br>protein_expression=%{x}<br>count=%{y}<extra></extra>",
         "legendgroup": "CYCIF",
         "marker": {
          "color": "#EF553B",
          "symbol": "circle"
         },
         "mode": "markers",
         "name": "CYCIF",
         "orientation": "v",
         "showlegend": false,
         "type": "scatter",
         "x": [
          2390.791952391713,
          2369.353765907859,
          3834.5263648722566,
          3761.672302785422,
          3456.979975840665,
          3242.9395653539095,
          2175.70358512422,
          2505.0386891306243,
          2898.479385753944,
          2369.8532810307274,
          2335.2163351881723,
          3616.6324703700934,
          2736.8635742172637,
          2681.181210297344,
          1891.8570467925356,
          3713.424197334667,
          3418.2944339715814,
          1776.140539356633,
          1857.8921925631023,
          1582.5219274169692,
          2407.6470398090228,
          2331.7687802655983,
          1927.0642200587918,
          1633.307553532168,
          21363.959460453556,
          2320.287814299058,
          2023.065678014587,
          1695.13286398932,
          1784.3007232293164,
          1828.0721032574083,
          1881.4183562668532,
          1766.5849067146657,
          1994.2949575068303,
          1517.9606926481915,
          1883.1519974299765,
          1827.1296078317025,
          1570.6187038817466,
          1422.7486124408906,
          2760.8502361526303,
          9221.881911671224,
          3326.390740134421,
          4409.575016999097
         ],
         "xaxis": "x5",
         "y": [
          12,
          18,
          1,
          10,
          3,
          8,
          53,
          9,
          3,
          11,
          28,
          20,
          35,
          18,
          5,
          60,
          3,
          1,
          15,
          1,
          10,
          12,
          2,
          1,
          152,
          4,
          2,
          18,
          9,
          1,
          3,
          1,
          1,
          35,
          33,
          5,
          27,
          21,
          7,
          35,
          95,
          73
         ],
         "yaxis": "y5"
        },
        {
         "hovertemplate": "protein_platform=CYCIF<br>platform=CosMx<br>protein_expression=%{x}<br>count=%{y}<extra></extra>",
         "legendgroup": "CYCIF",
         "marker": {
          "color": "#EF553B",
          "symbol": "circle"
         },
         "mode": "markers",
         "name": "CYCIF",
         "orientation": "v",
         "showlegend": false,
         "type": "scatter",
         "x": [
          2390.791952391713,
          2369.353765907859,
          3215.0510222385624,
          3834.5263648722566,
          3761.672302785422,
          4637.367973753044,
          3456.979975840665,
          3242.9395653539095,
          2175.70358512422,
          2505.0386891306243,
          3365.4060065905637,
          2898.479385753944,
          2369.8532810307274,
          2335.2163351881723,
          3616.6324703700934,
          2736.8635742172637,
          2681.181210297344,
          1891.8570467925356,
          3713.424197334667,
          3418.2944339715814,
          1776.140539356633,
          1857.8921925631023,
          2830.281510911234,
          1582.5219274169692,
          2407.6470398090228,
          2331.7687802655983,
          1927.0642200587918,
          1404.337679571785,
          1633.307553532168,
          21363.959460453556,
          2320.287814299058,
          2023.065678014587,
          1695.13286398932,
          1784.3007232293164,
          1828.0721032574083,
          1881.4183562668532,
          1766.5849067146657,
          1994.2949575068303,
          1517.9606926481915,
          1883.1519974299765,
          1757.7588580273125,
          1827.1296078317025,
          1570.6187038817466,
          1422.7486124408906,
          2760.8502361526303,
          9221.881911671224,
          3326.390740134421,
          4409.575016999097
         ],
         "xaxis": "x2",
         "y": [
          83,
          121,
          58,
          52,
          290,
          59,
          68,
          109,
          160,
          167,
          59,
          627,
          383,
          429,
          424,
          342,
          759,
          136,
          260,
          115,
          73,
          115,
          101,
          68,
          129,
          197,
          102,
          44,
          50,
          932,
          146,
          66,
          134,
          91,
          114,
          39,
          73,
          91,
          1,
          18,
          103,
          70,
          91,
          106,
          313,
          485,
          325,
          461
         ],
         "yaxis": "y2"
        },
        {
         "hovertemplate": "protein_platform=HMIF<br>platform=Xenium<br>protein_expression=%{x}<br>count=%{y}<extra></extra>",
         "legendgroup": "HMIF",
         "marker": {
          "color": "#00cc96",
          "symbol": "circle"
         },
         "mode": "markers",
         "name": "HMIF",
         "orientation": "v",
         "showlegend": true,
         "type": "scatter",
         "x": [
          35.65427368950313,
          33.182696687447475,
          46.08010060895648,
          43.274389218246675,
          27.025682034061592,
          49.14818342194629,
          45.74538240383557,
          33.97750690801084,
          38.95076252980702,
          46.77800823172336,
          39.05965194910724,
          22.489591534456775,
          24.32906048276412,
          32.53203797112891,
          28.992533480207165,
          23.475594945076814,
          27.936535586755294,
          39.49410492754121,
          31.178283805236877,
          26.978257902527353,
          24.784052457025247,
          19.819399483475667,
          22.744947021134372,
          23.385456996263862,
          24.635422229986393,
          22.580146631624693,
          23.180995643884003,
          26.9755229997456,
          27.081688683460914,
          89.96176620326729,
          33.71228971278936,
          29.0044626202128,
          26.747704415140763,
          19.19646199424151,
          21.258670606226335,
          51.421911586256755,
          46.155800199812646,
          23.04263511374748,
          6.495205322282731,
          8.734057370927006,
          25.82838618954247,
          20.29667940835609,
          19.596492144586833,
          18.976043429667033,
          24.546975305456716,
          45.009282916907146,
          31.38322744189889,
          35.2357278205633
         ],
         "xaxis": "x9",
         "y": [
          57,
          121,
          50,
          40,
          377,
          73,
          80,
          105,
          106,
          129,
          68,
          1027,
          954,
          823,
          763,
          894,
          606,
          95,
          369,
          164,
          32,
          238,
          59,
          39,
          102,
          413,
          147,
          31,
          28,
          2074,
          363,
          44,
          83,
          98,
          117,
          41,
          109,
          18,
          275,
          193,
          35,
          81,
          42,
          55,
          745,
          962,
          493,
          552
         ],
         "yaxis": "y9"
        },
        {
         "hovertemplate": "protein_platform=HMIF<br>platform=MERSCOPE<br>protein_expression=%{x}<br>count=%{y}<extra></extra>",
         "legendgroup": "HMIF",
         "marker": {
          "color": "#00cc96",
          "symbol": "circle"
         },
         "mode": "markers",
         "name": "HMIF",
         "orientation": "v",
         "showlegend": false,
         "type": "scatter",
         "x": [
          35.65427368950313,
          33.182696687447475,
          43.274389218246675,
          27.025682034061592,
          45.74538240383557,
          33.97750690801084,
          38.95076252980702,
          46.77800823172336,
          22.489591534456775,
          24.32906048276412,
          32.53203797112891,
          28.992533480207165,
          23.475594945076814,
          27.936535586755294,
          39.49410492754121,
          31.178283805236877,
          26.978257902527353,
          24.784052457025247,
          19.819399483475667,
          23.385456996263862,
          24.635422229986393,
          22.580146631624693,
          23.180995643884003,
          27.081688683460914,
          89.96176620326729,
          33.71228971278936,
          29.0044626202128,
          26.747704415140763,
          19.19646199424151,
          21.258670606226335,
          51.421911586256755,
          46.155800199812646,
          23.04263511374748,
          6.495205322282731,
          8.734057370927006,
          20.29667940835609,
          19.596492144586833,
          18.976043429667033,
          24.546975305456716,
          45.009282916907146,
          31.38322744189889,
          35.2357278205633
         ],
         "xaxis": "x6",
         "y": [
          12,
          18,
          1,
          10,
          3,
          8,
          53,
          9,
          3,
          11,
          28,
          20,
          35,
          18,
          5,
          60,
          3,
          1,
          15,
          1,
          10,
          12,
          2,
          1,
          152,
          4,
          2,
          18,
          9,
          1,
          3,
          1,
          1,
          35,
          33,
          5,
          27,
          21,
          7,
          35,
          95,
          73
         ],
         "yaxis": "y6"
        },
        {
         "hovertemplate": "protein_platform=HMIF<br>platform=CosMx<br>protein_expression=%{x}<br>count=%{y}<extra></extra>",
         "legendgroup": "HMIF",
         "marker": {
          "color": "#00cc96",
          "symbol": "circle"
         },
         "mode": "markers",
         "name": "HMIF",
         "orientation": "v",
         "showlegend": false,
         "type": "scatter",
         "x": [
          35.65427368950313,
          33.182696687447475,
          46.08010060895648,
          43.274389218246675,
          27.025682034061592,
          49.14818342194629,
          45.74538240383557,
          33.97750690801084,
          38.95076252980702,
          46.77800823172336,
          39.05965194910724,
          22.489591534456775,
          24.32906048276412,
          32.53203797112891,
          28.992533480207165,
          23.475594945076814,
          27.936535586755294,
          39.49410492754121,
          31.178283805236877,
          26.978257902527353,
          24.784052457025247,
          19.819399483475667,
          22.744947021134372,
          23.385456996263862,
          24.635422229986393,
          22.580146631624693,
          23.180995643884003,
          26.9755229997456,
          27.081688683460914,
          89.96176620326729,
          33.71228971278936,
          29.0044626202128,
          26.747704415140763,
          19.19646199424151,
          21.258670606226335,
          51.421911586256755,
          46.155800199812646,
          23.04263511374748,
          6.495205322282731,
          8.734057370927006,
          25.82838618954247,
          20.29667940835609,
          19.596492144586833,
          18.976043429667033,
          24.546975305456716,
          45.009282916907146,
          31.38322744189889,
          35.2357278205633
         ],
         "xaxis": "x3",
         "y": [
          83,
          121,
          58,
          52,
          290,
          59,
          68,
          109,
          160,
          167,
          59,
          627,
          383,
          429,
          424,
          342,
          759,
          136,
          260,
          115,
          73,
          115,
          101,
          68,
          129,
          197,
          102,
          44,
          50,
          932,
          146,
          66,
          134,
          91,
          114,
          39,
          73,
          91,
          1,
          18,
          103,
          70,
          91,
          106,
          313,
          485,
          325,
          461
         ],
         "yaxis": "y3"
        }
       ],
       "layout": {
        "annotations": [
         {
          "font": {
           "color": "black",
           "size": 15
          },
          "showarrow": false,
          "text": "CODEX",
          "textangle": 0,
          "x": 0.15666666666666665,
          "xanchor": "center",
          "xref": "paper",
          "y": -0.06,
          "yanchor": "bottom",
          "yref": "paper"
         },
         {
          "font": {
           "color": "black",
           "size": 15
          },
          "showarrow": false,
          "text": "CYCIF",
          "textangle": 0,
          "x": 0.49,
          "xanchor": "center",
          "xref": "paper",
          "y": -0.06,
          "yanchor": "bottom",
          "yref": "paper"
         },
         {
          "font": {
           "color": "black",
           "size": 15
          },
          "showarrow": false,
          "text": "HMIF",
          "textangle": 0,
          "x": 0.8233333333333333,
          "xanchor": "center",
          "xref": "paper",
          "y": -0.06,
          "yanchor": "bottom",
          "yref": "paper"
         },
         {
          "font": {
           "color": "black",
           "size": 15
          },
          "showarrow": false,
          "text": "CosMx",
          "textangle": 90,
          "x": 0.98,
          "xanchor": "left",
          "xref": "paper",
          "y": 0.15666666666666665,
          "yanchor": "middle",
          "yref": "paper"
         },
         {
          "font": {
           "color": "black",
           "size": 15
          },
          "showarrow": false,
          "text": "MERSCOPE",
          "textangle": 90,
          "x": 0.98,
          "xanchor": "left",
          "xref": "paper",
          "y": 0.4999999999999999,
          "yanchor": "middle",
          "yref": "paper"
         },
         {
          "font": {
           "color": "black",
           "size": 15
          },
          "showarrow": false,
          "text": "Xenium",
          "textangle": 90,
          "x": 0.98,
          "xanchor": "left",
          "xref": "paper",
          "y": 0.8433333333333332,
          "yanchor": "middle",
          "yref": "paper"
         }
        ],
        "font": {
         "color": "black",
         "size": 15
        },
        "height": 800,
        "legend": {
         "orientation": "h",
         "title": {
          "text": ""
         },
         "tracegroupgap": 0,
         "x": 0.5,
         "xanchor": "center",
         "y": 1,
         "yanchor": "bottom"
        },
        "margin": {
         "t": 60
        },
        "showlegend": true,
        "template": {
         "data": {
          "bar": [
           {
            "error_x": {
             "color": "#2a3f5f"
            },
            "error_y": {
             "color": "#2a3f5f"
            },
            "marker": {
             "line": {
              "color": "#E5ECF6",
              "width": 0.5
             },
             "pattern": {
              "fillmode": "overlay",
              "size": 10,
              "solidity": 0.2
             }
            },
            "type": "bar"
           }
          ],
          "barpolar": [
           {
            "marker": {
             "line": {
              "color": "#E5ECF6",
              "width": 0.5
             },
             "pattern": {
              "fillmode": "overlay",
              "size": 10,
              "solidity": 0.2
             }
            },
            "type": "barpolar"
           }
          ],
          "carpet": [
           {
            "aaxis": {
             "endlinecolor": "#2a3f5f",
             "gridcolor": "white",
             "linecolor": "white",
             "minorgridcolor": "white",
             "startlinecolor": "#2a3f5f"
            },
            "baxis": {
             "endlinecolor": "#2a3f5f",
             "gridcolor": "white",
             "linecolor": "white",
             "minorgridcolor": "white",
             "startlinecolor": "#2a3f5f"
            },
            "type": "carpet"
           }
          ],
          "choropleth": [
           {
            "colorbar": {
             "outlinewidth": 0,
             "ticks": ""
            },
            "type": "choropleth"
           }
          ],
          "contour": [
           {
            "colorbar": {
             "outlinewidth": 0,
             "ticks": ""
            },
            "colorscale": [
             [
              0,
              "#0d0887"
             ],
             [
              0.1111111111111111,
              "#46039f"
             ],
             [
              0.2222222222222222,
              "#7201a8"
             ],
             [
              0.3333333333333333,
              "#9c179e"
             ],
             [
              0.4444444444444444,
              "#bd3786"
             ],
             [
              0.5555555555555556,
              "#d8576b"
             ],
             [
              0.6666666666666666,
              "#ed7953"
             ],
             [
              0.7777777777777778,
              "#fb9f3a"
             ],
             [
              0.8888888888888888,
              "#fdca26"
             ],
             [
              1,
              "#f0f921"
             ]
            ],
            "type": "contour"
           }
          ],
          "contourcarpet": [
           {
            "colorbar": {
             "outlinewidth": 0,
             "ticks": ""
            },
            "type": "contourcarpet"
           }
          ],
          "heatmap": [
           {
            "colorbar": {
             "outlinewidth": 0,
             "ticks": ""
            },
            "colorscale": [
             [
              0,
              "#0d0887"
             ],
             [
              0.1111111111111111,
              "#46039f"
             ],
             [
              0.2222222222222222,
              "#7201a8"
             ],
             [
              0.3333333333333333,
              "#9c179e"
             ],
             [
              0.4444444444444444,
              "#bd3786"
             ],
             [
              0.5555555555555556,
              "#d8576b"
             ],
             [
              0.6666666666666666,
              "#ed7953"
             ],
             [
              0.7777777777777778,
              "#fb9f3a"
             ],
             [
              0.8888888888888888,
              "#fdca26"
             ],
             [
              1,
              "#f0f921"
             ]
            ],
            "type": "heatmap"
           }
          ],
          "heatmapgl": [
           {
            "colorbar": {
             "outlinewidth": 0,
             "ticks": ""
            },
            "colorscale": [
             [
              0,
              "#0d0887"
             ],
             [
              0.1111111111111111,
              "#46039f"
             ],
             [
              0.2222222222222222,
              "#7201a8"
             ],
             [
              0.3333333333333333,
              "#9c179e"
             ],
             [
              0.4444444444444444,
              "#bd3786"
             ],
             [
              0.5555555555555556,
              "#d8576b"
             ],
             [
              0.6666666666666666,
              "#ed7953"
             ],
             [
              0.7777777777777778,
              "#fb9f3a"
             ],
             [
              0.8888888888888888,
              "#fdca26"
             ],
             [
              1,
              "#f0f921"
             ]
            ],
            "type": "heatmapgl"
           }
          ],
          "histogram": [
           {
            "marker": {
             "pattern": {
              "fillmode": "overlay",
              "size": 10,
              "solidity": 0.2
             }
            },
            "type": "histogram"
           }
          ],
          "histogram2d": [
           {
            "colorbar": {
             "outlinewidth": 0,
             "ticks": ""
            },
            "colorscale": [
             [
              0,
              "#0d0887"
             ],
             [
              0.1111111111111111,
              "#46039f"
             ],
             [
              0.2222222222222222,
              "#7201a8"
             ],
             [
              0.3333333333333333,
              "#9c179e"
             ],
             [
              0.4444444444444444,
              "#bd3786"
             ],
             [
              0.5555555555555556,
              "#d8576b"
             ],
             [
              0.6666666666666666,
              "#ed7953"
             ],
             [
              0.7777777777777778,
              "#fb9f3a"
             ],
             [
              0.8888888888888888,
              "#fdca26"
             ],
             [
              1,
              "#f0f921"
             ]
            ],
            "type": "histogram2d"
           }
          ],
          "histogram2dcontour": [
           {
            "colorbar": {
             "outlinewidth": 0,
             "ticks": ""
            },
            "colorscale": [
             [
              0,
              "#0d0887"
             ],
             [
              0.1111111111111111,
              "#46039f"
             ],
             [
              0.2222222222222222,
              "#7201a8"
             ],
             [
              0.3333333333333333,
              "#9c179e"
             ],
             [
              0.4444444444444444,
              "#bd3786"
             ],
             [
              0.5555555555555556,
              "#d8576b"
             ],
             [
              0.6666666666666666,
              "#ed7953"
             ],
             [
              0.7777777777777778,
              "#fb9f3a"
             ],
             [
              0.8888888888888888,
              "#fdca26"
             ],
             [
              1,
              "#f0f921"
             ]
            ],
            "type": "histogram2dcontour"
           }
          ],
          "mesh3d": [
           {
            "colorbar": {
             "outlinewidth": 0,
             "ticks": ""
            },
            "type": "mesh3d"
           }
          ],
          "parcoords": [
           {
            "line": {
             "colorbar": {
              "outlinewidth": 0,
              "ticks": ""
             }
            },
            "type": "parcoords"
           }
          ],
          "pie": [
           {
            "automargin": true,
            "type": "pie"
           }
          ],
          "scatter": [
           {
            "fillpattern": {
             "fillmode": "overlay",
             "size": 10,
             "solidity": 0.2
            },
            "type": "scatter"
           }
          ],
          "scatter3d": [
           {
            "line": {
             "colorbar": {
              "outlinewidth": 0,
              "ticks": ""
             }
            },
            "marker": {
             "colorbar": {
              "outlinewidth": 0,
              "ticks": ""
             }
            },
            "type": "scatter3d"
           }
          ],
          "scattercarpet": [
           {
            "marker": {
             "colorbar": {
              "outlinewidth": 0,
              "ticks": ""
             }
            },
            "type": "scattercarpet"
           }
          ],
          "scattergeo": [
           {
            "marker": {
             "colorbar": {
              "outlinewidth": 0,
              "ticks": ""
             }
            },
            "type": "scattergeo"
           }
          ],
          "scattergl": [
           {
            "marker": {
             "colorbar": {
              "outlinewidth": 0,
              "ticks": ""
             }
            },
            "type": "scattergl"
           }
          ],
          "scattermapbox": [
           {
            "marker": {
             "colorbar": {
              "outlinewidth": 0,
              "ticks": ""
             }
            },
            "type": "scattermapbox"
           }
          ],
          "scatterpolar": [
           {
            "marker": {
             "colorbar": {
              "outlinewidth": 0,
              "ticks": ""
             }
            },
            "type": "scatterpolar"
           }
          ],
          "scatterpolargl": [
           {
            "marker": {
             "colorbar": {
              "outlinewidth": 0,
              "ticks": ""
             }
            },
            "type": "scatterpolargl"
           }
          ],
          "scatterternary": [
           {
            "marker": {
             "colorbar": {
              "outlinewidth": 0,
              "ticks": ""
             }
            },
            "type": "scatterternary"
           }
          ],
          "surface": [
           {
            "colorbar": {
             "outlinewidth": 0,
             "ticks": ""
            },
            "colorscale": [
             [
              0,
              "#0d0887"
             ],
             [
              0.1111111111111111,
              "#46039f"
             ],
             [
              0.2222222222222222,
              "#7201a8"
             ],
             [
              0.3333333333333333,
              "#9c179e"
             ],
             [
              0.4444444444444444,
              "#bd3786"
             ],
             [
              0.5555555555555556,
              "#d8576b"
             ],
             [
              0.6666666666666666,
              "#ed7953"
             ],
             [
              0.7777777777777778,
              "#fb9f3a"
             ],
             [
              0.8888888888888888,
              "#fdca26"
             ],
             [
              1,
              "#f0f921"
             ]
            ],
            "type": "surface"
           }
          ],
          "table": [
           {
            "cells": {
             "fill": {
              "color": "#EBF0F8"
             },
             "line": {
              "color": "white"
             }
            },
            "header": {
             "fill": {
              "color": "#C8D4E3"
             },
             "line": {
              "color": "white"
             }
            },
            "type": "table"
           }
          ]
         },
         "layout": {
          "annotationdefaults": {
           "arrowcolor": "#2a3f5f",
           "arrowhead": 0,
           "arrowwidth": 1
          },
          "autotypenumbers": "strict",
          "coloraxis": {
           "colorbar": {
            "outlinewidth": 0,
            "ticks": ""
           }
          },
          "colorscale": {
           "diverging": [
            [
             0,
             "#8e0152"
            ],
            [
             0.1,
             "#c51b7d"
            ],
            [
             0.2,
             "#de77ae"
            ],
            [
             0.3,
             "#f1b6da"
            ],
            [
             0.4,
             "#fde0ef"
            ],
            [
             0.5,
             "#f7f7f7"
            ],
            [
             0.6,
             "#e6f5d0"
            ],
            [
             0.7,
             "#b8e186"
            ],
            [
             0.8,
             "#7fbc41"
            ],
            [
             0.9,
             "#4d9221"
            ],
            [
             1,
             "#276419"
            ]
           ],
           "sequential": [
            [
             0,
             "#0d0887"
            ],
            [
             0.1111111111111111,
             "#46039f"
            ],
            [
             0.2222222222222222,
             "#7201a8"
            ],
            [
             0.3333333333333333,
             "#9c179e"
            ],
            [
             0.4444444444444444,
             "#bd3786"
            ],
            [
             0.5555555555555556,
             "#d8576b"
            ],
            [
             0.6666666666666666,
             "#ed7953"
            ],
            [
             0.7777777777777778,
             "#fb9f3a"
            ],
            [
             0.8888888888888888,
             "#fdca26"
            ],
            [
             1,
             "#f0f921"
            ]
           ],
           "sequentialminus": [
            [
             0,
             "#0d0887"
            ],
            [
             0.1111111111111111,
             "#46039f"
            ],
            [
             0.2222222222222222,
             "#7201a8"
            ],
            [
             0.3333333333333333,
             "#9c179e"
            ],
            [
             0.4444444444444444,
             "#bd3786"
            ],
            [
             0.5555555555555556,
             "#d8576b"
            ],
            [
             0.6666666666666666,
             "#ed7953"
            ],
            [
             0.7777777777777778,
             "#fb9f3a"
            ],
            [
             0.8888888888888888,
             "#fdca26"
            ],
            [
             1,
             "#f0f921"
            ]
           ]
          },
          "colorway": [
           "#636efa",
           "#EF553B",
           "#00cc96",
           "#ab63fa",
           "#FFA15A",
           "#19d3f3",
           "#FF6692",
           "#B6E880",
           "#FF97FF",
           "#FECB52"
          ],
          "font": {
           "color": "#2a3f5f"
          },
          "geo": {
           "bgcolor": "white",
           "lakecolor": "white",
           "landcolor": "#E5ECF6",
           "showlakes": true,
           "showland": true,
           "subunitcolor": "white"
          },
          "hoverlabel": {
           "align": "left"
          },
          "hovermode": "closest",
          "mapbox": {
           "style": "light"
          },
          "paper_bgcolor": "white",
          "plot_bgcolor": "#E5ECF6",
          "polar": {
           "angularaxis": {
            "gridcolor": "white",
            "linecolor": "white",
            "ticks": ""
           },
           "bgcolor": "#E5ECF6",
           "radialaxis": {
            "gridcolor": "white",
            "linecolor": "white",
            "ticks": ""
           }
          },
          "scene": {
           "xaxis": {
            "backgroundcolor": "#E5ECF6",
            "gridcolor": "white",
            "gridwidth": 2,
            "linecolor": "white",
            "showbackground": true,
            "ticks": "",
            "zerolinecolor": "white"
           },
           "yaxis": {
            "backgroundcolor": "#E5ECF6",
            "gridcolor": "white",
            "gridwidth": 2,
            "linecolor": "white",
            "showbackground": true,
            "ticks": "",
            "zerolinecolor": "white"
           },
           "zaxis": {
            "backgroundcolor": "#E5ECF6",
            "gridcolor": "white",
            "gridwidth": 2,
            "linecolor": "white",
            "showbackground": true,
            "ticks": "",
            "zerolinecolor": "white"
           }
          },
          "shapedefaults": {
           "line": {
            "color": "#2a3f5f"
           }
          },
          "ternary": {
           "aaxis": {
            "gridcolor": "white",
            "linecolor": "white",
            "ticks": ""
           },
           "baxis": {
            "gridcolor": "white",
            "linecolor": "white",
            "ticks": ""
           },
           "bgcolor": "#E5ECF6",
           "caxis": {
            "gridcolor": "white",
            "linecolor": "white",
            "ticks": ""
           }
          },
          "title": {
           "x": 0.05
          },
          "xaxis": {
           "automargin": true,
           "gridcolor": "white",
           "linecolor": "white",
           "ticks": "",
           "title": {
            "standoff": 15
           },
           "zerolinecolor": "white",
           "zerolinewidth": 2
          },
          "yaxis": {
           "automargin": true,
           "gridcolor": "white",
           "linecolor": "white",
           "ticks": "",
           "title": {
            "standoff": 15
           },
           "zerolinecolor": "white",
           "zerolinewidth": 2
          }
         }
        },
        "title": {
         "text": "Protein PD-L1 expression vs. iST CD274 expression at core level"
        },
        "width": 800,
        "xaxis": {
         "anchor": "y",
         "domain": [
          0,
          0.3133333333333333
         ],
         "linecolor": "black",
         "linewidth": 1,
         "range": [
          0,
          500
         ],
         "showline": true,
         "title": {
          "font": {
           "size": 15
          },
          "text": ""
         }
        },
        "xaxis2": {
         "anchor": "y2",
         "domain": [
          0.3333333333333333,
          0.6466666666666666
         ],
         "linecolor": "black",
         "linewidth": 1,
         "range": [
          0,
          20000
         ],
         "showline": true,
         "title": {
          "font": {
           "size": 15
          },
          "text": ""
         }
        },
        "xaxis3": {
         "anchor": "y3",
         "domain": [
          0.6666666666666666,
          0.98
         ],
         "linecolor": "black",
         "linewidth": 1,
         "range": [
          0,
          80
         ],
         "showline": true,
         "title": {
          "font": {
           "size": 15
          },
          "text": ""
         }
        },
        "xaxis4": {
         "anchor": "y4",
         "domain": [
          0,
          0.3133333333333333
         ],
         "linecolor": "black",
         "linewidth": 1,
         "range": [
          0,
          500
         ],
         "showline": true,
         "showticklabels": false,
         "title": {
          "font": {
           "size": 15
          },
          "text": ""
         }
        },
        "xaxis5": {
         "anchor": "y5",
         "domain": [
          0.3333333333333333,
          0.6466666666666666
         ],
         "linecolor": "black",
         "linewidth": 1,
         "range": [
          0,
          20000
         ],
         "showline": true,
         "showticklabels": false,
         "title": {
          "font": {
           "size": 15
          },
          "text": ""
         }
        },
        "xaxis6": {
         "anchor": "y6",
         "domain": [
          0.6666666666666666,
          0.98
         ],
         "linecolor": "black",
         "linewidth": 1,
         "range": [
          0,
          80
         ],
         "showline": true,
         "showticklabels": false,
         "title": {
          "font": {
           "size": 15
          },
          "text": ""
         }
        },
        "xaxis7": {
         "anchor": "y7",
         "domain": [
          0,
          0.3133333333333333
         ],
         "linecolor": "black",
         "linewidth": 1,
         "range": [
          0,
          500
         ],
         "showline": true,
         "showticklabels": false,
         "title": {
          "font": {
           "size": 15
          },
          "text": ""
         }
        },
        "xaxis8": {
         "anchor": "y8",
         "domain": [
          0.3333333333333333,
          0.6466666666666666
         ],
         "linecolor": "black",
         "linewidth": 1,
         "range": [
          0,
          20000
         ],
         "showline": true,
         "showticklabels": false,
         "title": {
          "font": {
           "size": 15
          },
          "text": ""
         }
        },
        "xaxis9": {
         "anchor": "y9",
         "domain": [
          0.6666666666666666,
          0.98
         ],
         "linecolor": "black",
         "linewidth": 1,
         "range": [
          0,
          80
         ],
         "showline": true,
         "showticklabels": false,
         "title": {
          "font": {
           "size": 15
          },
          "text": ""
         }
        },
        "yaxis": {
         "anchor": "x",
         "domain": [
          0,
          0.3133333333333333
         ],
         "linecolor": "black",
         "linewidth": 1,
         "showline": true,
         "title": {
          "font": {
           "size": 15
          },
          "text": ""
         }
        },
        "yaxis2": {
         "anchor": "x2",
         "domain": [
          0,
          0.3133333333333333
         ],
         "linecolor": "black",
         "linewidth": 1,
         "showline": true,
         "showticklabels": false,
         "title": {
          "font": {
           "size": 15
          },
          "text": ""
         }
        },
        "yaxis3": {
         "anchor": "x3",
         "domain": [
          0,
          0.3133333333333333
         ],
         "linecolor": "black",
         "linewidth": 1,
         "showline": true,
         "showticklabels": false,
         "title": {
          "font": {
           "size": 15
          },
          "text": ""
         }
        },
        "yaxis4": {
         "anchor": "x4",
         "domain": [
          0.34333333333333327,
          0.6566666666666665
         ],
         "linecolor": "black",
         "linewidth": 1,
         "showline": true,
         "title": {
          "font": {
           "size": 15
          },
          "text": ""
         }
        },
        "yaxis5": {
         "anchor": "x5",
         "domain": [
          0.34333333333333327,
          0.6566666666666665
         ],
         "linecolor": "black",
         "linewidth": 1,
         "showline": true,
         "showticklabels": false,
         "title": {
          "font": {
           "size": 15
          },
          "text": ""
         }
        },
        "yaxis6": {
         "anchor": "x6",
         "domain": [
          0.34333333333333327,
          0.6566666666666665
         ],
         "linecolor": "black",
         "linewidth": 1,
         "showline": true,
         "showticklabels": false,
         "title": {
          "font": {
           "size": 15
          },
          "text": ""
         }
        },
        "yaxis7": {
         "anchor": "x7",
         "domain": [
          0.6866666666666665,
          0.9999999999999998
         ],
         "linecolor": "black",
         "linewidth": 1,
         "showline": true,
         "title": {
          "font": {
           "size": 15
          },
          "text": ""
         }
        },
        "yaxis8": {
         "anchor": "x8",
         "domain": [
          0.6866666666666665,
          0.9999999999999998
         ],
         "linecolor": "black",
         "linewidth": 1,
         "showline": true,
         "showticklabels": false,
         "title": {
          "font": {
           "size": 15
          },
          "text": ""
         }
        },
        "yaxis9": {
         "anchor": "x9",
         "domain": [
          0.6866666666666665,
          0.9999999999999998
         ],
         "linecolor": "black",
         "linewidth": 1,
         "showline": true,
         "showticklabels": false,
         "title": {
          "font": {
           "size": 15
          },
          "text": ""
         }
        }
       }
      }
     },
     "metadata": {},
     "output_type": "display_data"
    }
   ],
   "source": [
    "width=800\n",
    "height=800\n",
    "fontsize = 15\n",
    "fig = px.scatter(df_melted, x=f\"protein_expression\", \n",
    "                y=\"count\",\n",
    "                color=\"protein_platform\", \n",
    "                facet_col=\"protein_platform\",\n",
    "                facet_row=\"platform\",\n",
    "                width=width, height=height)\n",
    "\n",
    "fig.update_xaxes(\n",
    "    matches=None,\n",
    "    title_text=f'',\n",
    "    title_font=dict(size=fontsize),\n",
    "    showline=True,\n",
    "    linewidth=1,\n",
    "    linecolor='black',\n",
    ")\n",
    "\n",
    "fig.update_yaxes(\n",
    "    matches=None,\n",
    "    title_text=f'',\n",
    "    title_font=dict(size=fontsize),\n",
    "    showline=True,\n",
    "    linewidth=1,\n",
    "    linecolor='black',\n",
    ")\n",
    "\n",
    "fig.update_xaxes(col=1, range=[0, 500])\n",
    "fig.update_xaxes(col=2, range=[0, 20000])\n",
    "fig.update_xaxes(col=3, range=[0, 80])\n",
    "\n",
    "\n",
    "# Customize legend and layout\n",
    "fig.update_layout(\n",
    "    title_text=f'Protein PD-L1 expression vs. iST {gene} expression at core level',\n",
    "    legend_title_text=\"\",\n",
    "    legend=dict(\n",
    "        orientation=\"h\",\n",
    "        yanchor=\"bottom\",\n",
    "        y=1,\n",
    "        xanchor=\"center\",\n",
    "        x=0.5\n",
    "    ),\n",
    "    font=dict(size=fontsize, color='black'),\n",
    "    showlegend=True,\n",
    ")\n",
    "\n",
    "for annotation in fig.layout.annotations:\n",
    "    for platform in df_melted.platform.unique():\n",
    "        if annotation.text == f'platform={platform}':\n",
    "            annotation.text = platform\n",
    "            annotation.font.size = fontsize\n",
    "            annotation.font.color = 'black'  # Set the annotation text color to black\n",
    "            annotation.x = 0.98\n",
    "            annotation.textangle = 90\n",
    "\n",
    "    for protein_platform in df_melted.protein_platform.unique():\n",
    "        if annotation.text == f'protein_platform={protein_platform}':\n",
    "            annotation.text = protein_platform\n",
    "            annotation.font.size = fontsize\n",
    "            annotation.font.color = 'black'  # Set the annotation text color to black\n",
    "            annotation.y = -0.06\n",
    "            annotation.textangle = 0\n",
    "\n",
    "fig.show()\n",
    "\n",
    "pio.write_image(fig, f'{wd}/figures/protein_validation/scatter_plot.png',scale=4, width=width, height=height)\n",
    "pio.write_image(fig, f'{wd}/figures/protein_validation/scatter_plot.eps',scale=4, width=width, height=height)"
   ]
  },
  {
   "cell_type": "code",
   "execution_count": null,
   "metadata": {},
   "outputs": [],
   "source": []
  }
 ],
 "metadata": {
  "kernelspec": {
   "display_name": "sp",
   "language": "python",
   "name": "python3"
  },
  "language_info": {
   "codemirror_mode": {
    "name": "ipython",
    "version": 3
   },
   "file_extension": ".py",
   "mimetype": "text/x-python",
   "name": "python",
   "nbconvert_exporter": "python",
   "pygments_lexer": "ipython3",
   "version": "3.8.16"
  }
 },
 "nbformat": 4,
 "nbformat_minor": 2
}
