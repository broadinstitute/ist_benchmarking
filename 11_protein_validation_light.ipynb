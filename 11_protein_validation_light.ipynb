{
 "cells": [
  {
   "cell_type": "code",
   "execution_count": 9,
   "metadata": {},
   "outputs": [
    {
     "name": "stdout",
     "output_type": "stream",
     "text": [
      "working directory: /Users/whuan/dev/ist_benchmarking\n"
     ]
    }
   ],
   "source": [
    "import pandas as pd\n",
    "import sys\n",
    "import os\n",
    "import math\n",
    "import pandas as pd\n",
    "from scipy.stats import ttest_ind\n",
    "import scipy.stats as sp\n",
    "import plotly.express as px\n",
    "import plotly.io as pio\n",
    "import matplotlib.pyplot as plt\n",
    "import seaborn as sns\n",
    "\n",
    "import warnings\n",
    "if not sys.warnoptions:\n",
    "    warnings.simplefilter(\"ignore\")\n",
    "\n",
    "sys.path.append('../src/')\n",
    "from constants import SAMPLES, matching_cores_2024, CB_COLORS_5\n",
    "\n",
    "wd = os.getcwd()\n",
    "print (f'working directory: {wd}')\n",
    "\n",
    "def log2_fold_change(a, b):\n",
    "    \"\"\"\n",
    "    Calculate the log2 fold change between two expression values a and b.\n",
    "    \n",
    "    Parameters:\n",
    "    a (float): Expression value in condition A (control or reference)\n",
    "    b (float): Expression value in condition B (treatment or experimental)\n",
    "    \n",
    "    Returns:\n",
    "    float: The log2 fold change\n",
    "    \"\"\"\n",
    "    if a == 0:\n",
    "        raise ValueError(\"Expression value 'a' should not be zero to avoid division by zero.\")\n",
    "    fold_change = b / a\n",
    "    log2_fc = math.log2(fold_change)\n",
    "    return log2_fc\n",
    "\n",
    "\n",
    "gene_list_dict = {\n",
    "    'co':['CD274','PDCD1', 'PDCD1LG2', 'CCL5', 'CXCL12', 'CD68', 'CTLA4'],\n",
    "    'not_co':['ADIPOQ', 'KIT'],\n",
    "}\n",
    "\n",
    "\n",
    "if not os.path.exists(f'{wd}/figures/protein_validation'):\n",
    "    os.makedirs(f'{wd}/figures/protein_validation')\n",
    "\n",
    "pd_l1_high_cores = [\n",
    "    1.0, 2.0, 3.0, 6.0, 7.0, 8.0, 37.0, 39.0, 41.0, 42.0,\n",
    "    43.0, 44.0, 45.0, 46.0, 47.0, 48.0, 49.0, 50.0, 51.0,\n",
    "    52.0, 55.0, 56.0, 57.0, 58.0, 60.0, 62.0, 64.0, 66.0,\n",
    "    69.0, 70.0, 71.0, 79.0, 82.0, 83.0, 84.0, 85.0, 91.0,\n",
    "    92.0, 93.0, 94.0, 95.0, 96.0, 101.0, 102.0, 111.0, 112.0,\n",
    "    113.0, 114.0, 115.0, 116.0, 117.0, 118.0, 119.0, 120.0,\n",
    "    121.0, 122.0, 127.0, 128.0, 129.0, 133.0, 134.0, 138.0,\n",
    "    139.0, 140.0, 144.0, 148.0, 149.0, 150.0, 151.0, 152.0,\n",
    "    153.0, 155.0, 156.0, 159.0, 160.0, 161.0, 164.0, 165.0,\n",
    "    168.0, 169.0, 170.0]"
   ]
  },
  {
   "cell_type": "code",
   "execution_count": 3,
   "metadata": {},
   "outputs": [
    {
     "name": "stdout",
     "output_type": "stream",
     "text": [
      "2024_xenium_breast_htma\n",
      "2024_merscope_breast_htma\n",
      "2024_cosmx_multitissue_htma\n"
     ]
    }
   ],
   "source": [
    "\n",
    "df_core = pd.read_csv(f'{wd}/data/Sample_Info_HTMA_TMA - Sheet1.csv')[['core', 'tissue_type', 'patient_number', 'PD-L1_status']]\n",
    "df_core['unique_patient_number'] = df_core.apply(lambda row: f\"{row['tissue_type']}_{row['patient_number']}_{row['PD-L1_status']}\", axis=1)\n",
    "\n",
    "df_all = pd.DataFrame()\n",
    "\n",
    "gene_list = ['CD274']\n",
    "for sample in SAMPLES:\n",
    "    if '2024' in sample and 'htma' in sample:\n",
    "        print (sample)\n",
    "        df = pd.read_csv(f'{wd}/data/gene_level_csv/gene_level_csv_{sample}.csv', engine='pyarrow')\n",
    "        df_selected = df.loc[df[\"gene\"].isin(gene_list)]\n",
    "        df_join = pd.merge(df_selected, df_core, on=['core','tissue_type'], how='left')\n",
    "        df_join['sample'] = sample\n",
    "        df_join['core'] = df_join['core'].astype('int')\n",
    "        df_join = df_join.loc[df_join['core'].isin(matching_cores_2024)]\n",
    "        df_all = pd.concat([df_all, df_join])\n",
    "\n",
    "df_all['platform'] = df_all['sample'].apply(lambda x: x.split('_')[-3].upper())\n",
    "df_all['platform'] = df_all['platform'].replace({'XENIUM':'Xenium','MERSCOPE':'MERSCOPE','COSMX':'CosMx'})\n",
    "df_all = df_all[['count', 'PD-L1_status', 'platform']]"
   ]
  },
  {
   "cell_type": "code",
   "execution_count": 4,
   "metadata": {},
   "outputs": [
    {
     "data": {
      "text/html": [
       "<div>\n",
       "<style scoped>\n",
       "    .dataframe tbody tr th:only-of-type {\n",
       "        vertical-align: middle;\n",
       "    }\n",
       "\n",
       "    .dataframe tbody tr th {\n",
       "        vertical-align: top;\n",
       "    }\n",
       "\n",
       "    .dataframe thead th {\n",
       "        text-align: right;\n",
       "    }\n",
       "</style>\n",
       "<table border=\"1\" class=\"dataframe\">\n",
       "  <thead>\n",
       "    <tr style=\"text-align: right;\">\n",
       "      <th></th>\n",
       "      <th>platform</th>\n",
       "      <th>PD-L1_status</th>\n",
       "      <th>Num_of_Cores</th>\n",
       "      <th>Average_CD274_Expression</th>\n",
       "    </tr>\n",
       "  </thead>\n",
       "  <tbody>\n",
       "    <tr>\n",
       "      <th>0</th>\n",
       "      <td>CosMx</td>\n",
       "      <td>high</td>\n",
       "      <td>38</td>\n",
       "      <td>199.921053</td>\n",
       "    </tr>\n",
       "    <tr>\n",
       "      <th>1</th>\n",
       "      <td>CosMx</td>\n",
       "      <td>low</td>\n",
       "      <td>27</td>\n",
       "      <td>183.518519</td>\n",
       "    </tr>\n",
       "    <tr>\n",
       "      <th>2</th>\n",
       "      <td>MERSCOPE</td>\n",
       "      <td>high</td>\n",
       "      <td>32</td>\n",
       "      <td>21.281250</td>\n",
       "    </tr>\n",
       "    <tr>\n",
       "      <th>3</th>\n",
       "      <td>MERSCOPE</td>\n",
       "      <td>low</td>\n",
       "      <td>25</td>\n",
       "      <td>28.960000</td>\n",
       "    </tr>\n",
       "    <tr>\n",
       "      <th>4</th>\n",
       "      <td>Xenium</td>\n",
       "      <td>high</td>\n",
       "      <td>38</td>\n",
       "      <td>357.421053</td>\n",
       "    </tr>\n",
       "    <tr>\n",
       "      <th>5</th>\n",
       "      <td>Xenium</td>\n",
       "      <td>low</td>\n",
       "      <td>27</td>\n",
       "      <td>284.111111</td>\n",
       "    </tr>\n",
       "  </tbody>\n",
       "</table>\n",
       "</div>"
      ],
      "text/plain": [
       "   platform PD-L1_status  Num_of_Cores  Average_CD274_Expression\n",
       "0     CosMx         high            38                199.921053\n",
       "1     CosMx          low            27                183.518519\n",
       "2  MERSCOPE         high            32                 21.281250\n",
       "3  MERSCOPE          low            25                 28.960000\n",
       "4    Xenium         high            38                357.421053\n",
       "5    Xenium          low            27                284.111111"
      ]
     },
     "metadata": {},
     "output_type": "display_data"
    }
   ],
   "source": [
    "df = df_all[['count', 'PD-L1_status', 'platform']]\n",
    "\n",
    "# Calculate the mean count and the number of entries (n) for each sample and PD-L1 status\n",
    "df_stats = (\n",
    "    df\n",
    "    .groupby(by=['platform', 'PD-L1_status'])\n",
    "    .agg(Num_of_Cores=('count', 'size'), Average_CD274_Expression=('count', 'mean'))\n",
    "    .reset_index()\n",
    ")\n",
    "\n",
    "# Display the resulting DataFrame\n",
    "display(df_stats)\n"
   ]
  },
  {
   "cell_type": "code",
   "execution_count": 5,
   "metadata": {},
   "outputs": [
    {
     "name": "stdout",
     "output_type": "stream",
     "text": [
      "Results DataFrame:\n"
     ]
    },
    {
     "data": {
      "text/html": [
       "<div>\n",
       "<style scoped>\n",
       "    .dataframe tbody tr th:only-of-type {\n",
       "        vertical-align: middle;\n",
       "    }\n",
       "\n",
       "    .dataframe tbody tr th {\n",
       "        vertical-align: top;\n",
       "    }\n",
       "\n",
       "    .dataframe thead th {\n",
       "        text-align: right;\n",
       "    }\n",
       "</style>\n",
       "<table border=\"1\" class=\"dataframe\">\n",
       "  <thead>\n",
       "    <tr style=\"text-align: right;\">\n",
       "      <th></th>\n",
       "      <th>platform</th>\n",
       "      <th>p_value</th>\n",
       "      <th>significant</th>\n",
       "    </tr>\n",
       "  </thead>\n",
       "  <tbody>\n",
       "    <tr>\n",
       "      <th>0</th>\n",
       "      <td>Xenium</td>\n",
       "      <td>0.508350</td>\n",
       "      <td>False</td>\n",
       "    </tr>\n",
       "    <tr>\n",
       "      <th>1</th>\n",
       "      <td>MERSCOPE</td>\n",
       "      <td>0.413921</td>\n",
       "      <td>False</td>\n",
       "    </tr>\n",
       "    <tr>\n",
       "      <th>2</th>\n",
       "      <td>CosMx</td>\n",
       "      <td>0.732083</td>\n",
       "      <td>False</td>\n",
       "    </tr>\n",
       "  </tbody>\n",
       "</table>\n",
       "</div>"
      ],
      "text/plain": [
       "   platform   p_value  significant\n",
       "0    Xenium  0.508350        False\n",
       "1  MERSCOPE  0.413921        False\n",
       "2     CosMx  0.732083        False"
      ]
     },
     "metadata": {},
     "output_type": "display_data"
    }
   ],
   "source": [
    "\n",
    "# Remove rows with NaN in PD-L1_status to focus only on 'high' and 'low'\n",
    "df_filtered = df.dropna(subset=['PD-L1_status'])\n",
    "\n",
    "# Define the function to calculate p-values for each sample\n",
    "def calculate_p_values(df):\n",
    "    results = []\n",
    "    for platform in df['platform'].unique():\n",
    "        df_platform = df[df['platform'] == platform]\n",
    "        \n",
    "        # Ensure there are 'high' and 'low' counts to compare\n",
    "        if 'high' in df_platform['PD-L1_status'].values and 'low' in df_platform['PD-L1_status'].values:\n",
    "            high_counts = df_platform[df_platform['PD-L1_status'] == 'high']['count']\n",
    "            low_counts = df_platform[df_platform['PD-L1_status'] == 'low']['count']\n",
    "            \n",
    "            # Perform t-test\n",
    "            t_stat, p_val = ttest_ind(high_counts, low_counts, equal_var=False)\n",
    "            \n",
    "            # Determine significance based on p-value threshold (0.05)\n",
    "            significant = p_val < 0.05\n",
    "            \n",
    "            # Append result\n",
    "            results.append({\n",
    "                'platform': platform,\n",
    "                'p_value': p_val,\n",
    "                'significant': significant\n",
    "            })\n",
    "    \n",
    "    return pd.DataFrame(results)\n",
    "\n",
    "# Calculate p-values and significance for each sample\n",
    "df_results = calculate_p_values(df_filtered)\n",
    "\n",
    "# Display the results\n",
    "print(\"Results DataFrame:\")\n",
    "display(df_results)\n"
   ]
  },
  {
   "cell_type": "markdown",
   "metadata": {},
   "source": [
    "# CD274 expression by PD-L1 status\n"
   ]
  },
  {
   "cell_type": "code",
   "execution_count": 7,
   "metadata": {},
   "outputs": [
    {
     "name": "stderr",
     "output_type": "stream",
     "text": [
      "The PostScript backend does not support transparency; partially transparent artists will be rendered opaque.\n"
     ]
    },
    {
     "data": {
      "image/png": "[encoded data removed]",
      "text/plain": [
       "<Figure size 1000x350 with 3 Axes>"
      ]
     },
     "metadata": {},
     "output_type": "display_data"
    }
   ],
   "source": [
    "\n",
    "# Example platforms in df_all: ['Xenium','MERSCOPE','CosMx']\n",
    "platforms = df_all['platform'].unique()\n",
    "\n",
    "# Create a 1 row x N columns figure (N = number of platforms)\n",
    "fig, axes = plt.subplots(1, len(platforms), figsize=(10, 3.5), sharey=False)\n",
    "\n",
    "# Define a color palette mapping for PD-L1_status\n",
    "palette = {'low': CB_COLORS_5['grey'], 'high': CB_COLORS_5['red']}\n",
    "\n",
    "for i, platform in enumerate(platforms):\n",
    "    ax = axes[i]\n",
    "    subset = df_all[df_all['platform'] == platform]\n",
    "\n",
    "    # Violin plot\n",
    "    sns.violinplot(\n",
    "        x='PD-L1_status',\n",
    "        y='count',\n",
    "        data=subset,\n",
    "        palette=palette,\n",
    "        cut=0,\n",
    "        scale='width',\n",
    "        inner=None,\n",
    "        order=['low', 'high'],\n",
    "        ax=ax\n",
    "    )\n",
    "\n",
    "    # Strip plot overlaid\n",
    "    sns.stripplot(\n",
    "        x='PD-L1_status',\n",
    "        y='count',\n",
    "        data=subset,\n",
    "        hue='PD-L1_status',\n",
    "        palette=palette,\n",
    "        dodge=False,\n",
    "        order=['low', 'high'],\n",
    "        edgecolor='black',\n",
    "        linewidth=0.7,\n",
    "        alpha=0.8,\n",
    "        ax=ax\n",
    "    )\n",
    "\n",
    "    # Remove legend in each subplot\n",
    "    ax.legend_.remove()\n",
    "\n",
    "    # Title\n",
    "    ax.set_title(platform, fontsize=14)\n",
    "\n",
    "    # Get min/max for this platform\n",
    "    y_min = subset['count'].min()\n",
    "    y_max = subset['count'].max()\n",
    "\n",
    "    # Increase the upper limit so we have space for the bracket/annotation\n",
    "    ax.set_ylim(y_min * 0.95, y_max * 1.15)\n",
    "\n",
    "    # Position the bracket slightly below the new top\n",
    "    bracket_y = y_max * 1.05     # bracket line\n",
    "    bracket_height = y_max * 0.03  # bracket vertical size\n",
    "\n",
    "    # Draw bracket: horizontal line from x=0 to x=1\n",
    "    ax.plot([0, 1], [bracket_y, bracket_y], lw=1.5, color='black')\n",
    "    # Left vertical\n",
    "    ax.plot([0, 0], [bracket_y, bracket_y - bracket_height], lw=1.5, color='black')\n",
    "    # Right vertical\n",
    "    ax.plot([1, 1], [bracket_y, bracket_y - bracket_height], lw=1.5, color='black')\n",
    "\n",
    "    # Annotation text above bracket\n",
    "    ax.text(\n",
    "        0.5, \n",
    "        bracket_y + (bracket_height * 0.5),\n",
    "        'P>0.1, not sig.',\n",
    "        ha='center',\n",
    "        va='bottom',\n",
    "        fontsize=12\n",
    "    )\n",
    "    ax.set_xlabel(\"PD-L1 Status\")\n",
    "    ax.set_ylabel(\"CD274 expression\")\n",
    "\n",
    "plt.tight_layout()\n",
    "\n",
    "plt.savefig(f'{wd}/figures/response_letter/gene_expression_by_pd_l1_status_by_platform.png', \n",
    "            dpi=250, transparent=True)\n",
    "plt.savefig(f'{wd}/figures/response_letter/gene_expression_by_pd_l1_status_by_platform.eps', \n",
    "            dpi=250, transparent=True)\n",
    "plt.show()\n"
   ]
  },
  {
   "cell_type": "markdown",
   "metadata": {},
   "source": [
    "# Protein expression vs. iST expression"
   ]
  },
  {
   "cell_type": "code",
   "execution_count": 8,
   "metadata": {},
   "outputs": [
    {
     "name": "stdout",
     "output_type": "stream",
     "text": [
      "2024_xenium_breast_htma\n",
      "2024_merscope_breast_htma\n",
      "2024_cosmx_multitissue_htma\n"
     ]
    },
    {
     "data": {
      "text/html": [
       "<div>\n",
       "<style scoped>\n",
       "    .dataframe tbody tr th:only-of-type {\n",
       "        vertical-align: middle;\n",
       "    }\n",
       "\n",
       "    .dataframe tbody tr th {\n",
       "        vertical-align: top;\n",
       "    }\n",
       "\n",
       "    .dataframe thead th {\n",
       "        text-align: right;\n",
       "    }\n",
       "</style>\n",
       "<table border=\"1\" class=\"dataframe\">\n",
       "  <thead>\n",
       "    <tr style=\"text-align: right;\">\n",
       "      <th></th>\n",
       "      <th>core</th>\n",
       "      <th>gene</th>\n",
       "      <th>tissue_type</th>\n",
       "      <th>count</th>\n",
       "      <th>code_type</th>\n",
       "      <th>patient_number</th>\n",
       "      <th>PD-L1_status</th>\n",
       "      <th>unique_patient_number</th>\n",
       "      <th>sample</th>\n",
       "      <th>platform</th>\n",
       "      <th>protein_platform</th>\n",
       "      <th>protein_expression</th>\n",
       "    </tr>\n",
       "  </thead>\n",
       "  <tbody>\n",
       "    <tr>\n",
       "      <th>0</th>\n",
       "      <td>125</td>\n",
       "      <td>CD274</td>\n",
       "      <td>NSCLC</td>\n",
       "      <td>57</td>\n",
       "      <td>gene</td>\n",
       "      <td>4.0</td>\n",
       "      <td>low</td>\n",
       "      <td>NSCLC_4.0_low</td>\n",
       "      <td>2024_xenium_breast_htma</td>\n",
       "      <td>Xenium</td>\n",
       "      <td>PhenoCycler</td>\n",
       "      <td>15.272572</td>\n",
       "    </tr>\n",
       "    <tr>\n",
       "      <th>1</th>\n",
       "      <td>126</td>\n",
       "      <td>CD274</td>\n",
       "      <td>NSCLC</td>\n",
       "      <td>121</td>\n",
       "      <td>gene</td>\n",
       "      <td>4.0</td>\n",
       "      <td>low</td>\n",
       "      <td>NSCLC_4.0_low</td>\n",
       "      <td>2024_xenium_breast_htma</td>\n",
       "      <td>Xenium</td>\n",
       "      <td>PhenoCycler</td>\n",
       "      <td>13.621205</td>\n",
       "    </tr>\n",
       "    <tr>\n",
       "      <th>2</th>\n",
       "      <td>127</td>\n",
       "      <td>CD274</td>\n",
       "      <td>NSCLC</td>\n",
       "      <td>50</td>\n",
       "      <td>gene</td>\n",
       "      <td>4.0</td>\n",
       "      <td>high</td>\n",
       "      <td>NSCLC_4.0_high</td>\n",
       "      <td>2024_xenium_breast_htma</td>\n",
       "      <td>Xenium</td>\n",
       "      <td>PhenoCycler</td>\n",
       "      <td>25.605011</td>\n",
       "    </tr>\n",
       "    <tr>\n",
       "      <th>3</th>\n",
       "      <td>128</td>\n",
       "      <td>CD274</td>\n",
       "      <td>NSCLC</td>\n",
       "      <td>40</td>\n",
       "      <td>gene</td>\n",
       "      <td>4.0</td>\n",
       "      <td>high</td>\n",
       "      <td>NSCLC_4.0_high</td>\n",
       "      <td>2024_xenium_breast_htma</td>\n",
       "      <td>Xenium</td>\n",
       "      <td>PhenoCycler</td>\n",
       "      <td>24.229490</td>\n",
       "    </tr>\n",
       "    <tr>\n",
       "      <th>4</th>\n",
       "      <td>129</td>\n",
       "      <td>CD274</td>\n",
       "      <td>NSCLC</td>\n",
       "      <td>377</td>\n",
       "      <td>gene</td>\n",
       "      <td>5.0</td>\n",
       "      <td>high</td>\n",
       "      <td>NSCLC_5.0_high</td>\n",
       "      <td>2024_xenium_breast_htma</td>\n",
       "      <td>Xenium</td>\n",
       "      <td>PhenoCycler</td>\n",
       "      <td>38.055491</td>\n",
       "    </tr>\n",
       "  </tbody>\n",
       "</table>\n",
       "</div>"
      ],
      "text/plain": [
       "   core   gene tissue_type  count code_type  patient_number PD-L1_status   \n",
       "0   125  CD274       NSCLC     57      gene             4.0          low  \\\n",
       "1   126  CD274       NSCLC    121      gene             4.0          low   \n",
       "2   127  CD274       NSCLC     50      gene             4.0         high   \n",
       "3   128  CD274       NSCLC     40      gene             4.0         high   \n",
       "4   129  CD274       NSCLC    377      gene             5.0         high   \n",
       "\n",
       "  unique_patient_number                   sample platform protein_platform   \n",
       "0         NSCLC_4.0_low  2024_xenium_breast_htma   Xenium      PhenoCycler  \\\n",
       "1         NSCLC_4.0_low  2024_xenium_breast_htma   Xenium      PhenoCycler   \n",
       "2        NSCLC_4.0_high  2024_xenium_breast_htma   Xenium      PhenoCycler   \n",
       "3        NSCLC_4.0_high  2024_xenium_breast_htma   Xenium      PhenoCycler   \n",
       "4        NSCLC_5.0_high  2024_xenium_breast_htma   Xenium      PhenoCycler   \n",
       "\n",
       "   protein_expression  \n",
       "0           15.272572  \n",
       "1           13.621205  \n",
       "2           25.605011  \n",
       "3           24.229490  \n",
       "4           38.055491  "
      ]
     },
     "metadata": {},
     "output_type": "display_data"
    }
   ],
   "source": [
    "df_core = pd.read_csv(f'{wd}/data/Sample_Info_HTMA_TMA - Sheet1.csv')[['core', 'tissue_type', 'patient_number', 'PD-L1_status']]\n",
    "df_core['unique_patient_number'] = df_core.apply(lambda row: f\"{row['tissue_type']}_{row['patient_number']}_{row['PD-L1_status']}\", axis=1)\n",
    "\n",
    "def get_protein_expression(core, tech):\n",
    "\n",
    "    file_dict = {\n",
    "        'codex':f'/Users/whuan/dev/OPP/codex_pipeline/2022_tma_1/quantification/single_cell_quantification_whole-cell_{core}_1230.csv',\n",
    "        'cycif':f'/Users/whuan/dev/OPP/codex_pipeline/cycif_tma_010/quantification/single_cell_quantification_whole-cell_{core}_600.csv',\n",
    "        'hmif':f'/Users/whuan/dev/OPP/codex_pipeline/tma_mac/quantification/single_cell_quantification_whole-cell_{core}_760.csv',\n",
    "    }\n",
    "\n",
    "    df = pd.read_csv(file_dict[tech], engine='pyarrow')\n",
    "    # protein_expression = df['PD-L1'].mean()\n",
    "    protein_expression = df['PD-L1'].quantile(0.75)\n",
    "    return protein_expression\n",
    "\n",
    "\n",
    "gene = 'CD274'\n",
    "\n",
    "df_p_all = pd.DataFrame()\n",
    "for sample in [\n",
    "    '2024_xenium_breast_htma',\n",
    "    '2024_merscope_breast_htma',\n",
    "    '2024_cosmx_multitissue_htma',\n",
    "    ]:\n",
    "    print (sample)\n",
    "    df = pd.read_csv(f'{wd}/data/gene_level_csv/gene_level_csv_{sample}.csv', engine='pyarrow')\n",
    "    df_selected = df.loc[df[\"gene\"]==gene]\n",
    "    df_join = pd.merge(df_selected, df_core, on=['core','tissue_type'], how='left')\n",
    "    df_join['sample'] = sample\n",
    "    df_join['core'] = df_join['core'].astype('int')\n",
    "    df_join = df_join.loc[df_join['core'].isin(matching_cores_2024)]\n",
    "    df_join = df_join.loc[~df_join['core'].isin([x for x in range(100,111)]+[42,83,97,113,114,115,116,117,118,120])]\n",
    "    df_join['platform'] = df_join['sample'].apply(lambda x: x.split('_')[-3].upper())\n",
    "    df_join['platform'] = df_join['platform'].replace({'XENIUM':'Xenium','MERSCOPE':'MERSCOPE','COSMX':'CosMx'})\n",
    "    for tech in ['codex','cycif','hmif']:\n",
    "        df_join[f'{tech}_expression'] = df_join.apply(lambda row: get_protein_expression(row['core'], tech), axis=1)\n",
    "    df_join = df_join.loc[df_join['PD-L1_status'].isin(['high','low'])]\n",
    "    df_p_all = pd.concat([df_p_all, df_join])\n",
    "\n",
    "\n",
    "# Melt the DataFrame\n",
    "df_melted = df_p_all.melt(\n",
    "    id_vars=['core', 'gene', 'tissue_type', 'count', 'code_type', 'patient_number', 'PD-L1_status', 'unique_patient_number', 'sample', 'platform'],\n",
    "    value_vars=['codex_expression', 'cycif_expression', 'hmif_expression'],\n",
    "    var_name='protein_platform', \n",
    "    value_name='protein_expression'\n",
    ")\n",
    "\n",
    "# Map platform column to remove '_expression' suffix\n",
    "df_melted['protein_platform'] = df_melted['protein_platform'].str.replace('_expression', '').str.upper()\n",
    "df_melted['protein_platform'] = df_melted['protein_platform'].apply(lambda x: {\n",
    "    'CODEX':'PhenoCycler',\n",
    "    'CYCIF':'CyCIF',\n",
    "    'HMIF':'PhenoImager',\n",
    "}[x])\n",
    "\n",
    "# Display the resulting DataFrame\n",
    "display(df_melted.head())"
   ]
  },
  {
   "cell_type": "code",
   "execution_count": 10,
   "metadata": {},
   "outputs": [
    {
     "name": "stderr",
     "output_type": "stream",
     "text": [
      "The PostScript backend does not support transparency; partially transparent artists will be rendered opaque.\n"
     ]
    },
    {
     "data": {
      "image/png": "[encoded data removed]",
      "text/plain": [
       "<Figure size 1042.25x900 with 9 Axes>"
      ]
     },
     "metadata": {},
     "output_type": "display_data"
    }
   ],
   "source": [
    "\n",
    "# 1) Create a FacetGrid\n",
    "g = sns.FacetGrid(\n",
    "    data=df_melted,\n",
    "    row='platform',\n",
    "    col='protein_platform',\n",
    "    hue='protein_platform',\n",
    "    height=3,\n",
    "    aspect=1,\n",
    "    margin_titles=True,\n",
    "    sharex=False,\n",
    "    sharey=False\n",
    ")\n",
    "\n",
    "# 2) Map a scatterplot onto each facet\n",
    "g.map(\n",
    "    sns.scatterplot,\n",
    "    'protein_expression',  # x\n",
    "    'count'                # y\n",
    ")\n",
    "\n",
    "# 3) Adjust x-range for each column, if desired\n",
    "col_levels = df_melted['protein_platform'].unique()\n",
    "for (row_val, col_val), ax in g.axes_dict.items():\n",
    "    if col_val == col_levels[0]:\n",
    "        ax.set_xlim(0, 500)\n",
    "    elif col_val == col_levels[1]:\n",
    "        ax.set_xlim(0, 20000)\n",
    "    elif col_val == col_levels[2]:\n",
    "        ax.set_xlim(0, 80)\n",
    "\n",
    "# 4) Label axes and set fonts\n",
    "g.set_axis_labels(\"Protein PD-L1 expression (intensity)\", \"iST CD274 expression (count)\")\n",
    "g.set_titles(row_template=\"{row_name}\", col_template=\"{col_name}\", size=14, color=\"black\")\n",
    "\n",
    "# 5) Customize spines, tick sizes, etc.\n",
    "for ax in g.axes.flat:\n",
    "    ax.spines['bottom'].set_linewidth(1.2)\n",
    "    ax.spines['bottom'].set_color('black')\n",
    "    ax.spines['left'].set_linewidth(1.2)\n",
    "    ax.spines['left'].set_color('black')\n",
    "    ax.tick_params(axis='both', which='major', labelsize=12, color='black')\n",
    "\n",
    "# 6) OPTIONAL: Remove legend if you don't need it\n",
    "g.add_legend()\n",
    "g._legend.remove()\n",
    "\n",
    "# 7) Calculate Spearman R for each facet and annotate\n",
    "for (row_val, col_val), ax in g.axes_dict.items():\n",
    "    # Subset data for just this facet\n",
    "    subset = df_melted[\n",
    "        (df_melted['platform'] == row_val) & \n",
    "        (df_melted['protein_platform'] == col_val)\n",
    "    ]\n",
    "    # Compute Spearman correlation\n",
    "    if not subset.empty:\n",
    "        r, p = sp.stats.spearmanr(subset['protein_expression'], subset['count'])\n",
    "        if r < 0.01:\n",
    "            r = 0.01\n",
    "        \n",
    "        # Format p-value for nicer text\n",
    "        if p < 0.0001:\n",
    "            p_text = \"<0.0001\"\n",
    "        else:\n",
    "            p_text = f\"{p:.3g}\"\n",
    "\n",
    "        # Annotate on the axes\n",
    "        ax.text(\n",
    "            0.5, 0.9,          # position in Axes coords (0=left/bottom, 1=right/top)\n",
    "            f\"Spearman R = {r:.2f}\\np = {p_text}\",\n",
    "            ha='center',\n",
    "            va='center',\n",
    "            transform=ax.transAxes,\n",
    "            color='black',\n",
    "            fontsize=12,\n",
    "            bbox=dict(boxstyle='round,pad=0.3', fc='white', ec='none', alpha=0.7)\n",
    "        )\n",
    "\n",
    "# 8) Overall figure title\n",
    "g.fig.suptitle(\n",
    "    \"Protein PD-L1 expression vs. iST CD274 expression at core level\",\n",
    "    y=1.02,  # move the title slightly above the grid\n",
    "    x=0.5,\n",
    "    ha=\"center\",\n",
    "    fontsize=15,\n",
    "    color=\"black\"\n",
    ")\n",
    "\n",
    "plt.tight_layout()\n",
    "plt.savefig(f'{wd}/figures/response_letter/protein_vs_ist.png', \n",
    "            dpi=250, transparent=True)\n",
    "plt.savefig(f'{wd}/figures/response_letter/protein_vs_ist.eps', \n",
    "            dpi=250, transparent=True)\n",
    "plt.show()\n"
   ]
  },
  {
   "cell_type": "markdown",
   "metadata": {},
   "source": [
    "## Plot using plotly (Depreciated)"
   ]
  },
  {
   "cell_type": "code",
   "execution_count": 12,
   "metadata": {},
   "outputs": [
    {
     "data": {
      "application/vnd.plotly.v1+json": {
       "config": {
        "plotlyServerURL": "https://plot.ly"
       },
       "data": [
        {
         "hovertemplate": "protein_platform=PhenoCycler<br>platform=Xenium<br>protein_expression=%{x}<br>count=%{y}<extra></extra>",
         "legendgroup": "PhenoCycler",
         "marker": {
          "color": "#636efa",
          "symbol": "circle"
         },
         "mode": "markers",
         "name": "PhenoCycler",
         "orientation": "v",
         "showlegend": true,
         "type": "scatter",
         "x": [
          15.272572402044293,
          13.621205245389,
          25.60501066098081,
          24.2294903878108,
          38.05549114595968,
          23.400286201437098,
          15.514666090057355,
          12.929109509416415,
          13.4,
          18.291428571428572,
          37.65243974306088,
          25.483088436522863,
          21.884122555478054,
          20.88433637334446,
          32.97352266147654,
          37.05432362939827,
          34.54028030785213,
          52.97930836287001,
          114.72127805104131,
          129.80888596105987,
          60.24837279270068,
          44.17037037037037,
          92.88294010889292,
          2152.3636363636365,
          87.48326702473311,
          118.18530625960061,
          67.5891538631232,
          54.568724047830926,
          63.66239063826646,
          584.2156507922496,
          91.59342960906041,
          57.774838581108014,
          43.427691660016244,
          39.71545454545455,
          55.009630818619584,
          101.01685930649661,
          30.586654682239494,
          66.67085898422471,
          18.020778645063714,
          9.634150138064214,
          59.722873137722516,
          42.866168868466396,
          28.14763188127477,
          25.846987326659352,
          93.57885141294439,
          248.88111452101623,
          120.05643792676597,
          165.18508925478181
         ],
         "xaxis": "x7",
         "y": [
          57,
          121,
          50,
          40,
          377,
          73,
          80,
          105,
          106,
          129,
          68,
          1027,
          954,
          823,
          763,
          894,
          606,
          95,
          369,
          164,
          32,
          238,
          59,
          39,
          102,
          413,
          147,
          31,
          28,
          2074,
          363,
          44,
          83,
          98,
          117,
          41,
          109,
          18,
          275,
          193,
          35,
          81,
          42,
          55,
          745,
          962,
          493,
          552
         ],
         "yaxis": "y7"
        },
        {
         "hovertemplate": "protein_platform=PhenoCycler<br>platform=MERSCOPE<br>protein_expression=%{x}<br>count=%{y}<extra></extra>",
         "legendgroup": "PhenoCycler",
         "marker": {
          "color": "#636efa",
          "symbol": "circle"
         },
         "mode": "markers",
         "name": "PhenoCycler",
         "orientation": "v",
         "showlegend": false,
         "type": "scatter",
         "x": [
          15.272572402044293,
          13.621205245389,
          24.2294903878108,
          38.05549114595968,
          15.514666090057355,
          12.929109509416415,
          13.4,
          18.291428571428572,
          25.483088436522863,
          21.884122555478054,
          20.88433637334446,
          32.97352266147654,
          37.05432362939827,
          34.54028030785213,
          52.97930836287001,
          114.72127805104131,
          129.80888596105987,
          60.24837279270068,
          44.17037037037037,
          2152.3636363636365,
          87.48326702473311,
          118.18530625960061,
          67.5891538631232,
          63.66239063826646,
          584.2156507922496,
          91.59342960906041,
          57.774838581108014,
          43.427691660016244,
          39.71545454545455,
          55.009630818619584,
          101.01685930649661,
          30.586654682239494,
          66.67085898422471,
          18.020778645063714,
          9.634150138064214,
          42.866168868466396,
          28.14763188127477,
          25.846987326659352,
          93.57885141294439,
          248.88111452101623,
          120.05643792676597,
          165.18508925478181
         ],
         "xaxis": "x4",
         "y": [
          12,
          18,
          1,
          10,
          3,
          8,
          53,
          9,
          3,
          11,
          28,
          20,
          35,
          18,
          5,
          60,
          3,
          1,
          15,
          1,
          10,
          12,
          2,
          1,
          152,
          4,
          2,
          18,
          9,
          1,
          3,
          1,
          1,
          35,
          33,
          5,
          27,
          21,
          7,
          35,
          95,
          73
         ],
         "yaxis": "y4"
        },
        {
         "hovertemplate": "protein_platform=PhenoCycler<br>platform=CosMx<br>protein_expression=%{x}<br>count=%{y}<extra></extra>",
         "legendgroup": "PhenoCycler",
         "marker": {
          "color": "#636efa",
          "symbol": "circle"
         },
         "mode": "markers",
         "name": "PhenoCycler",
         "orientation": "v",
         "showlegend": false,
         "type": "scatter",
         "x": [
          15.272572402044293,
          13.621205245389,
          25.60501066098081,
          24.2294903878108,
          38.05549114595968,
          23.400286201437098,
          15.514666090057355,
          12.929109509416415,
          13.4,
          18.291428571428572,
          37.65243974306088,
          25.483088436522863,
          21.884122555478054,
          20.88433637334446,
          32.97352266147654,
          37.05432362939827,
          34.54028030785213,
          52.97930836287001,
          114.72127805104131,
          129.80888596105987,
          60.24837279270068,
          44.17037037037037,
          92.88294010889292,
          2152.3636363636365,
          87.48326702473311,
          118.18530625960061,
          67.5891538631232,
          54.568724047830926,
          63.66239063826646,
          584.2156507922496,
          91.59342960906041,
          57.774838581108014,
          43.427691660016244,
          39.71545454545455,
          55.009630818619584,
          101.01685930649661,
          30.586654682239494,
          66.67085898422471,
          18.020778645063714,
          9.634150138064214,
          59.722873137722516,
          42.866168868466396,
          28.14763188127477,
          25.846987326659352,
          93.57885141294439,
          248.88111452101623,
          120.05643792676597,
          165.18508925478181
         ],
         "xaxis": "x",
         "y": [
          83,
          121,
          58,
          52,
          290,
          59,
          68,
          109,
          160,
          167,
          59,
          627,
          383,
          429,
          424,
          342,
          759,
          136,
          260,
          115,
          73,
          115,
          101,
          68,
          129,
          197,
          102,
          44,
          50,
          932,
          146,
          66,
          134,
          91,
          114,
          39,
          73,
          91,
          1,
          18,
          103,
          70,
          91,
          106,
          313,
          485,
          325,
          461
         ],
         "yaxis": "y"
        },
        {
         "hovertemplate": "protein_platform=CyCIF<br>platform=Xenium<br>protein_expression=%{x}<br>count=%{y}<extra></extra>",
         "legendgroup": "CyCIF",
         "marker": {
          "color": "#EF553B",
          "symbol": "circle"
         },
         "mode": "markers",
         "name": "CyCIF",
         "orientation": "v",
         "showlegend": true,
         "type": "scatter",
         "x": [
          2643.95025936346,
          2744.1365853658535,
          4075.509433962264,
          4670.622601855361,
          4415.804584903506,
          5899.597858775412,
          4482.0102292165575,
          3716.4046873187144,
          2299.7456647398844,
          2956.112069412741,
          3648.0380864165654,
          3128.0210084033615,
          2399.9996611828483,
          2477.3295240541,
          3421.8617933682517,
          3023.700729927007,
          2965.6875,
          2091.25,
          4406.238396830831,
          3612.831679197995,
          1947.8724349281779,
          2087.175746730293,
          3254.4108557533928,
          1824.6789667896678,
          2792.0843023255816,
          2737.2186416402833,
          2084.7567567567567,
          1589.3412698412699,
          1869.0745906610068,
          29673.713001105196,
          2615.264705882353,
          2403.205007824726,
          1745.0150178177498,
          1928.1585267857142,
          1896.225,
          2209.514793724116,
          2056.88354978355,
          2166.019867549669,
          1757.1589743589743,
          2141.6026737967914,
          2033.2776690521396,
          2033.5881801637852,
          1741.703488372093,
          1517.0528889316404,
          3079.6585365853657,
          11591.776397515529,
          3655.599508196721,
          5411.090909090909
         ],
         "xaxis": "x8",
         "y": [
          57,
          121,
          50,
          40,
          377,
          73,
          80,
          105,
          106,
          129,
          68,
          1027,
          954,
          823,
          763,
          894,
          606,
          95,
          369,
          164,
          32,
          238,
          59,
          39,
          102,
          413,
          147,
          31,
          28,
          2074,
          363,
          44,
          83,
          98,
          117,
          41,
          109,
          18,
          275,
          193,
          35,
          81,
          42,
          55,
          745,
          962,
          493,
          552
         ],
         "yaxis": "y8"
        },
        {
         "hovertemplate": "protein_platform=CyCIF<br>platform=MERSCOPE<br>protein_expression=%{x}<br>count=%{y}<extra></extra>",
         "legendgroup": "CyCIF",
         "marker": {
          "color": "#EF553B",
          "symbol": "circle"
         },
         "mode": "markers",
         "name": "CyCIF",
         "orientation": "v",
         "showlegend": false,
         "type": "scatter",
         "x": [
          2643.95025936346,
          2744.1365853658535,
          4670.622601855361,
          4415.804584903506,
          4482.0102292165575,
          3716.4046873187144,
          2299.7456647398844,
          2956.112069412741,
          3128.0210084033615,
          2399.9996611828483,
          2477.3295240541,
          3421.8617933682517,
          3023.700729927007,
          2965.6875,
          2091.25,
          4406.238396830831,
          3612.831679197995,
          1947.8724349281779,
          2087.175746730293,
          1824.6789667896678,
          2792.0843023255816,
          2737.2186416402833,
          2084.7567567567567,
          1869.0745906610068,
          29673.713001105196,
          2615.264705882353,
          2403.205007824726,
          1745.0150178177498,
          1928.1585267857142,
          1896.225,
          2209.514793724116,
          2056.88354978355,
          2166.019867549669,
          1757.1589743589743,
          2141.6026737967914,
          2033.5881801637852,
          1741.703488372093,
          1517.0528889316404,
          3079.6585365853657,
          11591.776397515529,
          3655.599508196721,
          5411.090909090909
         ],
         "xaxis": "x5",
         "y": [
          12,
          18,
          1,
          10,
          3,
          8,
          53,
          9,
          3,
          11,
          28,
          20,
          35,
          18,
          5,
          60,
          3,
          1,
          15,
          1,
          10,
          12,
          2,
          1,
          152,
          4,
          2,
          18,
          9,
          1,
          3,
          1,
          1,
          35,
          33,
          5,
          27,
          21,
          7,
          35,
          95,
          73
         ],
         "yaxis": "y5"
        },
        {
         "hovertemplate": "protein_platform=CyCIF<br>platform=CosMx<br>protein_expression=%{x}<br>count=%{y}<extra></extra>",
         "legendgroup": "CyCIF",
         "marker": {
          "color": "#EF553B",
          "symbol": "circle"
         },
         "mode": "markers",
         "name": "CyCIF",
         "orientation": "v",
         "showlegend": false,
         "type": "scatter",
         "x": [
          2643.95025936346,
          2744.1365853658535,
          4075.509433962264,
          4670.622601855361,
          4415.804584903506,
          5899.597858775412,
          4482.0102292165575,
          3716.4046873187144,
          2299.7456647398844,
          2956.112069412741,
          3648.0380864165654,
          3128.0210084033615,
          2399.9996611828483,
          2477.3295240541,
          3421.8617933682517,
          3023.700729927007,
          2965.6875,
          2091.25,
          4406.238396830831,
          3612.831679197995,
          1947.8724349281779,
          2087.175746730293,
          3254.4108557533928,
          1824.6789667896678,
          2792.0843023255816,
          2737.2186416402833,
          2084.7567567567567,
          1589.3412698412699,
          1869.0745906610068,
          29673.713001105196,
          2615.264705882353,
          2403.205007824726,
          1745.0150178177498,
          1928.1585267857142,
          1896.225,
          2209.514793724116,
          2056.88354978355,
          2166.019867549669,
          1757.1589743589743,
          2141.6026737967914,
          2033.2776690521396,
          2033.5881801637852,
          1741.703488372093,
          1517.0528889316404,
          3079.6585365853657,
          11591.776397515529,
          3655.599508196721,
          5411.090909090909
         ],
         "xaxis": "x2",
         "y": [
          83,
          121,
          58,
          52,
          290,
          59,
          68,
          109,
          160,
          167,
          59,
          627,
          383,
          429,
          424,
          342,
          759,
          136,
          260,
          115,
          73,
          115,
          101,
          68,
          129,
          197,
          102,
          44,
          50,
          932,
          146,
          66,
          134,
          91,
          114,
          39,
          73,
          91,
          1,
          18,
          103,
          70,
          91,
          106,
          313,
          485,
          325,
          461
         ],
         "yaxis": "y2"
        },
        {
         "hovertemplate": "protein_platform=PhenoImager<br>platform=Xenium<br>protein_expression=%{x}<br>count=%{y}<extra></extra>",
         "legendgroup": "PhenoImager",
         "marker": {
          "color": "#00cc96",
          "symbol": "circle"
         },
         "mode": "markers",
         "name": "PhenoImager",
         "orientation": "v",
         "showlegend": true,
         "type": "scatter",
         "x": [
          41.263930659983295,
          39.422413793103445,
          54.376038595550796,
          50.40900983034723,
          29.85377358490566,
          59.7196261682243,
          60.04305966991113,
          37.49437927663734,
          47,
          50.29344618729616,
          45.12777777777778,
          25.087571129080565,
          26.885139187365688,
          35.44399001536098,
          35.71971962616823,
          25.31132856994926,
          30.9,
          43.680851063829785,
          35.545921407291814,
          30.093457943925234,
          24.349330357142858,
          24.43076923076923,
          26.26151244336871,
          28.7939896373057,
          28.140287769784173,
          27.542630220026943,
          26.945256971022417,
          30.404545454545456,
          30.094383323682685,
          116.00105694564279,
          37.729293054351864,
          34.18497962449061,
          32.99640852974186,
          21.166664350822586,
          24.857142857142858,
          55.232151863909394,
          48.29004464285714,
          25.5614777213762,
          7.211843202668891,
          9.900763358778626,
          28.707691249312052,
          24.813544739429695,
          21.335324161549362,
          20.54103727955949,
          26.915057915057915,
          49.95075757575758,
          33.97828282828283,
          42.18686113188731
         ],
         "xaxis": "x9",
         "y": [
          57,
          121,
          50,
          40,
          377,
          73,
          80,
          105,
          106,
          129,
          68,
          1027,
          954,
          823,
          763,
          894,
          606,
          95,
          369,
          164,
          32,
          238,
          59,
          39,
          102,
          413,
          147,
          31,
          28,
          2074,
          363,
          44,
          83,
          98,
          117,
          41,
          109,
          18,
          275,
          193,
          35,
          81,
          42,
          55,
          745,
          962,
          493,
          552
         ],
         "yaxis": "y9"
        },
        {
         "hovertemplate": "protein_platform=PhenoImager<br>platform=MERSCOPE<br>protein_expression=%{x}<br>count=%{y}<extra></extra>",
         "legendgroup": "PhenoImager",
         "marker": {
          "color": "#00cc96",
          "symbol": "circle"
         },
         "mode": "markers",
         "name": "PhenoImager",
         "orientation": "v",
         "showlegend": false,
         "type": "scatter",
         "x": [
          41.263930659983295,
          39.422413793103445,
          50.40900983034723,
          29.85377358490566,
          60.04305966991113,
          37.49437927663734,
          47,
          50.29344618729616,
          25.087571129080565,
          26.885139187365688,
          35.44399001536098,
          35.71971962616823,
          25.31132856994926,
          30.9,
          43.680851063829785,
          35.545921407291814,
          30.093457943925234,
          24.349330357142858,
          24.43076923076923,
          28.7939896373057,
          28.140287769784173,
          27.542630220026943,
          26.945256971022417,
          30.094383323682685,
          116.00105694564279,
          37.729293054351864,
          34.18497962449061,
          32.99640852974186,
          21.166664350822586,
          24.857142857142858,
          55.232151863909394,
          48.29004464285714,
          25.5614777213762,
          7.211843202668891,
          9.900763358778626,
          24.813544739429695,
          21.335324161549362,
          20.54103727955949,
          26.915057915057915,
          49.95075757575758,
          33.97828282828283,
          42.18686113188731
         ],
         "xaxis": "x6",
         "y": [
          12,
          18,
          1,
          10,
          3,
          8,
          53,
          9,
          3,
          11,
          28,
          20,
          35,
          18,
          5,
          60,
          3,
          1,
          15,
          1,
          10,
          12,
          2,
          1,
          152,
          4,
          2,
          18,
          9,
          1,
          3,
          1,
          1,
          35,
          33,
          5,
          27,
          21,
          7,
          35,
          95,
          73
         ],
         "yaxis": "y6"
        },
        {
         "hovertemplate": "protein_platform=PhenoImager<br>platform=CosMx<br>protein_expression=%{x}<br>count=%{y}<extra></extra>",
         "legendgroup": "PhenoImager",
         "marker": {
          "color": "#00cc96",
          "symbol": "circle"
         },
         "mode": "markers",
         "name": "PhenoImager",
         "orientation": "v",
         "showlegend": false,
         "type": "scatter",
         "x": [
          41.263930659983295,
          39.422413793103445,
          54.376038595550796,
          50.40900983034723,
          29.85377358490566,
          59.7196261682243,
          60.04305966991113,
          37.49437927663734,
          47,
          50.29344618729616,
          45.12777777777778,
          25.087571129080565,
          26.885139187365688,
          35.44399001536098,
          35.71971962616823,
          25.31132856994926,
          30.9,
          43.680851063829785,
          35.545921407291814,
          30.093457943925234,
          24.349330357142858,
          24.43076923076923,
          26.26151244336871,
          28.7939896373057,
          28.140287769784173,
          27.542630220026943,
          26.945256971022417,
          30.404545454545456,
          30.094383323682685,
          116.00105694564279,
          37.729293054351864,
          34.18497962449061,
          32.99640852974186,
          21.166664350822586,
          24.857142857142858,
          55.232151863909394,
          48.29004464285714,
          25.5614777213762,
          7.211843202668891,
          9.900763358778626,
          28.707691249312052,
          24.813544739429695,
          21.335324161549362,
          20.54103727955949,
          26.915057915057915,
          49.95075757575758,
          33.97828282828283,
          42.18686113188731
         ],
         "xaxis": "x3",
         "y": [
          83,
          121,
          58,
          52,
          290,
          59,
          68,
          109,
          160,
          167,
          59,
          627,
          383,
          429,
          424,
          342,
          759,
          136,
          260,
          115,
          73,
          115,
          101,
          68,
          129,
          197,
          102,
          44,
          50,
          932,
          146,
          66,
          134,
          91,
          114,
          39,
          73,
          91,
          1,
          18,
          103,
          70,
          91,
          106,
          313,
          485,
          325,
          461
         ],
         "yaxis": "y3"
        }
       ],
       "layout": {
        "annotations": [
         {
          "font": {
           "color": "black",
           "size": 15
          },
          "showarrow": false,
          "text": "PhenoCycler",
          "textangle": 0,
          "x": 0.15666666666666665,
          "xanchor": "center",
          "xref": "paper",
          "y": -0.06,
          "yanchor": "bottom",
          "yref": "paper"
         },
         {
          "font": {
           "color": "black",
           "size": 15
          },
          "showarrow": false,
          "text": "CyCIF",
          "textangle": 0,
          "x": 0.49,
          "xanchor": "center",
          "xref": "paper",
          "y": -0.06,
          "yanchor": "bottom",
          "yref": "paper"
         },
         {
          "font": {
           "color": "black",
           "size": 15
          },
          "showarrow": false,
          "text": "PhenoImager",
          "textangle": 0,
          "x": 0.8233333333333333,
          "xanchor": "center",
          "xref": "paper",
          "y": -0.06,
          "yanchor": "bottom",
          "yref": "paper"
         },
         {
          "font": {
           "color": "black",
           "size": 15
          },
          "showarrow": false,
          "text": "CosMx",
          "textangle": 90,
          "x": 0.98,
          "xanchor": "left",
          "xref": "paper",
          "y": 0.15666666666666665,
          "yanchor": "middle",
          "yref": "paper"
         },
         {
          "font": {
           "color": "black",
           "size": 15
          },
          "showarrow": false,
          "text": "MERSCOPE",
          "textangle": 90,
          "x": 0.98,
          "xanchor": "left",
          "xref": "paper",
          "y": 0.4999999999999999,
          "yanchor": "middle",
          "yref": "paper"
         },
         {
          "font": {
           "color": "black",
           "size": 15
          },
          "showarrow": false,
          "text": "Xenium",
          "textangle": 90,
          "x": 0.98,
          "xanchor": "left",
          "xref": "paper",
          "y": 0.8433333333333332,
          "yanchor": "middle",
          "yref": "paper"
         }
        ],
        "font": {
         "color": "black",
         "size": 15
        },
        "height": 800,
        "legend": {
         "orientation": "h",
         "title": {
          "text": ""
         },
         "tracegroupgap": 0,
         "x": 0.5,
         "xanchor": "center",
         "y": 1,
         "yanchor": "bottom"
        },
        "margin": {
         "t": 60
        },
        "showlegend": true,
        "template": {
         "data": {
          "bar": [
           {
            "error_x": {
             "color": "#2a3f5f"
            },
            "error_y": {
             "color": "#2a3f5f"
            },
            "marker": {
             "line": {
              "color": "#E5ECF6",
              "width": 0.5
             },
             "pattern": {
              "fillmode": "overlay",
              "size": 10,
              "solidity": 0.2
             }
            },
            "type": "bar"
           }
          ],
          "barpolar": [
           {
            "marker": {
             "line": {
              "color": "#E5ECF6",
              "width": 0.5
             },
             "pattern": {
              "fillmode": "overlay",
              "size": 10,
              "solidity": 0.2
             }
            },
            "type": "barpolar"
           }
          ],
          "carpet": [
           {
            "aaxis": {
             "endlinecolor": "#2a3f5f",
             "gridcolor": "white",
             "linecolor": "white",
             "minorgridcolor": "white",
             "startlinecolor": "#2a3f5f"
            },
            "baxis": {
             "endlinecolor": "#2a3f5f",
             "gridcolor": "white",
             "linecolor": "white",
             "minorgridcolor": "white",
             "startlinecolor": "#2a3f5f"
            },
            "type": "carpet"
           }
          ],
          "choropleth": [
           {
            "colorbar": {
             "outlinewidth": 0,
             "ticks": ""
            },
            "type": "choropleth"
           }
          ],
          "contour": [
           {
            "colorbar": {
             "outlinewidth": 0,
             "ticks": ""
            },
            "colorscale": [
             [
              0,
              "#0d0887"
             ],
             [
              0.1111111111111111,
              "#46039f"
             ],
             [
              0.2222222222222222,
              "#7201a8"
             ],
             [
              0.3333333333333333,
              "#9c179e"
             ],
             [
              0.4444444444444444,
              "#bd3786"
             ],
             [
              0.5555555555555556,
              "#d8576b"
             ],
             [
              0.6666666666666666,
              "#ed7953"
             ],
             [
              0.7777777777777778,
              "#fb9f3a"
             ],
             [
              0.8888888888888888,
              "#fdca26"
             ],
             [
              1,
              "#f0f921"
             ]
            ],
            "type": "contour"
           }
          ],
          "contourcarpet": [
           {
            "colorbar": {
             "outlinewidth": 0,
             "ticks": ""
            },
            "type": "contourcarpet"
           }
          ],
          "heatmap": [
           {
            "colorbar": {
             "outlinewidth": 0,
             "ticks": ""
            },
            "colorscale": [
             [
              0,
              "#0d0887"
             ],
             [
              0.1111111111111111,
              "#46039f"
             ],
             [
              0.2222222222222222,
              "#7201a8"
             ],
             [
              0.3333333333333333,
              "#9c179e"
             ],
             [
              0.4444444444444444,
              "#bd3786"
             ],
             [
              0.5555555555555556,
              "#d8576b"
             ],
             [
              0.6666666666666666,
              "#ed7953"
             ],
             [
              0.7777777777777778,
              "#fb9f3a"
             ],
             [
              0.8888888888888888,
              "#fdca26"
             ],
             [
              1,
              "#f0f921"
             ]
            ],
            "type": "heatmap"
           }
          ],
          "heatmapgl": [
           {
            "colorbar": {
             "outlinewidth": 0,
             "ticks": ""
            },
            "colorscale": [
             [
              0,
              "#0d0887"
             ],
             [
              0.1111111111111111,
              "#46039f"
             ],
             [
              0.2222222222222222,
              "#7201a8"
             ],
             [
              0.3333333333333333,
              "#9c179e"
             ],
             [
              0.4444444444444444,
              "#bd3786"
             ],
             [
              0.5555555555555556,
              "#d8576b"
             ],
             [
              0.6666666666666666,
              "#ed7953"
             ],
             [
              0.7777777777777778,
              "#fb9f3a"
             ],
             [
              0.8888888888888888,
              "#fdca26"
             ],
             [
              1,
              "#f0f921"
             ]
            ],
            "type": "heatmapgl"
           }
          ],
          "histogram": [
           {
            "marker": {
             "pattern": {
              "fillmode": "overlay",
              "size": 10,
              "solidity": 0.2
             }
            },
            "type": "histogram"
           }
          ],
          "histogram2d": [
           {
            "colorbar": {
             "outlinewidth": 0,
             "ticks": ""
            },
            "colorscale": [
             [
              0,
              "#0d0887"
             ],
             [
              0.1111111111111111,
              "#46039f"
             ],
             [
              0.2222222222222222,
              "#7201a8"
             ],
             [
              0.3333333333333333,
              "#9c179e"
             ],
             [
              0.4444444444444444,
              "#bd3786"
             ],
             [
              0.5555555555555556,
              "#d8576b"
             ],
             [
              0.6666666666666666,
              "#ed7953"
             ],
             [
              0.7777777777777778,
              "#fb9f3a"
             ],
             [
              0.8888888888888888,
              "#fdca26"
             ],
             [
              1,
              "#f0f921"
             ]
            ],
            "type": "histogram2d"
           }
          ],
          "histogram2dcontour": [
           {
            "colorbar": {
             "outlinewidth": 0,
             "ticks": ""
            },
            "colorscale": [
             [
              0,
              "#0d0887"
             ],
             [
              0.1111111111111111,
              "#46039f"
             ],
             [
              0.2222222222222222,
              "#7201a8"
             ],
             [
              0.3333333333333333,
              "#9c179e"
             ],
             [
              0.4444444444444444,
              "#bd3786"
             ],
             [
              0.5555555555555556,
              "#d8576b"
             ],
             [
              0.6666666666666666,
              "#ed7953"
             ],
             [
              0.7777777777777778,
              "#fb9f3a"
             ],
             [
              0.8888888888888888,
              "#fdca26"
             ],
             [
              1,
              "#f0f921"
             ]
            ],
            "type": "histogram2dcontour"
           }
          ],
          "mesh3d": [
           {
            "colorbar": {
             "outlinewidth": 0,
             "ticks": ""
            },
            "type": "mesh3d"
           }
          ],
          "parcoords": [
           {
            "line": {
             "colorbar": {
              "outlinewidth": 0,
              "ticks": ""
             }
            },
            "type": "parcoords"
           }
          ],
          "pie": [
           {
            "automargin": true,
            "type": "pie"
           }
          ],
          "scatter": [
           {
            "fillpattern": {
             "fillmode": "overlay",
             "size": 10,
             "solidity": 0.2
            },
            "type": "scatter"
           }
          ],
          "scatter3d": [
           {
            "line": {
             "colorbar": {
              "outlinewidth": 0,
              "ticks": ""
             }
            },
            "marker": {
             "colorbar": {
              "outlinewidth": 0,
              "ticks": ""
             }
            },
            "type": "scatter3d"
           }
          ],
          "scattercarpet": [
           {
            "marker": {
             "colorbar": {
              "outlinewidth": 0,
              "ticks": ""
             }
            },
            "type": "scattercarpet"
           }
          ],
          "scattergeo": [
           {
            "marker": {
             "colorbar": {
              "outlinewidth": 0,
              "ticks": ""
             }
            },
            "type": "scattergeo"
           }
          ],
          "scattergl": [
           {
            "marker": {
             "colorbar": {
              "outlinewidth": 0,
              "ticks": ""
             }
            },
            "type": "scattergl"
           }
          ],
          "scattermapbox": [
           {
            "marker": {
             "colorbar": {
              "outlinewidth": 0,
              "ticks": ""
             }
            },
            "type": "scattermapbox"
           }
          ],
          "scatterpolar": [
           {
            "marker": {
             "colorbar": {
              "outlinewidth": 0,
              "ticks": ""
             }
            },
            "type": "scatterpolar"
           }
          ],
          "scatterpolargl": [
           {
            "marker": {
             "colorbar": {
              "outlinewidth": 0,
              "ticks": ""
             }
            },
            "type": "scatterpolargl"
           }
          ],
          "scatterternary": [
           {
            "marker": {
             "colorbar": {
              "outlinewidth": 0,
              "ticks": ""
             }
            },
            "type": "scatterternary"
           }
          ],
          "surface": [
           {
            "colorbar": {
             "outlinewidth": 0,
             "ticks": ""
            },
            "colorscale": [
             [
              0,
              "#0d0887"
             ],
             [
              0.1111111111111111,
              "#46039f"
             ],
             [
              0.2222222222222222,
              "#7201a8"
             ],
             [
              0.3333333333333333,
              "#9c179e"
             ],
             [
              0.4444444444444444,
              "#bd3786"
             ],
             [
              0.5555555555555556,
              "#d8576b"
             ],
             [
              0.6666666666666666,
              "#ed7953"
             ],
             [
              0.7777777777777778,
              "#fb9f3a"
             ],
             [
              0.8888888888888888,
              "#fdca26"
             ],
             [
              1,
              "#f0f921"
             ]
            ],
            "type": "surface"
           }
          ],
          "table": [
           {
            "cells": {
             "fill": {
              "color": "#EBF0F8"
             },
             "line": {
              "color": "white"
             }
            },
            "header": {
             "fill": {
              "color": "#C8D4E3"
             },
             "line": {
              "color": "white"
             }
            },
            "type": "table"
           }
          ]
         },
         "layout": {
          "annotationdefaults": {
           "arrowcolor": "#2a3f5f",
           "arrowhead": 0,
           "arrowwidth": 1
          },
          "autotypenumbers": "strict",
          "coloraxis": {
           "colorbar": {
            "outlinewidth": 0,
            "ticks": ""
           }
          },
          "colorscale": {
           "diverging": [
            [
             0,
             "#8e0152"
            ],
            [
             0.1,
             "#c51b7d"
            ],
            [
             0.2,
             "#de77ae"
            ],
            [
             0.3,
             "#f1b6da"
            ],
            [
             0.4,
             "#fde0ef"
            ],
            [
             0.5,
             "#f7f7f7"
            ],
            [
             0.6,
             "#e6f5d0"
            ],
            [
             0.7,
             "#b8e186"
            ],
            [
             0.8,
             "#7fbc41"
            ],
            [
             0.9,
             "#4d9221"
            ],
            [
             1,
             "#276419"
            ]
           ],
           "sequential": [
            [
             0,
             "#0d0887"
            ],
            [
             0.1111111111111111,
             "#46039f"
            ],
            [
             0.2222222222222222,
             "#7201a8"
            ],
            [
             0.3333333333333333,
             "#9c179e"
            ],
            [
             0.4444444444444444,
             "#bd3786"
            ],
            [
             0.5555555555555556,
             "#d8576b"
            ],
            [
             0.6666666666666666,
             "#ed7953"
            ],
            [
             0.7777777777777778,
             "#fb9f3a"
            ],
            [
             0.8888888888888888,
             "#fdca26"
            ],
            [
             1,
             "#f0f921"
            ]
           ],
           "sequentialminus": [
            [
             0,
             "#0d0887"
            ],
            [
             0.1111111111111111,
             "#46039f"
            ],
            [
             0.2222222222222222,
             "#7201a8"
            ],
            [
             0.3333333333333333,
             "#9c179e"
            ],
            [
             0.4444444444444444,
             "#bd3786"
            ],
            [
             0.5555555555555556,
             "#d8576b"
            ],
            [
             0.6666666666666666,
             "#ed7953"
            ],
            [
             0.7777777777777778,
             "#fb9f3a"
            ],
            [
             0.8888888888888888,
             "#fdca26"
            ],
            [
             1,
             "#f0f921"
            ]
           ]
          },
          "colorway": [
           "#636efa",
           "#EF553B",
           "#00cc96",
           "#ab63fa",
           "#FFA15A",
           "#19d3f3",
           "#FF6692",
           "#B6E880",
           "#FF97FF",
           "#FECB52"
          ],
          "font": {
           "color": "#2a3f5f"
          },
          "geo": {
           "bgcolor": "white",
           "lakecolor": "white",
           "landcolor": "#E5ECF6",
           "showlakes": true,
           "showland": true,
           "subunitcolor": "white"
          },
          "hoverlabel": {
           "align": "left"
          },
          "hovermode": "closest",
          "mapbox": {
           "style": "light"
          },
          "paper_bgcolor": "white",
          "plot_bgcolor": "#E5ECF6",
          "polar": {
           "angularaxis": {
            "gridcolor": "white",
            "linecolor": "white",
            "ticks": ""
           },
           "bgcolor": "#E5ECF6",
           "radialaxis": {
            "gridcolor": "white",
            "linecolor": "white",
            "ticks": ""
           }
          },
          "scene": {
           "xaxis": {
            "backgroundcolor": "#E5ECF6",
            "gridcolor": "white",
            "gridwidth": 2,
            "linecolor": "white",
            "showbackground": true,
            "ticks": "",
            "zerolinecolor": "white"
           },
           "yaxis": {
            "backgroundcolor": "#E5ECF6",
            "gridcolor": "white",
            "gridwidth": 2,
            "linecolor": "white",
            "showbackground": true,
            "ticks": "",
            "zerolinecolor": "white"
           },
           "zaxis": {
            "backgroundcolor": "#E5ECF6",
            "gridcolor": "white",
            "gridwidth": 2,
            "linecolor": "white",
            "showbackground": true,
            "ticks": "",
            "zerolinecolor": "white"
           }
          },
          "shapedefaults": {
           "line": {
            "color": "#2a3f5f"
           }
          },
          "ternary": {
           "aaxis": {
            "gridcolor": "white",
            "linecolor": "white",
            "ticks": ""
           },
           "baxis": {
            "gridcolor": "white",
            "linecolor": "white",
            "ticks": ""
           },
           "bgcolor": "#E5ECF6",
           "caxis": {
            "gridcolor": "white",
            "linecolor": "white",
            "ticks": ""
           }
          },
          "title": {
           "x": 0.05
          },
          "xaxis": {
           "automargin": true,
           "gridcolor": "white",
           "linecolor": "white",
           "ticks": "",
           "title": {
            "standoff": 15
           },
           "zerolinecolor": "white",
           "zerolinewidth": 2
          },
          "yaxis": {
           "automargin": true,
           "gridcolor": "white",
           "linecolor": "white",
           "ticks": "",
           "title": {
            "standoff": 15
           },
           "zerolinecolor": "white",
           "zerolinewidth": 2
          }
         }
        },
        "title": {
         "text": "Protein PD-L1 expression vs. iST CD274 expression at core level"
        },
        "width": 800,
        "xaxis": {
         "anchor": "y",
         "domain": [
          0,
          0.3133333333333333
         ],
         "linecolor": "black",
         "linewidth": 1,
         "range": [
          0,
          500
         ],
         "showline": true,
         "title": {
          "font": {
           "size": 15
          },
          "text": ""
         }
        },
        "xaxis2": {
         "anchor": "y2",
         "domain": [
          0.3333333333333333,
          0.6466666666666666
         ],
         "linecolor": "black",
         "linewidth": 1,
         "range": [
          0,
          20000
         ],
         "showline": true,
         "title": {
          "font": {
           "size": 15
          },
          "text": ""
         }
        },
        "xaxis3": {
         "anchor": "y3",
         "domain": [
          0.6666666666666666,
          0.98
         ],
         "linecolor": "black",
         "linewidth": 1,
         "range": [
          0,
          80
         ],
         "showline": true,
         "title": {
          "font": {
           "size": 15
          },
          "text": ""
         }
        },
        "xaxis4": {
         "anchor": "y4",
         "domain": [
          0,
          0.3133333333333333
         ],
         "linecolor": "black",
         "linewidth": 1,
         "range": [
          0,
          500
         ],
         "showline": true,
         "showticklabels": false,
         "title": {
          "font": {
           "size": 15
          },
          "text": ""
         }
        },
        "xaxis5": {
         "anchor": "y5",
         "domain": [
          0.3333333333333333,
          0.6466666666666666
         ],
         "linecolor": "black",
         "linewidth": 1,
         "range": [
          0,
          20000
         ],
         "showline": true,
         "showticklabels": false,
         "title": {
          "font": {
           "size": 15
          },
          "text": ""
         }
        },
        "xaxis6": {
         "anchor": "y6",
         "domain": [
          0.6666666666666666,
          0.98
         ],
         "linecolor": "black",
         "linewidth": 1,
         "range": [
          0,
          80
         ],
         "showline": true,
         "showticklabels": false,
         "title": {
          "font": {
           "size": 15
          },
          "text": ""
         }
        },
        "xaxis7": {
         "anchor": "y7",
         "domain": [
          0,
          0.3133333333333333
         ],
         "linecolor": "black",
         "linewidth": 1,
         "range": [
          0,
          500
         ],
         "showline": true,
         "showticklabels": false,
         "title": {
          "font": {
           "size": 15
          },
          "text": ""
         }
        },
        "xaxis8": {
         "anchor": "y8",
         "domain": [
          0.3333333333333333,
          0.6466666666666666
         ],
         "linecolor": "black",
         "linewidth": 1,
         "range": [
          0,
          20000
         ],
         "showline": true,
         "showticklabels": false,
         "title": {
          "font": {
           "size": 15
          },
          "text": ""
         }
        },
        "xaxis9": {
         "anchor": "y9",
         "domain": [
          0.6666666666666666,
          0.98
         ],
         "linecolor": "black",
         "linewidth": 1,
         "range": [
          0,
          80
         ],
         "showline": true,
         "showticklabels": false,
         "title": {
          "font": {
           "size": 15
          },
          "text": ""
         }
        },
        "yaxis": {
         "anchor": "x",
         "domain": [
          0,
          0.3133333333333333
         ],
         "linecolor": "black",
         "linewidth": 1,
         "showline": true,
         "title": {
          "font": {
           "size": 15
          },
          "text": ""
         }
        },
        "yaxis2": {
         "anchor": "x2",
         "domain": [
          0,
          0.3133333333333333
         ],
         "linecolor": "black",
         "linewidth": 1,
         "showline": true,
         "showticklabels": false,
         "title": {
          "font": {
           "size": 15
          },
          "text": ""
         }
        },
        "yaxis3": {
         "anchor": "x3",
         "domain": [
          0,
          0.3133333333333333
         ],
         "linecolor": "black",
         "linewidth": 1,
         "showline": true,
         "showticklabels": false,
         "title": {
          "font": {
           "size": 15
          },
          "text": ""
         }
        },
        "yaxis4": {
         "anchor": "x4",
         "domain": [
          0.34333333333333327,
          0.6566666666666665
         ],
         "linecolor": "black",
         "linewidth": 1,
         "showline": true,
         "title": {
          "font": {
           "size": 15
          },
          "text": ""
         }
        },
        "yaxis5": {
         "anchor": "x5",
         "domain": [
          0.34333333333333327,
          0.6566666666666665
         ],
         "linecolor": "black",
         "linewidth": 1,
         "showline": true,
         "showticklabels": false,
         "title": {
          "font": {
           "size": 15
          },
          "text": ""
         }
        },
        "yaxis6": {
         "anchor": "x6",
         "domain": [
          0.34333333333333327,
          0.6566666666666665
         ],
         "linecolor": "black",
         "linewidth": 1,
         "showline": true,
         "showticklabels": false,
         "title": {
          "font": {
           "size": 15
          },
          "text": ""
         }
        },
        "yaxis7": {
         "anchor": "x7",
         "domain": [
          0.6866666666666665,
          0.9999999999999998
         ],
         "linecolor": "black",
         "linewidth": 1,
         "showline": true,
         "title": {
          "font": {
           "size": 15
          },
          "text": ""
         }
        },
        "yaxis8": {
         "anchor": "x8",
         "domain": [
          0.6866666666666665,
          0.9999999999999998
         ],
         "linecolor": "black",
         "linewidth": 1,
         "showline": true,
         "showticklabels": false,
         "title": {
          "font": {
           "size": 15
          },
          "text": ""
         }
        },
        "yaxis9": {
         "anchor": "x9",
         "domain": [
          0.6866666666666665,
          0.9999999999999998
         ],
         "linecolor": "black",
         "linewidth": 1,
         "showline": true,
         "showticklabels": false,
         "title": {
          "font": {
           "size": 15
          },
          "text": ""
         }
        }
       }
      }
     },
     "metadata": {},
     "output_type": "display_data"
    }
   ],
   "source": [
    "width=800\n",
    "height=800\n",
    "fontsize = 15\n",
    "fig = px.scatter(df_melted, x=f\"protein_expression\", \n",
    "                y=\"count\",\n",
    "                color=\"protein_platform\", \n",
    "                facet_col=\"protein_platform\",\n",
    "                facet_row=\"platform\",\n",
    "                width=width, height=height)\n",
    "\n",
    "fig.update_xaxes(\n",
    "    matches=None,\n",
    "    title_text=f'',\n",
    "    title_font=dict(size=fontsize),\n",
    "    showline=True,\n",
    "    linewidth=1,\n",
    "    linecolor='black',\n",
    ")\n",
    "\n",
    "fig.update_yaxes(\n",
    "    matches=None,\n",
    "    title_text=f'',\n",
    "    title_font=dict(size=fontsize),\n",
    "    showline=True,\n",
    "    linewidth=1,\n",
    "    linecolor='black',\n",
    ")\n",
    "\n",
    "fig.update_xaxes(col=1, range=[0, 500])\n",
    "fig.update_xaxes(col=2, range=[0, 20000])\n",
    "fig.update_xaxes(col=3, range=[0, 80])\n",
    "\n",
    "\n",
    "# Customize legend and layout\n",
    "fig.update_layout(\n",
    "    title_text=f'Protein PD-L1 expression vs. iST {gene} expression at core level',\n",
    "    legend_title_text=\"\",\n",
    "    legend=dict(\n",
    "        orientation=\"h\",\n",
    "        yanchor=\"bottom\",\n",
    "        y=1,\n",
    "        xanchor=\"center\",\n",
    "        x=0.5\n",
    "    ),\n",
    "    font=dict(size=fontsize, color='black'),\n",
    "    showlegend=True,\n",
    ")\n",
    "\n",
    "for annotation in fig.layout.annotations:\n",
    "    for platform in df_melted.platform.unique():\n",
    "        if annotation.text == f'platform={platform}':\n",
    "            annotation.text = platform\n",
    "            annotation.font.size = fontsize\n",
    "            annotation.font.color = 'black'  # Set the annotation text color to black\n",
    "            annotation.x = 0.98\n",
    "            annotation.textangle = 90\n",
    "\n",
    "    for protein_platform in df_melted.protein_platform.unique():\n",
    "        if annotation.text == f'protein_platform={protein_platform}':\n",
    "            annotation.text = protein_platform\n",
    "            annotation.font.size = fontsize\n",
    "            annotation.font.color = 'black'  # Set the annotation text color to black\n",
    "            annotation.y = -0.06\n",
    "            annotation.textangle = 0\n",
    "\n",
    "fig.show()\n",
    "\n",
    "pio.write_image(fig, f'{wd}/figures/protein_validation/scatter_plot.png',scale=4, width=width, height=height)\n",
    "pio.write_image(fig, f'{wd}/figures/protein_validation/scatter_plot.eps',scale=4, width=width, height=height)"
   ]
  },
  {
   "cell_type": "code",
   "execution_count": null,
   "metadata": {},
   "outputs": [],
   "source": []
  }
 ],
 "metadata": {
  "kernelspec": {
   "display_name": "sp",
   "language": "python",
   "name": "python3"
  },
  "language_info": {
   "codemirror_mode": {
    "name": "ipython",
    "version": 3
   },
   "file_extension": ".py",
   "mimetype": "text/x-python",
   "name": "python",
   "nbconvert_exporter": "python",
   "pygments_lexer": "ipython3",
   "version": "3.8.16"
  }
 },
 "nbformat": 4,
 "nbformat_minor": 2
}
