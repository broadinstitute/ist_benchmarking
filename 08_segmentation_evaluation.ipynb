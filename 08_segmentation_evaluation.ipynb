{
 "cells": [
  {
   "cell_type": "code",
   "execution_count": 3,
   "metadata": {},
   "outputs": [
    {
     "name": "stdout",
     "output_type": "stream",
     "text": [
      "working directory: /mnt/disks/store/ist_benchmarking\n"
     ]
    }
   ],
   "source": [
    "\n",
    "import sys\n",
    "import os\n",
    "import geopandas as gpd\n",
    "import plotly.express as px\n",
    "import plotly.io as pio\n",
    "import numpy as np\n",
    "import matplotlib.pyplot as plt\n",
    "from matplotlib.lines import Line2D\n",
    "from matplotlib.patches import Patch\n",
    "from matplotlib_scalebar.scalebar import ScaleBar\n",
    "import pandas as pd\n",
    "from skimage.io import imread\n",
    "from st_utils import load_shape_file, vectorize, df_2_gdf\n",
    "from seg_eval import calculate_tp_fn_fp_from_gdf, calculate_seg_eval_metrics, translate_to_bbox, gdf_flip, calculate_area_bounds\n",
    "from seg_eval import dapi_mem_mask_annotation, load_cell_boundary_parquet, plot_cell_filtration, plot_cell_transcripts\n",
    "from constants import PIXEL_TO_UM, sample_color, SAMPLES\n",
    "from shapely.geometry import box\n",
    "\n",
    "wd = os.getcwd()\n",
    "print (f'working directory: {wd}')\n",
    "\n",
    "import warnings\n",
    "if not sys.warnoptions:\n",
    "    warnings.simplefilter(\"ignore\")\n"
   ]
  },
  {
   "cell_type": "markdown",
   "metadata": {},
   "source": [
    "# Load all cell segmentations"
   ]
  },
  {
   "cell_type": "code",
   "execution_count": 4,
   "metadata": {},
   "outputs": [
    {
     "name": "stdout",
     "output_type": "stream",
     "text": [
      "/mnt/disks/store/ist_benchmarking/data/all_xenium_merscope_cosmx_segmentation_2024.parquet.gzip is downloaded.\n"
     ]
    }
   ],
   "source": [
    "all_seg_filename = f'{wd}/data/all_xenium_merscope_cosmx_segmentation_2024.parquet.gzip'\n",
    "\n",
    "if os.path.isfile(all_seg_filename):\n",
    "    print (f'{all_seg_filename} is downloaded.')\n",
    "    gdf_all = gpd.read_parquet(all_seg_filename)\n",
    "else:\n",
    "    for sample in ['2024_cosmx_multitissue_htma', '2024_cosmx_multitissue_tumor2'][:1]:\n",
    "        folder = f'{wd}/data/{sample}/segmentation_by_fov_parquet'\n",
    "        if not os.path.exists(folder):\n",
    "            os.makedirs(folder)\n",
    "\n",
    "        if sample == '2024_cosmx_multitissue_htma':\n",
    "            total_fov = 151\n",
    "            data_dir = f'{wd}/data/cosmx/huan_tma_5724/20240430_BWH_TMA_1/20240430_203348_S1/CellStatsDir'\n",
    "        else:\n",
    "            total_fov = 177\n",
    "            data_dir = f'{wd}/data/cosmx/huan_tma_5724/20240430_BWH_TMA2/20240430_203348_S2/CellStatsDir'\n",
    "\n",
    "        for fov in range(1,total_fov):\n",
    "            fov = str(fov).zfill(3)\n",
    "            filename = f'{data_dir}/FOV{fov}/CellLabels_F{fov}.tif'\n",
    "            try:\n",
    "                print (filename)\n",
    "                img = imread(filename)\n",
    "                gdf = vectorize(img)\n",
    "                gdf.to_parquet(f'{folder}/FOV_{fov}.parquet.gzip', compression='gzip')\n",
    "            except:\n",
    "                continue\n",
    "\n",
    "        gdf_all = gpd.GeoDataFrame()\n",
    "\n",
    "        for sample in SAMPLES:\n",
    "            if '2024' in sample:\n",
    "                print (sample)\n",
    "                gdf = load_cell_boundary_parquet(sample, data_dir=f'{wd}/data')\n",
    "                gdf['Sample'] = sample\n",
    "                gdf_all = pd.concat([gdf_all, gdf])\n",
    "\n",
    "        gdf_all.to_parquet(f'{wd}/data/all_xenium_merscope_cosmx_segmentation_2024.parquet.gzip', compression='gzip', index=False)\n",
    "\n"
   ]
  },
  {
   "cell_type": "markdown",
   "metadata": {},
   "source": [
    "# Calculate segmentation accuracy matrics and plot overlaid figure"
   ]
  },
  {
   "cell_type": "code",
   "execution_count": 8,
   "metadata": {},
   "outputs": [
    {
     "name": "stdout",
     "output_type": "stream",
     "text": [
      "2024_xenium_breast_htma 99\n",
      "2024_merscope_breast_htma 99\n",
      "2024_cosmx_multitissue_htma 99\n",
      "2024_xenium_breast_htma 147\n",
      "2024_merscope_breast_htma 147\n",
      "2024_cosmx_multitissue_htma 147\n",
      "2024_xenium_breast_htma 165\n",
      "2024_merscope_breast_htma 165\n",
      "2024_cosmx_multitissue_htma 165\n"
     ]
    }
   ],
   "source": [
    "data_dir = f'{wd}/data/ground_truth'\n",
    "plot_dapi = False\n",
    "plot_filtration = False\n",
    "plot_transcripts = False\n",
    "percent = 20\n",
    "figwidth = 10\n",
    "\n",
    "metrics_list = []\n",
    "\n",
    "for core in [99, 147, 165]: # FOV: 71, 30, 8\n",
    "    for sample in ['2024_xenium_breast_htma','2024_merscope_breast_htma', '2024_cosmx_multitissue_htma']: \n",
    "        platform = sample.split('_')[-3]\n",
    "        print (sample, core)\n",
    "        ### Get DAPI and membrane (numpy array) and transcripts (geoDataFrame)\n",
    "        if platform == 'xenium':\n",
    "            filename_dapi = f'{data_dir}/{core}_{platform}.tif'\n",
    "            img_dapi = imread(filename_dapi)[...,0]\n",
    "            img_mem = imread(filename_dapi)[...,1]\n",
    "            if plot_transcripts:\n",
    "                gdf_t = gpd.read_parquet(f'{wd}/data/transcript_level_csv/{sample}_transcript_level.parquet.gzip')\n",
    "                gdf_t = gdf_t.loc[gdf_t['core'] == str(core)]\n",
    "\n",
    "        elif platform == 'cosmx':\n",
    "            filename_dapi = f'{data_dir}/{core}_{platform}.jpg'\n",
    "            filename_mem = f'{data_dir}/{core}_CellComposite.jpg'\n",
    "            img_dapi = imread(filename_dapi)[...,0]\n",
    "            img_mem = imread(filename_mem)[...,0]\n",
    "\n",
    "            if plot_transcripts:\n",
    "                columns_to_load = ['cell_id','core','x_FOV_px', 'y_FOV_px', 'gene']\n",
    "                df_t = pd.read_parquet(f'{wd}/data/transcript_level_csv/{sample}_transcript_level.parquet.gzip',\n",
    "                                    engine='pyarrow', columns=columns_to_load)\n",
    "                df_t_core = df_t.loc[df_t['core']==str(core)]\n",
    "                gdf_t= df_2_gdf(df_t_core, 'x_FOV_px','y_FOV_px')\n",
    "\n",
    "        elif platform == 'merscope':\n",
    "            filename_dapi = f'{data_dir}/{core}_{platform}.tif'\n",
    "            filename_mem = f'{wd}/data/{sample}/mem_by_core/{core}.tif'\n",
    "            img_dapi = imread(filename_dapi)\n",
    "            img_mem = imread(filename_mem)\n",
    "            if plot_transcripts:\n",
    "                gdf_t = gpd.read_parquet(f'{wd}/data/transcript_level_csv/{sample}_transcript_level.parquet.gzip')\n",
    "                gdf_t = gdf_t.loc[gdf_t['core'] == str(core)]\n",
    "            \n",
    "        ### gdf_mask: Segmentation from each platform, geodataframe\n",
    "        gdf_sample = gdf_all.loc[gdf_all['Sample']==sample]\n",
    "        gdf_sample['Platform'] = gdf_sample['Sample'].apply(lambda x: x.split(\"_\")[-3].upper())\n",
    "        ids = np.load(f'{wd}/data/good_cell_ids.npy')\n",
    "\n",
    "        gdf_sample['Keep'] = gdf_sample['cell_id'].isin(ids).map({True: 1, False: 0})\n",
    "        if plot_transcripts:\n",
    "            gdf_t['Keep'] = gdf_t['cell_id'].isin(ids).map({True: 1, False: 0})\n",
    "\n",
    "\n",
    "        # Get query bounding box\n",
    "        if platform != 'cosmx':\n",
    "            if platform == 'xenium':\n",
    "                bound_box_px_file = f'{wd}/data/{sample}/dapi_by_core/bounding_box_values_px_{core}.npy'\n",
    "                bound_box_values_px = np.load(bound_box_px_file)\n",
    "                bound_box_values_um = bound_box_values_px * PIXEL_TO_UM[platform]\n",
    "            elif platform == 'merscope':\n",
    "                bound_box_um_file = f'{wd}/data/{sample}/dapi_by_core/bounding_box_values_um_{core}.npy'\n",
    "                bound_box_values_um = np.load(bound_box_um_file)\n",
    "\n",
    "            # Using bounding box to query segmentation gdf\n",
    "            bounding_box = box(*bound_box_values_um)\n",
    "            queried_gdf = gdf_sample[gdf_sample.intersects(bounding_box)]\n",
    "            gdf_mask = translate_to_bbox(queried_gdf, bound_box_values_um, img_dapi.shape)\n",
    "        else:\n",
    "            gdf_mask = gdf_sample.loc[gdf_sample['core']==str(core)]\n",
    "\n",
    "        # Flip if necessary\n",
    "        if platform == 'merscope':\n",
    "            gdf_mask = gdf_flip(gdf_flip(gdf_mask, direction='lr'), direction='ud')\n",
    "            gdf_t = gdf_flip(gdf_flip(gdf_t, direction='lr'), direction='ud')\n",
    "\n",
    "        ### gdf_ground_truth: annotation data in geodataframe format\n",
    "        shapefile = f'{wd}/data/ground_truth/{core}_{platform}_annotation.shp'\n",
    "        gdf_gt = load_shape_file(shapefile)\n",
    "\n",
    "        # Calculate matrics\n",
    "        tp, fn, fp = calculate_tp_fn_fp_from_gdf(gdf_mask, gdf_gt)\n",
    "        metrics = calculate_seg_eval_metrics(tp, fn, fp)\n",
    "        metrics['core'] = core\n",
    "        metrics['platform'] = platform\n",
    "        metrics_list.append(metrics)\n",
    "\n",
    "        if platform == 'cosmx':\n",
    "            area_bounds = calculate_area_bounds(percent*1.25, img_dapi.shape[0])\n",
    "            img_dapi = np.flipud(img_dapi)\n",
    "            gdf_gt = gdf_flip(gdf_gt, direction='ud')\n",
    "            gdf_mask = gdf_flip(gdf_mask, direction='ud')\n",
    "            gdf_t = gdf_flip(gdf_t, direction='ud')\n",
    "        else:\n",
    "            area_bounds = calculate_area_bounds(percent, img_dapi.shape[0])\n",
    "\n",
    "        if plot_dapi:\n",
    "            # plot DAPI + membrane + boundary + annotation    \n",
    "            scale_bar = ScaleBar(PIXEL_TO_UM[sample.split('_')[-3]], \"um\", \n",
    "                            color='white', box_color='grey', box_alpha=0.9, \n",
    "                            location='upper left', font_properties={'size':30})\n",
    "            dapi_mem_mask_annotation(\n",
    "                img_dapi, img_mem, gdf_mask, gdf_gt, figwidth, 0.95, 0.99, \n",
    "                scale_bar, xy_range=True, area_bounds=area_bounds, lw=1.5, markersize=0.05, \n",
    "                boundary_color='white', gt_color='red',\n",
    "                save=True, fname=f'{wd}/figures/Fig_4_Segmentation/Main_Fig_4_A_{core}_{platform}.png')\n",
    "            \n",
    "        if plot_filtration:\n",
    "            # plot cell filtration \n",
    "            scale_bar = ScaleBar(PIXEL_TO_UM[sample.split('_')[-3]], \"um\", \n",
    "                            color='white', box_color='grey', box_alpha=0.9, \n",
    "                            location='upper left', font_properties={'size':30})\n",
    "            plot_cell_filtration(\n",
    "                    gdf_mask, figwidth, scale_bar,\n",
    "                    xy_range=True, area_bounds=area_bounds,\n",
    "                    markersize=1, save=True, fname=f'{wd}/figures/Fig_4_Segmentation/Main_Fig_4_A_keep_drop_{core}_{sample}.png')\n",
    "\n",
    "        if plot_transcripts:\n",
    "            # plot all transcripts and specific gene\n",
    "            scale_bar = ScaleBar(PIXEL_TO_UM[sample.split('_')[-3]], \"um\", \n",
    "                            color='white', box_color='grey', box_alpha=0.9, \n",
    "                            location='upper left', font_properties={'size':30})\n",
    "            for gene in ['EPCAM']:\n",
    "                plot_cell_transcripts(\n",
    "                    gdf_t, gene, figwidth, scale_bar,\n",
    "                    xy_range=False, area_bounds={},\n",
    "                    markersize=2, only_keep=False, save=True, fname=f'{wd}/figures/Fig_4_Segmentation/Main_Fig_4_A_{gene}_{core}_{sample}.png')\n",
    "                \n",
    "# Convert the list of dictionaries to a DataFrame\n",
    "df_metrics = pd.DataFrame(metrics_list)\n",
    "df_metrics = df_metrics.sort_values(by=['core','precision'])\n",
    "df_metrics.to_csv(f'{wd}/data/single_cell_metrics/segmentation_eval_results.csv', index=False)\n",
    "\n",
    "\n"
   ]
  },
  {
   "cell_type": "markdown",
   "metadata": {},
   "source": [
    "# Segmentation evaluation"
   ]
  },
  {
   "cell_type": "code",
   "execution_count": 10,
   "metadata": {},
   "outputs": [
    {
     "data": {
      "text/html": [
       "<div>\n",
       "<style scoped>\n",
       "    .dataframe tbody tr th:only-of-type {\n",
       "        vertical-align: middle;\n",
       "    }\n",
       "\n",
       "    .dataframe tbody tr th {\n",
       "        vertical-align: top;\n",
       "    }\n",
       "\n",
       "    .dataframe thead th {\n",
       "        text-align: right;\n",
       "    }\n",
       "</style>\n",
       "<table border=\"1\" class=\"dataframe\">\n",
       "  <thead>\n",
       "    <tr style=\"text-align: right;\">\n",
       "      <th></th>\n",
       "      <th>core</th>\n",
       "      <th>platform</th>\n",
       "      <th>metric</th>\n",
       "      <th>value</th>\n",
       "    </tr>\n",
       "  </thead>\n",
       "  <tbody>\n",
       "    <tr>\n",
       "      <th>0</th>\n",
       "      <td>Sparse cells</td>\n",
       "      <td>merscope</td>\n",
       "      <td>Precision</td>\n",
       "      <td>0.556528</td>\n",
       "    </tr>\n",
       "    <tr>\n",
       "      <th>1</th>\n",
       "      <td>Sparse cells</td>\n",
       "      <td>cosmx</td>\n",
       "      <td>Precision</td>\n",
       "      <td>0.732155</td>\n",
       "    </tr>\n",
       "    <tr>\n",
       "      <th>2</th>\n",
       "      <td>Sparse cells</td>\n",
       "      <td>xenium</td>\n",
       "      <td>Precision</td>\n",
       "      <td>0.734509</td>\n",
       "    </tr>\n",
       "    <tr>\n",
       "      <th>3</th>\n",
       "      <td>Elongated cells</td>\n",
       "      <td>merscope</td>\n",
       "      <td>Precision</td>\n",
       "      <td>0.791987</td>\n",
       "    </tr>\n",
       "    <tr>\n",
       "      <th>4</th>\n",
       "      <td>Elongated cells</td>\n",
       "      <td>cosmx</td>\n",
       "      <td>Precision</td>\n",
       "      <td>0.838904</td>\n",
       "    </tr>\n",
       "    <tr>\n",
       "      <th>5</th>\n",
       "      <td>Elongated cells</td>\n",
       "      <td>xenium</td>\n",
       "      <td>Precision</td>\n",
       "      <td>0.842664</td>\n",
       "    </tr>\n",
       "    <tr>\n",
       "      <th>6</th>\n",
       "      <td>Dense cells</td>\n",
       "      <td>merscope</td>\n",
       "      <td>Precision</td>\n",
       "      <td>0.832433</td>\n",
       "    </tr>\n",
       "    <tr>\n",
       "      <th>7</th>\n",
       "      <td>Dense cells</td>\n",
       "      <td>xenium</td>\n",
       "      <td>Precision</td>\n",
       "      <td>0.901997</td>\n",
       "    </tr>\n",
       "    <tr>\n",
       "      <th>8</th>\n",
       "      <td>Dense cells</td>\n",
       "      <td>cosmx</td>\n",
       "      <td>Precision</td>\n",
       "      <td>0.916880</td>\n",
       "    </tr>\n",
       "    <tr>\n",
       "      <th>9</th>\n",
       "      <td>Sparse cells</td>\n",
       "      <td>merscope</td>\n",
       "      <td>F1 Score</td>\n",
       "      <td>0.713693</td>\n",
       "    </tr>\n",
       "    <tr>\n",
       "      <th>10</th>\n",
       "      <td>Sparse cells</td>\n",
       "      <td>cosmx</td>\n",
       "      <td>F1 Score</td>\n",
       "      <td>0.840094</td>\n",
       "    </tr>\n",
       "    <tr>\n",
       "      <th>11</th>\n",
       "      <td>Sparse cells</td>\n",
       "      <td>xenium</td>\n",
       "      <td>F1 Score</td>\n",
       "      <td>0.839137</td>\n",
       "    </tr>\n",
       "    <tr>\n",
       "      <th>12</th>\n",
       "      <td>Elongated cells</td>\n",
       "      <td>merscope</td>\n",
       "      <td>F1 Score</td>\n",
       "      <td>0.859329</td>\n",
       "    </tr>\n",
       "    <tr>\n",
       "      <th>13</th>\n",
       "      <td>Elongated cells</td>\n",
       "      <td>cosmx</td>\n",
       "      <td>F1 Score</td>\n",
       "      <td>0.904045</td>\n",
       "    </tr>\n",
       "    <tr>\n",
       "      <th>14</th>\n",
       "      <td>Elongated cells</td>\n",
       "      <td>xenium</td>\n",
       "      <td>F1 Score</td>\n",
       "      <td>0.902326</td>\n",
       "    </tr>\n",
       "    <tr>\n",
       "      <th>15</th>\n",
       "      <td>Dense cells</td>\n",
       "      <td>merscope</td>\n",
       "      <td>F1 Score</td>\n",
       "      <td>0.868233</td>\n",
       "    </tr>\n",
       "    <tr>\n",
       "      <th>16</th>\n",
       "      <td>Dense cells</td>\n",
       "      <td>xenium</td>\n",
       "      <td>F1 Score</td>\n",
       "      <td>0.931527</td>\n",
       "    </tr>\n",
       "    <tr>\n",
       "      <th>17</th>\n",
       "      <td>Dense cells</td>\n",
       "      <td>cosmx</td>\n",
       "      <td>F1 Score</td>\n",
       "      <td>0.954263</td>\n",
       "    </tr>\n",
       "    <tr>\n",
       "      <th>18</th>\n",
       "      <td>Sparse cells</td>\n",
       "      <td>merscope</td>\n",
       "      <td>IOU</td>\n",
       "      <td>0.554839</td>\n",
       "    </tr>\n",
       "    <tr>\n",
       "      <th>19</th>\n",
       "      <td>Sparse cells</td>\n",
       "      <td>cosmx</td>\n",
       "      <td>IOU</td>\n",
       "      <td>0.724277</td>\n",
       "    </tr>\n",
       "    <tr>\n",
       "      <th>20</th>\n",
       "      <td>Sparse cells</td>\n",
       "      <td>xenium</td>\n",
       "      <td>IOU</td>\n",
       "      <td>0.722856</td>\n",
       "    </tr>\n",
       "    <tr>\n",
       "      <th>21</th>\n",
       "      <td>Elongated cells</td>\n",
       "      <td>merscope</td>\n",
       "      <td>IOU</td>\n",
       "      <td>0.753354</td>\n",
       "    </tr>\n",
       "    <tr>\n",
       "      <th>22</th>\n",
       "      <td>Elongated cells</td>\n",
       "      <td>cosmx</td>\n",
       "      <td>IOU</td>\n",
       "      <td>0.824892</td>\n",
       "    </tr>\n",
       "    <tr>\n",
       "      <th>23</th>\n",
       "      <td>Elongated cells</td>\n",
       "      <td>xenium</td>\n",
       "      <td>IOU</td>\n",
       "      <td>0.822034</td>\n",
       "    </tr>\n",
       "    <tr>\n",
       "      <th>24</th>\n",
       "      <td>Dense cells</td>\n",
       "      <td>merscope</td>\n",
       "      <td>IOU</td>\n",
       "      <td>0.767148</td>\n",
       "    </tr>\n",
       "    <tr>\n",
       "      <th>25</th>\n",
       "      <td>Dense cells</td>\n",
       "      <td>xenium</td>\n",
       "      <td>IOU</td>\n",
       "      <td>0.871829</td>\n",
       "    </tr>\n",
       "    <tr>\n",
       "      <th>26</th>\n",
       "      <td>Dense cells</td>\n",
       "      <td>cosmx</td>\n",
       "      <td>IOU</td>\n",
       "      <td>0.912528</td>\n",
       "    </tr>\n",
       "  </tbody>\n",
       "</table>\n",
       "</div>"
      ],
      "text/plain": [
       "               core  platform     metric     value\n",
       "0      Sparse cells  merscope  Precision  0.556528\n",
       "1      Sparse cells     cosmx  Precision  0.732155\n",
       "2      Sparse cells    xenium  Precision  0.734509\n",
       "3   Elongated cells  merscope  Precision  0.791987\n",
       "4   Elongated cells     cosmx  Precision  0.838904\n",
       "5   Elongated cells    xenium  Precision  0.842664\n",
       "6       Dense cells  merscope  Precision  0.832433\n",
       "7       Dense cells    xenium  Precision  0.901997\n",
       "8       Dense cells     cosmx  Precision  0.916880\n",
       "9      Sparse cells  merscope   F1 Score  0.713693\n",
       "10     Sparse cells     cosmx   F1 Score  0.840094\n",
       "11     Sparse cells    xenium   F1 Score  0.839137\n",
       "12  Elongated cells  merscope   F1 Score  0.859329\n",
       "13  Elongated cells     cosmx   F1 Score  0.904045\n",
       "14  Elongated cells    xenium   F1 Score  0.902326\n",
       "15      Dense cells  merscope   F1 Score  0.868233\n",
       "16      Dense cells    xenium   F1 Score  0.931527\n",
       "17      Dense cells     cosmx   F1 Score  0.954263\n",
       "18     Sparse cells  merscope        IOU  0.554839\n",
       "19     Sparse cells     cosmx        IOU  0.724277\n",
       "20     Sparse cells    xenium        IOU  0.722856\n",
       "21  Elongated cells  merscope        IOU  0.753354\n",
       "22  Elongated cells     cosmx        IOU  0.824892\n",
       "23  Elongated cells    xenium        IOU  0.822034\n",
       "24      Dense cells  merscope        IOU  0.767148\n",
       "25      Dense cells    xenium        IOU  0.871829\n",
       "26      Dense cells     cosmx        IOU  0.912528"
      ]
     },
     "metadata": {},
     "output_type": "display_data"
    },
    {
     "data": {
      "application/vnd.plotly.v1+json": {
       "config": {
        "plotlyServerURL": "https://plot.ly"
       },
       "data": [
        {
         "alignmentgroup": "True",
         "hovertemplate": "platform=merscope<br>=Sparse cells<br>metric=%{x}<br>Metric Value=%{y}<extra></extra>",
         "legendgroup": "merscope",
         "marker": {
          "color": "#D55E00",
          "pattern": {
           "shape": ""
          }
         },
         "name": "merscope",
         "offsetgroup": "merscope",
         "orientation": "v",
         "showlegend": true,
         "textposition": "auto",
         "type": "bar",
         "x": [
          "Precision",
          "F1 Score",
          "IOU"
         ],
         "xaxis": "x",
         "y": [
          0.5565283593452608,
          0.7136929460580912,
          0.5548387096774193
         ],
         "yaxis": "y"
        },
        {
         "alignmentgroup": "True",
         "hovertemplate": "platform=merscope<br>=Elongated cells<br>metric=%{x}<br>Metric Value=%{y}<extra></extra>",
         "legendgroup": "merscope",
         "marker": {
          "color": "#D55E00",
          "pattern": {
           "shape": ""
          }
         },
         "name": "merscope",
         "offsetgroup": "merscope",
         "orientation": "v",
         "showlegend": false,
         "textposition": "auto",
         "type": "bar",
         "x": [
          "Precision",
          "F1 Score",
          "IOU"
         ],
         "xaxis": "x2",
         "y": [
          0.7919871794871794,
          0.8593288123804557,
          0.7533536585365853
         ],
         "yaxis": "y2"
        },
        {
         "alignmentgroup": "True",
         "hovertemplate": "platform=merscope<br>=Dense cells<br>metric=%{x}<br>Metric Value=%{y}<extra></extra>",
         "legendgroup": "merscope",
         "marker": {
          "color": "#D55E00",
          "pattern": {
           "shape": ""
          }
         },
         "name": "merscope",
         "offsetgroup": "merscope",
         "orientation": "v",
         "showlegend": false,
         "textposition": "auto",
         "type": "bar",
         "x": [
          "Precision",
          "F1 Score",
          "IOU"
         ],
         "xaxis": "x3",
         "y": [
          0.8324331445132394,
          0.868233031052487,
          0.7671482335801869
         ],
         "yaxis": "y3"
        },
        {
         "alignmentgroup": "True",
         "hovertemplate": "platform=cosmx<br>=Sparse cells<br>metric=%{x}<br>Metric Value=%{y}<extra></extra>",
         "legendgroup": "cosmx",
         "marker": {
          "color": "#009E73",
          "pattern": {
           "shape": ""
          }
         },
         "name": "cosmx",
         "offsetgroup": "cosmx",
         "orientation": "v",
         "showlegend": true,
         "textposition": "auto",
         "type": "bar",
         "x": [
          "Precision",
          "F1 Score",
          "IOU"
         ],
         "xaxis": "x",
         "y": [
          0.7321549966009517,
          0.8400936037441498,
          0.7242770679219905
         ],
         "yaxis": "y"
        },
        {
         "alignmentgroup": "True",
         "hovertemplate": "platform=cosmx<br>=Elongated cells<br>metric=%{x}<br>Metric Value=%{y}<extra></extra>",
         "legendgroup": "cosmx",
         "marker": {
          "color": "#009E73",
          "pattern": {
           "shape": ""
          }
         },
         "name": "cosmx",
         "offsetgroup": "cosmx",
         "orientation": "v",
         "showlegend": false,
         "textposition": "auto",
         "type": "bar",
         "x": [
          "Precision",
          "F1 Score",
          "IOU"
         ],
         "xaxis": "x2",
         "y": [
          0.838904109589041,
          0.9040448774726896,
          0.8248922413793104
         ],
         "yaxis": "y2"
        },
        {
         "alignmentgroup": "True",
         "hovertemplate": "platform=cosmx<br>=Dense cells<br>metric=%{x}<br>Metric Value=%{y}<extra></extra>",
         "legendgroup": "cosmx",
         "marker": {
          "color": "#009E73",
          "pattern": {
           "shape": ""
          }
         },
         "name": "cosmx",
         "offsetgroup": "cosmx",
         "orientation": "v",
         "showlegend": false,
         "textposition": "auto",
         "type": "bar",
         "x": [
          "Precision",
          "F1 Score",
          "IOU"
         ],
         "xaxis": "x3",
         "y": [
          0.9168795775847386,
          0.9542634284701296,
          0.9125275470418716
         ],
         "yaxis": "y3"
        },
        {
         "alignmentgroup": "True",
         "hovertemplate": "platform=xenium<br>=Sparse cells<br>metric=%{x}<br>Metric Value=%{y}<extra></extra>",
         "legendgroup": "xenium",
         "marker": {
          "color": "#0072B2",
          "pattern": {
           "shape": ""
          }
         },
         "name": "xenium",
         "offsetgroup": "xenium",
         "orientation": "v",
         "showlegend": true,
         "textposition": "auto",
         "type": "bar",
         "x": [
          "Precision",
          "F1 Score",
          "IOU"
         ],
         "xaxis": "x",
         "y": [
          0.7345088161209068,
          0.8391366906474821,
          0.7228557263262271
         ],
         "yaxis": "y"
        },
        {
         "alignmentgroup": "True",
         "hovertemplate": "platform=xenium<br>=Elongated cells<br>metric=%{x}<br>Metric Value=%{y}<extra></extra>",
         "legendgroup": "xenium",
         "marker": {
          "color": "#0072B2",
          "pattern": {
           "shape": ""
          }
         },
         "name": "xenium",
         "offsetgroup": "xenium",
         "orientation": "v",
         "showlegend": false,
         "textposition": "auto",
         "type": "bar",
         "x": [
          "Precision",
          "F1 Score",
          "IOU"
         ],
         "xaxis": "x2",
         "y": [
          0.8426640926640927,
          0.9023255813953488,
          0.8220338983050848
         ],
         "yaxis": "y2"
        },
        {
         "alignmentgroup": "True",
         "hovertemplate": "platform=xenium<br>=Dense cells<br>metric=%{x}<br>Metric Value=%{y}<extra></extra>",
         "legendgroup": "xenium",
         "marker": {
          "color": "#0072B2",
          "pattern": {
           "shape": ""
          }
         },
         "name": "xenium",
         "offsetgroup": "xenium",
         "orientation": "v",
         "showlegend": false,
         "textposition": "auto",
         "type": "bar",
         "x": [
          "Precision",
          "F1 Score",
          "IOU"
         ],
         "xaxis": "x3",
         "y": [
          0.9019972131908964,
          0.9315265619378824,
          0.8718294051627385
         ],
         "yaxis": "y3"
        }
       ],
       "layout": {
        "annotations": [
         {
          "font": {},
          "showarrow": false,
          "text": "Sparse cells",
          "x": 0.15999999999999998,
          "xanchor": "center",
          "xref": "paper",
          "y": 0.95,
          "yanchor": "bottom",
          "yref": "paper"
         },
         {
          "font": {},
          "showarrow": false,
          "text": "Elongated cells",
          "x": 0.49999999999999994,
          "xanchor": "center",
          "xref": "paper",
          "y": 0.95,
          "yanchor": "bottom",
          "yref": "paper"
         },
         {
          "font": {},
          "showarrow": false,
          "text": "Dense cells",
          "x": 0.8399999999999999,
          "xanchor": "center",
          "xref": "paper",
          "y": 0.95,
          "yanchor": "bottom",
          "yref": "paper"
         }
        ],
        "barmode": "group",
        "font": {
         "color": "black",
         "size": 15
        },
        "height": 400,
        "legend": {
         "orientation": "h",
         "title": {
          "text": "Platform"
         },
         "tracegroupgap": 0,
         "x": 0.99,
         "xanchor": "right",
         "y": 1.05,
         "yanchor": "bottom"
        },
        "margin": {
         "t": 60
        },
        "paper_bgcolor": "rgba(0,0,0,0)",
        "plot_bgcolor": "rgba(0,0,0,0)",
        "template": {
         "data": {
          "bar": [
           {
            "error_x": {
             "color": "#2a3f5f"
            },
            "error_y": {
             "color": "#2a3f5f"
            },
            "marker": {
             "line": {
              "color": "#E5ECF6",
              "width": 0.5
             },
             "pattern": {
              "fillmode": "overlay",
              "size": 10,
              "solidity": 0.2
             }
            },
            "type": "bar"
           }
          ],
          "barpolar": [
           {
            "marker": {
             "line": {
              "color": "#E5ECF6",
              "width": 0.5
             },
             "pattern": {
              "fillmode": "overlay",
              "size": 10,
              "solidity": 0.2
             }
            },
            "type": "barpolar"
           }
          ],
          "carpet": [
           {
            "aaxis": {
             "endlinecolor": "#2a3f5f",
             "gridcolor": "white",
             "linecolor": "white",
             "minorgridcolor": "white",
             "startlinecolor": "#2a3f5f"
            },
            "baxis": {
             "endlinecolor": "#2a3f5f",
             "gridcolor": "white",
             "linecolor": "white",
             "minorgridcolor": "white",
             "startlinecolor": "#2a3f5f"
            },
            "type": "carpet"
           }
          ],
          "choropleth": [
           {
            "colorbar": {
             "outlinewidth": 0,
             "ticks": ""
            },
            "type": "choropleth"
           }
          ],
          "contour": [
           {
            "colorbar": {
             "outlinewidth": 0,
             "ticks": ""
            },
            "colorscale": [
             [
              0,
              "#0d0887"
             ],
             [
              0.1111111111111111,
              "#46039f"
             ],
             [
              0.2222222222222222,
              "#7201a8"
             ],
             [
              0.3333333333333333,
              "#9c179e"
             ],
             [
              0.4444444444444444,
              "#bd3786"
             ],
             [
              0.5555555555555556,
              "#d8576b"
             ],
             [
              0.6666666666666666,
              "#ed7953"
             ],
             [
              0.7777777777777778,
              "#fb9f3a"
             ],
             [
              0.8888888888888888,
              "#fdca26"
             ],
             [
              1,
              "#f0f921"
             ]
            ],
            "type": "contour"
           }
          ],
          "contourcarpet": [
           {
            "colorbar": {
             "outlinewidth": 0,
             "ticks": ""
            },
            "type": "contourcarpet"
           }
          ],
          "heatmap": [
           {
            "colorbar": {
             "outlinewidth": 0,
             "ticks": ""
            },
            "colorscale": [
             [
              0,
              "#0d0887"
             ],
             [
              0.1111111111111111,
              "#46039f"
             ],
             [
              0.2222222222222222,
              "#7201a8"
             ],
             [
              0.3333333333333333,
              "#9c179e"
             ],
             [
              0.4444444444444444,
              "#bd3786"
             ],
             [
              0.5555555555555556,
              "#d8576b"
             ],
             [
              0.6666666666666666,
              "#ed7953"
             ],
             [
              0.7777777777777778,
              "#fb9f3a"
             ],
             [
              0.8888888888888888,
              "#fdca26"
             ],
             [
              1,
              "#f0f921"
             ]
            ],
            "type": "heatmap"
           }
          ],
          "heatmapgl": [
           {
            "colorbar": {
             "outlinewidth": 0,
             "ticks": ""
            },
            "colorscale": [
             [
              0,
              "#0d0887"
             ],
             [
              0.1111111111111111,
              "#46039f"
             ],
             [
              0.2222222222222222,
              "#7201a8"
             ],
             [
              0.3333333333333333,
              "#9c179e"
             ],
             [
              0.4444444444444444,
              "#bd3786"
             ],
             [
              0.5555555555555556,
              "#d8576b"
             ],
             [
              0.6666666666666666,
              "#ed7953"
             ],
             [
              0.7777777777777778,
              "#fb9f3a"
             ],
             [
              0.8888888888888888,
              "#fdca26"
             ],
             [
              1,
              "#f0f921"
             ]
            ],
            "type": "heatmapgl"
           }
          ],
          "histogram": [
           {
            "marker": {
             "pattern": {
              "fillmode": "overlay",
              "size": 10,
              "solidity": 0.2
             }
            },
            "type": "histogram"
           }
          ],
          "histogram2d": [
           {
            "colorbar": {
             "outlinewidth": 0,
             "ticks": ""
            },
            "colorscale": [
             [
              0,
              "#0d0887"
             ],
             [
              0.1111111111111111,
              "#46039f"
             ],
             [
              0.2222222222222222,
              "#7201a8"
             ],
             [
              0.3333333333333333,
              "#9c179e"
             ],
             [
              0.4444444444444444,
              "#bd3786"
             ],
             [
              0.5555555555555556,
              "#d8576b"
             ],
             [
              0.6666666666666666,
              "#ed7953"
             ],
             [
              0.7777777777777778,
              "#fb9f3a"
             ],
             [
              0.8888888888888888,
              "#fdca26"
             ],
             [
              1,
              "#f0f921"
             ]
            ],
            "type": "histogram2d"
           }
          ],
          "histogram2dcontour": [
           {
            "colorbar": {
             "outlinewidth": 0,
             "ticks": ""
            },
            "colorscale": [
             [
              0,
              "#0d0887"
             ],
             [
              0.1111111111111111,
              "#46039f"
             ],
             [
              0.2222222222222222,
              "#7201a8"
             ],
             [
              0.3333333333333333,
              "#9c179e"
             ],
             [
              0.4444444444444444,
              "#bd3786"
             ],
             [
              0.5555555555555556,
              "#d8576b"
             ],
             [
              0.6666666666666666,
              "#ed7953"
             ],
             [
              0.7777777777777778,
              "#fb9f3a"
             ],
             [
              0.8888888888888888,
              "#fdca26"
             ],
             [
              1,
              "#f0f921"
             ]
            ],
            "type": "histogram2dcontour"
           }
          ],
          "mesh3d": [
           {
            "colorbar": {
             "outlinewidth": 0,
             "ticks": ""
            },
            "type": "mesh3d"
           }
          ],
          "parcoords": [
           {
            "line": {
             "colorbar": {
              "outlinewidth": 0,
              "ticks": ""
             }
            },
            "type": "parcoords"
           }
          ],
          "pie": [
           {
            "automargin": true,
            "type": "pie"
           }
          ],
          "scatter": [
           {
            "fillpattern": {
             "fillmode": "overlay",
             "size": 10,
             "solidity": 0.2
            },
            "type": "scatter"
           }
          ],
          "scatter3d": [
           {
            "line": {
             "colorbar": {
              "outlinewidth": 0,
              "ticks": ""
             }
            },
            "marker": {
             "colorbar": {
              "outlinewidth": 0,
              "ticks": ""
             }
            },
            "type": "scatter3d"
           }
          ],
          "scattercarpet": [
           {
            "marker": {
             "colorbar": {
              "outlinewidth": 0,
              "ticks": ""
             }
            },
            "type": "scattercarpet"
           }
          ],
          "scattergeo": [
           {
            "marker": {
             "colorbar": {
              "outlinewidth": 0,
              "ticks": ""
             }
            },
            "type": "scattergeo"
           }
          ],
          "scattergl": [
           {
            "marker": {
             "colorbar": {
              "outlinewidth": 0,
              "ticks": ""
             }
            },
            "type": "scattergl"
           }
          ],
          "scattermapbox": [
           {
            "marker": {
             "colorbar": {
              "outlinewidth": 0,
              "ticks": ""
             }
            },
            "type": "scattermapbox"
           }
          ],
          "scatterpolar": [
           {
            "marker": {
             "colorbar": {
              "outlinewidth": 0,
              "ticks": ""
             }
            },
            "type": "scatterpolar"
           }
          ],
          "scatterpolargl": [
           {
            "marker": {
             "colorbar": {
              "outlinewidth": 0,
              "ticks": ""
             }
            },
            "type": "scatterpolargl"
           }
          ],
          "scatterternary": [
           {
            "marker": {
             "colorbar": {
              "outlinewidth": 0,
              "ticks": ""
             }
            },
            "type": "scatterternary"
           }
          ],
          "surface": [
           {
            "colorbar": {
             "outlinewidth": 0,
             "ticks": ""
            },
            "colorscale": [
             [
              0,
              "#0d0887"
             ],
             [
              0.1111111111111111,
              "#46039f"
             ],
             [
              0.2222222222222222,
              "#7201a8"
             ],
             [
              0.3333333333333333,
              "#9c179e"
             ],
             [
              0.4444444444444444,
              "#bd3786"
             ],
             [
              0.5555555555555556,
              "#d8576b"
             ],
             [
              0.6666666666666666,
              "#ed7953"
             ],
             [
              0.7777777777777778,
              "#fb9f3a"
             ],
             [
              0.8888888888888888,
              "#fdca26"
             ],
             [
              1,
              "#f0f921"
             ]
            ],
            "type": "surface"
           }
          ],
          "table": [
           {
            "cells": {
             "fill": {
              "color": "#EBF0F8"
             },
             "line": {
              "color": "white"
             }
            },
            "header": {
             "fill": {
              "color": "#C8D4E3"
             },
             "line": {
              "color": "white"
             }
            },
            "type": "table"
           }
          ]
         },
         "layout": {
          "annotationdefaults": {
           "arrowcolor": "#2a3f5f",
           "arrowhead": 0,
           "arrowwidth": 1
          },
          "autotypenumbers": "strict",
          "coloraxis": {
           "colorbar": {
            "outlinewidth": 0,
            "ticks": ""
           }
          },
          "colorscale": {
           "diverging": [
            [
             0,
             "#8e0152"
            ],
            [
             0.1,
             "#c51b7d"
            ],
            [
             0.2,
             "#de77ae"
            ],
            [
             0.3,
             "#f1b6da"
            ],
            [
             0.4,
             "#fde0ef"
            ],
            [
             0.5,
             "#f7f7f7"
            ],
            [
             0.6,
             "#e6f5d0"
            ],
            [
             0.7,
             "#b8e186"
            ],
            [
             0.8,
             "#7fbc41"
            ],
            [
             0.9,
             "#4d9221"
            ],
            [
             1,
             "#276419"
            ]
           ],
           "sequential": [
            [
             0,
             "#0d0887"
            ],
            [
             0.1111111111111111,
             "#46039f"
            ],
            [
             0.2222222222222222,
             "#7201a8"
            ],
            [
             0.3333333333333333,
             "#9c179e"
            ],
            [
             0.4444444444444444,
             "#bd3786"
            ],
            [
             0.5555555555555556,
             "#d8576b"
            ],
            [
             0.6666666666666666,
             "#ed7953"
            ],
            [
             0.7777777777777778,
             "#fb9f3a"
            ],
            [
             0.8888888888888888,
             "#fdca26"
            ],
            [
             1,
             "#f0f921"
            ]
           ],
           "sequentialminus": [
            [
             0,
             "#0d0887"
            ],
            [
             0.1111111111111111,
             "#46039f"
            ],
            [
             0.2222222222222222,
             "#7201a8"
            ],
            [
             0.3333333333333333,
             "#9c179e"
            ],
            [
             0.4444444444444444,
             "#bd3786"
            ],
            [
             0.5555555555555556,
             "#d8576b"
            ],
            [
             0.6666666666666666,
             "#ed7953"
            ],
            [
             0.7777777777777778,
             "#fb9f3a"
            ],
            [
             0.8888888888888888,
             "#fdca26"
            ],
            [
             1,
             "#f0f921"
            ]
           ]
          },
          "colorway": [
           "#636efa",
           "#EF553B",
           "#00cc96",
           "#ab63fa",
           "#FFA15A",
           "#19d3f3",
           "#FF6692",
           "#B6E880",
           "#FF97FF",
           "#FECB52"
          ],
          "font": {
           "color": "#2a3f5f"
          },
          "geo": {
           "bgcolor": "white",
           "lakecolor": "white",
           "landcolor": "#E5ECF6",
           "showlakes": true,
           "showland": true,
           "subunitcolor": "white"
          },
          "hoverlabel": {
           "align": "left"
          },
          "hovermode": "closest",
          "mapbox": {
           "style": "light"
          },
          "paper_bgcolor": "white",
          "plot_bgcolor": "#E5ECF6",
          "polar": {
           "angularaxis": {
            "gridcolor": "white",
            "linecolor": "white",
            "ticks": ""
           },
           "bgcolor": "#E5ECF6",
           "radialaxis": {
            "gridcolor": "white",
            "linecolor": "white",
            "ticks": ""
           }
          },
          "scene": {
           "xaxis": {
            "backgroundcolor": "#E5ECF6",
            "gridcolor": "white",
            "gridwidth": 2,
            "linecolor": "white",
            "showbackground": true,
            "ticks": "",
            "zerolinecolor": "white"
           },
           "yaxis": {
            "backgroundcolor": "#E5ECF6",
            "gridcolor": "white",
            "gridwidth": 2,
            "linecolor": "white",
            "showbackground": true,
            "ticks": "",
            "zerolinecolor": "white"
           },
           "zaxis": {
            "backgroundcolor": "#E5ECF6",
            "gridcolor": "white",
            "gridwidth": 2,
            "linecolor": "white",
            "showbackground": true,
            "ticks": "",
            "zerolinecolor": "white"
           }
          },
          "shapedefaults": {
           "line": {
            "color": "#2a3f5f"
           }
          },
          "ternary": {
           "aaxis": {
            "gridcolor": "white",
            "linecolor": "white",
            "ticks": ""
           },
           "baxis": {
            "gridcolor": "white",
            "linecolor": "white",
            "ticks": ""
           },
           "bgcolor": "#E5ECF6",
           "caxis": {
            "gridcolor": "white",
            "linecolor": "white",
            "ticks": ""
           }
          },
          "title": {
           "x": 0.05
          },
          "xaxis": {
           "automargin": true,
           "gridcolor": "white",
           "linecolor": "white",
           "ticks": "",
           "title": {
            "standoff": 15
           },
           "zerolinecolor": "white",
           "zerolinewidth": 2
          },
          "yaxis": {
           "automargin": true,
           "gridcolor": "white",
           "linecolor": "white",
           "ticks": "",
           "title": {
            "standoff": 15
           },
           "zerolinecolor": "white",
           "zerolinewidth": 2
          }
         }
        },
        "width": 1000,
        "xaxis": {
         "anchor": "y",
         "domain": [
          0,
          0.31999999999999995
         ],
         "linecolor": "black",
         "linewidth": 1,
         "matches": "x",
         "showline": true,
         "title": {
          "text": ""
         }
        },
        "xaxis2": {
         "anchor": "y2",
         "domain": [
          0.33999999999999997,
          0.6599999999999999
         ],
         "linecolor": "black",
         "linewidth": 1,
         "matches": "x",
         "showline": true,
         "title": {
          "text": ""
         }
        },
        "xaxis3": {
         "anchor": "y3",
         "domain": [
          0.6799999999999999,
          0.9999999999999999
         ],
         "linecolor": "black",
         "linewidth": 1,
         "matches": "x",
         "showline": true,
         "title": {
          "text": ""
         }
        },
        "yaxis": {
         "anchor": "x",
         "domain": [
          0,
          1
         ],
         "linecolor": "black",
         "linewidth": 1,
         "matches": "y",
         "range": [
          0,
          1
         ],
         "showline": true,
         "title": {
          "text": "Metric Value"
         }
        },
        "yaxis2": {
         "anchor": "x2",
         "domain": [
          0,
          1
         ],
         "linecolor": "black",
         "linewidth": 1,
         "matches": "y",
         "range": [
          0,
          1
         ],
         "showline": true,
         "showticklabels": false
        },
        "yaxis3": {
         "anchor": "x3",
         "domain": [
          0,
          1
         ],
         "linecolor": "black",
         "linewidth": 1,
         "matches": "y",
         "range": [
          0,
          1
         ],
         "showline": true,
         "showticklabels": false
        }
       }
      },
      "text/html": [
       "<div>                            <div id=\"04805424-14b1-4a43-8fb4-26131278e863\" class=\"plotly-graph-div\" style=\"height:400px; width:1000px;\"></div>            <script type=\"text/javascript\">                require([\"plotly\"], function(Plotly) {                    window.PLOTLYENV=window.PLOTLYENV || {};                                    if (document.getElementById(\"04805424-14b1-4a43-8fb4-26131278e863\")) {                    Plotly.newPlot(                        \"04805424-14b1-4a43-8fb4-26131278e863\",                        [{\"alignmentgroup\":\"True\",\"hovertemplate\":\"platform=merscope\\u003cbr\\u003e=Sparse cells\\u003cbr\\u003emetric=%{x}\\u003cbr\\u003eMetric Value=%{y}\\u003cextra\\u003e\\u003c\\u002fextra\\u003e\",\"legendgroup\":\"merscope\",\"marker\":{\"color\":\"#D55E00\",\"pattern\":{\"shape\":\"\"}},\"name\":\"merscope\",\"offsetgroup\":\"merscope\",\"orientation\":\"v\",\"showlegend\":true,\"textposition\":\"auto\",\"x\":[\"Precision\",\"F1 Score\",\"IOU\"],\"xaxis\":\"x\",\"y\":[0.5565283593452608,0.7136929460580912,0.5548387096774193],\"yaxis\":\"y\",\"type\":\"bar\"},{\"alignmentgroup\":\"True\",\"hovertemplate\":\"platform=merscope\\u003cbr\\u003e=Elongated cells\\u003cbr\\u003emetric=%{x}\\u003cbr\\u003eMetric Value=%{y}\\u003cextra\\u003e\\u003c\\u002fextra\\u003e\",\"legendgroup\":\"merscope\",\"marker\":{\"color\":\"#D55E00\",\"pattern\":{\"shape\":\"\"}},\"name\":\"merscope\",\"offsetgroup\":\"merscope\",\"orientation\":\"v\",\"showlegend\":false,\"textposition\":\"auto\",\"x\":[\"Precision\",\"F1 Score\",\"IOU\"],\"xaxis\":\"x2\",\"y\":[0.7919871794871794,0.8593288123804557,0.7533536585365853],\"yaxis\":\"y2\",\"type\":\"bar\"},{\"alignmentgroup\":\"True\",\"hovertemplate\":\"platform=merscope\\u003cbr\\u003e=Dense cells\\u003cbr\\u003emetric=%{x}\\u003cbr\\u003eMetric Value=%{y}\\u003cextra\\u003e\\u003c\\u002fextra\\u003e\",\"legendgroup\":\"merscope\",\"marker\":{\"color\":\"#D55E00\",\"pattern\":{\"shape\":\"\"}},\"name\":\"merscope\",\"offsetgroup\":\"merscope\",\"orientation\":\"v\",\"showlegend\":false,\"textposition\":\"auto\",\"x\":[\"Precision\",\"F1 Score\",\"IOU\"],\"xaxis\":\"x3\",\"y\":[0.8324331445132394,0.868233031052487,0.7671482335801869],\"yaxis\":\"y3\",\"type\":\"bar\"},{\"alignmentgroup\":\"True\",\"hovertemplate\":\"platform=cosmx\\u003cbr\\u003e=Sparse cells\\u003cbr\\u003emetric=%{x}\\u003cbr\\u003eMetric Value=%{y}\\u003cextra\\u003e\\u003c\\u002fextra\\u003e\",\"legendgroup\":\"cosmx\",\"marker\":{\"color\":\"#009E73\",\"pattern\":{\"shape\":\"\"}},\"name\":\"cosmx\",\"offsetgroup\":\"cosmx\",\"orientation\":\"v\",\"showlegend\":true,\"textposition\":\"auto\",\"x\":[\"Precision\",\"F1 Score\",\"IOU\"],\"xaxis\":\"x\",\"y\":[0.7321549966009517,0.8400936037441498,0.7242770679219905],\"yaxis\":\"y\",\"type\":\"bar\"},{\"alignmentgroup\":\"True\",\"hovertemplate\":\"platform=cosmx\\u003cbr\\u003e=Elongated cells\\u003cbr\\u003emetric=%{x}\\u003cbr\\u003eMetric Value=%{y}\\u003cextra\\u003e\\u003c\\u002fextra\\u003e\",\"legendgroup\":\"cosmx\",\"marker\":{\"color\":\"#009E73\",\"pattern\":{\"shape\":\"\"}},\"name\":\"cosmx\",\"offsetgroup\":\"cosmx\",\"orientation\":\"v\",\"showlegend\":false,\"textposition\":\"auto\",\"x\":[\"Precision\",\"F1 Score\",\"IOU\"],\"xaxis\":\"x2\",\"y\":[0.838904109589041,0.9040448774726896,0.8248922413793104],\"yaxis\":\"y2\",\"type\":\"bar\"},{\"alignmentgroup\":\"True\",\"hovertemplate\":\"platform=cosmx\\u003cbr\\u003e=Dense cells\\u003cbr\\u003emetric=%{x}\\u003cbr\\u003eMetric Value=%{y}\\u003cextra\\u003e\\u003c\\u002fextra\\u003e\",\"legendgroup\":\"cosmx\",\"marker\":{\"color\":\"#009E73\",\"pattern\":{\"shape\":\"\"}},\"name\":\"cosmx\",\"offsetgroup\":\"cosmx\",\"orientation\":\"v\",\"showlegend\":false,\"textposition\":\"auto\",\"x\":[\"Precision\",\"F1 Score\",\"IOU\"],\"xaxis\":\"x3\",\"y\":[0.9168795775847386,0.9542634284701296,0.9125275470418716],\"yaxis\":\"y3\",\"type\":\"bar\"},{\"alignmentgroup\":\"True\",\"hovertemplate\":\"platform=xenium\\u003cbr\\u003e=Sparse cells\\u003cbr\\u003emetric=%{x}\\u003cbr\\u003eMetric Value=%{y}\\u003cextra\\u003e\\u003c\\u002fextra\\u003e\",\"legendgroup\":\"xenium\",\"marker\":{\"color\":\"#0072B2\",\"pattern\":{\"shape\":\"\"}},\"name\":\"xenium\",\"offsetgroup\":\"xenium\",\"orientation\":\"v\",\"showlegend\":true,\"textposition\":\"auto\",\"x\":[\"Precision\",\"F1 Score\",\"IOU\"],\"xaxis\":\"x\",\"y\":[0.7345088161209068,0.8391366906474821,0.7228557263262271],\"yaxis\":\"y\",\"type\":\"bar\"},{\"alignmentgroup\":\"True\",\"hovertemplate\":\"platform=xenium\\u003cbr\\u003e=Elongated cells\\u003cbr\\u003emetric=%{x}\\u003cbr\\u003eMetric Value=%{y}\\u003cextra\\u003e\\u003c\\u002fextra\\u003e\",\"legendgroup\":\"xenium\",\"marker\":{\"color\":\"#0072B2\",\"pattern\":{\"shape\":\"\"}},\"name\":\"xenium\",\"offsetgroup\":\"xenium\",\"orientation\":\"v\",\"showlegend\":false,\"textposition\":\"auto\",\"x\":[\"Precision\",\"F1 Score\",\"IOU\"],\"xaxis\":\"x2\",\"y\":[0.8426640926640927,0.9023255813953488,0.8220338983050848],\"yaxis\":\"y2\",\"type\":\"bar\"},{\"alignmentgroup\":\"True\",\"hovertemplate\":\"platform=xenium\\u003cbr\\u003e=Dense cells\\u003cbr\\u003emetric=%{x}\\u003cbr\\u003eMetric Value=%{y}\\u003cextra\\u003e\\u003c\\u002fextra\\u003e\",\"legendgroup\":\"xenium\",\"marker\":{\"color\":\"#0072B2\",\"pattern\":{\"shape\":\"\"}},\"name\":\"xenium\",\"offsetgroup\":\"xenium\",\"orientation\":\"v\",\"showlegend\":false,\"textposition\":\"auto\",\"x\":[\"Precision\",\"F1 Score\",\"IOU\"],\"xaxis\":\"x3\",\"y\":[0.9019972131908964,0.9315265619378824,0.8718294051627385],\"yaxis\":\"y3\",\"type\":\"bar\"}],                        {\"template\":{\"data\":{\"histogram2dcontour\":[{\"type\":\"histogram2dcontour\",\"colorbar\":{\"outlinewidth\":0,\"ticks\":\"\"},\"colorscale\":[[0.0,\"#0d0887\"],[0.1111111111111111,\"#46039f\"],[0.2222222222222222,\"#7201a8\"],[0.3333333333333333,\"#9c179e\"],[0.4444444444444444,\"#bd3786\"],[0.5555555555555556,\"#d8576b\"],[0.6666666666666666,\"#ed7953\"],[0.7777777777777778,\"#fb9f3a\"],[0.8888888888888888,\"#fdca26\"],[1.0,\"#f0f921\"]]}],\"choropleth\":[{\"type\":\"choropleth\",\"colorbar\":{\"outlinewidth\":0,\"ticks\":\"\"}}],\"histogram2d\":[{\"type\":\"histogram2d\",\"colorbar\":{\"outlinewidth\":0,\"ticks\":\"\"},\"colorscale\":[[0.0,\"#0d0887\"],[0.1111111111111111,\"#46039f\"],[0.2222222222222222,\"#7201a8\"],[0.3333333333333333,\"#9c179e\"],[0.4444444444444444,\"#bd3786\"],[0.5555555555555556,\"#d8576b\"],[0.6666666666666666,\"#ed7953\"],[0.7777777777777778,\"#fb9f3a\"],[0.8888888888888888,\"#fdca26\"],[1.0,\"#f0f921\"]]}],\"heatmap\":[{\"type\":\"heatmap\",\"colorbar\":{\"outlinewidth\":0,\"ticks\":\"\"},\"colorscale\":[[0.0,\"#0d0887\"],[0.1111111111111111,\"#46039f\"],[0.2222222222222222,\"#7201a8\"],[0.3333333333333333,\"#9c179e\"],[0.4444444444444444,\"#bd3786\"],[0.5555555555555556,\"#d8576b\"],[0.6666666666666666,\"#ed7953\"],[0.7777777777777778,\"#fb9f3a\"],[0.8888888888888888,\"#fdca26\"],[1.0,\"#f0f921\"]]}],\"heatmapgl\":[{\"type\":\"heatmapgl\",\"colorbar\":{\"outlinewidth\":0,\"ticks\":\"\"},\"colorscale\":[[0.0,\"#0d0887\"],[0.1111111111111111,\"#46039f\"],[0.2222222222222222,\"#7201a8\"],[0.3333333333333333,\"#9c179e\"],[0.4444444444444444,\"#bd3786\"],[0.5555555555555556,\"#d8576b\"],[0.6666666666666666,\"#ed7953\"],[0.7777777777777778,\"#fb9f3a\"],[0.8888888888888888,\"#fdca26\"],[1.0,\"#f0f921\"]]}],\"contourcarpet\":[{\"type\":\"contourcarpet\",\"colorbar\":{\"outlinewidth\":0,\"ticks\":\"\"}}],\"contour\":[{\"type\":\"contour\",\"colorbar\":{\"outlinewidth\":0,\"ticks\":\"\"},\"colorscale\":[[0.0,\"#0d0887\"],[0.1111111111111111,\"#46039f\"],[0.2222222222222222,\"#7201a8\"],[0.3333333333333333,\"#9c179e\"],[0.4444444444444444,\"#bd3786\"],[0.5555555555555556,\"#d8576b\"],[0.6666666666666666,\"#ed7953\"],[0.7777777777777778,\"#fb9f3a\"],[0.8888888888888888,\"#fdca26\"],[1.0,\"#f0f921\"]]}],\"surface\":[{\"type\":\"surface\",\"colorbar\":{\"outlinewidth\":0,\"ticks\":\"\"},\"colorscale\":[[0.0,\"#0d0887\"],[0.1111111111111111,\"#46039f\"],[0.2222222222222222,\"#7201a8\"],[0.3333333333333333,\"#9c179e\"],[0.4444444444444444,\"#bd3786\"],[0.5555555555555556,\"#d8576b\"],[0.6666666666666666,\"#ed7953\"],[0.7777777777777778,\"#fb9f3a\"],[0.8888888888888888,\"#fdca26\"],[1.0,\"#f0f921\"]]}],\"mesh3d\":[{\"type\":\"mesh3d\",\"colorbar\":{\"outlinewidth\":0,\"ticks\":\"\"}}],\"scatter\":[{\"fillpattern\":{\"fillmode\":\"overlay\",\"size\":10,\"solidity\":0.2},\"type\":\"scatter\"}],\"parcoords\":[{\"type\":\"parcoords\",\"line\":{\"colorbar\":{\"outlinewidth\":0,\"ticks\":\"\"}}}],\"scatterpolargl\":[{\"type\":\"scatterpolargl\",\"marker\":{\"colorbar\":{\"outlinewidth\":0,\"ticks\":\"\"}}}],\"bar\":[{\"error_x\":{\"color\":\"#2a3f5f\"},\"error_y\":{\"color\":\"#2a3f5f\"},\"marker\":{\"line\":{\"color\":\"#E5ECF6\",\"width\":0.5},\"pattern\":{\"fillmode\":\"overlay\",\"size\":10,\"solidity\":0.2}},\"type\":\"bar\"}],\"scattergeo\":[{\"type\":\"scattergeo\",\"marker\":{\"colorbar\":{\"outlinewidth\":0,\"ticks\":\"\"}}}],\"scatterpolar\":[{\"type\":\"scatterpolar\",\"marker\":{\"colorbar\":{\"outlinewidth\":0,\"ticks\":\"\"}}}],\"histogram\":[{\"marker\":{\"pattern\":{\"fillmode\":\"overlay\",\"size\":10,\"solidity\":0.2}},\"type\":\"histogram\"}],\"scattergl\":[{\"type\":\"scattergl\",\"marker\":{\"colorbar\":{\"outlinewidth\":0,\"ticks\":\"\"}}}],\"scatter3d\":[{\"type\":\"scatter3d\",\"line\":{\"colorbar\":{\"outlinewidth\":0,\"ticks\":\"\"}},\"marker\":{\"colorbar\":{\"outlinewidth\":0,\"ticks\":\"\"}}}],\"scattermapbox\":[{\"type\":\"scattermapbox\",\"marker\":{\"colorbar\":{\"outlinewidth\":0,\"ticks\":\"\"}}}],\"scatterternary\":[{\"type\":\"scatterternary\",\"marker\":{\"colorbar\":{\"outlinewidth\":0,\"ticks\":\"\"}}}],\"scattercarpet\":[{\"type\":\"scattercarpet\",\"marker\":{\"colorbar\":{\"outlinewidth\":0,\"ticks\":\"\"}}}],\"carpet\":[{\"aaxis\":{\"endlinecolor\":\"#2a3f5f\",\"gridcolor\":\"white\",\"linecolor\":\"white\",\"minorgridcolor\":\"white\",\"startlinecolor\":\"#2a3f5f\"},\"baxis\":{\"endlinecolor\":\"#2a3f5f\",\"gridcolor\":\"white\",\"linecolor\":\"white\",\"minorgridcolor\":\"white\",\"startlinecolor\":\"#2a3f5f\"},\"type\":\"carpet\"}],\"table\":[{\"cells\":{\"fill\":{\"color\":\"#EBF0F8\"},\"line\":{\"color\":\"white\"}},\"header\":{\"fill\":{\"color\":\"#C8D4E3\"},\"line\":{\"color\":\"white\"}},\"type\":\"table\"}],\"barpolar\":[{\"marker\":{\"line\":{\"color\":\"#E5ECF6\",\"width\":0.5},\"pattern\":{\"fillmode\":\"overlay\",\"size\":10,\"solidity\":0.2}},\"type\":\"barpolar\"}],\"pie\":[{\"automargin\":true,\"type\":\"pie\"}]},\"layout\":{\"autotypenumbers\":\"strict\",\"colorway\":[\"#636efa\",\"#EF553B\",\"#00cc96\",\"#ab63fa\",\"#FFA15A\",\"#19d3f3\",\"#FF6692\",\"#B6E880\",\"#FF97FF\",\"#FECB52\"],\"font\":{\"color\":\"#2a3f5f\"},\"hovermode\":\"closest\",\"hoverlabel\":{\"align\":\"left\"},\"paper_bgcolor\":\"white\",\"plot_bgcolor\":\"#E5ECF6\",\"polar\":{\"bgcolor\":\"#E5ECF6\",\"angularaxis\":{\"gridcolor\":\"white\",\"linecolor\":\"white\",\"ticks\":\"\"},\"radialaxis\":{\"gridcolor\":\"white\",\"linecolor\":\"white\",\"ticks\":\"\"}},\"ternary\":{\"bgcolor\":\"#E5ECF6\",\"aaxis\":{\"gridcolor\":\"white\",\"linecolor\":\"white\",\"ticks\":\"\"},\"baxis\":{\"gridcolor\":\"white\",\"linecolor\":\"white\",\"ticks\":\"\"},\"caxis\":{\"gridcolor\":\"white\",\"linecolor\":\"white\",\"ticks\":\"\"}},\"coloraxis\":{\"colorbar\":{\"outlinewidth\":0,\"ticks\":\"\"}},\"colorscale\":{\"sequential\":[[0.0,\"#0d0887\"],[0.1111111111111111,\"#46039f\"],[0.2222222222222222,\"#7201a8\"],[0.3333333333333333,\"#9c179e\"],[0.4444444444444444,\"#bd3786\"],[0.5555555555555556,\"#d8576b\"],[0.6666666666666666,\"#ed7953\"],[0.7777777777777778,\"#fb9f3a\"],[0.8888888888888888,\"#fdca26\"],[1.0,\"#f0f921\"]],\"sequentialminus\":[[0.0,\"#0d0887\"],[0.1111111111111111,\"#46039f\"],[0.2222222222222222,\"#7201a8\"],[0.3333333333333333,\"#9c179e\"],[0.4444444444444444,\"#bd3786\"],[0.5555555555555556,\"#d8576b\"],[0.6666666666666666,\"#ed7953\"],[0.7777777777777778,\"#fb9f3a\"],[0.8888888888888888,\"#fdca26\"],[1.0,\"#f0f921\"]],\"diverging\":[[0,\"#8e0152\"],[0.1,\"#c51b7d\"],[0.2,\"#de77ae\"],[0.3,\"#f1b6da\"],[0.4,\"#fde0ef\"],[0.5,\"#f7f7f7\"],[0.6,\"#e6f5d0\"],[0.7,\"#b8e186\"],[0.8,\"#7fbc41\"],[0.9,\"#4d9221\"],[1,\"#276419\"]]},\"xaxis\":{\"gridcolor\":\"white\",\"linecolor\":\"white\",\"ticks\":\"\",\"title\":{\"standoff\":15},\"zerolinecolor\":\"white\",\"automargin\":true,\"zerolinewidth\":2},\"yaxis\":{\"gridcolor\":\"white\",\"linecolor\":\"white\",\"ticks\":\"\",\"title\":{\"standoff\":15},\"zerolinecolor\":\"white\",\"automargin\":true,\"zerolinewidth\":2},\"scene\":{\"xaxis\":{\"backgroundcolor\":\"#E5ECF6\",\"gridcolor\":\"white\",\"linecolor\":\"white\",\"showbackground\":true,\"ticks\":\"\",\"zerolinecolor\":\"white\",\"gridwidth\":2},\"yaxis\":{\"backgroundcolor\":\"#E5ECF6\",\"gridcolor\":\"white\",\"linecolor\":\"white\",\"showbackground\":true,\"ticks\":\"\",\"zerolinecolor\":\"white\",\"gridwidth\":2},\"zaxis\":{\"backgroundcolor\":\"#E5ECF6\",\"gridcolor\":\"white\",\"linecolor\":\"white\",\"showbackground\":true,\"ticks\":\"\",\"zerolinecolor\":\"white\",\"gridwidth\":2}},\"shapedefaults\":{\"line\":{\"color\":\"#2a3f5f\"}},\"annotationdefaults\":{\"arrowcolor\":\"#2a3f5f\",\"arrowhead\":0,\"arrowwidth\":1},\"geo\":{\"bgcolor\":\"white\",\"landcolor\":\"#E5ECF6\",\"subunitcolor\":\"white\",\"showland\":true,\"showlakes\":true,\"lakecolor\":\"white\"},\"title\":{\"x\":0.05},\"mapbox\":{\"style\":\"light\"}}},\"xaxis\":{\"anchor\":\"y\",\"domain\":[0.0,0.31999999999999995],\"title\":{\"text\":\"\"},\"matches\":\"x\",\"showline\":true,\"linewidth\":1,\"linecolor\":\"black\"},\"yaxis\":{\"anchor\":\"x\",\"domain\":[0.0,1.0],\"title\":{\"text\":\"Metric Value\"},\"matches\":\"y\",\"showline\":true,\"linewidth\":1,\"linecolor\":\"black\",\"range\":[0,1]},\"xaxis2\":{\"anchor\":\"y2\",\"domain\":[0.33999999999999997,0.6599999999999999],\"matches\":\"x\",\"title\":{\"text\":\"\"},\"showline\":true,\"linewidth\":1,\"linecolor\":\"black\"},\"yaxis2\":{\"anchor\":\"x2\",\"domain\":[0.0,1.0],\"matches\":\"y\",\"showticklabels\":false,\"showline\":true,\"linewidth\":1,\"linecolor\":\"black\",\"range\":[0,1]},\"xaxis3\":{\"anchor\":\"y3\",\"domain\":[0.6799999999999999,0.9999999999999999],\"matches\":\"x\",\"title\":{\"text\":\"\"},\"showline\":true,\"linewidth\":1,\"linecolor\":\"black\"},\"yaxis3\":{\"anchor\":\"x3\",\"domain\":[0.0,1.0],\"matches\":\"y\",\"showticklabels\":false,\"showline\":true,\"linewidth\":1,\"linecolor\":\"black\",\"range\":[0,1]},\"annotations\":[{\"font\":{},\"showarrow\":false,\"text\":\"Sparse cells\",\"x\":0.15999999999999998,\"xanchor\":\"center\",\"xref\":\"paper\",\"y\":0.95,\"yanchor\":\"bottom\",\"yref\":\"paper\"},{\"font\":{},\"showarrow\":false,\"text\":\"Elongated cells\",\"x\":0.49999999999999994,\"xanchor\":\"center\",\"xref\":\"paper\",\"y\":0.95,\"yanchor\":\"bottom\",\"yref\":\"paper\"},{\"font\":{},\"showarrow\":false,\"text\":\"Dense cells\",\"x\":0.8399999999999999,\"xanchor\":\"center\",\"xref\":\"paper\",\"y\":0.95,\"yanchor\":\"bottom\",\"yref\":\"paper\"}],\"legend\":{\"title\":{\"text\":\"Platform\"},\"tracegroupgap\":0,\"orientation\":\"h\",\"yanchor\":\"bottom\",\"y\":1.05,\"xanchor\":\"right\",\"x\":0.99},\"margin\":{\"t\":60},\"barmode\":\"group\",\"height\":400,\"width\":1000,\"font\":{\"size\":15,\"color\":\"black\"},\"paper_bgcolor\":\"rgba(0,0,0,0)\",\"plot_bgcolor\":\"rgba(0,0,0,0)\"},                        {\"responsive\": true}                    ).then(function(){\n",
       "                            \n",
       "var gd = document.getElementById('04805424-14b1-4a43-8fb4-26131278e863');\n",
       "var x = new MutationObserver(function (mutations, observer) {{\n",
       "        var display = window.getComputedStyle(gd).display;\n",
       "        if (!display || display === 'none') {{\n",
       "            console.log([gd, 'removed!']);\n",
       "            Plotly.purge(gd);\n",
       "            observer.disconnect();\n",
       "        }}\n",
       "}});\n",
       "\n",
       "// Listen for the removal of the full notebook cells\n",
       "var notebookContainer = gd.closest('#notebook-container');\n",
       "if (notebookContainer) {{\n",
       "    x.observe(notebookContainer, {childList: true});\n",
       "}}\n",
       "\n",
       "// Listen for the clearing of the current output cell\n",
       "var outputEl = gd.closest('.output');\n",
       "if (outputEl) {{\n",
       "    x.observe(outputEl, {childList: true});\n",
       "}}\n",
       "\n",
       "                        })                };                });            </script>        </div>"
      ]
     },
     "metadata": {},
     "output_type": "display_data"
    }
   ],
   "source": [
    "# Display the resulting DataFrame\n",
    "\n",
    "df_metrics = pd.read_csv(f'{wd}/data/single_cell_metrics/segmentation_eval_results.csv')\n",
    "core_to_desc = {99:'Sparse cells',147:'Elongated cells', 165:'Dense cells'}\n",
    "df_metrics['core'] = df_metrics['core'].apply(lambda x: core_to_desc[x])\n",
    "df_metrics = pd.melt(df_metrics, id_vars=['core', 'platform'], value_vars=['precision','f1_score', 'iou'], \n",
    "                    var_name='metric', value_name='value')\n",
    "df_metrics['metric'] = df_metrics['metric'].apply(\n",
    "    lambda x: {'precision': 'Precision', 'recall': 'Recall', 'f1_score': 'F1 Score', 'iou': 'IOU'}[x])\n",
    "display(df_metrics)\n",
    "\n",
    "custom_palette = {}\n",
    "for platform in df_metrics['platform'].unique():\n",
    "    custom_palette[platform] = sample_color[platform]\n",
    "\n",
    "fontsize=15\n",
    "width = 1000\n",
    "height = 400\n",
    "\n",
    "# Plot using Plotly Express\n",
    "fig = px.bar(df_metrics, x='metric', y='value',\n",
    "             barmode='group', facet_col='core', color='platform',\n",
    "             color_discrete_map=custom_palette,\n",
    "             width=width, height=height,\n",
    "             labels={'value': 'Metric Value', 'core': ''})  # Removing label for 'core'\n",
    "\n",
    "# Update layout and axis properties globally\n",
    "fig.update_layout(\n",
    "    xaxis_title='',  # Removing x-axis titles globally\n",
    "    yaxis_title='Metric Value',\n",
    "    font=dict(size=fontsize,\n",
    "              color='black'),\n",
    "    paper_bgcolor='rgba(0,0,0,0)',\n",
    "    plot_bgcolor='rgba(0,0,0,0)',\n",
    "    legend=dict(\n",
    "        title='Platform',\n",
    "        orientation=\"h\",  # horizontal alignment\n",
    "        yanchor=\"bottom\", \n",
    "        y=1.05,  # position legend just above the plot\n",
    "        xanchor=\"right\",\n",
    "        x=0.99  # center the legend\n",
    "        ),\n",
    ")\n",
    "\n",
    "# Update axes to show lines, applicable to all axes\n",
    "fig.update_xaxes(matches='x', showline=True, linewidth=1, linecolor='black', title='')\n",
    "fig.update_yaxes(matches='y', showline=True, linewidth=1, linecolor='black', range=[0, 1])\n",
    "\n",
    "\n",
    "# Update facet titles\n",
    "\n",
    "for annotation in fig.layout.annotations:\n",
    "    annotation.y -= 0.05\n",
    "    text = annotation.text.split('=')[-1]  # Get the value after 'metric='\n",
    "    annotation.text = text\n",
    "\n",
    "fig.show()\n",
    "pio.write_image(fig, f'{wd}/figures/Fig_4_Segmentation/evaluation.png',scale=4, width=width, height=height)\n",
    "\n"
   ]
  },
  {
   "cell_type": "markdown",
   "metadata": {},
   "source": [
    "# Generate legend for the whole figure"
   ]
  },
  {
   "cell_type": "code",
   "execution_count": 11,
   "metadata": {},
   "outputs": [
    {
     "data": {
      "image/png": "[encoded data removed]",
      "text/plain": [
       "<Figure size 640x480 with 1 Axes>"
      ]
     },
     "metadata": {},
     "output_type": "display_data"
    }
   ],
   "source": [
    "gene = 'EPCAM'\n",
    "\n",
    "legend_elements = [Patch(facecolor='none', edgecolor='black', label='All segmented cells'),\n",
    "                   Patch(facecolor='Blue', edgecolor='Blue', label='Kept cells after QC'),\n",
    "                   Patch(facecolor='Red', edgecolor='Red', label='Dropped cells after QC'),\n",
    "                   Line2D([0], [0], marker='o', color='w', label='Annotated cells', markerfacecolor='red', markersize=15),\n",
    "                   Line2D([0], [0], marker='o', color='w', label='All transcripts', markerfacecolor='limegreen', markersize=15),\n",
    "                   Line2D([0], [0], marker='o', color='w', label=f'{gene}', markerfacecolor='blue', markersize=15),]\n",
    "\n",
    "# Create the figure\n",
    "fig, ax = plt.subplots()\n",
    "legend = ax.legend(handles=legend_elements, loc='center', ncol=2)  # Set ncol to 3 for three columns\n",
    "\n",
    "# Hide the frame of the legend\n",
    "legend.set_frame_on(False)\n",
    "\n",
    "plt.axis('off')\n",
    "plt.tight_layout()\n",
    "plt.show()\n",
    "fig.savefig('figures/segmentation_legend.png', format='png', dpi=500, transparent=True)\n",
    "fig.savefig('figures/segmentation_legend.eps', format='eps', dpi=500, transparent=True)\n"
   ]
  },
  {
   "cell_type": "code",
   "execution_count": null,
   "metadata": {},
   "outputs": [],
   "source": [
    "# fov = 9\n",
    "# fov = str(fov).zfill(3)\n",
    "# data_dir = f'data/cosmx/huan_tma_5724/20240430_BWH_TMA_1/20240430_203348_S1/CellStatsDir'\n",
    "# for filename_mem in [\n",
    "#     f'{data_dir}/CellComposite/CellComposite_F{fov}.jpg']:\n",
    "#     im_mem = imread(filename_mem)\n",
    "#     if im_mem.ndim ==3:\n",
    "#         for i in range(im_mem.shape[-1]):\n",
    "#             print (filename_mem, '----- band',i)\n",
    "#             imshow(im_mem[2000:2500, 2000:2500,i], resize=False, vlim=False)\n",
    "#             print (f'unique values:{np.unique(im_mem)}')\n",
    "#     else:\n",
    "#         print (filename_mem, '----- 0')\n",
    "#         imshow(im_mem[2000:2500, 2000:2500], resize=False)"
   ]
  },
  {
   "cell_type": "code",
   "execution_count": null,
   "metadata": {},
   "outputs": [],
   "source": []
  }
 ],
 "metadata": {
  "kernelspec": {
   "display_name": "sp",
   "language": "python",
   "name": "python3"
  },
  "language_info": {
   "codemirror_mode": {
    "name": "ipython",
    "version": 3
   },
   "file_extension": ".py",
   "mimetype": "text/x-python",
   "name": "python",
   "nbconvert_exporter": "python",
   "pygments_lexer": "ipython3",
   "version": "3.8.16"
  }
 },
 "nbformat": 4,
 "nbformat_minor": 2
}
