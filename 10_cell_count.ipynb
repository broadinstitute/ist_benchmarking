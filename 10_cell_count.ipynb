{
 "cells": [
  {
   "cell_type": "code",
   "execution_count": 2,
   "metadata": {},
   "outputs": [
    {
     "name": "stdout",
     "output_type": "stream",
     "text": [
      "working directory: /Users/whuan/dev/ist_benchmarking\n",
      "['2024_xenium_breast_htma', '2024_xenium_breast_tumor2', '2024_merscope_breast_htma', '2024_merscope_breast_tumor2', '2024_cosmx_multitissue_htma', '2024_cosmx_multitissue_tumor2']\n"
     ]
    }
   ],
   "source": [
    "import pandas as pd\n",
    "import numpy as np\n",
    "import plotly.express as px\n",
    "import plotly.io as pio\n",
    "import plotly.graph_objects as go\n",
    "from libpysal.cg import alpha_shape\n",
    "from collections import Counter\n",
    "import sys\n",
    "import os\n",
    "import seaborn as sns\n",
    "import matplotlib.pyplot as plt\n",
    "\n",
    "from st_utils import correct_tissue_names, correct_platform_panel\n",
    "from st_utils import get_processed\n",
    "from st_utils import get_qced_cell_id\n",
    "from constants import matching_cores_2024 as matching_cores\n",
    "from constants import SAMPLES,sample_color\n",
    "\n",
    "pd.set_option('display.max_rows',999)\n",
    "pd.set_option('display.max_columns', 500)\n",
    "pd.set_option('display.width', 1000)\n",
    "\n",
    "agbt_color = 'eff8f3'\n",
    "fig_size = (8,8)\n",
    "\n",
    "import warnings\n",
    "if not sys.warnoptions:\n",
    "    warnings.simplefilter(\"ignore\")\n",
    "\n",
    "wd = os.getcwd()\n",
    "print (f'working directory: {wd}')\n",
    "\n",
    "year = '2024'\n",
    "\n",
    "samples = [x for x in SAMPLES]\n",
    "if year == '2024':\n",
    "    samples = [x for x in SAMPLES if '2024' in x]\n",
    "elif year == '2023':\n",
    "    samples = [x for x in SAMPLES if '2024' not in x]\n",
    "else:\n",
    "    samples = [x for x in SAMPLES]\n",
    "print (samples)"
   ]
  },
  {
   "cell_type": "markdown",
   "metadata": {},
   "source": [
    "# Cell count: gather data"
   ]
  },
  {
   "cell_type": "code",
   "execution_count": 3,
   "metadata": {},
   "outputs": [],
   "source": [
    "\n",
    "CORE_RADIUS_DICT = {'xenium_breast_htma':300,\n",
    "                    'xenium_breast_normal':650,\n",
    "                    'xenium_panhuman_normal':650,\n",
    "                    'xenium_panhuman_htma':300,\n",
    "                    'xenium_lung_htma':300,\n",
    "                    'xenium_lung_normal':650,\n",
    "                    'merscope_breast_htma':300,\n",
    "                    'merscope_breast_normal':650,\n",
    "                    'merscope_lung_normal':650,\n",
    "                    'merscope_lung_htma':300,\n",
    "                    'cosmx_multitissue_htma':300,\n",
    "                    'cosmx_multitissue_normal':650,\n",
    "                    \n",
    "                    '2024_xenium_breast_htma':350,\n",
    "                    '2024_xenium_breast_tumor2':560,\n",
    "                    '2024_merscope_breast_htma':350,\n",
    "                    '2024_merscope_breast_tumor2':560,\n",
    "                    '2024_cosmx_multitissue_htma':650,\n",
    "                    '2024_cosmx_multitissue_tumor2':650,\n",
    "                    }\n",
    "\n",
    "\n",
    "ids, dic = get_qced_cell_id(10,0)\n",
    "df_c_all = pd.DataFrame()\n",
    "\n",
    "for filtration in ['Before', 'After']:\n",
    "    for sample in samples:\n",
    "        df_cells = pd.read_parquet(\n",
    "            f'{wd}/data/cell_by_gene_csv/{sample}_cell_by_gene.parquet.gzip'\n",
    "            )\n",
    "        \n",
    "        df_cells = df_cells[['core','tissue_type','cell_id']]\n",
    "        df_cells = correct_tissue_names(sample,df_cells)\n",
    "        df_cells.core = df_cells.core.astype('int')\n",
    "        df_cells['core'] += (300 if 'tumor2' in sample else 0) + (200 if 'normal' in sample else 0)\n",
    "        df_cells.core = df_cells.core.astype('str')\n",
    "        df_cells = df_cells.loc[~df_cells['tissue_type'].isin(['Marker','MARKER'])]\n",
    "        df_cells = df_cells.drop_duplicates()\n",
    "        if filtration == 'After':\n",
    "            df_cells = df_cells.loc[df_cells['cell_id'].isin(ids)]\n",
    "        df_metric = df_cells.groupby(by = ['core','tissue_type']).agg({'cell_id':'count'})\n",
    "        df_metric = df_metric.rename({'cell_id':'cell_count'}, axis=1)\n",
    "        df_metric['Sample'] = sample\n",
    "        df_metric['TMA'] = sample.split('_')[-1].upper()\n",
    "        df_metric['Platform_Panel'] = df_metric['Sample'].apply(lambda x: f\"{x.split('_')[-3].upper()}_{x.split('_')[-2].capitalize()}\")\n",
    "        df_metric = correct_platform_panel(df_metric, 'Platform_Panel')\n",
    "        df_metric['Filtration'] = filtration\n",
    "\n",
    "        df_c_all = pd.concat([df_c_all, df_metric])\n",
    "\n",
    "df_c_all = df_c_all.reset_index()\n",
    "matching_cores = [str(x) for x in matching_cores]\n",
    "df_c_all = df_c_all.loc[df_c_all['core'].isin(matching_cores)]\n"
   ]
  },
  {
   "cell_type": "code",
   "execution_count": 4,
   "metadata": {},
   "outputs": [
    {
     "data": {
      "text/html": [
       "<div>\n",
       "<style scoped>\n",
       "    .dataframe tbody tr th:only-of-type {\n",
       "        vertical-align: middle;\n",
       "    }\n",
       "\n",
       "    .dataframe tbody tr th {\n",
       "        vertical-align: top;\n",
       "    }\n",
       "\n",
       "    .dataframe thead th {\n",
       "        text-align: right;\n",
       "    }\n",
       "</style>\n",
       "<table border=\"1\" class=\"dataframe\">\n",
       "  <thead>\n",
       "    <tr style=\"text-align: right;\">\n",
       "      <th></th>\n",
       "      <th>core</th>\n",
       "      <th>tissue_type</th>\n",
       "      <th>cell_count</th>\n",
       "      <th>Sample</th>\n",
       "      <th>TMA</th>\n",
       "      <th>Platform_Panel</th>\n",
       "      <th>Filtration</th>\n",
       "      <th>cos_fov_count</th>\n",
       "    </tr>\n",
       "  </thead>\n",
       "  <tbody>\n",
       "    <tr>\n",
       "      <th>0</th>\n",
       "      <td>100</td>\n",
       "      <td>BrC</td>\n",
       "      <td>2304</td>\n",
       "      <td>2024_xenium_breast_htma</td>\n",
       "      <td>HTMA</td>\n",
       "      <td>Xenium,breast</td>\n",
       "      <td>Before</td>\n",
       "      <td>1</td>\n",
       "    </tr>\n",
       "    <tr>\n",
       "      <th>1</th>\n",
       "      <td>101</td>\n",
       "      <td>BrC</td>\n",
       "      <td>1550</td>\n",
       "      <td>2024_xenium_breast_htma</td>\n",
       "      <td>HTMA</td>\n",
       "      <td>Xenium,breast</td>\n",
       "      <td>Before</td>\n",
       "      <td>1</td>\n",
       "    </tr>\n",
       "    <tr>\n",
       "      <th>2</th>\n",
       "      <td>103</td>\n",
       "      <td>BrC</td>\n",
       "      <td>775</td>\n",
       "      <td>2024_xenium_breast_htma</td>\n",
       "      <td>HTMA</td>\n",
       "      <td>Xenium,breast</td>\n",
       "      <td>Before</td>\n",
       "      <td>1</td>\n",
       "    </tr>\n",
       "    <tr>\n",
       "      <th>3</th>\n",
       "      <td>104</td>\n",
       "      <td>BrC</td>\n",
       "      <td>2726</td>\n",
       "      <td>2024_xenium_breast_htma</td>\n",
       "      <td>HTMA</td>\n",
       "      <td>Xenium,breast</td>\n",
       "      <td>Before</td>\n",
       "      <td>1</td>\n",
       "    </tr>\n",
       "    <tr>\n",
       "      <th>4</th>\n",
       "      <td>105</td>\n",
       "      <td>BrC</td>\n",
       "      <td>2310</td>\n",
       "      <td>2024_xenium_breast_htma</td>\n",
       "      <td>HTMA</td>\n",
       "      <td>Xenium,breast</td>\n",
       "      <td>Before</td>\n",
       "      <td>1</td>\n",
       "    </tr>\n",
       "  </tbody>\n",
       "</table>\n",
       "</div>"
      ],
      "text/plain": [
       "  core tissue_type  cell_count                   Sample   TMA Platform_Panel Filtration  cos_fov_count\n",
       "0  100         BrC        2304  2024_xenium_breast_htma  HTMA  Xenium,breast     Before              1\n",
       "1  101         BrC        1550  2024_xenium_breast_htma  HTMA  Xenium,breast     Before              1\n",
       "2  103         BrC         775  2024_xenium_breast_htma  HTMA  Xenium,breast     Before              1\n",
       "3  104         BrC        2726  2024_xenium_breast_htma  HTMA  Xenium,breast     Before              1\n",
       "4  105         BrC        2310  2024_xenium_breast_htma  HTMA  Xenium,breast     Before              1"
      ]
     },
     "execution_count": 4,
     "metadata": {},
     "output_type": "execute_result"
    }
   ],
   "source": [
    "cos_fovs = pd.DataFrame()\n",
    "for sample in samples:\n",
    "    if 'cosmx' in sample:\n",
    "        df = get_processed(sample, 'cell_level')\n",
    "        df.core = df.core.astype('int')\n",
    "        df['core'] += (300 if 'tumor2' in sample else 0) + (200 if 'normal' in sample else 0)\n",
    "        df.core = df.core.astype('str')\n",
    "        df_s = df[['core','fov']].drop_duplicates().sort_values(by=['core'])\n",
    "        d = pd.DataFrame.from_dict(dict(Counter(df_s['core'])), orient='index', columns=['cos_fov_count'])\n",
    "        d.reset_index(inplace=True)\n",
    "        d.rename(columns={'index': 'core'}, inplace=True)\n",
    "        cos_fovs = pd.concat([cos_fovs, d], ignore_index=True)\n",
    "\n",
    "df_c_all = pd.merge(df_c_all, cos_fovs, on='core', how='left')\n",
    "df_c_all.head()"
   ]
  },
  {
   "cell_type": "code",
   "execution_count": 5,
   "metadata": {},
   "outputs": [
    {
     "data": {
      "text/html": [
       "<div>\n",
       "<style scoped>\n",
       "    .dataframe tbody tr th:only-of-type {\n",
       "        vertical-align: middle;\n",
       "    }\n",
       "\n",
       "    .dataframe tbody tr th {\n",
       "        vertical-align: top;\n",
       "    }\n",
       "\n",
       "    .dataframe thead th {\n",
       "        text-align: right;\n",
       "    }\n",
       "</style>\n",
       "<table border=\"1\" class=\"dataframe\">\n",
       "  <thead>\n",
       "    <tr style=\"text-align: right;\">\n",
       "      <th></th>\n",
       "      <th></th>\n",
       "      <th>cell_count_per_1000µm^2</th>\n",
       "    </tr>\n",
       "    <tr>\n",
       "      <th>TMA</th>\n",
       "      <th>Sample</th>\n",
       "      <th></th>\n",
       "    </tr>\n",
       "  </thead>\n",
       "  <tbody>\n",
       "    <tr>\n",
       "      <th rowspan=\"3\" valign=\"top\">TUMOR2</th>\n",
       "      <th>2024_xenium_breast_tumor2</th>\n",
       "      <td>5.2</td>\n",
       "    </tr>\n",
       "    <tr>\n",
       "      <th>2024_cosmx_multitissue_tumor2</th>\n",
       "      <td>4.8</td>\n",
       "    </tr>\n",
       "    <tr>\n",
       "      <th>2024_merscope_breast_tumor2</th>\n",
       "      <td>1.0</td>\n",
       "    </tr>\n",
       "    <tr>\n",
       "      <th rowspan=\"3\" valign=\"top\">HTMA</th>\n",
       "      <th>2024_cosmx_multitissue_htma</th>\n",
       "      <td>5.8</td>\n",
       "    </tr>\n",
       "    <tr>\n",
       "      <th>2024_xenium_breast_htma</th>\n",
       "      <td>5.3</td>\n",
       "    </tr>\n",
       "    <tr>\n",
       "      <th>2024_merscope_breast_htma</th>\n",
       "      <td>2.5</td>\n",
       "    </tr>\n",
       "  </tbody>\n",
       "</table>\n",
       "</div>"
      ],
      "text/plain": [
       "                                      cell_count_per_1000µm^2\n",
       "TMA    Sample                                                \n",
       "TUMOR2 2024_xenium_breast_tumor2                          5.2\n",
       "       2024_cosmx_multitissue_tumor2                      4.8\n",
       "       2024_merscope_breast_tumor2                        1.0\n",
       "HTMA   2024_cosmx_multitissue_htma                        5.8\n",
       "       2024_xenium_breast_htma                            5.3\n",
       "       2024_merscope_breast_htma                          2.5"
      ]
     },
     "execution_count": 5,
     "metadata": {},
     "output_type": "execute_result"
    }
   ],
   "source": [
    "fov_area = 4256**2 * 0.12**2\n",
    "\n",
    "metric = 'cell_count'\n",
    "unit = 'µm^2'\n",
    "count_of_unit = 1000\n",
    "plot_metric = f'{metric}_per_{count_of_unit}{unit}'\n",
    "df_c_all = df_c_all.sort_values(by=['Sample'])\n",
    "df_c_all[f'area_{unit}'] = df_c_all.apply(lambda row: fov_area * row['cos_fov_count'] if 'cosmx' in row['Sample'] else 3.14 * CORE_RADIUS_DICT[row['Sample']]**2 , axis=1)\n",
    "df_c_all[f'{metric}_per_{count_of_unit}{unit}'] = df_c_all[metric] * count_of_unit / df_c_all[f'area_{unit}']\n",
    "\n",
    "metric = 'cell_count_per_1000µm^2'\n",
    "\n",
    "df_c_all = df_c_all.rename(columns={\"tissue_type\":\"Tissue Type\"})\n",
    "# df_c_all['cell_count_per_1000um^2'] = df_c_all['cell_count_per_1000um^2'].apply(lambda x: round(x,1))\n",
    "grouped_df = df_c_all[['Tissue Type', 'Sample', metric]].groupby(['Tissue Type', 'Sample']).median().reset_index()\n",
    "pivoted_df = grouped_df.pivot_table(index='Tissue Type', columns='Sample', values=metric)\n",
    "pivoted_df.reset_index(inplace=False)\n",
    "\n",
    "pivoted_df.to_csv(f'{wd}/tables/cell_count.csv')\n",
    "\n",
    "\n",
    "groupby='Sample'\n",
    "df_metric = df_c_all.groupby(by = ['TMA',groupby]).agg({metric:'median'})\n",
    "df_metric = df_metric.sort_values(by=['TMA',metric], ascending=False)\n",
    "df_metric = df_metric.round(1)\n",
    "df_metric.to_csv(f'{wd}/tables/cell_per_area_by_sample.csv', index=True)\n",
    "\n",
    "df_metric"
   ]
  },
  {
   "cell_type": "code",
   "execution_count": 6,
   "metadata": {},
   "outputs": [
    {
     "data": {
      "text/html": [
       "<div>\n",
       "<style scoped>\n",
       "    .dataframe tbody tr th:only-of-type {\n",
       "        vertical-align: middle;\n",
       "    }\n",
       "\n",
       "    .dataframe tbody tr th {\n",
       "        vertical-align: top;\n",
       "    }\n",
       "\n",
       "    .dataframe thead th {\n",
       "        text-align: right;\n",
       "    }\n",
       "</style>\n",
       "<table border=\"1\" class=\"dataframe\">\n",
       "  <thead>\n",
       "    <tr style=\"text-align: right;\">\n",
       "      <th></th>\n",
       "      <th></th>\n",
       "      <th>cell_count_per_1000µm^2</th>\n",
       "    </tr>\n",
       "    <tr>\n",
       "      <th>TMA</th>\n",
       "      <th>Platform</th>\n",
       "      <th></th>\n",
       "    </tr>\n",
       "  </thead>\n",
       "  <tbody>\n",
       "    <tr>\n",
       "      <th rowspan=\"3\" valign=\"top\">TUMOR2</th>\n",
       "      <th>XENIUM</th>\n",
       "      <td>5.2</td>\n",
       "    </tr>\n",
       "    <tr>\n",
       "      <th>COSMX</th>\n",
       "      <td>4.8</td>\n",
       "    </tr>\n",
       "    <tr>\n",
       "      <th>MERSCOPE</th>\n",
       "      <td>1.0</td>\n",
       "    </tr>\n",
       "    <tr>\n",
       "      <th rowspan=\"3\" valign=\"top\">HTMA</th>\n",
       "      <th>COSMX</th>\n",
       "      <td>5.8</td>\n",
       "    </tr>\n",
       "    <tr>\n",
       "      <th>XENIUM</th>\n",
       "      <td>5.3</td>\n",
       "    </tr>\n",
       "    <tr>\n",
       "      <th>MERSCOPE</th>\n",
       "      <td>2.5</td>\n",
       "    </tr>\n",
       "  </tbody>\n",
       "</table>\n",
       "</div>"
      ],
      "text/plain": [
       "                 cell_count_per_1000µm^2\n",
       "TMA    Platform                         \n",
       "TUMOR2 XENIUM                        5.2\n",
       "       COSMX                         4.8\n",
       "       MERSCOPE                      1.0\n",
       "HTMA   COSMX                         5.8\n",
       "       XENIUM                        5.3\n",
       "       MERSCOPE                      2.5"
      ]
     },
     "metadata": {},
     "output_type": "display_data"
    },
    {
     "data": {
      "text/html": [
       "<div>\n",
       "<style scoped>\n",
       "    .dataframe tbody tr th:only-of-type {\n",
       "        vertical-align: middle;\n",
       "    }\n",
       "\n",
       "    .dataframe tbody tr th {\n",
       "        vertical-align: top;\n",
       "    }\n",
       "\n",
       "    .dataframe thead th {\n",
       "        text-align: right;\n",
       "    }\n",
       "</style>\n",
       "<table border=\"1\" class=\"dataframe\">\n",
       "  <thead>\n",
       "    <tr style=\"text-align: right;\">\n",
       "      <th></th>\n",
       "      <th>cell_count_per_1000µm^2</th>\n",
       "    </tr>\n",
       "    <tr>\n",
       "      <th>Platform</th>\n",
       "      <th></th>\n",
       "    </tr>\n",
       "  </thead>\n",
       "  <tbody>\n",
       "    <tr>\n",
       "      <th>COSMX</th>\n",
       "      <td>5.3</td>\n",
       "    </tr>\n",
       "    <tr>\n",
       "      <th>XENIUM</th>\n",
       "      <td>5.3</td>\n",
       "    </tr>\n",
       "    <tr>\n",
       "      <th>MERSCOPE</th>\n",
       "      <td>1.9</td>\n",
       "    </tr>\n",
       "  </tbody>\n",
       "</table>\n",
       "</div>"
      ],
      "text/plain": [
       "          cell_count_per_1000µm^2\n",
       "Platform                         \n",
       "COSMX                         5.3\n",
       "XENIUM                        5.3\n",
       "MERSCOPE                      1.9"
      ]
     },
     "metadata": {},
     "output_type": "display_data"
    }
   ],
   "source": [
    "groupby='Platform'\n",
    "\n",
    "df_metric = df_c_all.copy()\n",
    "df_metric['Platform'] = df_metric['Sample'].apply(lambda x: x.split(\"_\")[-3].upper())\n",
    "df_metric = df_metric.groupby(by = ['TMA',groupby]).agg({metric:'median'})\n",
    "df_metric = df_metric.sort_values(by=['TMA',metric], ascending=False)\n",
    "df_metric = df_metric.round(1)\n",
    "df_metric.to_csv(f'{wd}/tables/cell_per_area_by_platform_by_tma.csv', index=True)\n",
    "display(df_metric)\n",
    "\n",
    "\n",
    "df_metric = df_c_all.copy()\n",
    "df_metric['Platform'] = df_metric['Sample'].apply(lambda x: x.split(\"_\")[-3].upper())\n",
    "df_metric = df_metric.groupby(by = [groupby]).agg({metric:'median'})\n",
    "df_metric = df_metric.sort_values(by=[metric], ascending=False)\n",
    "df_metric = df_metric.round(1)\n",
    "df_metric.to_csv(f'{wd}/tables/cell_per_area_by_platform.csv', index=True)\n",
    "display(df_metric)"
   ]
  },
  {
   "cell_type": "code",
   "execution_count": 11,
   "metadata": {},
   "outputs": [
    {
     "data": {
      "application/vnd.plotly.v1+json": {
       "config": {
        "plotlyServerURL": "https://plot.ly"
       },
       "data": [
        {
         "legendgroup": "Yes",
         "line": {
          "color": "red"
         },
         "meanline": {
          "visible": true
         },
         "name": "Before",
         "scalegroup": "Yes",
         "showlegend": true,
         "side": "negative",
         "type": "violin",
         "x": [
          "CosMx,1k",
          "CosMx,1k",
          "CosMx,1k",
          "CosMx,1k",
          "CosMx,1k",
          "CosMx,1k",
          "CosMx,1k",
          "CosMx,1k",
          "CosMx,1k",
          "CosMx,1k",
          "CosMx,1k",
          "CosMx,1k",
          "CosMx,1k",
          "CosMx,1k",
          "CosMx,1k",
          "CosMx,1k",
          "CosMx,1k",
          "CosMx,1k",
          "CosMx,1k",
          "CosMx,1k",
          "CosMx,1k",
          "CosMx,1k",
          "CosMx,1k",
          "CosMx,1k",
          "CosMx,1k",
          "CosMx,1k",
          "CosMx,1k",
          "CosMx,1k",
          "CosMx,1k",
          "CosMx,1k",
          "CosMx,1k",
          "CosMx,1k",
          "CosMx,1k",
          "CosMx,1k",
          "CosMx,1k",
          "CosMx,1k",
          "CosMx,1k",
          "CosMx,1k",
          "CosMx,1k",
          "CosMx,1k",
          "CosMx,1k",
          "CosMx,1k",
          "CosMx,1k",
          "CosMx,1k",
          "CosMx,1k",
          "CosMx,1k",
          "CosMx,1k",
          "CosMx,1k",
          "CosMx,1k",
          "CosMx,1k",
          "CosMx,1k",
          "CosMx,1k",
          "CosMx,1k",
          "CosMx,1k",
          "CosMx,1k",
          "CosMx,1k",
          "CosMx,1k",
          "CosMx,1k",
          "CosMx,1k",
          "CosMx,1k",
          "CosMx,1k",
          "CosMx,1k",
          "CosMx,1k",
          "CosMx,1k",
          "CosMx,1k",
          "CosMx,1k",
          "CosMx,1k",
          "CosMx,1k",
          "CosMx,1k",
          "CosMx,1k",
          "CosMx,1k",
          "CosMx,1k",
          "CosMx,1k",
          "CosMx,1k",
          "CosMx,1k",
          "CosMx,1k",
          "CosMx,1k",
          "CosMx,1k",
          "CosMx,1k",
          "CosMx,1k",
          "CosMx,1k",
          "CosMx,1k",
          "CosMx,1k",
          "CosMx,1k",
          "CosMx,1k",
          "CosMx,1k",
          "CosMx,1k",
          "CosMx,1k",
          "CosMx,1k",
          "CosMx,1k",
          "CosMx,1k",
          "CosMx,1k",
          "CosMx,1k",
          "CosMx,1k",
          "CosMx,1k",
          "CosMx,1k",
          "CosMx,1k",
          "CosMx,1k",
          "CosMx,1k",
          "CosMx,1k",
          "CosMx,1k",
          "CosMx,1k",
          "CosMx,1k",
          "CosMx,1k",
          "CosMx,1k",
          "CosMx,1k",
          "CosMx,1k",
          "CosMx,1k",
          "CosMx,1k",
          "CosMx,1k",
          "CosMx,1k",
          "CosMx,1k",
          "CosMx,1k",
          "CosMx,1k",
          "CosMx,1k",
          "CosMx,1k",
          "CosMx,1k",
          "CosMx,1k",
          "CosMx,1k",
          "CosMx,1k",
          "CosMx,1k",
          "CosMx,1k",
          "CosMx,1k",
          "CosMx,1k",
          "CosMx,1k",
          "CosMx,1k",
          "MERSCOPE,breast",
          "MERSCOPE,breast",
          "MERSCOPE,breast",
          "MERSCOPE,breast",
          "MERSCOPE,breast",
          "MERSCOPE,breast",
          "MERSCOPE,breast",
          "MERSCOPE,breast",
          "MERSCOPE,breast",
          "MERSCOPE,breast",
          "MERSCOPE,breast",
          "MERSCOPE,breast",
          "MERSCOPE,breast",
          "MERSCOPE,breast",
          "MERSCOPE,breast",
          "MERSCOPE,breast",
          "MERSCOPE,breast",
          "MERSCOPE,breast",
          "MERSCOPE,breast",
          "MERSCOPE,breast",
          "MERSCOPE,breast",
          "MERSCOPE,breast",
          "MERSCOPE,breast",
          "MERSCOPE,breast",
          "MERSCOPE,breast",
          "MERSCOPE,breast",
          "MERSCOPE,breast",
          "MERSCOPE,breast",
          "MERSCOPE,breast",
          "MERSCOPE,breast",
          "MERSCOPE,breast",
          "MERSCOPE,breast",
          "MERSCOPE,breast",
          "MERSCOPE,breast",
          "MERSCOPE,breast",
          "MERSCOPE,breast",
          "MERSCOPE,breast",
          "MERSCOPE,breast",
          "MERSCOPE,breast",
          "MERSCOPE,breast",
          "MERSCOPE,breast",
          "MERSCOPE,breast",
          "MERSCOPE,breast",
          "MERSCOPE,breast",
          "MERSCOPE,breast",
          "MERSCOPE,breast",
          "MERSCOPE,breast",
          "MERSCOPE,breast",
          "MERSCOPE,breast",
          "MERSCOPE,breast",
          "MERSCOPE,breast",
          "MERSCOPE,breast",
          "MERSCOPE,breast",
          "MERSCOPE,breast",
          "MERSCOPE,breast",
          "MERSCOPE,breast",
          "MERSCOPE,breast",
          "MERSCOPE,breast",
          "MERSCOPE,breast",
          "MERSCOPE,breast",
          "MERSCOPE,breast",
          "MERSCOPE,breast",
          "MERSCOPE,breast",
          "MERSCOPE,breast",
          "MERSCOPE,breast",
          "MERSCOPE,breast",
          "MERSCOPE,breast",
          "MERSCOPE,breast",
          "MERSCOPE,breast",
          "MERSCOPE,breast",
          "MERSCOPE,breast",
          "MERSCOPE,breast",
          "MERSCOPE,breast",
          "MERSCOPE,breast",
          "MERSCOPE,breast",
          "MERSCOPE,breast",
          "MERSCOPE,breast",
          "MERSCOPE,breast",
          "MERSCOPE,breast",
          "MERSCOPE,breast",
          "MERSCOPE,breast",
          "MERSCOPE,breast",
          "MERSCOPE,breast",
          "MERSCOPE,breast",
          "MERSCOPE,breast",
          "MERSCOPE,breast",
          "MERSCOPE,breast",
          "MERSCOPE,breast",
          "MERSCOPE,breast",
          "MERSCOPE,breast",
          "MERSCOPE,breast",
          "MERSCOPE,breast",
          "MERSCOPE,breast",
          "MERSCOPE,breast",
          "MERSCOPE,breast",
          "MERSCOPE,breast",
          "MERSCOPE,breast",
          "MERSCOPE,breast",
          "MERSCOPE,breast",
          "MERSCOPE,breast",
          "MERSCOPE,breast",
          "MERSCOPE,breast",
          "MERSCOPE,breast",
          "MERSCOPE,breast",
          "MERSCOPE,breast",
          "MERSCOPE,breast",
          "MERSCOPE,breast",
          "MERSCOPE,breast",
          "MERSCOPE,breast",
          "MERSCOPE,breast",
          "MERSCOPE,breast",
          "MERSCOPE,breast",
          "MERSCOPE,breast",
          "MERSCOPE,breast",
          "MERSCOPE,breast",
          "MERSCOPE,breast",
          "MERSCOPE,breast",
          "MERSCOPE,breast",
          "MERSCOPE,breast",
          "MERSCOPE,breast",
          "MERSCOPE,breast",
          "MERSCOPE,breast",
          "MERSCOPE,breast",
          "MERSCOPE,breast",
          "MERSCOPE,breast",
          "MERSCOPE,breast",
          "Xenium,breast",
          "Xenium,breast",
          "Xenium,breast",
          "Xenium,breast",
          "Xenium,breast",
          "Xenium,breast",
          "Xenium,breast",
          "Xenium,breast",
          "Xenium,breast",
          "Xenium,breast",
          "Xenium,breast",
          "Xenium,breast",
          "Xenium,breast",
          "Xenium,breast",
          "Xenium,breast",
          "Xenium,breast",
          "Xenium,breast",
          "Xenium,breast",
          "Xenium,breast",
          "Xenium,breast",
          "Xenium,breast",
          "Xenium,breast",
          "Xenium,breast",
          "Xenium,breast",
          "Xenium,breast",
          "Xenium,breast",
          "Xenium,breast",
          "Xenium,breast",
          "Xenium,breast",
          "Xenium,breast",
          "Xenium,breast",
          "Xenium,breast",
          "Xenium,breast",
          "Xenium,breast",
          "Xenium,breast",
          "Xenium,breast",
          "Xenium,breast",
          "Xenium,breast",
          "Xenium,breast",
          "Xenium,breast",
          "Xenium,breast",
          "Xenium,breast",
          "Xenium,breast",
          "Xenium,breast",
          "Xenium,breast",
          "Xenium,breast",
          "Xenium,breast",
          "Xenium,breast",
          "Xenium,breast",
          "Xenium,breast",
          "Xenium,breast",
          "Xenium,breast",
          "Xenium,breast",
          "Xenium,breast",
          "Xenium,breast",
          "Xenium,breast",
          "Xenium,breast",
          "Xenium,breast",
          "Xenium,breast",
          "Xenium,breast",
          "Xenium,breast",
          "Xenium,breast",
          "Xenium,breast",
          "Xenium,breast",
          "Xenium,breast",
          "Xenium,breast",
          "Xenium,breast",
          "Xenium,breast",
          "Xenium,breast",
          "Xenium,breast",
          "Xenium,breast",
          "Xenium,breast",
          "Xenium,breast",
          "Xenium,breast",
          "Xenium,breast",
          "Xenium,breast",
          "Xenium,breast",
          "Xenium,breast",
          "Xenium,breast",
          "Xenium,breast",
          "Xenium,breast",
          "Xenium,breast",
          "Xenium,breast",
          "Xenium,breast",
          "Xenium,breast",
          "Xenium,breast",
          "Xenium,breast",
          "Xenium,breast",
          "Xenium,breast",
          "Xenium,breast",
          "Xenium,breast",
          "Xenium,breast",
          "Xenium,breast",
          "Xenium,breast",
          "Xenium,breast",
          "Xenium,breast",
          "Xenium,breast",
          "Xenium,breast",
          "Xenium,breast",
          "Xenium,breast",
          "Xenium,breast",
          "Xenium,breast",
          "Xenium,breast",
          "Xenium,breast",
          "Xenium,breast",
          "Xenium,breast",
          "Xenium,breast",
          "Xenium,breast",
          "Xenium,breast",
          "Xenium,breast",
          "Xenium,breast",
          "Xenium,breast",
          "Xenium,breast",
          "Xenium,breast",
          "Xenium,breast",
          "Xenium,breast",
          "Xenium,breast",
          "Xenium,breast",
          "Xenium,breast",
          "Xenium,breast",
          "Xenium,breast",
          "Xenium,breast",
          "Xenium,breast",
          "Xenium,breast",
          "Xenium,breast",
          "Xenium,breast"
         ],
         "y": [
          6.716892089245671,
          4.99166295673394,
          19.26505864638099,
          6.149483396775146,
          8.100909237771749,
          5.5130655390041525,
          6.490695380760799,
          5.286868830519281,
          2.1967917620649366,
          3.9680270047769803,
          4.5661064373810465,
          3.9335224221267455,
          4.520100327180734,
          5.52456706655423,
          4.554604909830968,
          4.665786342815058,
          6.5328676484444195,
          8.396115111557089,
          1.9552596835132945,
          10.251694889636372,
          5.260031932902431,
          6.103477286574833,
          4.405085051679952,
          9.147548244828865,
          6.341175522609783,
          2.0626072739806913,
          5.808271412789493,
          14.867641279734425,
          19.79796275620128,
          20.591568157156676,
          25.437545098256294,
          15.189684051136613,
          8.307936733673156,
          9.92581827571749,
          11.236992416426405,
          3.5846427531077065,
          4.435755791813493,
          3.8568455717928907,
          3.4159536823732264,
          5.053004437001024,
          5.014666011834096,
          6.103477286574833,
          2.2159609746484006,
          11.44018606981112,
          5.413385633570141,
          7.545002072851301,
          8.783333205743055,
          3.132249336137964,
          6.939254955213849,
          4.753964720698991,
          3.5999781231744774,
          8.794834733293133,
          5.501564011454074,
          6.226160247109001,
          8.940520748927456,
          8.737327095542742,
          18.559631623309528,
          7.357143789533358,
          4.040870012594142,
          7.1079440259483295,
          13.345605800607409,
          3.446624422506768,
          3.868347099342969,
          10.41655011785416,
          12.609508037402403,
          2.5763421712175174,
          7.625512765701849,
          5.171853555018498,
          5.570573176754543,
          0.5789102200206029,
          2.250465557298635,
          10.497060810704706,
          7.253630041582653,
          6.678553664078743,
          5.984628168557358,
          6.920085742630386,
          2.6223482814178305,
          8.932853063894072,
          3.7993379340424998,
          5.455557901253761,
          2.6223482814178305,
          2.656852864068065,
          10.734759046739656,
          1.7252291325117304,
          5.298370358069359,
          11.597373612995522,
          4.8450184804704435,
          7.362894553308396,
          4.851727704874655,
          4.824890807257806,
          4.347577413929561,
          4.143425299915672,
          4.036077709448276,
          3.592310438141092,
          2.760366612018769,
          4.123297626703036,
          4.4855957445304995,
          2.734488175031093,
          4.817223122224421,
          7.175036269990453,
          7.329348431287335,
          4.507640339001482,
          4.939906082758588,
          5.6827130703678055,
          5.073132110213661,
          8.780457823855535,
          10.938911160753545,
          4.909235342625046,
          4.038953091335796,
          4.203808319553583,
          3.507965902773852,
          2.614680596384445,
          4.546937224797583,
          0.7130947081048487,
          1.425230955580524,
          2.4718699626376406,
          3.006690993716277,
          5.185272003826923,
          5.409551791053448,
          12.348806746267298,
          15.66124668068982,
          11.530281368953398,
          13.864133000990101,
          12.690018730252952,
          5.190064306972789,
          8.988443780386115,
          1.318081372676459,
          0.9853113219810217,
          7.54452099311062,
          4.637982581567659,
          0.20278174964253218,
          0.3249707526322631,
          3.8268555829975304,
          3.548680618744313,
          7.40673339399454,
          0.9645131938125568,
          3.7124658780709736,
          2.599766021058105,
          7.848693617574418,
          2.1110100090991812,
          1.835434810867022,
          4.2376186143247105,
          7.6641102300792925,
          7.3183413492785645,
          0.4523592876641102,
          6.6112049915507605,
          7.882490575848173,
          4.666580007799298,
          17.00506954374106,
          12.57766800987911,
          6.4474197322241,
          7.411932926036656,
          10.204081632653061,
          2.6907578317951386,
          3.8814506694397504,
          6.130248277655011,
          6.169244767970882,
          11.103600675939166,
          3.2627063564279215,
          9.39815416612505,
          7.5549200571948525,
          1.4818666320031197,
          5.482906538411543,
          0.1533861952424282,
          6.912777849993501,
          7.510724034836865,
          7.110360067593916,
          1.489665930066294,
          5.423111919927207,
          5.521903028727414,
          0.08839204471597556,
          9.252567268945795,
          3.473287404133628,
          9.247367736903678,
          10.38346548810607,
          6.574808267255947,
          4.6145846873781355,
          0.8709216170544651,
          0.917717405433511,
          1.8952294293513583,
          3.080722734953854,
          3.1223189912907836,
          0.8969192772650462,
          3.8320551150396462,
          0.6655401013908748,
          3.3121019108280256,
          12.764851163395294,
          7.944884960353568,
          5.009749122578968,
          10.188483036526712,
          2.2721955024047835,
          2.7401533861952423,
          1.2114909658130768,
          2.8363447289743924,
          6.210841024307812,
          5.2281294683478485,
          6.106850383465488,
          1.6508514233718965,
          0.8709216170544651,
          7.820096191342779,
          6.099051085402314,
          2.0876121149096583,
          0.6395424411802938,
          0.6655401013908748,
          2.256596906278435,
          4.3312101910828025,
          0.2261796438320551,
          0.2651761341479267,
          0.3197712205901469,
          0.9879110880020798,
          0.2599766021058105,
          4.444990575848173,
          0.08936695697387236,
          0.9322598466138048,
          7.8764786169244765,
          10.107605940465358,
          1.787339139477447,
          2.524616534511894,
          3.2954065384115427,
          1.9203740413362798,
          2.826230014298713,
          5.275697062264396,
          0.3036445469907708,
          2.5114145976862083,
          1.3100383465488106,
          0.9383530482256597,
          0.7545414662680359,
          7.415426361627453,
          3.122765826075653,
          2.438296178343949,
          4.255085792278695,
          3.9047266995970364,
          0.7230599246067854,
          5.2949922007019365,
          0.5169066034056935,
          1.1109937605615494,
          0.44988138567528924,
          0.256930001299883,
          0.059916482516573506,
          7.927255297023268,
          0.024372806447419734,
          0.035543676069153776,
          0.2934892109710126,
          0.09749122578967893,
          0.23154166125048745,
          4.832924411802938,
          1.6979721825035747,
          10.660056219940206,
          1.4024519043286103,
          4.8664370206681395,
          6.353178213960743,
          9.594761471467567,
          9.728324450799429,
          1.9264266216040555,
          1.9446249837514624,
          4.861562459378656,
          3.176914077733004,
          8.485636292733654,
          1.6092551670349668,
          6.400623943845054,
          6.639802417782399,
          4.414402703756662,
          6.125048745612895,
          10.552450279474847,
          1.2062914337709607,
          0.5563499285064344,
          6.647601715845574,
          6.005459508644222,
          7.086962173404394,
          2.014818666320031,
          4.029637332640062,
          10.19108280254777,
          5.399714025737683,
          14.67827895489406,
          10.076693097621215,
          1.962823345898869,
          5.95346418822306,
          3.9594436500714933,
          2.186403223709866,
          3.897049265566099,
          4.008839204471598,
          4.333809957103861,
          3.2965033147016767,
          3.1353178213960744,
          1.864032237098661,
          4.689977901988821,
          5.514103730664241,
          5.051345378915897,
          3.9984401403873653,
          8.145066943975042,
          5.4049135577798,
          1.5442610165085142,
          2.033017028467438,
          5.781879630833225,
          4.853763161315482,
          4.146626803587677,
          2.42818146366827,
          3.5148836604705576,
          4.45859872611465,
          2.9871311581957625,
          10.633043026127648,
          11.971922526972573,
          9.637332640062395,
          6.317431431171195,
          2.2955933965943065,
          1.3076823085922267,
          5.293123618874302,
          5.937865592096712,
          6.712595866372027,
          1.760041596256337,
          8.059274665280125,
          5.272325490705836,
          3.0313271805537503,
          8.971792538671519,
          5.927466528012479,
          6.829585337319641,
          8.904198622124008,
          6.130248277655011,
          18.967892889639934,
          6.509814116729494,
          3.5954764071233587,
          7.0193682568568825,
          12.088911997920187,
          17.870791628753413,
          5.420512153906149,
          7.196152346288834,
          5.91186793188613,
          13.477187053165215,
          18.687118159365657,
          20.985311321981023,
          25.03834654881061,
          5.092941635252827,
          5.26712595866372,
          0.9385155336019758,
          10.115689587937085,
          4.752372286494215,
          5.989860912517873,
          10.218299103080723,
          5.518409593136617,
          8.074507669309762,
          5.084776745092942,
          5.650428961393475,
          3.7442723904848565,
          4.410462433380996,
          3.9788606525412713,
          3.892540296373326,
          3.1603405693487585,
          4.856281684648382,
          5.553953269205771,
          5.288898999090082,
          5.274681528662421,
          9.128631548160666,
          7.647983556479917,
          6.44152963733264,
          5.42802710256077,
          5.6189474197322244,
          5.005565124138828,
          2.9673891849733525,
          4.396244962953334,
          9.625227479526842,
          13.08007279344859,
          3.548274405303523,
          4.18095183933446,
          3.843794683478487,
          3.0384765371116598,
          5.163988366047056,
          0.9921763291303782,
          0.7382929286364227,
          2.5621912777849993,
          4.207355712985831,
          5.699174574288314,
          5.535673664370207,
          14.573922721955023,
          18.50505329520343,
          8.933649096581307,
          14.673445014948655,
          13.429416352528273,
          14.68156928376446
         ]
        },
        {
         "legendgroup": "No",
         "line": {
          "color": "green"
         },
         "meanline": {
          "visible": true
         },
         "name": "After",
         "scalegroup": "No",
         "showlegend": true,
         "side": "positive",
         "type": "violin",
         "x": [
          "CosMx,1k",
          "CosMx,1k",
          "CosMx,1k",
          "CosMx,1k",
          "CosMx,1k",
          "CosMx,1k",
          "CosMx,1k",
          "CosMx,1k",
          "CosMx,1k",
          "CosMx,1k",
          "CosMx,1k",
          "CosMx,1k",
          "CosMx,1k",
          "CosMx,1k",
          "CosMx,1k",
          "CosMx,1k",
          "CosMx,1k",
          "CosMx,1k",
          "CosMx,1k",
          "CosMx,1k",
          "CosMx,1k",
          "CosMx,1k",
          "CosMx,1k",
          "CosMx,1k",
          "CosMx,1k",
          "CosMx,1k",
          "CosMx,1k",
          "CosMx,1k",
          "CosMx,1k",
          "CosMx,1k",
          "CosMx,1k",
          "CosMx,1k",
          "CosMx,1k",
          "CosMx,1k",
          "CosMx,1k",
          "CosMx,1k",
          "CosMx,1k",
          "CosMx,1k",
          "CosMx,1k",
          "CosMx,1k",
          "CosMx,1k",
          "CosMx,1k",
          "CosMx,1k",
          "CosMx,1k",
          "CosMx,1k",
          "CosMx,1k",
          "CosMx,1k",
          "CosMx,1k",
          "CosMx,1k",
          "CosMx,1k",
          "CosMx,1k",
          "CosMx,1k",
          "CosMx,1k",
          "CosMx,1k",
          "CosMx,1k",
          "CosMx,1k",
          "CosMx,1k",
          "CosMx,1k",
          "CosMx,1k",
          "CosMx,1k",
          "CosMx,1k",
          "CosMx,1k",
          "CosMx,1k",
          "CosMx,1k",
          "CosMx,1k",
          "CosMx,1k",
          "CosMx,1k",
          "CosMx,1k",
          "CosMx,1k",
          "CosMx,1k",
          "CosMx,1k",
          "CosMx,1k",
          "CosMx,1k",
          "CosMx,1k",
          "CosMx,1k",
          "CosMx,1k",
          "CosMx,1k",
          "CosMx,1k",
          "CosMx,1k",
          "CosMx,1k",
          "CosMx,1k",
          "CosMx,1k",
          "CosMx,1k",
          "CosMx,1k",
          "CosMx,1k",
          "CosMx,1k",
          "CosMx,1k",
          "CosMx,1k",
          "CosMx,1k",
          "CosMx,1k",
          "CosMx,1k",
          "CosMx,1k",
          "CosMx,1k",
          "CosMx,1k",
          "CosMx,1k",
          "CosMx,1k",
          "CosMx,1k",
          "CosMx,1k",
          "CosMx,1k",
          "CosMx,1k",
          "CosMx,1k",
          "CosMx,1k",
          "CosMx,1k",
          "CosMx,1k",
          "CosMx,1k",
          "CosMx,1k",
          "CosMx,1k",
          "CosMx,1k",
          "CosMx,1k",
          "CosMx,1k",
          "CosMx,1k",
          "CosMx,1k",
          "CosMx,1k",
          "CosMx,1k",
          "CosMx,1k",
          "CosMx,1k",
          "CosMx,1k",
          "CosMx,1k",
          "CosMx,1k",
          "CosMx,1k",
          "CosMx,1k",
          "CosMx,1k",
          "CosMx,1k",
          "CosMx,1k",
          "CosMx,1k",
          "CosMx,1k",
          "MERSCOPE,breast",
          "MERSCOPE,breast",
          "MERSCOPE,breast",
          "MERSCOPE,breast",
          "MERSCOPE,breast",
          "MERSCOPE,breast",
          "MERSCOPE,breast",
          "MERSCOPE,breast",
          "MERSCOPE,breast",
          "MERSCOPE,breast",
          "MERSCOPE,breast",
          "MERSCOPE,breast",
          "MERSCOPE,breast",
          "MERSCOPE,breast",
          "MERSCOPE,breast",
          "MERSCOPE,breast",
          "MERSCOPE,breast",
          "MERSCOPE,breast",
          "MERSCOPE,breast",
          "MERSCOPE,breast",
          "MERSCOPE,breast",
          "MERSCOPE,breast",
          "MERSCOPE,breast",
          "MERSCOPE,breast",
          "MERSCOPE,breast",
          "MERSCOPE,breast",
          "MERSCOPE,breast",
          "MERSCOPE,breast",
          "MERSCOPE,breast",
          "MERSCOPE,breast",
          "MERSCOPE,breast",
          "MERSCOPE,breast",
          "MERSCOPE,breast",
          "MERSCOPE,breast",
          "MERSCOPE,breast",
          "MERSCOPE,breast",
          "MERSCOPE,breast",
          "MERSCOPE,breast",
          "MERSCOPE,breast",
          "MERSCOPE,breast",
          "MERSCOPE,breast",
          "MERSCOPE,breast",
          "MERSCOPE,breast",
          "MERSCOPE,breast",
          "MERSCOPE,breast",
          "MERSCOPE,breast",
          "MERSCOPE,breast",
          "MERSCOPE,breast",
          "MERSCOPE,breast",
          "MERSCOPE,breast",
          "MERSCOPE,breast",
          "MERSCOPE,breast",
          "MERSCOPE,breast",
          "MERSCOPE,breast",
          "MERSCOPE,breast",
          "MERSCOPE,breast",
          "MERSCOPE,breast",
          "MERSCOPE,breast",
          "MERSCOPE,breast",
          "MERSCOPE,breast",
          "MERSCOPE,breast",
          "MERSCOPE,breast",
          "MERSCOPE,breast",
          "MERSCOPE,breast",
          "MERSCOPE,breast",
          "MERSCOPE,breast",
          "MERSCOPE,breast",
          "MERSCOPE,breast",
          "MERSCOPE,breast",
          "MERSCOPE,breast",
          "MERSCOPE,breast",
          "MERSCOPE,breast",
          "MERSCOPE,breast",
          "MERSCOPE,breast",
          "MERSCOPE,breast",
          "MERSCOPE,breast",
          "MERSCOPE,breast",
          "MERSCOPE,breast",
          "MERSCOPE,breast",
          "MERSCOPE,breast",
          "MERSCOPE,breast",
          "MERSCOPE,breast",
          "MERSCOPE,breast",
          "MERSCOPE,breast",
          "MERSCOPE,breast",
          "MERSCOPE,breast",
          "MERSCOPE,breast",
          "Xenium,breast",
          "Xenium,breast",
          "Xenium,breast",
          "Xenium,breast",
          "Xenium,breast",
          "Xenium,breast",
          "Xenium,breast",
          "Xenium,breast",
          "Xenium,breast",
          "Xenium,breast",
          "Xenium,breast",
          "Xenium,breast",
          "Xenium,breast",
          "Xenium,breast",
          "Xenium,breast",
          "Xenium,breast",
          "Xenium,breast",
          "Xenium,breast",
          "Xenium,breast",
          "Xenium,breast",
          "Xenium,breast",
          "Xenium,breast",
          "Xenium,breast",
          "Xenium,breast",
          "Xenium,breast",
          "Xenium,breast",
          "Xenium,breast",
          "Xenium,breast",
          "Xenium,breast",
          "Xenium,breast",
          "Xenium,breast",
          "Xenium,breast",
          "Xenium,breast",
          "Xenium,breast",
          "Xenium,breast",
          "Xenium,breast",
          "Xenium,breast",
          "Xenium,breast",
          "Xenium,breast",
          "Xenium,breast",
          "Xenium,breast",
          "Xenium,breast",
          "Xenium,breast",
          "Xenium,breast",
          "Xenium,breast",
          "Xenium,breast",
          "Xenium,breast",
          "Xenium,breast",
          "Xenium,breast",
          "Xenium,breast",
          "Xenium,breast",
          "Xenium,breast",
          "Xenium,breast",
          "Xenium,breast",
          "Xenium,breast",
          "Xenium,breast",
          "Xenium,breast",
          "Xenium,breast",
          "Xenium,breast",
          "Xenium,breast",
          "Xenium,breast",
          "Xenium,breast",
          "Xenium,breast",
          "Xenium,breast",
          "Xenium,breast",
          "Xenium,breast",
          "Xenium,breast",
          "Xenium,breast",
          "Xenium,breast",
          "Xenium,breast",
          "Xenium,breast",
          "Xenium,breast",
          "Xenium,breast",
          "Xenium,breast",
          "Xenium,breast",
          "Xenium,breast",
          "Xenium,breast",
          "Xenium,breast",
          "Xenium,breast",
          "Xenium,breast",
          "Xenium,breast",
          "Xenium,breast",
          "Xenium,breast",
          "Xenium,breast",
          "Xenium,breast",
          "Xenium,breast",
          "Xenium,breast",
          "Xenium,breast",
          "Xenium,breast",
          "Xenium,breast",
          "Xenium,breast",
          "Xenium,breast",
          "Xenium,breast",
          "Xenium,breast",
          "Xenium,breast",
          "Xenium,breast",
          "Xenium,breast",
          "Xenium,breast",
          "Xenium,breast",
          "Xenium,breast",
          "Xenium,breast",
          "Xenium,breast",
          "Xenium,breast",
          "Xenium,breast",
          "Xenium,breast",
          "Xenium,breast",
          "Xenium,breast",
          "Xenium,breast",
          "Xenium,breast",
          "Xenium,breast",
          "Xenium,breast",
          "Xenium,breast",
          "Xenium,breast",
          "Xenium,breast",
          "Xenium,breast",
          "Xenium,breast",
          "Xenium,breast",
          "Xenium,breast",
          "Xenium,breast",
          "Xenium,breast",
          "Xenium,breast",
          "Xenium,breast",
          "Xenium,breast",
          "Xenium,breast",
          "Xenium,breast",
          "Xenium,breast"
         ],
         "y": [
          3.7878364064924215,
          8.929019221377379,
          2.6185144389011374,
          6.866411947396688,
          5.7967698852394145,
          10.704088306606115,
          6.632547553878431,
          7.245962356549268,
          10.45872238553778,
          2.2427978722652497,
          0.5750763775039102,
          5.56673933423785,
          5.168019712501806,
          7.621678923185156,
          2.572508328700825,
          4.987829114217248,
          6.713058246728978,
          5.451724058737068,
          2.614680596384445,
          12.594172667335632,
          7.3533099470166645,
          18.517459355625906,
          8.687487142825736,
          8.929019221377379,
          6.222326404592308,
          5.497730168937381,
          8.79100089077644,
          3.592310438141092,
          4.750130878182298,
          6.935421112697156,
          3.0364032732206456,
          8.76416399315959,
          7.5181651752344525,
          5.39805026350337,
          3.4312890524399973,
          3.8606794143095837,
          10.401214747787389,
          2.6491851790346796,
          4.0370361700774495,
          7.096442498398251,
          13.33410427305733,
          19.23822174876414,
          5.256198090385739,
          6.095809601541448,
          5.294536515552666,
          5.049170594484331,
          3.4121198398565338,
          3.853011729276198,
          4.428088106780108,
          3.5769750680743213,
          11.31366926676026,
          11.183318621192706,
          9.626778559415456,
          8.250429095922765,
          15.185850208619922,
          25.08099774420387,
          20.5800666296066,
          19.78262738613451,
          14.859973594701039,
          5.8044375702728,
          8.08940771022167,
          6.141815711741761,
          5.010832169317404,
          6.057471176374521,
          2.212127132131708,
          2.051105746430613,
          10.209522621952752,
          1.9514258409966019,
          8.34244131632339,
          6.529033805927726,
          4.661952500298365,
          4.546937224797583,
          5.505397853970766,
          3.8491778867595055,
          1.7213952899950378,
          3.258766139188824,
          3.937356264643438,
          2.1699548644480875,
          5.275367302969203,
          6.4523569555938725,
          5.505397853970766,
          4.397417366646566,
          8.760330150642899,
          6.314338624992933,
          4.462592689430343,
          4.116588402298824,
          4.825849267886979,
          4.803804673415996,
          4.294862079325036,
          4.07920843776107,
          3.972819307922846,
          3.576016607445148,
          8.75170400498034,
          2.7546158482437297,
          5.032876763788387,
          2.6846482223140873,
          4.767383169507415,
          7.117528632240061,
          7.307303836816351,
          4.435755791813493,
          4.835433874178711,
          4.453008083138611,
          5.61178698380899,
          10.889071208036539,
          12.575961915381342,
          4.891983051299929,
          4.019783878752332,
          4.089751504681974,
          3.4312890524399973,
          2.568674486184132,
          4.438631173701014,
          0.7073439443298095,
          11.543699817761823,
          1.4127709674012727,
          2.979854096099428,
          5.161310488097594,
          5.35587799581975,
          12.2951329510336,
          15.584569830355965,
          11.466064506798796,
          13.751034646747666,
          2.4459915256499647,
          4.7693000907657614,
          5.158435106210074,
          7.207623931382341,
          8.953939197735881,
          0.09359157675809177,
          0.9281164695177434,
          0.04419602235798778,
          0.002599766021058105,
          0.00519953204211621,
          0.18458338749512543,
          0.05979461848433641,
          0.02339789418952294,
          4.827765501104901,
          0.20278174964253218,
          4.242818146366827,
          0.031197192252697258,
          2.4801767840894318,
          0.007799298063174314,
          4.596386325230729,
          5.269725724684778,
          1.0555050045495906,
          0.25477707006369427,
          0.6343429091381776,
          0.002599766021058105,
          1.8926296633303004,
          0.02339789418952294,
          3.751462368386845,
          3.574678278954894,
          7.323540881320681,
          0.6733393994540491,
          0.002599766021058105,
          0.06499415052645262,
          0.818926296633303,
          0.04679578837904588,
          4.261016508514234,
          3.995840374366307,
          0.2989730924216821,
          0.0545950864422202,
          0.01039906408423242,
          1.190692837644612,
          0.14038736513713765,
          0.002599766021058105,
          0.5511503964643182,
          1.7808397244248018,
          0.007799298063174314,
          0.37956583907448327,
          0.4653581177694008,
          1.5832575068243857,
          0.007799298063174314,
          0.00519953204211621,
          1.2166904978551931,
          4.593786559209671,
          0.002599766021058105,
          7.830495255427012,
          1.4246717795398414,
          0.01039906408423242,
          0.00519953204211621,
          0.00519953204211621,
          5.142337189652931,
          5.914467697907188,
          1.5546600805927466,
          6.54361107500325,
          3.4004939555440012,
          1.4272715455608995,
          1.3518783309502145,
          5.50110490055895,
          3.4160925516703498,
          4.463798258156766,
          9.114779669829716,
          1.8016378525932666,
          5.8416742493175615,
          1.6924476797088261,
          4.188223059924606,
          2.760951514363707,
          0.1188174314311712,
          0.04874561289483947,
          0.020310672039516444,
          0.004062134407903289,
          0.0020310672039516443,
          1.4014363707266346,
          2.7429562589366956,
          3.5452278044975953,
          0.01929513843754062,
          0.007108735213830755,
          0.02234173924346809,
          0.0030466008059274667,
          0.40113577278044976,
          0.01421747042766151,
          0.0010155336019758222,
          0.03351260886520213,
          0.33614162225399713,
          9.691927726504614,
          2.1682048615624594,
          3.3380995710386063,
          4.385805277525023,
          2.807747302742753,
          9.86351228389445,
          11.49616534511894,
          8.01247887690108,
          5.8572728454439105,
          14.119329260366568,
          24.585987261146496,
          20.772130508254257,
          18.58572728454439,
          13.341999220070194,
          5.7298843104120625,
          7.128558429741323,
          5.235928766411023,
          17.7226049655531,
          4.079032887040166,
          4.669179773820356,
          5.26712595866372,
          1.9082282594566489,
          5.917067463928246,
          5.25412712855843,
          0.8137267645911868,
          3.925646691797738,
          1.8510334069933705,
          3.7566619004289614,
          3.946444819966203,
          4.248017678408943,
          11.90692837644612,
          2.7687508124268816,
          1.3206811386975172,
          3.499285064344209,
          4.752372286494215,
          4.723774860262576,
          3.257506824385805,
          6.143247107760302,
          5.017548420642142,
          1.4506694397504225,
          1.8250357467827896,
          6.889379955803977,
          3.556479916807487,
          6.442220200181984,
          3.080722734953854,
          8.373846353828155,
          1.588457038866502,
          5.989860912517873,
          4.827765501104901,
          9.582737553620174,
          4.2844144027037565,
          5.222929936305732,
          10.347068763811256,
          1.016508514233719,
          0.35876771090601844,
          6.525412712855843,
          5.922266995970363,
          6.985571298583127,
          1.9732224099831015,
          4.01923826855583,
          5.9664630183283505,
          4.809567138957494,
          1.2296893279604835,
          1.788639022487976,
          9.996100350968414,
          5.2437280644741975,
          5.056544910958014,
          18.60132588067074,
          4.822565969062785,
          8.740413362797348,
          6.741193292603666,
          5.8416742493175615,
          8.914597686208241,
          1.7990380865722084,
          3.002729754322111,
          7.9006889379955805,
          1.6716495515403613,
          6.572208501234889,
          5.781879630833225,
          4.669179773820356,
          1.78343949044586,
          2.0876121149096583,
          10.016898479136877,
          5.217730404263616,
          5.989860912517873,
          7.484482646561809,
          5.420918367346939,
          5.528564929156376,
          2.3458826205641494,
          3.2811890679838815,
          3.3685249577538023,
          3.7666141297283247,
          3.079097881190693,
          4.2926605355518,
          4.73035551800338,
          2.5296942025217732,
          4.919244767970882,
          8.264412452879242,
          6.54612959833615,
          5.948995840374367,
          4.704967177953984,
          5.408731964123229,
          5.015720460158586,
          4.825815676589107,
          8.680781229689329,
          13.137958208761212,
          4.933462238398544,
          3.4964821916027558,
          3.3939132978031976,
          3.221272585467308,
          2.096061354478097,
          3.8356704146626805,
          0.8662501624853763,
          12.77135057844794,
          0.6235376316131548,
          3.9047266995970364,
          5.4584931106200445,
          5.343737813596777,
          14.212392759651632,
          18.093762186403225,
          8.635082217600416,
          14.249967502924736,
          2.170195307422332,
          5.352877616014559,
          10.039565189132977,
          14.219501494865462
         ]
        }
       ],
       "layout": {
        "font": {
         "color": "black",
         "size": 40
        },
        "height": 750,
        "legend": {
         "orientation": "h",
         "x": 0.7,
         "xanchor": "right",
         "y": 0.8,
         "yanchor": "bottom"
        },
        "paper_bgcolor": "rgba(0,0,0,0)",
        "plot_bgcolor": "rgba(0,0,0,0)",
        "template": {
         "data": {
          "bar": [
           {
            "error_x": {
             "color": "#2a3f5f"
            },
            "error_y": {
             "color": "#2a3f5f"
            },
            "marker": {
             "line": {
              "color": "#E5ECF6",
              "width": 0.5
             },
             "pattern": {
              "fillmode": "overlay",
              "size": 10,
              "solidity": 0.2
             }
            },
            "type": "bar"
           }
          ],
          "barpolar": [
           {
            "marker": {
             "line": {
              "color": "#E5ECF6",
              "width": 0.5
             },
             "pattern": {
              "fillmode": "overlay",
              "size": 10,
              "solidity": 0.2
             }
            },
            "type": "barpolar"
           }
          ],
          "carpet": [
           {
            "aaxis": {
             "endlinecolor": "#2a3f5f",
             "gridcolor": "white",
             "linecolor": "white",
             "minorgridcolor": "white",
             "startlinecolor": "#2a3f5f"
            },
            "baxis": {
             "endlinecolor": "#2a3f5f",
             "gridcolor": "white",
             "linecolor": "white",
             "minorgridcolor": "white",
             "startlinecolor": "#2a3f5f"
            },
            "type": "carpet"
           }
          ],
          "choropleth": [
           {
            "colorbar": {
             "outlinewidth": 0,
             "ticks": ""
            },
            "type": "choropleth"
           }
          ],
          "contour": [
           {
            "colorbar": {
             "outlinewidth": 0,
             "ticks": ""
            },
            "colorscale": [
             [
              0,
              "#0d0887"
             ],
             [
              0.1111111111111111,
              "#46039f"
             ],
             [
              0.2222222222222222,
              "#7201a8"
             ],
             [
              0.3333333333333333,
              "#9c179e"
             ],
             [
              0.4444444444444444,
              "#bd3786"
             ],
             [
              0.5555555555555556,
              "#d8576b"
             ],
             [
              0.6666666666666666,
              "#ed7953"
             ],
             [
              0.7777777777777778,
              "#fb9f3a"
             ],
             [
              0.8888888888888888,
              "#fdca26"
             ],
             [
              1,
              "#f0f921"
             ]
            ],
            "type": "contour"
           }
          ],
          "contourcarpet": [
           {
            "colorbar": {
             "outlinewidth": 0,
             "ticks": ""
            },
            "type": "contourcarpet"
           }
          ],
          "heatmap": [
           {
            "colorbar": {
             "outlinewidth": 0,
             "ticks": ""
            },
            "colorscale": [
             [
              0,
              "#0d0887"
             ],
             [
              0.1111111111111111,
              "#46039f"
             ],
             [
              0.2222222222222222,
              "#7201a8"
             ],
             [
              0.3333333333333333,
              "#9c179e"
             ],
             [
              0.4444444444444444,
              "#bd3786"
             ],
             [
              0.5555555555555556,
              "#d8576b"
             ],
             [
              0.6666666666666666,
              "#ed7953"
             ],
             [
              0.7777777777777778,
              "#fb9f3a"
             ],
             [
              0.8888888888888888,
              "#fdca26"
             ],
             [
              1,
              "#f0f921"
             ]
            ],
            "type": "heatmap"
           }
          ],
          "heatmapgl": [
           {
            "colorbar": {
             "outlinewidth": 0,
             "ticks": ""
            },
            "colorscale": [
             [
              0,
              "#0d0887"
             ],
             [
              0.1111111111111111,
              "#46039f"
             ],
             [
              0.2222222222222222,
              "#7201a8"
             ],
             [
              0.3333333333333333,
              "#9c179e"
             ],
             [
              0.4444444444444444,
              "#bd3786"
             ],
             [
              0.5555555555555556,
              "#d8576b"
             ],
             [
              0.6666666666666666,
              "#ed7953"
             ],
             [
              0.7777777777777778,
              "#fb9f3a"
             ],
             [
              0.8888888888888888,
              "#fdca26"
             ],
             [
              1,
              "#f0f921"
             ]
            ],
            "type": "heatmapgl"
           }
          ],
          "histogram": [
           {
            "marker": {
             "pattern": {
              "fillmode": "overlay",
              "size": 10,
              "solidity": 0.2
             }
            },
            "type": "histogram"
           }
          ],
          "histogram2d": [
           {
            "colorbar": {
             "outlinewidth": 0,
             "ticks": ""
            },
            "colorscale": [
             [
              0,
              "#0d0887"
             ],
             [
              0.1111111111111111,
              "#46039f"
             ],
             [
              0.2222222222222222,
              "#7201a8"
             ],
             [
              0.3333333333333333,
              "#9c179e"
             ],
             [
              0.4444444444444444,
              "#bd3786"
             ],
             [
              0.5555555555555556,
              "#d8576b"
             ],
             [
              0.6666666666666666,
              "#ed7953"
             ],
             [
              0.7777777777777778,
              "#fb9f3a"
             ],
             [
              0.8888888888888888,
              "#fdca26"
             ],
             [
              1,
              "#f0f921"
             ]
            ],
            "type": "histogram2d"
           }
          ],
          "histogram2dcontour": [
           {
            "colorbar": {
             "outlinewidth": 0,
             "ticks": ""
            },
            "colorscale": [
             [
              0,
              "#0d0887"
             ],
             [
              0.1111111111111111,
              "#46039f"
             ],
             [
              0.2222222222222222,
              "#7201a8"
             ],
             [
              0.3333333333333333,
              "#9c179e"
             ],
             [
              0.4444444444444444,
              "#bd3786"
             ],
             [
              0.5555555555555556,
              "#d8576b"
             ],
             [
              0.6666666666666666,
              "#ed7953"
             ],
             [
              0.7777777777777778,
              "#fb9f3a"
             ],
             [
              0.8888888888888888,
              "#fdca26"
             ],
             [
              1,
              "#f0f921"
             ]
            ],
            "type": "histogram2dcontour"
           }
          ],
          "mesh3d": [
           {
            "colorbar": {
             "outlinewidth": 0,
             "ticks": ""
            },
            "type": "mesh3d"
           }
          ],
          "parcoords": [
           {
            "line": {
             "colorbar": {
              "outlinewidth": 0,
              "ticks": ""
             }
            },
            "type": "parcoords"
           }
          ],
          "pie": [
           {
            "automargin": true,
            "type": "pie"
           }
          ],
          "scatter": [
           {
            "fillpattern": {
             "fillmode": "overlay",
             "size": 10,
             "solidity": 0.2
            },
            "type": "scatter"
           }
          ],
          "scatter3d": [
           {
            "line": {
             "colorbar": {
              "outlinewidth": 0,
              "ticks": ""
             }
            },
            "marker": {
             "colorbar": {
              "outlinewidth": 0,
              "ticks": ""
             }
            },
            "type": "scatter3d"
           }
          ],
          "scattercarpet": [
           {
            "marker": {
             "colorbar": {
              "outlinewidth": 0,
              "ticks": ""
             }
            },
            "type": "scattercarpet"
           }
          ],
          "scattergeo": [
           {
            "marker": {
             "colorbar": {
              "outlinewidth": 0,
              "ticks": ""
             }
            },
            "type": "scattergeo"
           }
          ],
          "scattergl": [
           {
            "marker": {
             "colorbar": {
              "outlinewidth": 0,
              "ticks": ""
             }
            },
            "type": "scattergl"
           }
          ],
          "scattermapbox": [
           {
            "marker": {
             "colorbar": {
              "outlinewidth": 0,
              "ticks": ""
             }
            },
            "type": "scattermapbox"
           }
          ],
          "scatterpolar": [
           {
            "marker": {
             "colorbar": {
              "outlinewidth": 0,
              "ticks": ""
             }
            },
            "type": "scatterpolar"
           }
          ],
          "scatterpolargl": [
           {
            "marker": {
             "colorbar": {
              "outlinewidth": 0,
              "ticks": ""
             }
            },
            "type": "scatterpolargl"
           }
          ],
          "scatterternary": [
           {
            "marker": {
             "colorbar": {
              "outlinewidth": 0,
              "ticks": ""
             }
            },
            "type": "scatterternary"
           }
          ],
          "surface": [
           {
            "colorbar": {
             "outlinewidth": 0,
             "ticks": ""
            },
            "colorscale": [
             [
              0,
              "#0d0887"
             ],
             [
              0.1111111111111111,
              "#46039f"
             ],
             [
              0.2222222222222222,
              "#7201a8"
             ],
             [
              0.3333333333333333,
              "#9c179e"
             ],
             [
              0.4444444444444444,
              "#bd3786"
             ],
             [
              0.5555555555555556,
              "#d8576b"
             ],
             [
              0.6666666666666666,
              "#ed7953"
             ],
             [
              0.7777777777777778,
              "#fb9f3a"
             ],
             [
              0.8888888888888888,
              "#fdca26"
             ],
             [
              1,
              "#f0f921"
             ]
            ],
            "type": "surface"
           }
          ],
          "table": [
           {
            "cells": {
             "fill": {
              "color": "#EBF0F8"
             },
             "line": {
              "color": "white"
             }
            },
            "header": {
             "fill": {
              "color": "#C8D4E3"
             },
             "line": {
              "color": "white"
             }
            },
            "type": "table"
           }
          ]
         },
         "layout": {
          "annotationdefaults": {
           "arrowcolor": "#2a3f5f",
           "arrowhead": 0,
           "arrowwidth": 1
          },
          "autotypenumbers": "strict",
          "coloraxis": {
           "colorbar": {
            "outlinewidth": 0,
            "ticks": ""
           }
          },
          "colorscale": {
           "diverging": [
            [
             0,
             "#8e0152"
            ],
            [
             0.1,
             "#c51b7d"
            ],
            [
             0.2,
             "#de77ae"
            ],
            [
             0.3,
             "#f1b6da"
            ],
            [
             0.4,
             "#fde0ef"
            ],
            [
             0.5,
             "#f7f7f7"
            ],
            [
             0.6,
             "#e6f5d0"
            ],
            [
             0.7,
             "#b8e186"
            ],
            [
             0.8,
             "#7fbc41"
            ],
            [
             0.9,
             "#4d9221"
            ],
            [
             1,
             "#276419"
            ]
           ],
           "sequential": [
            [
             0,
             "#0d0887"
            ],
            [
             0.1111111111111111,
             "#46039f"
            ],
            [
             0.2222222222222222,
             "#7201a8"
            ],
            [
             0.3333333333333333,
             "#9c179e"
            ],
            [
             0.4444444444444444,
             "#bd3786"
            ],
            [
             0.5555555555555556,
             "#d8576b"
            ],
            [
             0.6666666666666666,
             "#ed7953"
            ],
            [
             0.7777777777777778,
             "#fb9f3a"
            ],
            [
             0.8888888888888888,
             "#fdca26"
            ],
            [
             1,
             "#f0f921"
            ]
           ],
           "sequentialminus": [
            [
             0,
             "#0d0887"
            ],
            [
             0.1111111111111111,
             "#46039f"
            ],
            [
             0.2222222222222222,
             "#7201a8"
            ],
            [
             0.3333333333333333,
             "#9c179e"
            ],
            [
             0.4444444444444444,
             "#bd3786"
            ],
            [
             0.5555555555555556,
             "#d8576b"
            ],
            [
             0.6666666666666666,
             "#ed7953"
            ],
            [
             0.7777777777777778,
             "#fb9f3a"
            ],
            [
             0.8888888888888888,
             "#fdca26"
            ],
            [
             1,
             "#f0f921"
            ]
           ]
          },
          "colorway": [
           "#636efa",
           "#EF553B",
           "#00cc96",
           "#ab63fa",
           "#FFA15A",
           "#19d3f3",
           "#FF6692",
           "#B6E880",
           "#FF97FF",
           "#FECB52"
          ],
          "font": {
           "color": "#2a3f5f"
          },
          "geo": {
           "bgcolor": "white",
           "lakecolor": "white",
           "landcolor": "#E5ECF6",
           "showlakes": true,
           "showland": true,
           "subunitcolor": "white"
          },
          "hoverlabel": {
           "align": "left"
          },
          "hovermode": "closest",
          "mapbox": {
           "style": "light"
          },
          "paper_bgcolor": "white",
          "plot_bgcolor": "#E5ECF6",
          "polar": {
           "angularaxis": {
            "gridcolor": "white",
            "linecolor": "white",
            "ticks": ""
           },
           "bgcolor": "#E5ECF6",
           "radialaxis": {
            "gridcolor": "white",
            "linecolor": "white",
            "ticks": ""
           }
          },
          "scene": {
           "xaxis": {
            "backgroundcolor": "#E5ECF6",
            "gridcolor": "white",
            "gridwidth": 2,
            "linecolor": "white",
            "showbackground": true,
            "ticks": "",
            "zerolinecolor": "white"
           },
           "yaxis": {
            "backgroundcolor": "#E5ECF6",
            "gridcolor": "white",
            "gridwidth": 2,
            "linecolor": "white",
            "showbackground": true,
            "ticks": "",
            "zerolinecolor": "white"
           },
           "zaxis": {
            "backgroundcolor": "#E5ECF6",
            "gridcolor": "white",
            "gridwidth": 2,
            "linecolor": "white",
            "showbackground": true,
            "ticks": "",
            "zerolinecolor": "white"
           }
          },
          "shapedefaults": {
           "line": {
            "color": "#2a3f5f"
           }
          },
          "ternary": {
           "aaxis": {
            "gridcolor": "white",
            "linecolor": "white",
            "ticks": ""
           },
           "baxis": {
            "gridcolor": "white",
            "linecolor": "white",
            "ticks": ""
           },
           "bgcolor": "#E5ECF6",
           "caxis": {
            "gridcolor": "white",
            "linecolor": "white",
            "ticks": ""
           }
          },
          "title": {
           "x": 0.05
          },
          "xaxis": {
           "automargin": true,
           "gridcolor": "white",
           "linecolor": "white",
           "ticks": "",
           "title": {
            "standoff": 15
           },
           "zerolinecolor": "white",
           "zerolinewidth": 2
          },
          "yaxis": {
           "automargin": true,
           "gridcolor": "white",
           "linecolor": "white",
           "ticks": "",
           "title": {
            "standoff": 15
           },
           "zerolinecolor": "white",
           "zerolinewidth": 2
          }
         }
        },
        "violingap": 0.35,
        "violinmode": "overlay",
        "width": 1100,
        "xaxis": {
         "linecolor": "black",
         "linewidth": 2,
         "showline": true,
         "tickfont": {
          "size": 38
         },
         "title": {
          "text": ""
         }
        },
        "yaxis": {
         "linecolor": "black",
         "linewidth": 2,
         "range": [
          -5,
          30
         ],
         "showline": true,
         "tickfont": {
          "size": 38
         },
         "title": {
          "font": {
           "size": 40
          },
          "text": "Segmented cells per 1000 µm^2"
         }
        }
       }
      }
     },
     "metadata": {},
     "output_type": "display_data"
    }
   ],
   "source": [
    "\n",
    "fontsize = 40\n",
    "width = 1100\n",
    "height = 750\n",
    "\n",
    "groupby = 'Platform_Panel'\n",
    "\n",
    "\n",
    "# df = df_c_all.loc[df_c_all['Sample'].str.contains('2024', na=False)]\n",
    "# df['Platform'] = df['Platform_Panel'].apply(lambda x: x.split(\",\")[0])\n",
    "df = df_c_all.copy()\n",
    "\n",
    "fig = go.Figure()\n",
    "\n",
    "fig.add_trace(go.Violin(x=df[groupby][df['Filtration'] == 'Before'],\n",
    "                        y=df[f'{plot_metric}'][df['Filtration'] == 'Before'],\n",
    "                        legendgroup='Yes', scalegroup='Yes', name='Before',\n",
    "                        side='negative',\n",
    "                        line_color='red',\n",
    "                        showlegend=True)\n",
    "             )\n",
    "fig.add_trace(go.Violin(x=df[groupby][df['Filtration'] == 'After'],\n",
    "                        y=df[f'{plot_metric}'][df['Filtration'] == 'After'],\n",
    "                        legendgroup='No', scalegroup='No', name='After',\n",
    "                        side='positive',\n",
    "                        line_color='green',\n",
    "                        showlegend=True)\n",
    "             )\n",
    "fig.update_traces(meanline_visible=True)\n",
    "fig.update_yaxes(title_text=f\"Segmented cells per {count_of_unit} {unit}\",\n",
    "                title_font=dict(size=fontsize), range=[-5,30], tickfont=dict(size=fontsize-2), showline=True, linewidth=2, linecolor='black')\n",
    "fig.update_xaxes(title_text=\"\", tickfont=dict(size=fontsize-2), showline=True, linewidth=2, linecolor='black')\n",
    "\n",
    "\n",
    "\n",
    "\n",
    "fig.update_layout(\n",
    "    violingap=0.35,  # Set the gap between violins\n",
    "    violinmode='overlay',  # Overlay mode for violins\n",
    "    width=width,  # Set the width of the figure\n",
    "    height=height,  # Set the height of the figure\n",
    "    legend=dict(\n",
    "        orientation=\"h\",  # horizontal alignment\n",
    "        yanchor=\"bottom\", \n",
    "        y=0.8,  # position legend just above the plot\n",
    "        xanchor=\"right\",\n",
    "        x=0.70  # center the legend\n",
    "    ),\n",
    "    font=dict(color='black', size=fontsize),\n",
    "    paper_bgcolor='rgba(0,0,0,0)',\n",
    "    plot_bgcolor='rgba(0,0,0,0)',\n",
    ")\n",
    "\n",
    "fig.show()\n",
    "pio.write_image(fig, f'figures/Fig_4_Segmentation/Main_Fig_4_B_cell_count.png', scale=4, width=width, height=height)\n",
    "pio.write_image(fig, f'figures/Fig_4_Segmentation/Main_Fig_4_B_cell_count.eps', scale=4, width=width, height=height)\n",
    "pio.write_image(fig, f'figures/Fig_4_Segmentation/Main_Fig_4_B_cell_count.svg', scale=4, width=width, height=height)\n"
   ]
  },
  {
   "cell_type": "code",
   "execution_count": null,
   "metadata": {},
   "outputs": [],
   "source": []
  }
 ],
 "metadata": {
  "kernelspec": {
   "display_name": "sp",
   "language": "python",
   "name": "python3"
  },
  "language_info": {
   "codemirror_mode": {
    "name": "ipython",
    "version": 3
   },
   "file_extension": ".py",
   "mimetype": "text/x-python",
   "name": "python",
   "nbconvert_exporter": "python",
   "pygments_lexer": "ipython3",
   "version": "3.8.16"
  },
  "orig_nbformat": 4
 },
 "nbformat": 4,
 "nbformat_minor": 2
}
