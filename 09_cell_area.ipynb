{
 "cells": [
  {
   "cell_type": "code",
   "execution_count": 1,
   "metadata": {},
   "outputs": [
    {
     "name": "stdout",
     "output_type": "stream",
     "text": [
      "['2024_xenium_breast_htma', '2024_xenium_breast_tumor2', '2024_merscope_breast_htma', '2024_merscope_breast_tumor2', '2024_cosmx_multitissue_htma', '2024_cosmx_multitissue_tumor2']\n"
     ]
    }
   ],
   "source": [
    "import pandas as pd\n",
    "import plotly.io as pio\n",
    "import plotly.graph_objects as go\n",
    "import sys\n",
    "import geopandas as gpd\n",
    "\n",
    "from st_utils import correct_platform_panel\n",
    "from st_utils import correct_tissue_names\n",
    "from st_utils import get_qced_cell_id, get_processed\n",
    "from constants import PIXEL_TO_UM\n",
    "from constants import matching_cores_2024 as matching_cores\n",
    "from constants import SAMPLES\n",
    "\n",
    "\n",
    "def update_core(row, sample_col='Sample'):\n",
    "    if 'tumor2' in row[sample_col]:\n",
    "        return row['core'] + 300\n",
    "    elif 'normal' in row[sample_col]:\n",
    "        return row['core'] + 200\n",
    "    else:\n",
    "        return row['core']\n",
    "\n",
    "year = '2024'\n",
    "\n",
    "samples = [x for x in SAMPLES]\n",
    "if year == '2024':\n",
    "    samples = [x for x in SAMPLES if '2024' in x]\n",
    "elif year == '2023':\n",
    "    samples = [x for x in SAMPLES if '2024' not in x]\n",
    "else:\n",
    "    samples = [x for x in SAMPLES]\n",
    "print (samples)"
   ]
  },
  {
   "cell_type": "code",
   "execution_count": 2,
   "metadata": {},
   "outputs": [
    {
     "name": "stderr",
     "output_type": "stream",
     "text": [
      "/tmp/ipykernel_2258/2685586176.py:7: UserWarning: Geometry is in a geographic CRS. Results from 'area' are likely incorrect. Use 'GeoSeries.to_crs()' to re-project geometries to a projected CRS before this operation.\n",
      "\n",
      "  gdf_plot_all['area_sqpx'] = gdf_plot_all['geometry'].area\n"
     ]
    }
   ],
   "source": [
    "# Generate all cell area file\n",
    "\n",
    "gdf_all = gpd.read_parquet(f'data/all_xenium_merscope_cosmx_segmentation_{year}.parquet.gzip')\n",
    "gdf_plot_all = gdf_all.copy()\n",
    "gdf_plot_all = gdf_plot_all[~gdf_plot_all['Sample'].str.contains('cosmx')]\n",
    "gdf_plot_all['Platform'] = gdf_plot_all['Sample'].apply(lambda x: x.split(\"_\")[-3].upper())\n",
    "gdf_plot_all['area_sqpx'] = gdf_plot_all['geometry'].area\n",
    "gdf_plot_all['area_squm'] = gdf_plot_all.apply(\n",
    "    lambda row:row['area_sqpx'] * PIXEL_TO_UM[row['Platform'].lower()] * PIXEL_TO_UM[row['Platform'].lower()] if row['Platform'] == 'COSMX' else row['area_sqpx'],\n",
    "    axis=1)\n",
    "df_area_all = gdf_plot_all[['cell_id', 'core', 'tissue_type', 'Sample', 'area_squm']]\n",
    "df_area_all.to_parquet(f'data/all_xenium_merscope_cell_area_{year}.parquet.gzip', compression='gzip', index=False)"
   ]
  },
  {
   "cell_type": "code",
   "execution_count": 3,
   "metadata": {},
   "outputs": [
    {
     "name": "stdout",
     "output_type": "stream",
     "text": [
      "2024_cosmx_multitissue_htma\n",
      "2024_cosmx_multitissue_tumor2\n",
      "2024_xenium_breast_htma\n",
      "2024_xenium_breast_tumor2\n"
     ]
    },
    {
     "name": "stderr",
     "output_type": "stream",
     "text": [
      "/mnt/disks/store/ist_benchmarking/st_utils.py:166: SettingWithCopyWarning: \n",
      "A value is trying to be set on a copy of a slice from a DataFrame.\n",
      "Try using .loc[row_indexer,col_indexer] = value instead\n",
      "\n",
      "See the caveats in the documentation: https://pandas.pydata.org/pandas-docs/stable/user_guide/indexing.html#returning-a-view-versus-a-copy\n",
      "  df['tissue_type'] = df['tissue_type'].replace(htma_correct_names)\n",
      "/mnt/disks/store/ist_benchmarking/st_utils.py:170: SettingWithCopyWarning: \n",
      "A value is trying to be set on a copy of a slice from a DataFrame.\n",
      "Try using .loc[row_indexer,col_indexer] = value instead\n",
      "\n",
      "See the caveats in the documentation: https://pandas.pydata.org/pandas-docs/stable/user_guide/indexing.html#returning-a-view-versus-a-copy\n",
      "  df['tissue_type'] = df['tissue_type'].replace(tumor2_correct_names)\n"
     ]
    },
    {
     "name": "stdout",
     "output_type": "stream",
     "text": [
      "2024_merscope_breast_htma\n",
      "2024_merscope_breast_tumor2\n"
     ]
    }
   ],
   "source": [
    "                                                                                                                                                                                                            # Get CosMx cell area \n",
    "df_area_before = pd.DataFrame()\n",
    "for sample in samples:\n",
    "    if 'cosmx' in sample:\n",
    "        print (sample)\n",
    "        df_c = get_processed(sample, 'cell_level')[['cell_id','core','tissue_type','Area']]\n",
    "        df_c = correct_tissue_names(sample,df_c)\n",
    "        df_c = df_c.rename(columns={'Area':'area_squm'})\n",
    "        df_c['area_squm'] = df_c['area_squm'] * 0.12**2\n",
    "        df_c['Sample'] = sample\n",
    "        df_c = df_c[['cell_id','core','tissue_type','Sample','area_squm']]\n",
    "        df_area_before = pd.concat([df_area_before, df_c])\n",
    "\n",
    "# Get Xenium and Merscope cell area\n",
    "df_xe_mer = pd.read_parquet(f'data/all_xenium_merscope_cell_area_{year}.parquet.gzip', engine='pyarrow')\n",
    "\n",
    "for sample in samples:\n",
    "    if 'cosmx' not in sample:\n",
    "        print (sample)\n",
    "        df_xe_mer_single = df_xe_mer.loc[df_xe_mer['Sample']==sample]\n",
    "        df_xe_mer_single = correct_tissue_names(sample,df_xe_mer_single)\n",
    "        df_area_before = pd.concat([df_area_before, df_xe_mer_single], ignore_index=False)"
   ]
  },
  {
   "cell_type": "markdown",
   "metadata": {},
   "source": [
    "# Load data"
   ]
  },
  {
   "cell_type": "code",
   "execution_count": 4,
   "metadata": {},
   "outputs": [
    {
     "name": "stderr",
     "output_type": "stream",
     "text": [
      "/tmp/ipykernel_2258/2849177176.py:11: SettingWithCopyWarning: \n",
      "A value is trying to be set on a copy of a slice from a DataFrame.\n",
      "Try using .loc[row_indexer,col_indexer] = value instead\n",
      "\n",
      "See the caveats in the documentation: https://pandas.pydata.org/pandas-docs/stable/user_guide/indexing.html#returning-a-view-versus-a-copy\n",
      "  df_area_after['Filtration'] = 'After'\n"
     ]
    }
   ],
   "source": [
    "ids, _ = get_qced_cell_id(10,0)\n",
    "\n",
    "df_area_before.core = df_area_before.core.astype('int')\n",
    "df_area_before['core'] = df_area_before.apply(update_core, axis=1)\n",
    "df_area_before.core = df_area_before.core.astype('str')\n",
    "df_area_before = df_area_before.loc[~df_area_before['tissue_type'].isin(['Marker','MARKER'])]\n",
    "df_area_before = df_area_before.drop_duplicates()\n",
    "df_area_before['Filtration'] = 'Before'\n",
    "\n",
    "df_area_after = df_area_before.loc[df_area_before['cell_id'].isin(ids)]\n",
    "df_area_after['Filtration'] = 'After'\n",
    "\n",
    "df_area_all = pd.concat([df_area_before, df_area_after])\n",
    "df_area_all['TMA'] = df_area_all['Sample'].apply(lambda x: x.split('_')[-1].upper())\n",
    "df_area_all = df_area_all.sort_values(by=['Sample'])\n",
    "df_area_all['Platform_Panel'] = df_area_all['Sample'].apply(lambda x: f\"{x.split('_')[-3].upper()}_{x.split('_')[-2].capitalize()}\")\n",
    "df_area_all = correct_platform_panel(df_area_all, 'Platform_Panel')\n",
    "df_area_all = df_area_all.reset_index()\n",
    "matching_cores = [str(x) for x in matching_cores]\n",
    "df_area_all = df_area_all.loc[df_area_all['core'].isin(matching_cores)]"
   ]
  },
  {
   "cell_type": "code",
   "execution_count": 5,
   "metadata": {},
   "outputs": [],
   "source": [
    "df = df_area_all.rename(columns={\"tissue_type\":\"Tissue Type\"})\n",
    "grouped_df = df[['Tissue Type', 'Platform_Panel', 'area_squm']].groupby(['Tissue Type', 'Platform_Panel']).median().reset_index()\n",
    "pivoted_df = grouped_df.pivot_table(index='Tissue Type', columns='Platform_Panel', values='area_squm')\n",
    "pivoted_df.to_csv(f'tables/cell_area_{year}.csv')"
   ]
  },
  {
   "cell_type": "markdown",
   "metadata": {},
   "source": [
    "# Plot"
   ]
  },
  {
   "cell_type": "code",
   "execution_count": 8,
   "metadata": {},
   "outputs": [],
   "source": [
    "\n",
    "# fontsize = 40\n",
    "# width = 1100\n",
    "# height = 900\n",
    "# plot_metric = 'area_squm'\n",
    "# groupby = 'Platform_Panel'\n",
    "# val_range = [-5,300]\n",
    "\n",
    "# df = df_area_all.copy()\n",
    "\n",
    "# fig = go.Figure()\n",
    "# fig.add_trace(go.Violin(x=df[groupby][df['Filtration'] == 'Before'],\n",
    "#                         y=df[f'{plot_metric}'][df['Filtration'] == 'Before'],\n",
    "#                         legendgroup='Yes', scalegroup='Yes', name='Before',\n",
    "#                         side='negative',\n",
    "#                         line_color='red',\n",
    "#                         showlegend=False)\n",
    "#              )\n",
    "# fig.add_trace(go.Violin(x=df[groupby][df['Filtration'] == 'After'],\n",
    "#                         y=df[f'{plot_metric}'][df['Filtration'] == 'After'],\n",
    "#                         legendgroup='No', scalegroup='No', name='After',\n",
    "#                         side='positive',\n",
    "#                         line_color='green',\n",
    "#                         showlegend=False)\n",
    "#              )\n",
    "# fig.update_traces(meanline_visible=True)\n",
    "# fig.update_yaxes(title_text=f\"Segmented cell area (um^2)\",\n",
    "#                 title_font=dict(size=fontsize), range=val_range, tickfont=dict(size=fontsize-2), showline=True, linewidth=2, linecolor='black')\n",
    "# fig.update_xaxes(title_text=\"\", tickfont=dict(size=fontsize-2), showline=True, linewidth=2, linecolor='black')\n",
    "\n",
    "# fig.update_layout(\n",
    "#     violingap=0.35,  # Set the gap between violins\n",
    "#     violinmode='overlay',  # Overlay mode for violins\n",
    "#     width=width,  # Set the width of the figure\n",
    "#     height=height,  # Set the height of the figure\n",
    "#     legend=dict(\n",
    "#         orientation=\"h\",  # horizontal alignment\n",
    "#         yanchor=\"bottom\", \n",
    "#         y=0.8,  # position legend just above the plot\n",
    "#         xanchor=\"right\",\n",
    "#         x=0.70  # center the legend\n",
    "#     ),\n",
    "#     font=dict(color='black', size=fontsize),\n",
    "#     paper_bgcolor='rgba(0,0,0,0)',\n",
    "#     plot_bgcolor='rgba(0,0,0,0)',\n",
    "# )\n",
    "\n",
    "# fig.show()\n",
    "# pio.write_image(fig, f'figures/Fig_4_Segmentation/Main_Fig_4_B_cell_area.png', scale=4, width=width, height=height)\n",
    "# # pio.write_image(fig, f'figures/Fig_4_Segmentation/Main_Fig_4_B_cell_area.eps', scale=4, width=width, height=height)\n",
    "# pio.write_image(fig, f'figures/Fig_4_Segmentation/Main_Fig_4_B_cell_area.svg', scale=4, width=width, height=height)\n"
   ]
  },
  {
   "cell_type": "code",
   "execution_count": null,
   "metadata": {},
   "outputs": [],
   "source": [
    "                                                                                               "
   ]
  }
 ],
 "metadata": {
  "kernelspec": {
   "display_name": "sp",
   "language": "python",
   "name": "python3"
  },
  "language_info": {
   "codemirror_mode": {
    "name": "ipython",
    "version": 3
   },
   "file_extension": ".py",
   "mimetype": "text/x-python",
   "name": "python",
   "nbconvert_exporter": "python",
   "pygments_lexer": "ipython3",
   "version": "3.8.16"
  }
 },
 "nbformat": 4,
 "nbformat_minor": 2
}
