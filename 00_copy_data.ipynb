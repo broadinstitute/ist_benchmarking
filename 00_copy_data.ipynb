{
 "cells": [
  {
   "cell_type": "code",
   "execution_count": 2,
   "metadata": {},
   "outputs": [
    {
     "name": "stdout",
     "output_type": "stream",
     "text": [
      "working directory: /mnt/disks/store/st_analysis_pipeline\n"
     ]
    }
   ],
   "source": [
    "import os\n",
    "wd = os.getcwd()\n",
    "print (f'working directory: {wd}')\n"
   ]
  },
  {
   "cell_type": "code",
   "execution_count": 4,
   "metadata": {},
   "outputs": [
    {
     "name": "stdout",
     "output_type": "stream",
     "text": [
      "0\n",
      "gsutil cp gs://fc-b8e703d3-de2d-4532-94cc-efe864b4feea/SPARC/Revisions/202404301712_SPARCnewTumorTMAJN30Apr24_VMSC11302/region_0/*cell* /mnt/disks/store/st_analysis_pipeline/data/2024_merscope_breast_tumor2/region_0\n",
      "Copying gs://fc-b8e703d3-de2d-4532-94cc-efe864b4feea/SPARC/Revisions/202404301712_SPARCnewTumorTMAJN30Apr24_VMSC11302/region_0/cell_boundaries.parquet...\n",
      "Copying gs://fc-b8e703d3-de2d-4532-94cc-efe864b4feea/SPARC/Revisions/202404301712_SPARCnewTumorTMAJN30Apr24_VMSC11302/region_0/cell_by_gene.csv...\n",
      "Copying gs://fc-b8e703d3-de2d-4532-94cc-efe864b4feea/SPARC/Revisions/202404301712_SPARCnewTumorTMAJN30Apr24_VMSC11302/region_0/cell_metadata.csv...\n",
      "| [3 files][747.9 MiB/747.9 MiB]                                                \n",
      "Operation completed over 3 objects/747.9 MiB.                                    \n",
      "1\n",
      "gsutil cp gs://fc-b8e703d3-de2d-4532-94cc-efe864b4feea/SPARC/Revisions/202404301712_SPARCnewTumorTMAJN30Apr24_VMSC11302/region_1/*cell* /mnt/disks/store/st_analysis_pipeline/data/2024_merscope_breast_tumor2/region_1\n",
      "Copying gs://fc-b8e703d3-de2d-4532-94cc-efe864b4feea/SPARC/Revisions/202404301712_SPARCnewTumorTMAJN30Apr24_VMSC11302/region_1/cell_boundaries.parquet...\n",
      "Copying gs://fc-b8e703d3-de2d-4532-94cc-efe864b4feea/SPARC/Revisions/202404301712_SPARCnewTumorTMAJN30Apr24_VMSC11302/region_1/cell_by_gene.csv...\n",
      "Copying gs://fc-b8e703d3-de2d-4532-94cc-efe864b4feea/SPARC/Revisions/202404301712_SPARCnewTumorTMAJN30Apr24_VMSC11302/region_1/cell_metadata.csv...\n",
      "\\ [3 files][723.6 MiB/723.6 MiB]                                                \n",
      "Operation completed over 3 objects/723.6 MiB.                                    \n"
     ]
    }
   ],
   "source": [
    "## MERSCOPE data needs to be copied from bucket first.\n",
    "\n",
    "SAMPLE = 'data/2024_merscope_breast_tumor2'\n",
    "\n",
    "bucket = 'fc-b8e703d3-de2d-4532-94cc-efe864b4feea/SPARC/Revisions/202404301712_SPARCnewTumorTMAJN30Apr24_VMSC11302'\n",
    "\n",
    "for i in range(2): # Number of regions\n",
    "    print (i)\n",
    "    folder = f'{wd}/{SAMPLE}/region_{i}'\n",
    "    if not os.path.exists(folder):\n",
    "        os.makedirs(folder)\n",
    "    \n",
    "    # cmd = f'gsutil cp gs://{bucket}/region_{i}/images/*csv {folder}'\n",
    "    # cmd = f'gsutil cp gs://{bucket}/region_{i}/images/*z2* {folder}'\n",
    "    cmd = f'gsutil cp gs://{bucket}/region_{i}/*cell* {folder}'\n",
    "    print (cmd)\n",
    "    ! {cmd}"
   ]
  },
  {
   "cell_type": "code",
   "execution_count": null,
   "metadata": {},
   "outputs": [],
   "source": []
  }
 ],
 "metadata": {
  "kernelspec": {
   "display_name": "sp",
   "language": "python",
   "name": "python3"
  },
  "language_info": {
   "codemirror_mode": {
    "name": "ipython",
    "version": 3
   },
   "file_extension": ".py",
   "mimetype": "text/x-python",
   "name": "python",
   "nbconvert_exporter": "python",
   "pygments_lexer": "ipython3",
   "version": "3.8.16"
  }
 },
 "nbformat": 4,
 "nbformat_minor": 2
}
